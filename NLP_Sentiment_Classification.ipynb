{
  "nbformat": 4,
  "nbformat_minor": 0,
  "metadata": {
    "colab": {
      "name": "CodePub_2020",
      "provenance": [],
      "collapsed_sections": [],
      "machine_shape": "hm"
    },
    "kernelspec": {
      "name": "python3",
      "display_name": "Python 3"
    },
    "accelerator": "GPU"
  },
  "cells": [
    {
      "cell_type": "code",
      "metadata": {
        "id": "-7eAFijP2sSD",
        "colab_type": "code",
        "outputId": "c90d4ae8-561c-4497-c864-58f14b9e0ba3",
        "colab": {
          "base_uri": "https://localhost:8080/",
          "height": 286
        }
      },
      "source": [
        "!cat /etc/*-release\n",
        "import os\n",
        "os.environ['CUDA_LAUNCH_BLOCKING'] = \"1\""
      ],
      "execution_count": 1,
      "outputs": [
        {
          "output_type": "stream",
          "text": [
            "DISTRIB_ID=Ubuntu\n",
            "DISTRIB_RELEASE=18.04\n",
            "DISTRIB_CODENAME=bionic\n",
            "DISTRIB_DESCRIPTION=\"Ubuntu 18.04.3 LTS\"\n",
            "NAME=\"Ubuntu\"\n",
            "VERSION=\"18.04.3 LTS (Bionic Beaver)\"\n",
            "ID=ubuntu\n",
            "ID_LIKE=debian\n",
            "PRETTY_NAME=\"Ubuntu 18.04.3 LTS\"\n",
            "VERSION_ID=\"18.04\"\n",
            "HOME_URL=\"https://www.ubuntu.com/\"\n",
            "SUPPORT_URL=\"https://help.ubuntu.com/\"\n",
            "BUG_REPORT_URL=\"https://bugs.launchpad.net/ubuntu/\"\n",
            "PRIVACY_POLICY_URL=\"https://www.ubuntu.com/legal/terms-and-policies/privacy-policy\"\n",
            "VERSION_CODENAME=bionic\n",
            "UBUNTU_CODENAME=bionic\n"
          ],
          "name": "stdout"
        }
      ]
    },
    {
      "cell_type": "markdown",
      "metadata": {
        "id": "KjUOiS421t_N",
        "colab_type": "text"
      },
      "source": [
        "# GPU details"
      ]
    },
    {
      "cell_type": "code",
      "metadata": {
        "id": "2mXI3lufUVj1",
        "colab_type": "code",
        "outputId": "3cb9b69a-2754-4894-b221-f904131c0d51",
        "colab": {
          "base_uri": "https://localhost:8080/",
          "height": 255
        }
      },
      "source": [
        "!ln -sf /opt/bin/nvidia-smi /usr/bin/nvidia-smi\n",
        "!pip install gputil\n",
        "!pip install psutil\n",
        "!pip install humanize\n",
        "import psutil\n",
        "import humanize\n",
        "import os\n",
        "import GPUtil as GPU\n",
        "GPUs = GPU.getGPUs()\n",
        "# XXX: only one GPU on Colab and isn’t guaranteed\n",
        "gpu = GPUs[0]\n",
        "def printm():\n",
        " process = psutil.Process(os.getpid())\n",
        " print(\"Gen RAM Free: \" + humanize.naturalsize( psutil.virtual_memory().available ), \" | Proc size: \" + humanize.naturalsize( process.memory_info().rss))\n",
        " print(\"GPU RAM Free: {0:.0f}MB | Used: {1:.0f}MB | Util {2:3.0f}% | Total {3:.0f}MB\".format(gpu.memoryFree, gpu.memoryUsed, gpu.memoryUtil*100, gpu.memoryTotal))\n",
        "printm()"
      ],
      "execution_count": 2,
      "outputs": [
        {
          "output_type": "stream",
          "text": [
            "Collecting gputil\n",
            "  Downloading https://files.pythonhosted.org/packages/ed/0e/5c61eedde9f6c87713e89d794f01e378cfd9565847d4576fa627d758c554/GPUtil-1.4.0.tar.gz\n",
            "Building wheels for collected packages: gputil\n",
            "  Building wheel for gputil (setup.py) ... \u001b[?25l\u001b[?25hdone\n",
            "  Created wheel for gputil: filename=GPUtil-1.4.0-cp36-none-any.whl size=7413 sha256=1a355c4d159cb1dc84078ebd20e92d48976cdd3728e46799229dc4c0f5480393\n",
            "  Stored in directory: /root/.cache/pip/wheels/3d/77/07/80562de4bb0786e5ea186911a2c831fdd0018bda69beab71fd\n",
            "Successfully built gputil\n",
            "Installing collected packages: gputil\n",
            "Successfully installed gputil-1.4.0\n",
            "Requirement already satisfied: psutil in /usr/local/lib/python3.6/dist-packages (5.4.8)\n",
            "Requirement already satisfied: humanize in /usr/local/lib/python3.6/dist-packages (0.5.1)\n",
            "Gen RAM Free: 26.4 GB  | Proc size: 156.5 MB\n",
            "GPU RAM Free: 16280MB | Used: 0MB | Util   0% | Total 16280MB\n"
          ],
          "name": "stdout"
        }
      ]
    },
    {
      "cell_type": "code",
      "metadata": {
        "id": "ps2cWpwqUjMf",
        "colab_type": "code",
        "outputId": "280db8f7-6a24-48ec-d069-ce729bab5b5e",
        "colab": {
          "base_uri": "https://localhost:8080/",
          "height": 121
        }
      },
      "source": [
        "# Step 1\n",
        "# Run only once\n",
        "from google.colab import drive\n",
        "drive.mount('/content/drive')"
      ],
      "execution_count": 3,
      "outputs": [
        {
          "output_type": "stream",
          "text": [
            "Go to this URL in a browser: https://accounts.google.com/o/oauth2/auth?client_id=947318989803-6bn6qk8qdgf4n4g3pfee6491hc0brc4i.apps.googleusercontent.com&redirect_uri=urn%3aietf%3awg%3aoauth%3a2.0%3aoob&response_type=code&scope=email%20https%3a%2f%2fwww.googleapis.com%2fauth%2fdocs.test%20https%3a%2f%2fwww.googleapis.com%2fauth%2fdrive%20https%3a%2f%2fwww.googleapis.com%2fauth%2fdrive.photos.readonly%20https%3a%2f%2fwww.googleapis.com%2fauth%2fpeopleapi.readonly\n",
            "\n",
            "Enter your authorization code:\n",
            "··········\n",
            "Mounted at /content/drive\n"
          ],
          "name": "stdout"
        }
      ]
    },
    {
      "cell_type": "code",
      "metadata": {
        "id": "zWcsXX_UQCMb",
        "colab_type": "code",
        "outputId": "ad861f88-fa6a-485e-9dd6-4d969bf4b5fe",
        "colab": {
          "base_uri": "https://localhost:8080/",
          "height": 67
        }
      },
      "source": [
        "# Installing libraries\n",
        "!pip install nltk\n",
        "!pip install torch"
      ],
      "execution_count": 4,
      "outputs": [
        {
          "output_type": "stream",
          "text": [
            "Requirement already satisfied: nltk in /usr/local/lib/python3.6/dist-packages (3.2.5)\n",
            "Requirement already satisfied: six in /usr/local/lib/python3.6/dist-packages (from nltk) (1.12.0)\n",
            "Requirement already satisfied: torch in /usr/local/lib/python3.6/dist-packages (1.4.0)\n"
          ],
          "name": "stdout"
        }
      ]
    },
    {
      "cell_type": "markdown",
      "metadata": {
        "id": "xe3N3bXbqEIY",
        "colab_type": "text"
      },
      "source": [
        "# Task 1: Loading and observing data ( 5 min )\n",
        "## Loading dataset\n",
        "In this case, yelp dataset is in JSON format but it is not in correct format to be able to be loaded into dataframe. Some transformations are applied before it is loaded in the dataframe. As one line is seperated from the other by `\\n`. It is removed and replaced with `,` and then `[]` brackets are added to the start and end to make it a list of dictionaries which is a valid json format. For faster execution of rest of the steps, only top 100000 rows are taken. `reviews.json` file from Yelp JSON Dataset is used as input. Output of this is copied to CodePub Folder and used in the next steps, hence this block does not need to be run as it takes long time and the original file is not shared in the folder to avoid space issue.   "
      ]
    },
    {
      "cell_type": "code",
      "metadata": {
        "id": "S2rEjhzpboKI",
        "colab_type": "code",
        "colab": {}
      },
      "source": [
        "########## DO NOT RUN THIS BLOCK ############\n",
        "# If notebook fails to run this because of load, try running it locally\n",
        "# Yelp Restaurant Reviews\n",
        "import pandas as pd\n",
        "\n",
        "def load_yelp_orig_data():\n",
        "    PATH_TO_YELP_REVIEWS = '/content/drive/My Drive/CodePub/review.json'\n",
        "\n",
        "    # read the entire file into a python array\n",
        "    with open(PATH_TO_YELP_REVIEWS, 'r') as f:\n",
        "        data = f.readlines()\n",
        "\n",
        "    # remove the trailing \"\\n\" from each line\n",
        "    data = map(lambda x: x.rstrip(), data)\n",
        "\n",
        "    data_json_str = \"[\" + ','.join(data) + \"]\"\n",
        "\n",
        "    # now, load it into pandas\n",
        "    data_df = pd.read_json(data_json_str)\n",
        "\n",
        "    data_df.head(100000).to_csv('/content/drive/My Drive/CodePub/output_reviews_top.csv')\n",
        "\n",
        "# load_yelp_orig_data()"
      ],
      "execution_count": 0,
      "outputs": []
    },
    {
      "cell_type": "markdown",
      "metadata": {
        "id": "QNymroBSEJM5",
        "colab_type": "text"
      },
      "source": [
        "## Set the Input and Output Directories\n"
      ]
    },
    {
      "cell_type": "code",
      "metadata": {
        "id": "gTKN0-8QEV-p",
        "colab_type": "code",
        "colab": {}
      },
      "source": [
        "# Step 2\n",
        "INPUT_FOLDER = '/content/drive/My Drive/CodePub/'\n",
        "# Change the output_folder to your choice ( '/content/drive/My Drive/CodePub/' )\n",
        "OUTPUT_FOLDER = '/content/drive/My Drive/CodePub/'"
      ],
      "execution_count": 0,
      "outputs": []
    },
    {
      "cell_type": "markdown",
      "metadata": {
        "id": "u0f_GCGfrFAH",
        "colab_type": "text"
      },
      "source": [
        "Only the top 100000 rows are loaded in pandas dataframe. This data will be used in the next steps. "
      ]
    },
    {
      "cell_type": "code",
      "metadata": {
        "id": "q7BUqjND_CgH",
        "colab_type": "code",
        "outputId": "6672ca53-de45-4020-ed1e-89e63974bbb1",
        "colab": {
          "base_uri": "https://localhost:8080/",
          "height": 67
        }
      },
      "source": [
        "# Step 3\n",
        "import pandas as pd\n",
        "top_data_df = pd.read_csv(INPUT_FOLDER + 'output_reviews_top.csv')\n",
        "top_data_df.columns"
      ],
      "execution_count": 6,
      "outputs": [
        {
          "output_type": "execute_result",
          "data": {
            "text/plain": [
              "Index(['Unnamed: 0', 'business_id', 'cool', 'date', 'funny', 'review_id',\n",
              "       'stars', 'text', 'useful', 'user_id'],\n",
              "      dtype='object')"
            ]
          },
          "metadata": {
            "tags": []
          },
          "execution_count": 6
        }
      ]
    },
    {
      "cell_type": "markdown",
      "metadata": {
        "id": "igxrUq4JrcmK",
        "colab_type": "text"
      },
      "source": [
        "# Basic Statistics\n",
        "`Stars` is a column chosen to determine the sentiment of the review text. As the stars are from 1 to 5. Stars `1-2` are considered `negative` review, Star rating of `3` is considered `neutral` and rating `>3` are considered positive. The goal of this workshop would be to try different classification methods for classifying the reviews into these three sentiments to get accurate classifications.\n",
        "\n",
        "As it is visible from the chart, the number of rows for each review are not equal. This is quite possible in real-world problems. We will have to adapt the model to be able to capture the sentiments accurately even with these kind of conditions. "
      ]
    },
    {
      "cell_type": "code",
      "metadata": {
        "id": "jCZ7HuFoCNJG",
        "colab_type": "code",
        "outputId": "6c302897-e645-44af-a2b2-ce1d5b836773",
        "colab": {
          "base_uri": "https://localhost:8080/",
          "height": 1000
        }
      },
      "source": [
        "# Step 4\n",
        "import matplotlib.pyplot as plt \n",
        "\n",
        "print(\"Number of rows per star rating:\")\n",
        "print(top_data_df['stars'].value_counts())\n",
        "print(\"\\nTop 10 rows: \\n\")\n",
        "print(top_data_df.head(10))\n",
        "\n",
        "# Function to map stars to sentiment\n",
        "def map_sentiment(stars_received):\n",
        "    if stars_received <= 2:\n",
        "        return -1\n",
        "    elif stars_received == 3:\n",
        "        return 0\n",
        "    else:\n",
        "        return 1\n",
        "# Mapping stars to sentiment into three categories\n",
        "top_data_df['sentiment'] = [ map_sentiment(x) for x in top_data_df['stars']]\n",
        "# Plotting the sentiment distribution\n",
        "plt.figure()\n",
        "pd.value_counts(top_data_df['sentiment']).plot.bar(title=\"Sentiment distribution in df\")\n",
        "plt.xlabel(\"Sentiment\")\n",
        "plt.ylabel(\"No. of rows in df\")\n",
        "plt.show()\n",
        "\n",
        "# Function to retrieve top few number of each category\n",
        "def get_top_data(top_n = 5000):\n",
        "    # 5000 is used for basic models and for CNN 10,000 top items are used\n",
        "    top_data_df_positive = top_data_df[top_data_df['sentiment'] == 1].head(top_n)\n",
        "    top_data_df_negative = top_data_df[top_data_df['sentiment'] == -1].head(top_n)\n",
        "    top_data_df_neutral = top_data_df[top_data_df['sentiment'] == 0].head(top_n)\n",
        "    top_data_df_small = pd.concat([top_data_df_positive, top_data_df_negative, top_data_df_neutral])\n",
        "    return top_data_df_small\n",
        "\n",
        "# Function call to get the top 5000 from each sentiment\n",
        "top_data_df_small = get_top_data(top_n=5000)\n",
        "\n",
        "# After selecting top few samples of each sentiment\n",
        "print(\"After segregating and taking equal number of rows for each sentiment:\")\n",
        "print(top_data_df_small['sentiment'].value_counts())\n",
        "top_data_df_small.head(10)"
      ],
      "execution_count": 8,
      "outputs": [
        {
          "output_type": "stream",
          "text": [
            "Number of rows per star rating:\n",
            "5    44367\n",
            "4    22103\n",
            "1    14585\n",
            "3    10970\n",
            "2     7975\n",
            "Name: stars, dtype: int64\n",
            "\n",
            "Top 10 rows: \n",
            "\n",
            "   Unnamed: 0             business_id  ...                 user_id sentiment\n",
            "0           0  ujmEBvifdJM6h6RLv4wQIg  ...  hG7b0MtEbXx5QzbzE6C_VA        -1\n",
            "1           1  NZnhc2sEQy3RmzKTZnqtwQ  ...  yXQM5uF2jS6es16SJzNHfg         1\n",
            "2           2  WTqjgwHlXbSFevF32_DJVw  ...  n6-Gk65cPZL6Uz8qRm3NYw         1\n",
            "3           3  ikCg8xy5JIg_NGPx-MSIDA  ...  dacAIZ6fTM6mqwW5uxkskg         1\n",
            "4           4  b1b1eb3uo-w561D0ZfCEiQ  ...  ssoyf2_x0EQMed6fgHeMyQ        -1\n",
            "5           5  eU_713ec6fTGNO4BegRaww  ...  w31MKYsNFMrjhWxxAb5wIw         1\n",
            "6           6  3fw2X5bZYeW9xCz_zGhOHg  ...  jlu4CztcSxrKx56ba1a5AQ         0\n",
            "7           7  zvO-PJCpNk4fgAVUnExYAA  ...  d6xvYpyzcfbF_AZ8vMB7QA        -1\n",
            "8           8  b2jN2mm9Wf3RcrZCgfo1cg  ...  sG_h0dIzTKWa3Q6fmb4u-g        -1\n",
            "9           9  oxwGyA17NL6c5t1Etg5WgQ  ...  nMeCE5-xsdleyxYuNZ_7rA         0\n",
            "\n",
            "[10 rows x 11 columns]\n"
          ],
          "name": "stdout"
        },
        {
          "output_type": "display_data",
          "data": {
            "image/png": "[encoded data removed]",
            "text/plain": [
              "<Figure size 432x288 with 1 Axes>"
            ]
          },
          "metadata": {
            "tags": []
          }
        },
        {
          "output_type": "stream",
          "text": [
            "After segregating and taking equal number of rows for each sentiment:\n",
            "-1    5000\n",
            " 1    5000\n",
            " 0    5000\n",
            "Name: sentiment, dtype: int64\n"
          ],
          "name": "stdout"
        },
        {
          "output_type": "execute_result",
          "data": {
            "text/html": [
              "<div>\n",
              "<style scoped>\n",
              "    .dataframe tbody tr th:only-of-type {\n",
              "        vertical-align: middle;\n",
              "    }\n",
              "\n",
              "    .dataframe tbody tr th {\n",
              "        vertical-align: top;\n",
              "    }\n",
              "\n",
              "    .dataframe thead th {\n",
              "        text-align: right;\n",
              "    }\n",
              "</style>\n",
              "<table border=\"1\" class=\"dataframe\">\n",
              "  <thead>\n",
              "    <tr style=\"text-align: right;\">\n",
              "      <th></th>\n",
              "      <th>Unnamed: 0</th>\n",
              "      <th>business_id</th>\n",
              "      <th>cool</th>\n",
              "      <th>date</th>\n",
              "      <th>funny</th>\n",
              "      <th>review_id</th>\n",
              "      <th>stars</th>\n",
              "      <th>text</th>\n",
              "      <th>useful</th>\n",
              "      <th>user_id</th>\n",
              "      <th>sentiment</th>\n",
              "    </tr>\n",
              "  </thead>\n",
              "  <tbody>\n",
              "    <tr>\n",
              "      <th>1</th>\n",
              "      <td>1</td>\n",
              "      <td>NZnhc2sEQy3RmzKTZnqtwQ</td>\n",
              "      <td>0</td>\n",
              "      <td>2017-01-14 21:30:33</td>\n",
              "      <td>0</td>\n",
              "      <td>GJXCdrto3ASJOqKeVWPi6Q</td>\n",
              "      <td>5</td>\n",
              "      <td>I *adore* Travis at the Hard Rock's new Kelly ...</td>\n",
              "      <td>0</td>\n",
              "      <td>yXQM5uF2jS6es16SJzNHfg</td>\n",
              "      <td>1</td>\n",
              "    </tr>\n",
              "    <tr>\n",
              "      <th>2</th>\n",
              "      <td>2</td>\n",
              "      <td>WTqjgwHlXbSFevF32_DJVw</td>\n",
              "      <td>0</td>\n",
              "      <td>2016-11-09 20:09:03</td>\n",
              "      <td>0</td>\n",
              "      <td>2TzJjDVDEuAW6MR5Vuc1ug</td>\n",
              "      <td>5</td>\n",
              "      <td>I have to say that this office really has it t...</td>\n",
              "      <td>3</td>\n",
              "      <td>n6-Gk65cPZL6Uz8qRm3NYw</td>\n",
              "      <td>1</td>\n",
              "    </tr>\n",
              "    <tr>\n",
              "      <th>3</th>\n",
              "      <td>3</td>\n",
              "      <td>ikCg8xy5JIg_NGPx-MSIDA</td>\n",
              "      <td>0</td>\n",
              "      <td>2018-01-09 20:56:38</td>\n",
              "      <td>0</td>\n",
              "      <td>yi0R0Ugj_xUx_Nek0-_Qig</td>\n",
              "      <td>5</td>\n",
              "      <td>Went in for a lunch. Steak sandwich was delici...</td>\n",
              "      <td>0</td>\n",
              "      <td>dacAIZ6fTM6mqwW5uxkskg</td>\n",
              "      <td>1</td>\n",
              "    </tr>\n",
              "    <tr>\n",
              "      <th>5</th>\n",
              "      <td>5</td>\n",
              "      <td>eU_713ec6fTGNO4BegRaww</td>\n",
              "      <td>0</td>\n",
              "      <td>2013-01-20 13:25:59</td>\n",
              "      <td>0</td>\n",
              "      <td>fdiNeiN_hoCxCMy2wTRW9g</td>\n",
              "      <td>4</td>\n",
              "      <td>I'll be the first to admit that I was not exci...</td>\n",
              "      <td>0</td>\n",
              "      <td>w31MKYsNFMrjhWxxAb5wIw</td>\n",
              "      <td>1</td>\n",
              "    </tr>\n",
              "    <tr>\n",
              "      <th>10</th>\n",
              "      <td>10</td>\n",
              "      <td>8mIrX_LrOnAqWsB5JrOojQ</td>\n",
              "      <td>0</td>\n",
              "      <td>2011-11-30 02:11:15</td>\n",
              "      <td>0</td>\n",
              "      <td>kbtscdyz6lvrtGjD1quQTg</td>\n",
              "      <td>4</td>\n",
              "      <td>Like walking back in time, every Saturday morn...</td>\n",
              "      <td>0</td>\n",
              "      <td>FIk4lQQu1eTe2EpzQ4xhBA</td>\n",
              "      <td>1</td>\n",
              "    </tr>\n",
              "    <tr>\n",
              "      <th>12</th>\n",
              "      <td>12</td>\n",
              "      <td>FxLfqxdYPA6Z85PFKaqLrg</td>\n",
              "      <td>0</td>\n",
              "      <td>2016-05-07 01:36:53</td>\n",
              "      <td>0</td>\n",
              "      <td>Z7wgXp98wYB57QdRY3HQ3w</td>\n",
              "      <td>4</td>\n",
              "      <td>Wow. So surprised at the one and two star revi...</td>\n",
              "      <td>0</td>\n",
              "      <td>GYNnVehQeXjty0xH7-6Fhw</td>\n",
              "      <td>1</td>\n",
              "    </tr>\n",
              "    <tr>\n",
              "      <th>13</th>\n",
              "      <td>13</td>\n",
              "      <td>LUN6swQYa4xJKaM_UEUOEw</td>\n",
              "      <td>0</td>\n",
              "      <td>2018-04-27 20:25:26</td>\n",
              "      <td>0</td>\n",
              "      <td>qlXw1JQ0UodW7qrmVgwCXw</td>\n",
              "      <td>4</td>\n",
              "      <td>Michael from Red Carpet VIP is amazing ! I rea...</td>\n",
              "      <td>0</td>\n",
              "      <td>bAhqAPoWaZYcyYi7bs024Q</td>\n",
              "      <td>1</td>\n",
              "    </tr>\n",
              "    <tr>\n",
              "      <th>15</th>\n",
              "      <td>15</td>\n",
              "      <td>YvrylyuWgbP90RgMqZQVnQ</td>\n",
              "      <td>0</td>\n",
              "      <td>2017-04-07 21:27:49</td>\n",
              "      <td>0</td>\n",
              "      <td>svK3nBU7Rk8VfGorlrN52A</td>\n",
              "      <td>5</td>\n",
              "      <td>You can't really find anything wrong with this...</td>\n",
              "      <td>0</td>\n",
              "      <td>NJlxGtouq06hhC7sS2ECYw</td>\n",
              "      <td>1</td>\n",
              "    </tr>\n",
              "    <tr>\n",
              "      <th>16</th>\n",
              "      <td>16</td>\n",
              "      <td>NyLYY8q1-H3hfsTwuwLPCg</td>\n",
              "      <td>0</td>\n",
              "      <td>2015-01-03 22:47:34</td>\n",
              "      <td>0</td>\n",
              "      <td>1wVA2-vQIuW_ClmXkDxqMQ</td>\n",
              "      <td>4</td>\n",
              "      <td>Great lunch today. Staff was very helpful in a...</td>\n",
              "      <td>0</td>\n",
              "      <td>86J5DwcFk4f4In1Vxe2TvA</td>\n",
              "      <td>1</td>\n",
              "    </tr>\n",
              "    <tr>\n",
              "      <th>18</th>\n",
              "      <td>18</td>\n",
              "      <td>6lj2BJ4tJeu7db5asGHQ4w</td>\n",
              "      <td>0</td>\n",
              "      <td>2017-05-26 01:23:19</td>\n",
              "      <td>0</td>\n",
              "      <td>rEITo90tpyKmEfNDp3Ou3A</td>\n",
              "      <td>5</td>\n",
              "      <td>We've been a huge Slim's fan since they opened...</td>\n",
              "      <td>0</td>\n",
              "      <td>6Fz_nus_OG4gar721OKgZA</td>\n",
              "      <td>1</td>\n",
              "    </tr>\n",
              "  </tbody>\n",
              "</table>\n",
              "</div>"
            ],
            "text/plain": [
              "    Unnamed: 0             business_id  ...                 user_id sentiment\n",
              "1            1  NZnhc2sEQy3RmzKTZnqtwQ  ...  yXQM5uF2jS6es16SJzNHfg         1\n",
              "2            2  WTqjgwHlXbSFevF32_DJVw  ...  n6-Gk65cPZL6Uz8qRm3NYw         1\n",
              "3            3  ikCg8xy5JIg_NGPx-MSIDA  ...  dacAIZ6fTM6mqwW5uxkskg         1\n",
              "5            5  eU_713ec6fTGNO4BegRaww  ...  w31MKYsNFMrjhWxxAb5wIw         1\n",
              "10          10  8mIrX_LrOnAqWsB5JrOojQ  ...  FIk4lQQu1eTe2EpzQ4xhBA         1\n",
              "12          12  FxLfqxdYPA6Z85PFKaqLrg  ...  GYNnVehQeXjty0xH7-6Fhw         1\n",
              "13          13  LUN6swQYa4xJKaM_UEUOEw  ...  bAhqAPoWaZYcyYi7bs024Q         1\n",
              "15          15  YvrylyuWgbP90RgMqZQVnQ  ...  NJlxGtouq06hhC7sS2ECYw         1\n",
              "16          16  NyLYY8q1-H3hfsTwuwLPCg  ...  86J5DwcFk4f4In1Vxe2TvA         1\n",
              "18          18  6lj2BJ4tJeu7db5asGHQ4w  ...  6Fz_nus_OG4gar721OKgZA         1\n",
              "\n",
              "[10 rows x 11 columns]"
            ]
          },
          "metadata": {
            "tags": []
          },
          "execution_count": 8
        }
      ]
    },
    {
      "cell_type": "markdown",
      "metadata": {
        "id": "gaLb8MvBNqpR",
        "colab_type": "text"
      },
      "source": [
        "# Task 2: Normalizing Data ( 10 min )\n",
        "## Ways of Normalizing Text\n",
        "\n",
        "Removing stop words, lemmatization and/or stemming are common ways of cleaning the text and normalizing it to reduce the number of tokens used as input and get the relevant information from the text. Language as we know is made of the words derived from each other or is often conjugated with different suffixes or prefixes for different reasons in grammar. Some of the words are just supporting words so might not add much to actual intention of the sentence. Hence, we implement various techniques to get a better input to the model. \n",
        "\n",
        "### 1.   **Removing Stop Words**\n",
        "\n",
        "Text would have lot of stop words which does help the model for most of the text related ML cases but in sentiment analysis this would not be useful as the stop words makes the statement positive and negative and adds the weight to the sentiment ( words like really, too, etc.) so if those words are removed it would be hard to get the correct sentiment. This is a good example to understand that one has to choose the cleaning steps very carefully. One of the examples of how removing the stop words would make it difficult is shown in the below example. Removing the stop words can be achieved with creating a custom list of stop words manually or by using existing library which removes the common stop words in the english language. Libraries like spacy, gensim and nltk have those functions to remove stop words. Example is given for gensim library."
      ]
    },
    {
      "cell_type": "code",
      "metadata": {
        "id": "yKPR18BMNodc",
        "colab_type": "code",
        "outputId": "9b15bdc7-1076-41ee-837e-7d2b0bd767bc",
        "colab": {
          "base_uri": "https://localhost:8080/",
          "height": 84
        }
      },
      "source": [
        "# Removing the stop words\n",
        "from gensim.parsing.preprocessing import remove_stopwords\n",
        "print(remove_stopwords(\"Restaurant  had a really good service!!\"))\n",
        "print(remove_stopwords(\"I did not like the food!!\"))\n",
        "print(remove_stopwords(\"This product is not good!!\"))\n",
        "# Task Stop Words: Uncomment following 2 sentences and fill in the correct info to remove stop words from your own statement\n",
        "sentence = \"this restaurant is not what I thought it would be\"\n",
        "print(remove_stopwords(sentence))\n",
        "\n",
        "## As we are not implementing this for our data, this is not applied to the column 'text'"
      ],
      "execution_count": 10,
      "outputs": [
        {
          "output_type": "stream",
          "text": [
            "Restaurant good service!!\n",
            "I like food!!\n",
            "This product good!!\n",
            "restaurant I thought\n"
          ],
          "name": "stdout"
        }
      ]
    },
    {
      "cell_type": "markdown",
      "metadata": {
        "id": "0KAGQJXkEQPu",
        "colab_type": "text"
      },
      "source": [
        "### 2. **Stemming**\n",
        "Stemming is used to get the word form to it's root form by removing the suffixes/prefixes if added any. Stemming gets the words to the reduced form but some of the reduced forms might not be real words as well. \n",
        "\n",
        "Stemming example: \n",
        "\n",
        "*Orignal* -> *Stemmed word*\n",
        "\n",
        "**Ponies** -> **Poni**\n",
        "\n",
        "**Learned** -> **Learn**\n",
        "\n",
        "**compute** -> **comput**\n",
        "\n",
        "There are different algorithms used to do the stemming. PorterStammer(1979),LancasterStammer (1990), and SnowballStemmer ( can add custom rules). NLTK or gensim package can be used for implementing these algorithms for stemming. Lancaster is bit slower than Porter so we can use it according to size and response time required. Snowball stemmer is a slightly improved version of the Porter stemmer and is usually preferred over the latter. Examples have been used to compare the two below. As for this case, no custom rules are added and the results show that porter works fine and as it is simple and speedy to use, that is used in further steps. It is used in the next steps. It is not very clear which one will produce accurate results, those two can be compared in the classification models. \n",
        "\n",
        "Stemming is widely used in the application of SEOs, Web search results, and information retrieval since as long as the root matches in the text somewhere it helps to retrive all the related documents in the search."
      ]
    },
    {
      "cell_type": "code",
      "metadata": {
        "id": "ajjLyiP4Nnot",
        "colab_type": "code",
        "outputId": "becf5d7e-5777-46d5-dec3-d7bcf0677bf0",
        "colab": {
          "base_uri": "https://localhost:8080/",
          "height": 101
        }
      },
      "source": [
        "# Step 5\n",
        "# Example of Porter stemming\n",
        "from gensim.parsing.porter import PorterStemmer\n",
        "import nltk\n",
        "\n",
        "# Uncomment the following for the first time run\n",
        "# nltk.download('stopwords')\n",
        "porter_stemmer = PorterStemmer()\n",
        "stemmer_example = \"Wow the food was not really delicious Seasoned Spicy sour and yummy ! It's not worth a try for sure.\"\n",
        "print(\"Porter Algorithm:\")\n",
        "print(porter_stemmer.stem_sentence(stemmer_example))\n",
        "# use p.stem(word) for applying to each word\n",
        "\n",
        "# Example of Snowball stemmer\n",
        "from nltk.stem.snowball import SnowballStemmer\n",
        "\n",
        "# Option to ignore the stop words\n",
        "# stemmer = SnowballStemmer(language='english', ignore_stopwords=True)\n",
        "snowball_stemmer = SnowballStemmer(language='english')\n",
        "print(\"\\nSnowball Algorithm:\")\n",
        "print(\" \".join([snowball_stemmer.stem(word) for word in stemmer_example.split(\" \")]))\n",
        "\n",
        "# Task Stemming: Uncomment following all sentences and fill in the new sentence and correct object names\n",
        "# print(\"\\nTask output: \")\n",
        "# stemmer_task_example = \"\"\n",
        "# print(porter_stemmer.stem_sentence(stemmer_task_example))\n",
        "# print(\" \".join([snowball_stemmer.stem(word) for word in stemmer_task_example.split(\" \")]))"
      ],
      "execution_count": 14,
      "outputs": [
        {
          "output_type": "stream",
          "text": [
            "Porter Algorithm:\n",
            "wow the food wa not realli delici season spici sour and yummi ! it' not worth a try for sure.\n",
            "\n",
            "Snowball Algorithm:\n",
            "wow the food was not realli delici season spici sour and yummi ! it not worth a tri for sure.\n"
          ],
          "name": "stdout"
        }
      ]
    },
    {
      "cell_type": "markdown",
      "metadata": {
        "id": "ggAemnMn900_",
        "colab_type": "text"
      },
      "source": [
        "### Example of how the stemmer is applied to dataframe column"
      ]
    },
    {
      "cell_type": "code",
      "metadata": {
        "id": "Tp864XroYF2T",
        "colab_type": "code",
        "outputId": "321d6e72-bf86-436d-be6a-281ce155717c",
        "colab": {
          "base_uri": "https://localhost:8080/",
          "height": 479
        }
      },
      "source": [
        "# Porter is used in this use case.\n",
        "# Create a new column with stemmed sentence\n",
        "top_data_df['stemmed_sentence'] = [porter_stemmer.stem_sentence(sentence) for sentence in top_data_df['text']]\n",
        "# Print the top two sentences to see the changes in the sentence\n",
        "i = 0\n",
        "for index, row in top_data_df.iterrows():\n",
        "    i += 1\n",
        "    print(\"Row No:\" + str(index+1))\n",
        "    print(\"Original text:\")\n",
        "    print(row['text'])\n",
        "    print(\"\\n\")\n",
        "    print(\"Stemmed text:\")\n",
        "    print(row['stemmed_sentence'])\n",
        "    print(\"\\n\\n\")\n",
        "    if i == 2:\n",
        "        break"
      ],
      "execution_count": 0,
      "outputs": [
        {
          "output_type": "stream",
          "text": [
            "Row No:1\n",
            "Original text:\n",
            "Total bill for this horrible service? Over $8Gs. These crooks actually had the nerve to charge us $69 for 3 pills. I checked online the pills can be had for 19 cents EACH! Avoid Hospital ERs at all costs.\n",
            "\n",
            "\n",
            "Stemmed text:\n",
            "total bill for thi horribl service? over $8gs. these crook actual had the nerv to charg us $69 for 3 pills. i check onlin the pill can be had for 19 cent each! avoid hospit er at all costs.\n",
            "\n",
            "\n",
            "\n",
            "Row No:2\n",
            "Original text:\n",
            "I *adore* Travis at the Hard Rock's new Kelly Cardenas Salon!  I'm always a fan of a great blowout and no stranger to the chains that offer this service; however, Travis has taken the flawless blowout to a whole new level!  \n",
            "\n",
            "Travis's greets you with his perfectly green swoosh in his otherwise perfectly styled black hair and a Vegas-worthy rockstar outfit.  Next comes the most relaxing and incredible shampoo -- where you get a full head message that could cure even the very worst migraine in minutes --- and the scented shampoo room.  Travis has freakishly strong fingers (in a good way) and use the perfect amount of pressure.  That was superb!  Then starts the glorious blowout... where not one, not two, but THREE people were involved in doing the best round-brush action my hair has ever seen.  The team of stylists clearly gets along extremely well, as it's evident from the way they talk to and help one another that it's really genuine and not some corporate requirement.  It was so much fun to be there! \n",
            "\n",
            "Next Travis started with the flat iron.  The way he flipped his wrist to get volume all around without over-doing it and making me look like a Texas pagent girl was admirable.  It's also worth noting that he didn't fry my hair -- something that I've had happen before with less skilled stylists.  At the end of the blowout & style my hair was perfectly bouncey and looked terrific.  The only thing better?  That this awesome blowout lasted for days! \n",
            "\n",
            "Travis, I will see you every single time I'm out in Vegas.  You make me feel beauuuutiful!\n",
            "\n",
            "\n",
            "Stemmed text:\n",
            "i *adore* travi at the hard rock' new kelli cardena salon! i'm alwai a fan of a great blowout and no stranger to the chain that offer thi service; however, travi ha taken the flawless blowout to a whole new level! travis' greet you with hi perfectli green swoosh in hi otherwis perfectli style black hair and a vegas-worthi rockstar outfit. next come the most relax and incred shampoo -- where you get a full head messag that could cure even the veri worst migrain in minut --- and the scent shampoo room. travi ha freakishli strong finger (in a good way) and us the perfect amount of pressure. that wa superb! then start the gloriou blowout... where not one, not two, but three peopl were involv in do the best round-brush action my hair ha ever seen. the team of stylist clearli get along extrem well, as it' evid from the wai thei talk to and help on anoth that it' realli genuin and not some corpor requirement. it wa so much fun to be there! next travi start with the flat iron. the wai he flip hi wrist to get volum all around without over-do it and make me look like a texa pagent girl wa admirable. it' also worth note that he didn't fry my hair -- someth that i'v had happen befor with less skill stylists. at the end of the blowout & style my hair wa perfectli bouncei and look terrific. the onli thing better? that thi awesom blowout last for days! travis, i will see you everi singl time i'm out in vegas. you make me feel beauuuutiful!\n",
            "\n",
            "\n",
            "\n"
          ],
          "name": "stdout"
        }
      ]
    },
    {
      "cell_type": "markdown",
      "metadata": {
        "id": "zY0ISLjWaNOo",
        "colab_type": "text"
      },
      "source": [
        "### 3. **Lemmatization**\n",
        "Stemming does get the root words but with disregard to it's actual presence in the language. Lemmatization is on the other hand reduces the word to it's canonical form or dictionary form or citation form of set of words ([lemma](https://www.datacamp.com/community/tutorials/stemming-lemmatization-python)).\n",
        "\n",
        "**are, is** -> **be**\n",
        "\n",
        "\n",
        "**stood** -> **stand**\n",
        "\n",
        "Spacy, NLTK, or gensim modules can be used for doing lemmatization. Here, nltk example is shown how it will work. Punctuation marks have to be removed for lemmatization to work. For lemmatization to work properly, we need to apply part of speech tags. For this experiment, we will stick to the stemming method. \n"
      ]
    },
    {
      "cell_type": "code",
      "metadata": {
        "id": "5TxC_RR0fnlX",
        "colab_type": "code",
        "outputId": "c1762f63-b280-43fe-df16-00ded06ecf42",
        "colab": {
          "base_uri": "https://localhost:8080/",
          "height": 339
        }
      },
      "source": [
        "import nltk\n",
        "# Uncomment following for the first time running this cell\n",
        "nltk.download('wordnet')\n",
        "nltk.download('punkt')\n",
        "nltk.download('averaged_perceptron_tagger')\n",
        "from nltk.corpus import wordnet\n",
        "from nltk.stem import WordNetLemmatizer\n",
        "wordnet_lemmatizer = WordNetLemmatizer()\n",
        "\n",
        "lemma_example_1 = \"Previously their waiters spoke very politely. Now it is not the same!\"\n",
        "lemma_example_2 = \"Waiters in this restaurant speak politely.\"\n",
        "\n",
        "# Without part of speech\n",
        "print(\"Without POS:\")\n",
        "print ([ wordnet_lemmatizer.lemmatize(word) for word in lemma_example_1.split(\" \")])\n",
        "print ([ wordnet_lemmatizer.lemmatize(word) for word in lemma_example_2.split(\" \")])\n",
        "\n",
        "# With part of speech\n",
        "## Get the part of speech mapping to give the pos parameter to the lemmatize function\n",
        "print(\"\\nPOS using NLTK for sample sentence:\")\n",
        "print(nltk.pos_tag(lemma_example_1.split(\" \")))\n",
        "def get_wordnet_mapping_pos(lemma_example_1):\n",
        "    \"\"\"Map POS tag to first character wordnet_lemmatizer() accepts\"\"\"\n",
        "    tag_array = []\n",
        "    for word_tag in nltk.pos_tag(lemma_example_1.split(\" \")):\n",
        "        tag = word_tag[1][0].upper()\n",
        "        tag_dict = {\"J\": wordnet.ADJ,\n",
        "                    \"N\": wordnet.NOUN,\n",
        "                    \"V\": wordnet.VERB,\n",
        "                    \"R\": wordnet.ADV}\n",
        "\n",
        "        tag_array.append((word_tag[0], tag_dict.get(tag, wordnet.NOUN)))\n",
        "    return tag_array\n",
        "\n",
        "print(\"\\nWith POS:\")\n",
        "print( [wordnet_lemmatizer.lemmatize(word, tag) for word, tag in get_wordnet_mapping_pos(lemma_example_1)])\n",
        "print( [wordnet_lemmatizer.lemmatize(word, tag) for word, tag in get_wordnet_mapping_pos(lemma_example_2)])\n",
        "print([wordnet_lemmatizer.lemmatize(word, 'v') for word in lemma_example_1.split(\" \")])\n",
        "\n",
        "# Task Lemmatization: Uncomment the following and fill in the new sentence to get the lemmatized version\n",
        "print(\"\\nLemmatization Task:\\n\")\n",
        "lemma_task_example = \"\"\n",
        "print( [wordnet_lemmatizer.lemmatize(word, tag) for word, tag in get_wordnet_mapping_pos(lemma_task_example)])"
      ],
      "execution_count": 11,
      "outputs": [
        {
          "output_type": "stream",
          "text": [
            "[nltk_data] Downloading package wordnet to /root/nltk_data...\n",
            "[nltk_data]   Unzipping corpora/wordnet.zip.\n",
            "[nltk_data] Downloading package punkt to /root/nltk_data...\n",
            "[nltk_data]   Unzipping tokenizers/punkt.zip.\n",
            "[nltk_data] Downloading package averaged_perceptron_tagger to\n",
            "[nltk_data]     /root/nltk_data...\n",
            "[nltk_data]   Unzipping taggers/averaged_perceptron_tagger.zip.\n",
            "Without POS:\n",
            "['Previously', 'their', 'waiter', 'spoke', 'very', 'politely.', 'Now', 'it', 'is', 'not', 'the', 'same!']\n",
            "['Waiters', 'in', 'this', 'restaurant', 'speak', 'politely.']\n",
            "\n",
            "POS using NLTK for sample sentence:\n",
            "[('Previously', 'RB'), ('their', 'PRP$'), ('waiters', 'NNS'), ('spoke', 'VBD'), ('very', 'RB'), ('politely.', 'RB'), ('Now', 'RB'), ('it', 'PRP'), ('is', 'VBZ'), ('not', 'RB'), ('the', 'DT'), ('same!', 'NN')]\n",
            "\n",
            "With POS:\n",
            "['Previously', 'their', 'waiter', 'speak', 'very', 'politely.', 'Now', 'it', 'be', 'not', 'the', 'same!']\n",
            "['Waiters', 'in', 'this', 'restaurant', 'speak', 'politely.']\n",
            "['Previously', 'their', 'waiters', 'speak', 'very', 'politely.', 'Now', 'it', 'be', 'not', 'the', 'same!']\n"
          ],
          "name": "stdout"
        }
      ]
    },
    {
      "cell_type": "markdown",
      "metadata": {
        "id": "zH-Kirn0LX2M",
        "colab_type": "text"
      },
      "source": [
        "# Task 3: Preparing Data ( 5 min )\n",
        "## Tokenizing the text\n",
        "\n",
        "There are different ways to tokenize depending on the use case at hand. `tokenize` function ([tokenize](https://radimrehurek.com/gensim/utils.html#gensim.utils.tokenize)) in the gensim library can be used to tokenize which replaces the special characters, removes extra spaces. One level up is the `simple_preprocess` function ([utils](https://radimrehurek.com/gensim/utils.html)) which goes one step further to make it lowercase and ignore the words as per mentioned in the min and max length. ( Filtering the words that would be potentially rare or stop words). "
      ]
    },
    {
      "cell_type": "code",
      "metadata": {
        "id": "YtWmrDGY9spM",
        "colab_type": "code",
        "outputId": "c7175056-7579-4916-9830-85f7f41b2bb9",
        "colab": {
          "base_uri": "https://localhost:8080/",
          "height": 370
        }
      },
      "source": [
        "# Step 6\n",
        "from gensim.utils import tokenize\n",
        "from gensim.utils import simple_preprocess\n",
        "import re\n",
        "\n",
        "## Different ways of preprocessing the text\n",
        "\n",
        "# Custom cleaning\n",
        "# This is an example how it will be applied to column in dataframe\n",
        "# top_data_df['custom_tokens'] = [re.sub(' +', ' ', line).strip().split(\" \") for line in top_data_df['text']] \n",
        "line = \"Restaurant  had a really good service!!\"\n",
        "print(\"Spliting line by space:\")\n",
        "################### OPTION 1 #######################\n",
        "print( line.split(\" \"))\n",
        "print(\"Custom regex for handling space and stripping end spaces:\")\n",
        "################### OPTION 2 #######################\n",
        "print( re.sub(' +', ' ', line).strip().split(\" \"))\n",
        "\n",
        "# Using tokenize function for tokenizing\n",
        "# This is an example of hwo the tokenize function will be applied to a column in a dataframe\n",
        "# top_data_df['tokenized_text_with_tokenize'] = [list(tokenize(line, deacc=True)) for line in top_data_df['text']] \n",
        "print(\"Gensim tokenize function: \")\n",
        "################### OPTION 3 #######################\n",
        "print(list(tokenize(line, deacc=True)))\n",
        "\n",
        "\n",
        "print(\"Gensim simple preprocess\")\n",
        "################### OPTION 4 #######################\n",
        "print(simple_preprocess(line, deacc=True))\n",
        "# Running this for the dataframe as this will be used for next steps\n",
        "top_data_df_small['tokenized_text'] = [simple_preprocess(line, deacc=True) for line in top_data_df_small['text']] \n",
        "print(top_data_df_small['tokenized_text'].head(10))\n",
        "\n",
        "# Task Tokenization: Use one of your fav methods above and tokenize your own setnence\n",
        "print(\"Task Tokenization:\")\n",
        "token_task_sentence = \"Food totally #blew my mind!!!! \"\n",
        "print(list(tokenize(token_task_sentence, deacc=True))) "
      ],
      "execution_count": 12,
      "outputs": [
        {
          "output_type": "stream",
          "text": [
            "Spliting line by space:\n",
            "['Restaurant', '', 'had', 'a', 'really', 'good', 'service!!']\n",
            "Custom regex for handling space and stripping end spaces:\n",
            "['Restaurant', 'had', 'a', 'really', 'good', 'service!!']\n",
            "Gensim tokenize function: \n",
            "['Restaurant', 'had', 'a', 'really', 'good', 'service']\n",
            "Gensim simple preprocess\n",
            "['restaurant', 'had', 'really', 'good', 'service']\n",
            "1     [adore, travis, at, the, hard, rock, new, kell...\n",
            "2     [have, to, say, that, this, office, really, ha...\n",
            "3     [went, in, for, lunch, steak, sandwich, was, d...\n",
            "5     [ll, be, the, first, to, admit, that, was, not...\n",
            "10    [like, walking, back, in, time, every, saturda...\n",
            "12    [wow, so, surprised, at, the, one, and, two, s...\n",
            "13    [michael, from, red, carpet, vip, is, amazing,...\n",
            "15    [you, can, really, find, anything, wrong, with...\n",
            "16    [great, lunch, today, staff, was, very, helpfu...\n",
            "18    [we, ve, been, huge, slim, fan, since, they, o...\n",
            "Name: tokenized_text, dtype: object\n",
            "Task Tokenization:\n",
            "['Food', 'totally', 'blew', 'my', 'mind']\n"
          ],
          "name": "stdout"
        }
      ]
    },
    {
      "cell_type": "markdown",
      "metadata": {
        "id": "mWsfKsSlUkSC",
        "colab_type": "text"
      },
      "source": [
        "After getting the tokens, stemming is applied. As stemming would work on the words without the special characters. This is the best place to apply stemming. "
      ]
    },
    {
      "cell_type": "code",
      "metadata": {
        "id": "qjTDtFKts8GO",
        "colab_type": "code",
        "outputId": "8c5cbca8-3f82-47f7-aa4c-473421199db0",
        "colab": {
          "base_uri": "https://localhost:8080/",
          "height": 202
        }
      },
      "source": [
        "# Step 7\n",
        "# Get the stemmed_tokens required for next steps\n",
        "top_data_df_small['stemmed_tokens'] = [[porter_stemmer.stem(word) for word in tokens] for tokens in top_data_df_small['tokenized_text'] ]\n",
        "top_data_df_small['stemmed_tokens'].head(10)"
      ],
      "execution_count": 15,
      "outputs": [
        {
          "output_type": "execute_result",
          "data": {
            "text/plain": [
              "1     [ador, travi, at, the, hard, rock, new, kelli,...\n",
              "2     [have, to, sai, that, thi, offic, realli, ha, ...\n",
              "3     [went, in, for, lunch, steak, sandwich, wa, de...\n",
              "5     [ll, be, the, first, to, admit, that, wa, not,...\n",
              "10    [like, walk, back, in, time, everi, saturdai, ...\n",
              "12    [wow, so, surpris, at, the, on, and, two, star...\n",
              "13    [michael, from, red, carpet, vip, is, amaz, re...\n",
              "15    [you, can, realli, find, anyth, wrong, with, t...\n",
              "16    [great, lunch, todai, staff, wa, veri, help, i...\n",
              "18    [we, ve, been, huge, slim, fan, sinc, thei, op...\n",
              "Name: stemmed_tokens, dtype: object"
            ]
          },
          "metadata": {
            "tags": []
          },
          "execution_count": 15
        }
      ]
    },
    {
      "cell_type": "code",
      "metadata": {
        "id": "OxpEu4PggMdP",
        "colab_type": "code",
        "colab": {}
      },
      "source": [
        "# Step 8\n",
        "# Function to preprocess the data when dataframe is changed\n",
        "from gensim.utils import simple_preprocess\n",
        "from gensim.parsing.porter import PorterStemmer\n",
        "porter_stemmer = PorterStemmer()\n",
        "def get_stemmed_tokens(top_data_df_small):\n",
        "    top_data_df_small['tokenized_text'] = [simple_preprocess(line, deacc=True) for line in top_data_df_small['text']]\n",
        "    top_data_df_small['stemmed_tokens'] = [[porter_stemmer.stem(word) for word in tokens] for tokens in top_data_df_small['tokenized_text'] ]\n",
        "    return top_data_df_small\n",
        "# top_data_df_small = get_stemmed_tokens(top_data_df_small)\n"
      ],
      "execution_count": 0,
      "outputs": []
    },
    {
      "cell_type": "markdown",
      "metadata": {
        "id": "Ey68F2tSY_3u",
        "colab_type": "text"
      },
      "source": [
        "# Dictionary\n",
        "Each unique word would be identified by an unique id in the dictionary object. This needs to be created for creating representations of texts. Bag of Words corpus is created using this. This will be useful to get the corresponding word for the given unique id. Dictionary is created by list of words. Sentences/documents etc. can be converted to list of words and then fed to the `corpora.Dictionary` as a parameter. "
      ]
    },
    {
      "cell_type": "code",
      "metadata": {
        "id": "uEtRabxFrXDU",
        "colab_type": "code",
        "outputId": "126109c1-8aa4-40bc-d46e-4e0e8da666aa",
        "colab": {
          "base_uri": "https://localhost:8080/",
          "height": 34
        }
      },
      "source": [
        "# Step 9\n",
        "from gensim import corpora\n",
        "# Function to return the dictionary either with padding word or without padding\n",
        "def make_dict(top_data_df_small, padding=True):\n",
        "    if padding:\n",
        "        print(\"Dictionary with padded token added\")\n",
        "        mydict = corpora.Dictionary([['pad']])\n",
        "        mydict.add_documents(top_data_df_small['stemmed_tokens'])\n",
        "    else:\n",
        "        print(\"Dictionary without padding\")\n",
        "        mydict = corpora.Dictionary(top_data_df_small['stemmed_tokens'])\n",
        "    return mydict\n",
        "\n",
        "# Make the dictionary without padding for the basic models ( Padding is required for CNN )\n",
        "mydict = make_dict(top_data_df_small, padding=False)\n"
      ],
      "execution_count": 17,
      "outputs": [
        {
          "output_type": "stream",
          "text": [
            "Dictionary without padding\n"
          ],
          "name": "stdout"
        }
      ]
    },
    {
      "cell_type": "code",
      "metadata": {
        "id": "qlZnJz_BZcUD",
        "colab_type": "code",
        "outputId": "6e2da59e-8684-49b1-ac1f-d4901f16c71e",
        "colab": {
          "base_uri": "https://localhost:8080/",
          "height": 70
        }
      },
      "source": [
        "# Getting the mapping from word to unique id\n",
        "from collections import Counter\n",
        "d= Counter(mydict.token2id)\n",
        "print(d.most_common()[:10])\n",
        "print(len(mydict.token2id))"
      ],
      "execution_count": 18,
      "outputs": [
        {
          "output_type": "stream",
          "text": [
            "[('swimwear', 21811), ('carveri', 21810), ('daintili', 21809), ('littleweird', 21808), ('zzeek', 21807), ('forefath', 21806), ('gaspworthi', 21805), ('corps', 21804), ('poki', 21803), ('spink', 21802)]\n",
            "21812\n"
          ],
          "name": "stdout"
        }
      ]
    },
    {
      "cell_type": "markdown",
      "metadata": {
        "id": "6E2DpcVVeUZA",
        "colab_type": "text"
      },
      "source": [
        "# Bag of Words\n",
        "\n",
        "Bag of Words (BOW) is one way of modeling text data for machine learning. This is the basic form of representing the text in numbers. Tokenized sentence is represented by an array of frequency of each word from the dictionary in the sentence. \n",
        "\n",
        "Example: \n",
        "Documents:\n",
        "1. This restaurant was great. Food was great too.\n",
        "2. Restaurant served different kinds of food.\n",
        "\n",
        "Let the words in the sequence be\n",
        "\n",
        "\n",
        "Words: this, restaurant, was, great, food, too, served, different, kinds, of\n",
        "\n",
        "Sent 1 [ 1, 1, 2, 2, 2, 1, 0, 0, 0, 0]\n",
        "\n",
        "Sent 2 [ 0, 1, 0, 0, 1, 0, 1, 1, 1, 1]\n",
        "\n",
        "These will be the bow vectors if those 2 documents were present in the corpus. Number of words in the corpus will be the number of features for the machine learning model. This vectors will be fed as input to the model for prediction. \n",
        "\n",
        "BOW vector can be calculated using [Scikit-learn package's CountVectorizer](https://scikit-learn.org/stable/modules/generated/sklearn.feature_extraction.text.CountVectorizer.html) or using  [Gensim library's doc2bow](https://radimrehurek.com/gensim/corpora/dictionary.html).\n"
      ]
    },
    {
      "cell_type": "code",
      "metadata": {
        "id": "fLFs1VUPeeMS",
        "colab_type": "code",
        "outputId": "6f5c8a7c-6c50-4bc6-d177-b304ae2f71ab",
        "colab": {
          "base_uri": "https://localhost:8080/",
          "height": 222
        }
      },
      "source": [
        "import gensim\n",
        "vocab_len = len(mydict)\n",
        "print(\"Example of how the BOW words\")\n",
        "arr = []\n",
        "for line in top_data_df_small['stemmed_tokens']:\n",
        "    print(\"Doc2Bow Line:\")\n",
        "    print(mydict.doc2bow(line))\n",
        "    for word in line:\n",
        "        arr.append(mydict.token2id[word])\n",
        "    print(\"Actual line:\")\n",
        "    print(line)\n",
        "    print(\"(Word, count) Tuples:\")\n",
        "    print([(mydict[id], count) for id, count in mydict.doc2bow(line) ])\n",
        "    print(\"Sparse bow vector for the line\")\n",
        "    print(gensim.matutils.corpus2csc([mydict.doc2bow(line)],num_terms=vocab_len).toarray()[:,0])\n",
        "    break\n",
        "print(\"Sorted word id list\")\n",
        "print(sorted(arr))"
      ],
      "execution_count": 19,
      "outputs": [
        {
          "output_type": "stream",
          "text": [
            "Example of how the BOW words\n",
            "Doc2Bow Line:\n",
            "[(0, 1), (1, 1), (2, 1), (3, 1), (4, 1), (5, 1), (6, 1), (7, 1), (8, 9), (9, 1), (10, 1), (11, 1), (12, 2), (13, 1), (14, 1), (15, 1), (16, 1), (17, 1), (18, 1), (19, 1), (20, 5), (21, 1), (22, 1), (23, 1), (24, 1), (25, 1), (26, 1), (27, 1), (28, 1), (29, 1), (30, 1), (31, 1), (32, 1), (33, 2), (34, 1), (35, 1), (36, 1), (37, 1), (38, 1), (39, 1), (40, 1), (41, 1), (42, 1), (43, 1), (44, 1), (45, 1), (46, 1), (47, 1), (48, 1), (49, 1), (50, 1), (51, 1), (52, 1), (53, 3), (54, 1), (55, 1), (56, 1), (57, 1), (58, 1), (59, 1), (60, 3), (61, 1), (62, 4), (63, 1), (64, 1), (65, 2), (66, 1), (67, 1), (68, 3), (69, 1), (70, 5), (71, 1), (72, 1), (73, 1), (74, 5), (75, 1), (76, 1), (77, 1), (78, 1), (79, 1), (80, 2), (81, 2), (82, 2), (83, 1), (84, 1), (85, 1), (86, 1), (87, 1), (88, 3), (89, 2), (90, 2), (91, 1), (92, 3), (93, 1), (94, 4), (95, 1), (96, 2), (97, 1), (98, 1), (99, 1), (100, 1), (101, 1), (102, 1), (103, 1), (104, 1), (105, 3), (106, 1), (107, 1), (108, 1), (109, 1), (110, 1), (111, 1), (112, 1), (113, 1), (114, 1), (115, 1), (116, 1), (117, 1), (118, 1), (119, 2), (120, 1), (121, 1), (122, 1), (123, 1), (124, 1), (125, 2), (126, 1), (127, 1), (128, 2), (129, 2), (130, 1), (131, 1), (132, 1), (133, 1), (134, 1), (135, 1), (136, 1), (137, 7), (138, 16), (139, 1), (140, 1), (141, 1), (142, 2), (143, 1), (144, 1), (145, 1), (146, 5), (147, 6), (148, 1), (149, 1), (150, 1), (151, 2), (152, 1), (153, 1), (154, 4), (155, 3), (156, 1), (157, 1), (158, 2), (159, 1), (160, 1), (161, 3), (162, 1), (163, 1), (164, 1), (165, 1), (166, 1), (167, 4)]\n",
            "Actual line:\n",
            "['ador', 'travi', 'at', 'the', 'hard', 'rock', 'new', 'kelli', 'cardena', 'salon', 'alwai', 'fan', 'of', 'great', 'blowout', 'and', 'no', 'stranger', 'to', 'the', 'chain', 'that', 'offer', 'thi', 'servic', 'howev', 'travi', 'ha', 'taken', 'the', 'flawless', 'blowout', 'to', 'whole', 'new', 'level', 'travi', 'greet', 'you', 'with', 'hi', 'perfectli', 'green', 'swoosh', 'in', 'hi', 'otherwis', 'perfectli', 'style', 'black', 'hair', 'and', 'vega', 'worthi', 'rockstar', 'outfit', 'next', 'come', 'the', 'most', 'relax', 'and', 'incred', 'shampoo', 'where', 'you', 'get', 'full', 'head', 'messag', 'that', 'could', 'cure', 'even', 'the', 'veri', 'worst', 'migrain', 'in', 'minut', 'and', 'the', 'scent', 'shampoo', 'room', 'travi', 'ha', 'freakishli', 'strong', 'finger', 'in', 'good', 'wai', 'and', 'us', 'the', 'perfect', 'amount', 'of', 'pressur', 'that', 'wa', 'superb', 'then', 'start', 'the', 'gloriou', 'blowout', 'where', 'not', 'on', 'not', 'two', 'but', 'three', 'peopl', 'were', 'involv', 'in', 'do', 'the', 'best', 'round', 'brush', 'action', 'my', 'hair', 'ha', 'ever', 'seen', 'the', 'team', 'of', 'stylist', 'clearli', 'get', 'along', 'extrem', 'well', 'as', 'it', 'evid', 'from', 'the', 'wai', 'thei', 'talk', 'to', 'and', 'help', 'on', 'anoth', 'that', 'it', 'realli', 'genuin', 'and', 'not', 'some', 'corpor', 'requir', 'it', 'wa', 'so', 'much', 'fun', 'to', 'be', 'there', 'next', 'travi', 'start', 'with', 'the', 'flat', 'iron', 'the', 'wai', 'he', 'flip', 'hi', 'wrist', 'to', 'get', 'volum', 'all', 'around', 'without', 'over', 'do', 'it', 'and', 'make', 'me', 'look', 'like', 'texa', 'pagent', 'girl', 'wa', 'admir', 'it', 'also', 'worth', 'note', 'that', 'he', 'didn', 'fry', 'my', 'hair', 'someth', 'that', 've', 'had', 'happen', 'befor', 'with', 'less', 'skill', 'stylist', 'at', 'the', 'end', 'of', 'the', 'blowout', 'style', 'my', 'hair', 'wa', 'perfectli', 'bouncei', 'and', 'look', 'terrif', 'the', 'onli', 'thing', 'better', 'that', 'thi', 'awesom', 'blowout', 'last', 'for', 'dai', 'travi', 'will', 'see', 'you', 'everi', 'singl', 'time', 'out', 'in', 'vega', 'you', 'make', 'me', 'feel', 'beauuuuti']\n",
            "(Word, id) Tuples:\n",
            "[('action', 1), ('admir', 1), ('ador', 1), ('all', 1), ('along', 1), ('also', 1), ('alwai', 1), ('amount', 1), ('and', 9), ('anoth', 1), ('around', 1), ('as', 1), ('at', 2), ('awesom', 1), ('be', 1), ('beauuuuti', 1), ('befor', 1), ('best', 1), ('better', 1), ('black', 1), ('blowout', 5), ('bouncei', 1), ('brush', 1), ('but', 1), ('cardena', 1), ('chain', 1), ('clearli', 1), ('come', 1), ('corpor', 1), ('could', 1), ('cure', 1), ('dai', 1), ('didn', 1), ('do', 2), ('end', 1), ('even', 1), ('ever', 1), ('everi', 1), ('evid', 1), ('extrem', 1), ('fan', 1), ('feel', 1), ('finger', 1), ('flat', 1), ('flawless', 1), ('flip', 1), ('for', 1), ('freakishli', 1), ('from', 1), ('fry', 1), ('full', 1), ('fun', 1), ('genuin', 1), ('get', 3), ('girl', 1), ('gloriou', 1), ('good', 1), ('great', 1), ('green', 1), ('greet', 1), ('ha', 3), ('had', 1), ('hair', 4), ('happen', 1), ('hard', 1), ('he', 2), ('head', 1), ('help', 1), ('hi', 3), ('howev', 1), ('in', 5), ('incred', 1), ('involv', 1), ('iron', 1), ('it', 5), ('kelli', 1), ('last', 1), ('less', 1), ('level', 1), ('like', 1), ('look', 2), ('make', 2), ('me', 2), ('messag', 1), ('migrain', 1), ('minut', 1), ('most', 1), ('much', 1), ('my', 3), ('new', 2), ('next', 2), ('no', 1), ('not', 3), ('note', 1), ('of', 4), ('offer', 1), ('on', 2), ('onli', 1), ('otherwis', 1), ('out', 1), ('outfit', 1), ('over', 1), ('pagent', 1), ('peopl', 1), ('perfect', 1), ('perfectli', 3), ('pressur', 1), ('realli', 1), ('relax', 1), ('requir', 1), ('rock', 1), ('rockstar', 1), ('room', 1), ('round', 1), ('salon', 1), ('scent', 1), ('see', 1), ('seen', 1), ('servic', 1), ('shampoo', 2), ('singl', 1), ('skill', 1), ('so', 1), ('some', 1), ('someth', 1), ('start', 2), ('stranger', 1), ('strong', 1), ('style', 2), ('stylist', 2), ('superb', 1), ('swoosh', 1), ('taken', 1), ('talk', 1), ('team', 1), ('terrif', 1), ('texa', 1), ('that', 7), ('the', 16), ('thei', 1), ('then', 1), ('there', 1), ('thi', 2), ('thing', 1), ('three', 1), ('time', 1), ('to', 5), ('travi', 6), ('two', 1), ('us', 1), ('ve', 1), ('vega', 2), ('veri', 1), ('volum', 1), ('wa', 4), ('wai', 3), ('well', 1), ('were', 1), ('where', 2), ('whole', 1), ('will', 1), ('with', 3), ('without', 1), ('worst', 1), ('worth', 1), ('worthi', 1), ('wrist', 1), ('you', 4)]\n",
            "Sparse bow vector for the line\n",
            "[1. 1. 1. ... 0. 0. 0.]\n",
            "Sorted word id list\n",
            "[0, 1, 2, 3, 4, 5, 6, 7, 8, 8, 8, 8, 8, 8, 8, 8, 8, 9, 10, 11, 12, 12, 13, 14, 15, 16, 17, 18, 19, 20, 20, 20, 20, 20, 21, 22, 23, 24, 25, 26, 27, 28, 29, 30, 31, 32, 33, 33, 34, 35, 36, 37, 38, 39, 40, 41, 42, 43, 44, 45, 46, 47, 48, 49, 50, 51, 52, 53, 53, 53, 54, 55, 56, 57, 58, 59, 60, 60, 60, 61, 62, 62, 62, 62, 63, 64, 65, 65, 66, 67, 68, 68, 68, 69, 70, 70, 70, 70, 70, 71, 72, 73, 74, 74, 74, 74, 74, 75, 76, 77, 78, 79, 80, 80, 81, 81, 82, 82, 83, 84, 85, 86, 87, 88, 88, 88, 89, 89, 90, 90, 91, 92, 92, 92, 93, 94, 94, 94, 94, 95, 96, 96, 97, 98, 99, 100, 101, 102, 103, 104, 105, 105, 105, 106, 107, 108, 109, 110, 111, 112, 113, 114, 115, 116, 117, 118, 119, 119, 120, 121, 122, 123, 124, 125, 125, 126, 127, 128, 128, 129, 129, 130, 131, 132, 133, 134, 135, 136, 137, 137, 137, 137, 137, 137, 137, 138, 138, 138, 138, 138, 138, 138, 138, 138, 138, 138, 138, 138, 138, 138, 138, 139, 140, 141, 142, 142, 143, 144, 145, 146, 146, 146, 146, 146, 147, 147, 147, 147, 147, 147, 148, 149, 150, 151, 151, 152, 153, 154, 154, 154, 154, 155, 155, 155, 156, 157, 158, 158, 159, 160, 161, 161, 161, 162, 163, 164, 165, 166, 167, 167, 167, 167]\n"
          ],
          "name": "stdout"
        }
      ]
    },
    {
      "cell_type": "markdown",
      "metadata": {
        "id": "DeelmsegHiTO",
        "colab_type": "text"
      },
      "source": [
        "# Splitting the data into train and test\n",
        "\n",
        "Train data would be used to train the model and test data is the data on which the model would predict the classes and it will be compared with original labels to check the accuracy or other model test metrics. \n",
        "\n",
        "- Train data ( Subset of data for training ML Model) ~70%\n",
        "- Test data (Subset of data for testing ML Model trained from the train data) ~30%\n",
        "\n",
        "It is important to make sure that both subsets represent whole of the data. Both should have similar characteristics. One set should not be different from others. Try to balance the number of classes in both the sets so that the results are not biased or one of the reasons for insufficient model training. This is a crucial part of machine learning model. In real-world problems, there are cases of imbalanced classes which needs using techniques like oversampling minority class, undesampling majority class ([Resample function from scikit-learn packaged](https://scikit-learn.org/stable/modules/generated/sklearn.utils.resample.html) or generating synthetic samples using [SMOTE functionality in Imblearn package](https://imbalanced-learn.readthedocs.io/en/stable/over_sampling.html#smote-variants) . This uses nearest neighbors algorithm for generating new and synthetic data that can be used for training. \n",
        "\n",
        "For this case, the data is split into two parts, train and test with 70% in train and 30% in test. While making the splitting, it is better to have equal distribution of classes in both train and test data. Here, function  [train_test_split](https://scikit-learn.org/stable/modules/generated/sklearn.model_selection.train_test_split.html) from scikit-learn package is used. \n",
        "\n",
        "See the visualization of splitting of data:\n",
        "[Google ML Guide](https://developers.google.com/machine-learning/crash-course/training-and-test-sets/splitting-data)\n"
      ]
    },
    {
      "cell_type": "code",
      "metadata": {
        "id": "YGpUMGPrJq4G",
        "colab_type": "code",
        "outputId": "3f3e0271-5072-4347-f7f1-2c239a6472e4",
        "colab": {
          "base_uri": "https://localhost:8080/",
          "height": 353
        }
      },
      "source": [
        "# Step 10\n",
        "from sklearn.linear_model import LogisticRegression\n",
        "from sklearn.metrics import classification_report\n",
        "from sklearn.model_selection import train_test_split\n",
        "# Train Test Split Function\n",
        "def split_train_test(top_data_df_small, test_size=0.3, shuffle_state=True):\n",
        "    X_train, X_test, Y_train, Y_test = train_test_split(top_data_df_small[['business_id', 'cool', 'date', 'funny', 'review_id', 'stars', 'text', 'useful', 'user_id', 'stemmed_tokens']], \n",
        "                                                        top_data_df_small['sentiment'], \n",
        "                                                        shuffle=shuffle_state,\n",
        "                                                        test_size=test_size, \n",
        "                                                        random_state=15)\n",
        "    print(\"Value counts for Train sentiments\")\n",
        "    print(Y_train.value_counts())\n",
        "    print(\"Value counts for Test sentiments\")\n",
        "    print(Y_test.value_counts())\n",
        "    print(type(X_train))\n",
        "    print(type(Y_train))\n",
        "    X_train = X_train.reset_index()\n",
        "    X_test = X_test.reset_index()\n",
        "    Y_train = Y_train.to_frame()\n",
        "    Y_train = Y_train.reset_index()\n",
        "    Y_test = Y_test.to_frame()\n",
        "    Y_test = Y_test.reset_index()\n",
        "    print(X_train.head())\n",
        "    return X_train, X_test, Y_train, Y_test\n",
        "\n",
        "# Call the train_test_split\n",
        "X_train, X_test, Y_train, Y_test = split_train_test(top_data_df_small)"
      ],
      "execution_count": 20,
      "outputs": [
        {
          "output_type": "stream",
          "text": [
            "Value counts for Train sentiments\n",
            "-1    3526\n",
            " 1    3492\n",
            " 0    3482\n",
            "Name: sentiment, dtype: int64\n",
            "Value counts for Test sentiments\n",
            " 0    1518\n",
            " 1    1508\n",
            "-1    1474\n",
            "Name: sentiment, dtype: int64\n",
            "<class 'pandas.core.frame.DataFrame'>\n",
            "<class 'pandas.core.series.Series'>\n",
            "   index  ...                                     stemmed_tokens\n",
            "0   5635  ...  [my, mom, is, from, malaysia, and, we, rare, g...\n",
            "1   8177  ...  [overpr, food, thi, pizza, doesn, worth, it, t...\n",
            "2   3056  ...  [hidden, treasur, of, rock, hill, kind, of, st...\n",
            "3   5008  ...  [big, thank, to, hq, pizzavil, for, help, me, ...\n",
            "4   5097  ...  [had, great, experi, we, ar, sell, our, home, ...\n",
            "\n",
            "[5 rows x 11 columns]\n"
          ],
          "name": "stdout"
        }
      ]
    },
    {
      "cell_type": "markdown",
      "metadata": {
        "id": "GtwInucE9yNb",
        "colab_type": "text"
      },
      "source": [
        "# Task 4: Classification using BOW ( 5 min )\n",
        "\n",
        "## Creating BOW vectors for train data\n",
        "\n",
        "BOW vectors when created by gensim package are dense. That is the output is in the form of `[(word_id, freq), (word_id, freq), ...]` where this `word_id` is the id for the word in the dictionary and the frequency is the number of times the word appears in the sentence. This vector is only for the words in the sentence. For model training, a sparse matrix needs to be created. That is a vector with length equal to length of vocab in the dictionary and setting it zeros where the words are not present in the sentence. That is created using corpus2csc ([doc](https://tedboy.github.io/nlps/generated/generated/gensim.matutils.corpus2csc.html)). Doc2bow converts the `stemmed_tokens` into dense vectors and corpus2csc converts it into sparse so it can be used for training and the index of the vector is the word id in dictionary. This is used to give headers of the columns with actual word so that the features can be recognized properly. \n",
        "\n",
        "Training data is iterated through to wrote the BOW vectors to a csv file below. Header is printed which shows all the words in the dictionary."
      ]
    },
    {
      "cell_type": "code",
      "metadata": {
        "id": "yclexNARjndz",
        "colab_type": "code",
        "outputId": "bfd341a0-ba7b-48c8-eee6-d1e2575d29c9",
        "colab": {
          "base_uri": "https://localhost:8080/",
          "height": 88
        }
      },
      "source": [
        "import gensim\n",
        "import time\n",
        "start_time = time.time()\n",
        "vocab_len = len(mydict)\n",
        "# bow_filename = '/content/drive/My Drive/CodePub_Local/trained_data/train_review_bow.csv'\n",
        "bow_filename = OUTPUT_FOLDER + 'trained_data/' + 'train_review_bow.csv'\n",
        "with open(bow_filename, 'w+') as bow_file:\n",
        "    for index, row in X_train.iterrows():\n",
        "        features = gensim.matutils.corpus2csc([mydict.doc2bow(row['stemmed_tokens'])],num_terms=vocab_len).toarray()[:,0]\n",
        "        if index == 0:\n",
        "            print(\"Header\")\n",
        "            header = \",\".join(str(mydict[ele]) for ele in range(vocab_len))\n",
        "            print(header)\n",
        "            bow_file.write(header)\n",
        "            bow_file.write(\"\\n\")\n",
        "        line1 = \",\".join( [str(vector_element) for vector_element in features] )\n",
        "        bow_file.write(line1)\n",
        "        bow_file.write('\\n')\n",
        "\n",
        "print(\"Time taken to create bow for :\" + str(time.time() - start_time))"
      ],
      "execution_count": 0,
      "outputs": [
        {
          "output_type": "stream",
          "text": [
            "Header\n",
            "action,admir,ador,all,along,also,alwai,amount,and,anoth,around,as,at,awesom,be,beauuuuti,befor,best,better,black,blowout,bouncei,brush,but,cardena,chain,clearli,come,corpor,could,cure,dai,didn,do,end,even,ever,everi,evid,extrem,fan,feel,finger,flat,flawless,flip,for,freakishli,from,fry,full,fun,genuin,get,girl,gloriou,good,great,green,greet,ha,had,hair,happen,hard,he,head,help,hi,howev,in,incred,involv,iron,it,kelli,last,less,level,like,look,make,me,messag,migrain,minut,most,much,my,new,next,no,not,note,of,offer,on,onli,otherwis,out,outfit,over,pagent,peopl,perfect,perfectli,pressur,realli,relax,requir,rock,rockstar,room,round,salon,scent,see,seen,servic,shampoo,singl,skill,so,some,someth,start,stranger,strong,style,stylist,superb,swoosh,taken,talk,team,terrif,texa,that,the,thei,then,there,thi,thing,three,time,to,travi,two,us,ve,vega,veri,volum,wa,wai,well,were,where,whole,will,with,without,worst,worth,worthi,wrist,you,about,amaz,ar,assist,bailei,can,care,comfort,credit,dental,dentist,don,dr,friendli,gave,have,highli,insur,is,jewel,knew,nice,noth,off,offic,organ,phillipp,plu,procedur,profession,purchas,recommend,sai,sign,synergi,their,through,togeth,up,visit,which,work,year,absolut,accommod,across,again,an,caesar,dawn,delici,distribut,dress,drink,each,experi,go,happi,her,know,leaf,lunch,pretti,price,pub,salad,sandwich,server,steak,summat,went,would,admit,ala,anyon,anyth,appet,ask,avail,bass,becaus,big,bit,bland,bother,calamari,chef,chicken,convers,cook,crab,date,dessert,die,dinner,dish,doe,doesn,enough,excit,expect,fight,first,food,free,fri,friend,got,group,hear,heard,hous,how,hubbi,if,im,job,jug,la,larg,leav,ll,loud,love,menu,mmmm,mussel,onlin,order,our,outnumb,overpr,pack,parm,pasta,place,plan,portion,proud,re,reserv,restaur,romano,said,sea,season,seem,she,side,sit,slow,snob,special,still,suggest,super,tabl,tavolta,teeni,thank,tortellini,unless,wait,waiter,we,when,wine,your,zucchini,afraid,after,afternoon,back,ball,bowl,came,dare,done,earli,few,freez,game,gentler,hand,leagu,machin,man,mid,more,morn,mother,ms,old,other,pac,pick,pin,plai,quarter,rememb,row,saturdai,show,sister,spend,sure,teen,theme,tilt,until,walk,want,although,app,appreci,atmospher,beauti,beautifulli,bottl,by,certainli,chair,cool,diablo,did,eat,entre,give,husband,just,knowledg,let,made,marinara,mash,matt,meal,mind,pepper,piec,pleasant,potato,prepar,problem,review,riesl,right,salmon,salt,sauc,serv,sometim,star,surpris,take,temp,tender,tiramisu,too,touch,try,veal,while,wonder,wow,bachelorett,book,carpet,contact,deal,easi,everyth,hotel,info,law,littl,michael,need,overwhelm,packag,reach,red,save,smooth,soon,trip,vip,both,case,check,downtown,find,high,lot,option,owner,pizza,poor,qualiti,reason,staff,think,wrong,addit,bbq,biryani,bread,casual,cleveland,enjoi,fast,ingredi,masala,naan,oven,scene,select,tandoori,tika,todai,yummi,ago,been,brew,disappoint,fresh,grill,huge,live,never,open,sinc,slim,sweet,tea,famili,here,kid,quick,biggest,bui,busi,butter,carri,chees,cold,definit,dozen,flavor,home,hungarian,internation,mani,older,onion,or,outsid,part,pierogi,pillow,pinch,pittsburgh,plump,poland,polish,readi,real,sell,seller,ship,small,soft,them,warm,why,win,women,ye,bar,cashier,choic,counter,deli,exactli,kind,limit,pai,search,shop,snack,strip,than,valu,ani,fish,lamb,meat,mexican,planet,taco,crave,earth,excel,fatti,healthiest,isn,month,obvious,onc,abl,attent,badli,begin,clean,competit,complet,damag,futur,landscap,notic,particularli,pipe,pleas,plumb,plumbsmart,provid,repair,scott,sewer,stop,superior,wayn,classic,delic,delight,pettuccin,piccata,close,drunken,duck,glad,intim,lettuc,mouth,mushroom,noodl,overal,panang,parti,raku,rate,receiv,seabass,set,wasn,wrap,yelp,chines,gi,resto,support,trust,vallei,west,wont,alik,epitom,local,must,none,process,rumor,second,transform,visitor,corn,fantast,filet,guess,hot,mac,realiz,scallop,share,shishito,soup,tartar,thought,tuna,whimp,actual,add,ahead,am,appl,base,beer,believ,bet,bewar,block,bourbon,box,brisket,brunch,buffalo,burger,calgari,call,catfish,cesar,charact,chili,cocktail,comment,countri,coupl,decent,decor,down,downstair,earlier,els,entir,entranc,everyon,fairli,garlic,garlici,gluten,gone,grant,hole,hungri,ignor,imposs,includ,long,mean,miss,music,now,ok,onto,plenti,point,serious,should,size,smell,smokei,solid,specialti,tasteless,those,tough,updat,vampir,vegetarian,veggi,wall,wander,weekend,wood,advis,broken,complaint,inspect,later,loos,multipl,number,quot,resid,roof,same,tile,baguett,bam,banh,beef,belli,benedict,chip,compliment,crispi,esp,ham,hash,juici,mi,pork,salsa,toast,waitress,ambianc,appeal,tast,visual,ahwahtuke,bomb,breakfast,croissant,item,run,spot,twice,environ,japanes,nativ,quit,avoid,belief,beyond,buffet,chewi,chimichurri,chocol,cooki,couldn,dairi,dip,dure,foccacia,gelato,gener,grab,gross,hate,highlight,ic,leg,lucki,macadamia,pad,portugues,prime,queen,rib,sausag,section,shrimp,stuf,textur,thai,wateringli,white,funni,return,such,uniqu,roti,satai,wonton,jose,bff,cupcak,fail,impress,tsoynami,unreal,bubbl,chat,dan,differ,dumpl,english,flavorless,gui,him,name,okai,opinion,plate,popular,prefer,prici,pricier,probabl,recent,rose,sticki,thick,thin,tri,veget,what,wide,won,write,ac,aspect,bounc,bra,brand,constant,current,depot,frequent,gather,hardwar,low,manag,materi,neighborhood,paul,person,project,store,yourself,charlott,easili,enter,jam,ny,phenomen,top,chanc,dine,due,empti,fridai,given,insid,josh,locat,plain,rice,rogan,samosa,surprisingli,tikka,unsavori,accomad,addict,alcohol,asparagu,becom,center,decid,fate,favorit,fritter,goat,interest,park,patio,patrick,portobello,random,rd,spici,st,tasti,tell,ther,ventur,checkin,chilli,equip,latest,myself,near,obsess,recharg,short,sunbath,tan,tech,vitamin,winter,yet,class,dog,dy,earlyu,fav,hipster,load,put,seat,secret,stand,tater,tight,ton,tot,town,vibe,babi,bartend,below,club,cute,eas,felt,mailer,mondai,shirt,sport,watch,wear,din,met,portofino,anna,awai,award,blown,charg,cole,commun,compani,email,flood,gentleman,host,imagin,into,kristin,laugh,night,present,privaci,tim,ad,arrai,becam,blueberri,boba,chandler,choos,coffe,etc,explos,forc,fruit,gem,honeydew,idea,intern,jelli,lee,lol,mango,middl,milk,mine,popcorn,pud,slush,snow,suck,supermarket,tapioca,tofu,usual,who,farm,grit,kale,yum,annoi,basic,cream,damn,hei,midwestern,ooooooh,palm,sanwich,snicker,tote,veil,waaaaaaai,boi,gallei,heaven,melt,milkshak,pair,teaser,these,airport,beach,flight,myrtl,stai,stuck,week,arrog,butcher,constantli,dauphinois,far,horseradish,humor,ian,memor,phoenix,request,sens,bacon,bite,channel,cheesecak,child,crisp,crouton,cut,danc,daughter,drown,finish,fudg,greasi,guest,hour,instead,left,listen,loudest,macaroni,mai,parmesan,peak,pepperoni,power,pretzel,sashimi,sat,sensit,sprinkl,stomach,tongu,tummi,variou,wasabi,zing,adult,backward,bad,bend,between,brought,coupon,event,four,invit,issu,jerk,lasagna,mario,market,obviou,penn,possibl,ravioli,recycl,sangria,scarpariello,school,son,treat,vodka,wife,agap,balanc,bring,carefulli,health,holist,individu,injuri,state,tailor,thorough,borrow,car,cheap,dingi,drive,hide,kabob,mall,membership,overlea,overrun,own,per,regardless,toronto,total,warn,zipcar,aris,bella,checkup,discomfort,drop,pain,severn,smile,whatsoev,doctor,nervou,paperwork,sever,stitch,toi,wish,wreck,crust,hold,slice,ahi,familiar,list,scottsdal,skirt,diet,excess,hawaii,land,liter,miller,oh,remind,sucker,welcom,zippi,bloodi,bm,ether,hometown,mari,mmm,nail,almost,front,margarita,quiet,basement,bunch,cost,crew,donnel,dry,hopefulli,keep,nick,sold,subsequ,waterproof,board,cielo,compel,discern,judg,kudo,soo,space,tenderloin,tomato,apart,area,caught,condit,consult,correct,greater,initi,instal,invest,major,monei,prc,properti,replac,report,roofer,roughli,spec,specif,spent,access,citi,compromis,elbow,facil,factori,goal,meet,neat,patient,practic,push,someon,teacher,timer,yoga,anytim,authent,defalco,ex,goodi,groceri,grub,italian,legit,parmigiana,tricki,agreement,ampl,answer,arrang,detail,found,furnish,graham,inconveni,januari,john,lamp,leas,move,north,past,phone,question,recal,regard,rental,site,sylvia,tie,trade,unit,uptown,adjust,custom,difficult,electr,fulfil,meant,pot,walnut,water,bonu,chill,cutest,dive,laura,interior,laid,american,darn,eggplant,goooood,minc,northern,simpl,sound,xlb,appoint,beal,conserv,dose,med,minecraft,rush,satisfi,solut,throw,especi,footbal,loco,mill,sundai,accept,amex,barg,basil,breast,combo,flavour,kebob,koobideh,paid,parslei,radish,read,skewer,yeah,catch,cell,cheer,either,eventu,everytim,late,non,pull,terribl,weird,wing,arugula,eaten,expens,feta,jalapeno,lemon,light,medium,pepperoncini,pure,regular,reheat,seventh,street,though,vinaigrett,address,bill,buck,bucket,encount,epoxi,equat,girlfriend,napkin,neg,pickl,post,pound,residu,resin,sticker,type,william,cake,candl,caramel,glass,mission,skeptic,told,upsid,agit,ai,air,assiett,avec,beaucoup,bon,ca,command,de,donn,donner,en,envi,est,et,etabliss,etant,etoil,eu,fair,faut,file,frite,gouter,il,infam,intens,jai,je,le,lui,meilleur,mieux,oublier,pa,petit,peu,piquant,piri,portugais,poulet,pour,poutin,pratiqu,prendr,qu,quatr,rotisseri,souvent,succul,tre,troi,trop,un,va,vaut,curri,polit,antigua,fortun,hoodi,champagn,interact,pool,sprai,tad,abov,adopt,agenda,anim,anywher,besid,certain,depress,discount,eater,except,finicki,mayb,pet,product,vers,whatev,dietari,mom,nowadai,pleasantli,surround,york,crunch,koodo,shortbread,america,among,arepa,chica,claim,cuisin,empanada,five,guacamol,imit,latin,mini,mood,rais,simpli,subtl,suppos,baja,momma,oooh,steril,lk,technician,alreadi,dove,gosh,lick,pic,pictur,roll,saw,spoken,spring,design,bake,combin,consist,cucumb,papaya,refresh,baselin,burrito,chimichanga,da,deliv,door,everydai,fargo,franchis,georg,leader,least,main,priscilla,quon,rel,repres,rubio,sale,shift,standard,th,themselv,took,upon,vision,yourbanktel,altern,auto,electron,ga,ground,kiosk,line,neutral,quicker,screen,station,towel,track,typic,upgrad,vacuum,wash,wiki,alter,bridal,britnei,brittani,butt,creativ,david,final,fit,fix,grand,grate,hang,ladi,mgm,origin,quickli,rip,sorri,taisha,tear,tux,tuxedo,unfortun,wed,agent,attach,awar,bai,cheaper,cloth,consider,educ,formal,gotstyl,half,hassl,holt,jannett,jean,king,learnt,ourselv,primarili,rang,rather,renfrew,self,tag,tailer,tend,tone,version,wouldn,browni,buttercream,frost,mostli,romant,stuff,velvet,concern,disagre,medic,refer,beat,exorbit,forth,healthi,held,melancholi,varieti,attest,client,stone,banana,brick,california,classi,craft,expos,fixtur,modern,pancak,respect,southern,stool,co,fill,pm,til,worker,etiquett,groomer,mix,schweeni,afford,alon,bun,caus,intric,japcha,jjajangmyun,jjamppong,kochu,korean,mon,pricei,rotat,speak,steam,stick,sun,thur,translat,tue,amen,ammo,bullet,consid,corneliu,daili,fulli,gun,lane,purpos,recreat,shooter,strai,suitabl,system,tourist,weapon,adventur,nicer,cafe,card,chang,couch,cozi,hope,loyal,maya,nearbi,newest,punch,reward,spaciou,studi,wooden,appar,arriv,chunk,enclos,exampl,foie,gra,heat,lobster,oyster,rest,rich,spaghetti,starter,terrin,unbeliev,urchin,az,contagi,crazi,flaca,hamburg,hefe,iv,life,penni,refil,wild,christina,conveni,split,tent,abandon,achiev,ah,armor,barbi,bat,bronz,chew,chimera,christma,cooler,delicto,dirti,disapoint,doll,dream,elvi,flagrant,gasm,hell,incomplet,jacket,jackson,jar,knee,leather,mark,nirvana,occasion,paint,repeat,repent,saver,sculptur,suffer,suit,sultri,third,thrift,thriller,tiger,toreador,true,unicorn,walmart,camera,commit,drove,extra,gang,hatch,hesit,mile,nex,notch,pioneer,rx,ryan,socket,step,stereo,touchscreen,verifi,volt,anywho,face,might,often,sadli,summer,thankfulli,transfer,turnaround,weather,artist,eric,happier,tattoo,bottom,carnita,chile,crema,decis,enchilada,encourag,fold,gf,handl,indic,influenc,mc,mexico,perhap,prove,saute,shame,signific,similar,somewher,spice,spiciest,tortilla,unlik,jun,bean,fajita,normal,energi,jlo,perform,sexi,venu,cancun,favor,fyi,peppi,sue,ultra,broccolini,chic,dimli,gardein,lit,vegan,tanner,batter,crepe,matcha,outdoor,pastel,sesam,waffl,whip,asada,cheddar,chicago,chose,elsewher,employe,feedback,guac,nacho,passion,pastor,paus,pico,scoop,sour,tradit,bagel,egg,amazingli,angri,buldogi,bulgogi,deelish,euro,homemad,hotdog,kimche,memori,famou,meatloaf,salti,closer,averag,blt,complement,lack,pea,peanut,shoe,string,biscuit,gravi,quaint,aggrav,iphon,mirror,al,bias,canada,churro,divers,fact,favourit,hurach,mandatori,puebla,taquizza,brussel,mention,sprout,avocado,bldg,blend,cover,municip,promis,turkei,bag,cabo,chimicurri,heavier,insul,lemonad,lighter,ocean,odowalla,platter,pomegran,promot,sryup,sugar,transport,turn,compassion,follow,lost,member,sing,sympathi,written,coconut,gelatin,kao,soi,colleg,commerci,intersect,villag,yong,desir,feet,floor,function,furnitur,greatest,heart,henc,ikea,intimid,miracl,nc,pass,shopper,showroom,somehow,sq,suppli,truck,upstair,van,build,cannot,compar,deserv,fool,gringo,hispan,omg,skillet,tina,upbeat,richard,booth,bustl,creat,fine,hank,hustl,bank,challeng,easier,flow,glenwai,haven,inspir,shannon,studio,treasur,yogi,asian,fusion,hawaiian,awri,bosa,donut,almond,diner,fellow,harcha,kefta,quinoa,spread,standout,tagin,angl,corner,dollar,everywher,ipa,monitor,pint,sidewalk,tap,tuesdai,watcher,whenev,apolog,greatcustom,mess,adventuru,drunk,ir,caviar,sushi,apt,break,complex,imo,allergi,leftov,lug,max,ordinari,smaller,stroll,tapa,venetian,advisor,anxiou,anywai,backseat,bmw,calm,color,convinc,dealer,dealership,dread,driver,entertain,explain,featur,fiat,gym,hello,hiccup,kept,kitti,lexu,lock,loyalti,mail,model,nutrit,paper,particular,period,politz,profil,reliabl,research,respond,road,salesman,semi,test,trick,wrote,yoda,def,rule,ajit,burn,connoisseur,culinari,detect,doubt,explor,fanci,indian,korma,palai,thali,whiff,concierg,condo,dedic,entri,hoa,laundri,secur,azzip,concept,hit,worri,zip,avenu,confus,thurnderbird,kick,pal,ultim,crossfit,forward,import,instructor,muscl,roomi,sooth,sore,stretch,voic,effort,bazaar,cauliflow,chaat,comparison,descript,gobi,india,neem,pani,pastri,puri,toothpast,oahu,birthdai,yesterdai,bed,clubber,crawl,juic,matter,scarf,vagu,aka,appear,attempt,autoplex,bare,buf,busili,cobbleston,complain,content,cooper,courteous,dash,directli,dirt,discourt,discov,disrespect,dust,dutifulli,episod,examin,fastpass,fat,former,frustrat,gift,glori,grain,halfheart,headrest,heavi,immedi,incompet,insult,jare,lazi,lesson,livid,malefic,masterfulli,mat,minor,moder,moron,nor,oil,panti,pride,realiti,refus,reluctantli,remain,remov,rescu,resolv,result,robust,routin,rub,scratch,situat,slide,smear,smudg,sought,spa,staf,suspect,tale,termin,thumb,tire,toss,tv,undetermin,vent,wax,woman,wors,joint,cevich,juan,concert,drank,ounc,whiskei,chilean,fabul,applaus,branzino,east,eastern,exot,greek,hostess,hummu,humu,isra,jewish,labaneh,latk,moussaka,proudli,shape,shawarma,cheesi,drool,mentor,cloud,febreez,fideo,gripe,hook,lindo,michoacan,par,satur,skin,smoke,beverag,canai,exact,forgot,grass,malaysian,prompt,rendang,sweat,boyfriend,frozen,mahi,mistak,needless,safe,shot,spinach,tequila,travel,bio,french,gel,hasn,manicur,markham,min,sacrif,seawe,thier,under,understood,deter,flank,francisco,octopu,san,weekli,coordin,craig,disadvantag,divid,instruct,lead,link,mixer,perk,pre,promptli,sammi,settl,throughout,tryst,valuabl,weren,art,dentistri,dri,goth,growth,oral,outstand,suspici,teeth,unsurpass,wisdom,word,accompani,airi,amish,bakeri,behind,bing,breath,bright,brooklyn,bulk,candi,carrot,cemeteri,centric,chayot,cherri,consumpt,contain,cram,crowd,cupboard,doucheri,fare,farmer,flax,flour,gentrifi,giant,gonna,known,kolaczki,kugel,mecca,nation,nearli,nut,ohio,overflow,peddler,pennsylvania,pie,plop,produc,region,seed,shadi,shake,sheer,stock,vener,whose,breann,clerk,desk,christian,joe,resolut,schedul,dorado,huevo,neighbourhood,pocket,pozol,ranchero,awhil,challah,disappear,thoroughli,alor,arret,aussi,autr,coin,coussin,devant,estrad,etai,etait,heur,huil,magasin,mang,midi,oliv,ou,patisseri,pendant,plein,pose,prit,produit,que,qui,repos,retrouverez,savon,sui,sur,vitre,vou,vraiment,defenit,haha,karu,bought,chilaquil,caffein,kitchen,arizona,exam,fond,gold,hospit,human,introduct,join,lovabl,match,puppi,reciev,sayuri,seamless,societi,vca,effici,keisha,roach,beast,correctli,hangri,hectic,itself,modif,nutella,successfulli,tame,ten,understand,within,seafood,bench,brown,built,bumper,cage,cardio,con,contract,crack,dumbbel,inconsist,keycard,lift,locker,olymp,platform,pro,shit,shower,slap,smith,spit,splotch,squat,weight,wipe,afterburn,companion,compon,harvest,impuls,mimosa,tip,freak,akropoli,gyro,vibrant,accolad,avid,charcoal,coal,compress,discuss,doubl,drab,durat,fiance,heater,honei,hookah,identifi,improv,linger,natur,oasi,odd,partial,pitfal,potenti,ql,shell,shish,shisha,smidg,smoker,strawberri,sum,term,boil,crawfish,gotten,margarin,nicest,el,gyoza,overdon,ramen,samba,tataki,tonkotsu,topo,wagyu,breadstick,bruschetta,count,daniel,dolcini,gourmet,hardli,limoncello,neighbor,silli,trio,carn,sooo,administ,affect,anthoni,began,clear,continu,cours,cycl,depart,dialogu,exercis,form,hannon,jennif,medicin,occas,physic,record,resourc,survei,tablet,therapi,therapist,toni,treatment,walker,attract,marvel,movi,afterward,aveng,collin,edit,guid,print,cart,showmanship,teppan,bait,gator,insist,orlean,scream,shuck,south,doughnut,higher,ouch,view,aren,court,dobson,eateri,fashion,gorgeou,jungl,lake,lentil,pita,rai,squar,cheesu,healthier,osu,reckon,allow,arcad,bro,centiped,crane,illumin,ol,pinbal,plushi,prize,refund,restor,thirsti,toward,vend,vintag,captain,chelsea,metro,bust,clamp,desert,hose,nevada,replic,resort,strang,invent,sick,cater,cleanli,conclus,contemporari,dim,eleg,hy,insight,keg,oz,porterhous,rockerfel,savori,slightli,steakhous,act,appli,assur,blow,clueless,condescend,derek,estim,fee,foster,hardwork,investig,mainten,mr,payment,proce,soooo,swamp,flare,golf,legaci,chri,regist,spanish,surf,turf,young,bang,boyz,brent,burst,convent,data,halibut,indulg,jalopeno,regret,spiner,trek,truli,withhold,accordian,battista,cappuccino,cramp,depend,flamingo,hadn,honest,kickbal,maze,minestron,octob,serenad,sort,teammat,tournei,unlimit,wakapalooza,bekk,describ,lord,pecan,properli,speechless,ag,angu,fed,alboorz,almighti,arab,aromat,aspir,bore,char,chateau,cling,dc,degre,delect,detroit,enlist,europ,evenli,fire,flai,fluffi,frankophil,freshwat,gaudi,hanker,hat,hickori,hideou,hire,incumb,iran,iraq,iraqi,latter,layout,legendari,maintain,masgoof,method,metropoli,montreal,paradis,persian,plank,pleasur,rare,reign,repetit,restauranteur,revisit,shamshiri,suprem,surfac,tamarind,techniqu,therefor,thousand,tilapia,tradition,trap,underappreci,velveti,washington,western,world,ahn,cuticl,hurt,pedicur,tool,brioch,diabet,omelett,protein,trace,cabinet,jayson,jodi,salesperson,ripe,yard,amigo,kei,queso,scrumptiou,alright,bmophx,foot,marathon,massag,boston,confess,cow,creme,folk,indoctrin,inexpens,junki,liver,nosh,parent,pastrami,pig,rape,wallet,brandon,junk,respons,freindli,mad,pedi,shellac,silverwar,tax,vacat,harajuku,islai,joseph,numer,penicillin,shock,ami,ashlei,ill,boot,brandi,photo,administr,celebr,heavenli,impecc,liquor,vintner,anni,bachelor,correspond,dough,dude,ebc,gmc,kodiak,limo,million,passeng,pregam,ridicul,whoa,xs,akina,ayc,bento,cali,miso,veg,wise,wonderfulli,bind,chamber,comput,crash,holidai,peoria,press,printer,rfp,seriou,sky,spare,stapl,websit,calzon,deep,sad,border,cash,chino,chopstick,destin,jade,jamaican,orient,pc,sampl,snickerdoodl,stir,twist,yep,courteou,critic,program,decad,recept,stage,superbl,terri,tiki,whether,substitut,boulder,cat,compass,express,feed,hairbal,harm,hatr,himself,horribl,kill,muzzl,overnight,overweight,previou,puppocino,sedat,spai,straight,suburbian,trustworthi,uptight,vet,youssef,chipotl,flatbread,gazpacho,moroccan,ashle,lash,aria,btw,carlo,luxor,mirag,mont,vdara,blast,cosmetologist,demeanor,scalp,chad,precis,sooner,affirm,changeov,dial,keeper,mechan,repli,timefram,vid,fave,chowder,ravi,handicap,prais,relief,ahhh,aswel,rustic,berri,broth,butteri,cab,capo,central,cleans,curd,dock,gnocchi,homework,inglewood,intrus,mmmmm,palat,pillowi,puff,shallot,sparkl,splurg,spotless,stuffi,taxi,truffl,volcan,washroom,belizean,bone,dang,fell,tamal,accomod,asid,band,cinco,delish,exclus,flame,hub,mariachi,mayo,sopapilla,strateg,toddler,dmv,googl,map,smog,thru,troubl,via,approxim,artichok,barbera,burnt,capricciosa,emerg,grazi,mozzarella,opt,parmigiano,pop,reggian,salam,vanish,boylan,condiment,ketchup,messi,ring,soda,hors,mous,august,ceil,complimentari,crumb,demolish,focaccia,ivi,lusciou,marketplac,marshmallow,mediterranean,mist,pesto,rave,scaloppini,swelter,syrah,temperatur,tucson,waterfront,bookstor,clearanc,dvd,gadget,wast,eyelash,casino,ensur,essenc,managen,oper,pang,ping,pong,presenc,sub,xo,chuang,endors,ent,gambl,healthcar,strongli,pollo,relleno,adlai,buddi,cabbag,charlottean,charro,coleslaw,complementari,drum,equal,gotta,manzetti,overstuf,paco,pinto,premeal,sanit,shred,spite,stain,texmex,bonafid,centr,garden,guarante,judgment,plant,proclaim,satisfact,ey,hummm,sirloin,apprehens,attitud,goe,introduc,joei,kinda,learn,loui,posit,cartier,forev,gondola,lv,maci,peac,ride,receipt,despit,enchillada,flag,lag,michelada,missu,mx,alexand,cardboard,creami,drench,friendliest,margin,ranch,soak,spars,wet,bedroom,beforehand,breez,crunchi,earn,figur,hallwai,inch,instanc,instant,isaac,monkei,perimet,protector,reiter,resembl,rick,riser,satisfactori,send,stair,warrant,backyard,experienc,grow,leak,mike,stonework,tree,waterfal,mint,nasti,pho,vietnames,di,radar,bombbbbbbbb,hundr,insan,massaman,minim,moment,nelli,pan,bless,champ,domican,god,longgg,marriag,rachet,republ,scar,session,superrrr,yr,addition,breadcrumb,busser,chunki,clam,drizzl,edibl,freshli,garnish,infus,ka,linguini,meatbal,moscow,mule,pappardel,pearl,raspberri,spectacular,theater,torn,zero,lisa,admiss,approach,backpack,blackjack,cabana,encor,lili,minimum,overs,piss,ruin,sooooo,ugli,dad,balconi,beter,dishwash,flatscreen,fridg,getawai,hung,intend,killer,loung,outdat,pavement,platinum,qualm,signatur,stoke,fantabul,admittedli,forget,nightli,shellfish,ticket,tix,tonight,vege,vendor,voucher,licens,waterwork,brother,bruh,bunk,cajun,dump,exce,expert,frank,grade,inferior,remodel,sirachi,stickler,whirl,canyon,fajta,foam,brais,extens,rail,ambienc,izakaya,jem,squid,tamaguro,tsuki,dart,irish,tour,twinki,shortli,latt,mesa,crest,debit,rye,waitstaff,argument,construct,convert,dodg,forgo,jim,logic,logist,ration,tank,vari,backless,bitter,bloat,fruiti,peach,rowdi,skip,sophist,yolk,bark,basi,casa,costco,edg,groom,jealou,mountain,necess,phoeb,pup,spoil,trader,neglig,pi,pieologi,cilantro,falafel,milder,omlet,ft,recess,struggl,oatmeal,raisin,artisan,explan,froyo,mochi,piccadilli,spontan,tart,trendi,warmli,yogurt,cane,distinct,indecis,sooooooo,takeout,totti,finest,holi,mex,tex,cfa,chick,fil,pimento,chop,edc,hidden,idk,ppl,thursdai,tub,barbecu,diggiti,lip,mississippi,petroleum,basebal,mignon,playoff,annoy,bike,inform,jt,nonetheless,barrel,bound,bourdain,categori,deliveri,embarrass,esophagu,ew,forgiv,ghost,gobbl,intent,misspel,misstep,na,nerv,opportun,rad,resist,sheesh,shy,slut,spell,swallow,thrill,thu,tom,upcharg,whomev,burro,cushion,edamam,privat,tatami,vanilla,rosemari,duplic,guin,scrambl,success,paratha,favio,london,mic,brushout,certifi,monthli,petco,trainer,aloha,anymor,atkinson,bum,cola,fizz,grew,gum,lime,longer,rc,retro,rocket,taffi,tidal,twix,wave,wifei,minh,traffic,fresher,draft,siti,sp,sake,cum,breathtak,exhibit,gaga,greatli,heel,lover,pravda,swift,hongkong,acryl,clientel,johnni,nanci,byob,itech,sprint,blue,dark,downfal,enthusiast,watermelon,chow,immens,nee,apologet,mistakenli,bigger,flaki,builder,cheapli,direct,drip,elderli,furnac,instantli,reliev,teach,util,warranti,venic,cross,histori,aromatherapi,jacuzzi,robe,sauna,mitch,agon,amus,bouch,chez,cod,code,epici,foix,gamut,gnocci,goos,hearti,journei,macaroon,pace,prep,ran,upscal,chuchai,cranberri,fall,grove,hommad,matur,roast,wheat,adhes,gooei,henderson,palpabl,schmuck,slip,sweati,synthet,ciao,divin,european,ps,risotto,yorkvil,piercer,talent,bolt,contribut,crawford,factor,frame,honor,nois,pinpoint,rack,pizzafarro,collect,incens,sandalwood,counti,enrol,flake,vienna,volunt,worthwhil,davidson,joi,quacamol,rosa,sabor,nori,overli,tamago,tonkatsu,cup,shiver,openli,grace,hut,ish,papa,pickup,pj,dameron,hygienist,honestli,laser,remaind,untouch,bumblefuck,default,destruct,discret,dont,edemam,engag,gastronom,gluttoni,hamachi,internet,interrupt,irrespons,japan,kankake,massiv,mesh,six,sleep,somebodi,stein,underst,unrestrain,unsalt,abord,au,aux,cuit,curieux,employ,essay,fraichement,frequem,genr,gout,hongkongais,jour,mal,moin,ont,plusieur,presentoir,prix,prouv,remplir,repa,roulement,si,sont,sucre,tablett,trainent,viand,voit,bell,broccoli,mein,lyle,advertis,cd,denver,exchang,magazin,shaunz,arm,district,dunkin,eagl,gargantuan,lone,renov,shave,soap,rendit,brian,chao,kee,mao,offici,fi,utliz,wi,ben,closest,dimens,anniversari,gratin,nd,beeri,bs,dead,gaspar,gastropub,hop,novemb,rue,saint,specifi,stupid,apach,arcadia,asu,balsam,incorrectli,marinad,portabello,sampler,spotti,coast,omelet,cro,mimi,restur,align,chiropract,chiropractor,devic,movement,stimul,singer,spanokopita,assum,groupon,injera,barhop,barvolo,unparallel,dimpl,errand,eyebrow,racist,thread,worthit,kardashian,keyyi,muchhh,rude,sickkk,willl,aliv,deifinit,russel,spirit,fly,associ,bath,bathroom,closet,cousin,gist,lobbi,march,microwav,separ,sink,stove,vaniti,visibl,warmth,wondrou,dam,starv,breweri,cotta,hermosa,inn,lon,mcfate,panna,fatter,sakana,shorter,azuza,fasten,sceneri,xoxo,kneader,brbbq,brfc,coat,essenti,fountain,habanero,hint,shoestr,skinni,slight,sweeten,unsweeten,wildflow,window,captiou,mediocr,ubereat,attend,decaffein,execut,facilit,offsit,retir,sigma,technolog,train,aunthent,obtrus,supris,teenag,trei,upset,blanca,kung,orang,pow,televis,wee,hr,amd,cascad,jw,koi,marriott,nobodi,pond,barber,master,razor,slick,thom,adequ,economi,farther,lowest,accouter,poke,claud,haircut,patron,wealth,bouchon,candlelit,coffeeshop,distinguish,elev,eman,expans,navig,compet,distanc,exrem,incrdibl,magician,malek,obtain,pushi,retain,surgeri,unexpect,upfront,vs,accessori,beltwai,branden,dilig,forthright,handgun,hunt,mislead,offcours,personnel,proper,scope,vinni,integr,brule,buckwheat,gouda,granola,munch,poach,struck,triangl,aisl,allerg,aoli,appetit,appropri,bamboo,bold,camino,chart,clue,cob,dancer,drummer,esqu,fushion,goood,grigio,hahaha,intox,mainli,margaritta,milki,omakas,peruvian,pink,pino,pretend,ruckusi,santa,scandal,shito,stare,stopper,yellowtail,yummmi,agre,aioli,alfredo,asiago,bolognes,capacola,caper,carpaccio,ciabatta,com,crustada,id,marcella,meati,opent,pant,raw,runner,salami,sicilian,sop,thinli,cowork,dee,broad,scottish,tram,bodi,misus,confid,dazzl,dian,razzl,bianco,dilut,espresso,froth,layer,defin,lai,wynn,advantag,graciou,kindli,steven,stori,comfi,men,monaco,salespeopl,greeeeeeat,abil,allei,clutter,heavili,restock,stack,cluster,hype,renown,reput,shabbi,audienc,civillico,connect,crotch,enjoy,hilari,jeff,buster,crucial,drawn,independ,mega,minnesota,miscellan,mural,partit,rariti,screw,shine,shook,sprawl,tenant,undercook,urban,verdict,walley,confectioneri,coxwel,dire,hike,jen,jump,keen,lickade,proxim,quantiti,ribbon,river,wagon,knock,larger,blacken,cai,collard,crayfish,libat,tega,trout,accordingli,kennedi,nichiban,pacif,plaza,steel,tempura,tuck,user,beg,dilla,faboulo,graduat,quesadilla,baba,ghanoush,calori,ident,lunchtim,receptionist,snobbish,fenc,rachel,fur,jerki,teriyaki,butthol,cosmo,focu,frontier,lux,luxuri,nightclub,palazzo,stardust,tao,trait,celent,april,calf,dusti,increas,oan,gam,ja,straightforward,tang,accomplish,boa,postpon,stephan,patienc,circumst,cry,daddi,expertis,father,floral,florist,flower,funer,gravesid,june,noon,offens,prom,shut,sympathet,tallei,crossroad,heather,strength,appt,aw,budget,countless,cynthia,drew,focal,interview,opposit,parcel,speed,thunderbird,whom,winner,cheyenn,floss,immacul,orthodont,southwest,tran,carradin,amena,amer,bakalava,bannon,children,concoct,freeli,halal,kunaff,magnific,meantim,mound,plastic,sahara,sensat,sent,tahini,mongolian,gigant,innard,novel,burnhamthorp,chai,creditview,erindal,exit,highwai,mavi,mississauga,northwest,oili,tei,lkn,regularli,biriyani,okish,tucker,expand,aftward,fault,sheet,beautician,hairstylist,rasheen,surpass,weav,totino,yumm,coma,creation,hef,kati,sam,turnhous,wake,antigrav,clinic,nekter,obgyn,treadmil,yoli,julia,baklava,cashew,dolma,flash,ganouj,sentiment,tabouli,acknowledg,awkwardli,contrast,distract,duti,mackerel,nod,obnoxi,startlingli,enhanc,mainstai,notabl,spin,standpoint,unrecogniz,brocoli,huckleberri,kayla,moonshin,outback,nose,pierc,westsid,banner,carv,karma,lose,lyche,powder,smoothi,twig,youth,island,kimchi,spicier,wth,approv,florentin,rubin,chemic,harsh,luv,nexgen,poison,tommi,blanket,hubski,picnic,aloo,arrowroot,blame,dal,exclaim,garam,grandma,kofta,lassi,lil,liz,okra,opera,paneer,pantri,proceed,rani,tini,wound,shwarma,academi,carousel,carrol,carroli,credenti,cultur,debbi,ferri,festiv,filipino,flatlei,garag,hall,justic,led,locklier,parad,particip,perman,shellei,snowcon,twirl,wheel,brat,mustard,announc,burr,calendar,comedi,filthi,headlin,languag,lotion,pauli,saloon,shark,shore,wolf,zone,nyc,ridg,toe,waxhaw,nicol,wahoo,heck,offhand,spasm,tmj,torticolli,wednesdai,woke,clock,gunshop,inventori,modest,tower,veteran,omar,thanx,brag,burgr,crap,flavortown,mayor,motlei,sumo,text,wrestler,merchandis,senior,shelv,sift,student,transact,void,ware,wold,afflict,allur,amongst,argyl,beckon,bev,boogi,cant,chinci,filter,haze,incub,miami,moth,mustach,neon,nobl,nom,polyest,rancor,sensori,slither,song,stiff,tab,taboo,vice,wore,albeit,amc,beam,caribbean,carleton,cave,cinema,citru,comer,cornbread,counterpoint,creek,darlin,del,devour,dh,edgi,er,esplandad,fella,field,fuego,gent,gracious,hid,hush,hushpuppi,mammoth,mar,musician,overcook,pernil,pineappl,playlist,plonk,poblano,poni,problemat,profer,puddl,quibbl,ritz,serrano,slaw,succotash,swine,tail,tall,wherev,whoever,xl,yanke,harvei,arguement,asshat,bj,cha,ching,dealt,flush,newbi,player,poker,sourdough,taught,yo,shatter,tacki,sunris,terrac,accur,confirm,creatur,lacklust,nake,pile,trai,unbear,jessica,kailei,autograph,hoagi,thinner,background,effortless,timeli,quizno,biltmor,canoodl,craftsman,deco,firesid,piano,retreat,seren,sunset,swanki,mojito,sorbet,mushi,barbershop,orgasm,ass,bouncer,breather,climb,comp,easiest,femal,guestlist,ideal,indoor,li,marque,midnight,morgan,nudg,page,ratio,restroom,sardin,social,spoke,stag,stress,surrend,tempt,wade,walkwai,versa,militari,ecuadorian,helado,paila,twighlight,proport,philli,sarah,annual,awaka,boost,busboi,hana,lycheetini,sincer,socialit,uni,easter,tomorrow,acoust,gauc,phx,weari,calvin,dj,endless,harri,ing,painless,kali,mastiff,paw,petsit,sabrina,rea,caution,eaton,fillet,marin,meh,ox,dislik,slider,defiantli,duke,inspector,realtor,referr,tune,rat,glove,pumpkin,valhrona,bf,coca,heartbeat,imag,michel,photographi,alexia,alvin,arrest,behold,booti,bump,declin,diplo,gratuit,grei,hydrat,magnum,marshmello,mileston,nightswim,obligatori,omnia,peasi,ratchet,span,spank,splash,stark,sunscreen,supernatur,tacular,threaten,twerk,desyre,herself,lump,unnecessari,bagger,corral,mold,outrag,poorli,refriger,spill,testament,unload,winco,scrap,tint,vehicl,accent,alum,bodega,brainchild,connelli,desoto,diehard,eight,entrepreneur,fillmor,household,muffin,nearest,nestl,pretenti,progress,roosevelt,safewai,shawn,sip,sleepi,storag,throwback,tissu,tread,undoubtedli,urbo,assess,attain,common,control,flexibl,importantli,lb,measur,percentag,stronger,tenur,alchemi,bison,blft,tort,unappet,deck,lessen,melisa,prefix,ahem,carb,further,madison,mornai,patti,brook,element,incorpor,albert,assit,beignet,carmel,crush,forgotton,jambalaya,jambalya,justifi,minti,restuar,rime,tougher,brief,conclud,depth,endur,hoover,horrend,juli,shade,snag,souvenir,subwai,video,viewpoint,fred,lembo,negoti,privileg,reluct,rout,scenario,shannan,badger,develop,gush,lightweight,malt,porker,root,suburban,touchdown,wisco,woop,buch,mole,spinner,amann,kouign,lait,turnov,belong,carawai,delicaci,lower,nyer,piqu,poppin,sigh,singular,sole,weirdest,aback,alic,amanda,anlo,begun,blush,citizen,displai,frock,greylin,handbag,jame,petal,rees,saunter,scatter,shoshanna,showcas,spy,stun,stylish,traci,trixi,uprichard,wider,chatti,dime,nickel,flimsi,matza,raini,spoon,sturdier,teaspoon,ya,claranc,grown,niec,katsu,keali,poster,reichel,billboard,colburn,enterpris,fwy,plumber,against,airlin,autom,belov,bruddah,dhl,dilemma,drift,duffl,eh,fedex,fragil,liquid,luggag,mahalo,omiyagi,plane,postal,problemo,raggin,servi,smart,sweeti,tape,tj,tsa,unlv,warrior,whaaaalaaaah,anyhow,awkward,bernais,canon,cinammon,cobbler,crock,delmonico,dent,forum,fussi,litt,oscar,overboard,pseudo,recommen,ribey,squeak,safeti,latasha,nie,rob,scan,martini,mode,potstick,roi,swordfish,rent,columbian,yucca,grotto,bae,smash,shout,fugu,ichiban,luck,soooooo,charm,assort,brim,donair,gargl,homer,insert,jimmi,mouthwat,nah,profus,simpson,lox,rank,aftertast,mapl,dustin,herold,labor,pep,rep,sc,technic,thansgiv,urgenc,kevin,blackberri,bree,outlet,shepard,denis,maggi,chickpea,coke,cutleri,dolomad,exception,fluke,grape,spanakopita,tatziki,zest,kiss,account,activ,childish,colleagu,concis,concret,drivewai,foul,immatur,manner,pattern,proof,renter,snake,steal,switch,tantrum,brewben,craftsmen,float,smokehous,timei,acid,freddi,mcdonald,wendi,cabin,invalu,protect,steve,exist,filo,signag,tube,chin,atleast,bok,choi,drill,hotter,lard,mild,pod,tangerin,attack,deer,furri,pvsec,relaps,traumat,gracia,alabama,soldier,caviti,churn,headphon,numb,southview,heartbroken,maria,waaaai,drag,flatten,louisiana,polici,smother,asseoir,bienvenu,caramelis,consomm,enfant,excellent,manger,ne,occup,oignon,passiez,pression,quoi,sympathiqu,vouliez,episag,fascia,knot,limmi,mistli,nikki,reschedul,shelter,shrink,skimp,taint,fairfax,squeez,bobbi,bride,eagerli,ed,gain,highest,lifestyl,motiv,similiar,wygu,overpow,yelper,accident,beginn,cement,chi,childhood,diamond,doggi,draw,grassi,gravel,hill,medit,path,pathwai,photograph,playground,soccer,solo,soul,tai,till,trail,warmer,workout,acrobat,beatl,cirqu,costum,du,fab,interpret,masterpiec,meaning,solei,delfaco,cinnabon,cinnamon,cube,handmad,mason,preserv,bee,equi,filli,nando,pitcher,ck,fu,funtacoslv,torta,blond,brittnei,brownish,copper,lighten,lowlight,ombr,peco,scare,unsatisfi,windmil,outgo,driven,sonora,advic,bridgett,hincklei,specialist,harbor,jeep,manual,queue,shuttl,xd,carol,fabric,stumbl,hooter,ufc,wit,junior,shoot,smallest,worn,maltes,reassur,werent,yorki,myster,soleil,emerson,fli,iceburg,buddha,devil,yardbird,intact,kimberli,peel,speedi,format,mcd,nonsens,panzarotti,schnitzel,slew,substanti,fishbowl,dissappoint,omlett,barista,bc,cheeseburg,cheesesteak,couldnt,definet,lancast,reportedli,decaf,quich,roaster,yarn,denni,santaf,tremend,wgag,boarder,couli,crumbl,molten,pear,venison,wellington,cap,didnt,clubhous,austin,bdai,picki,georgia,affair,aftermath,alongsid,barb,basket,beet,bisqu,bulb,chewier,crostini,ev,firework,foi,garlicki,interspers,jumbo,markup,nibbl,nye,parsnip,recogn,shall,sliver,sonoma,squeamish,charli,horn,lace,attn,younger,harevei,starch,amazzzinnngg,gambler,lilypad,pfeiffer,broadview,gladli,bimbap,button,dosa,mia,wick,cathedr,disc,downsid,midst,univers,agnolotti,brightli,bucco,burrata,chanterel,fork,golden,knife,maui,onda,osso,plush,romain,saffron,slid,sommeli,quest,storefront,xtra,creep,homeown,polar,prior,bond,eccentr,gruff,jasmin,wasnt,av,experinc,industri,investor,notifi,profit,reli,renew,residenti,funghi,unamerican,domest,assedli,disast,lid,panel,rear,seal,shrug,snowbal,splitter,su,submit,sworn,trunk,vandal,melti,agreabl,ce,decouvert,endroit,etr,maitr,savour,surtout,tout,addam,forgotten,lotr,lyft,riplei,slowli,tribut,walkabl,blind,corei,larri,shutter,bunker,fairwai,norm,patch,previous,tee,cheat,dbl,lineup,sauerkraut,church,devot,everybodi,aaa,brace,competitor,fathom,metal,nite,reveiw,assign,boat,colada,dragon,luckili,pina,quebec,jason,ajax,moist,bom,dynamit,sonia,nuff,bootcamp,coach,loss,scale,weigh,tammi,blood,fenig,milliken,rim,susan,cabl,gentlemen,jumper,marco,elyria,confit,lie,tortelli,circl,twenti,valet,widescreen,cleaner,instagram,formerli,gilli,presti,sniff,mortar,nash,brows,fancier,guitar,keyboard,sourc,tyler,vocalist,housewar,lube,tidi,optometri,optometrist,aveda,desper,plung,prefac,pregnanc,ali,curl,magic,shag,ahr,darold,honesti,quietli,smoothli,ubiquit,upsel,dgb,hummmmmm,robin,royal,pardon,spade,trigger,viewer,chaotic,hangout,apricot,ilici,julien,savouri,toler,stunna,wknd,focus,snooti,tiffani,ann,vicuna,hottest,rain,granni,larissa,blackboard,prefect,centenni,cheapskat,chock,craigslist,doorwai,highland,indent,jack,linoleum,mover,pallet,scuf,seamlessli,toyota,warehous,carcassonn,lo,overlook,slat,tow,kathi,veena,cleanser,delightfulli,palett,persist,unusu,herbst,sarra,urg,bnb,cone,parlour,trumph,gm,rainbow,accid,chirofit,pun,stamp,ankl,bu,digress,intermod,milwauke,wifi,wisconsin,branch,fastest,starbuck,omni,prenat,bah,chanai,hong,kong,kut,taiwanes,tarik,teh,steeper,unheard,dach,swear,wimp,brazilian,brendon,chicharron,mezcal,plantain,rita,ayam,redang,expensif,hip,huran,pnc,advanc,declar,pregnant,siracha,tomahawk,broke,recip,sock,abd,lifelong,soffa,timepiec,alot,thrn,halo,jewelri,reexplain,atm,cassett,cent,foosbal,pump,score,strictli,thrifti,ceasar,linguin,behav,breed,breeder,kuzma,potti,reaction,siberian,sineglazka,emerald,foo,machaca,ritual,yung,lastli,mosi,spicei,hunk,risqu,seedi,slutti,thunder,deprec,harrah,innuendo,sexual,smoki,ventil,cautiou,curli,halfwai,length,yolanda,jojo,yyuummmm,rainforest,descend,grandfath,grandmoth,sicili,silenc,apprehend,crime,dispens,ethnic,eventhough,ipad,legitim,pristin,assumpt,lightli,northeast,parma,boutiqu,brilliant,cri,causal,chandeli,hibachi,huh,martha,newer,posh,redecor,sage,stewart,sw,titl,laredo,overwhelmingli,sf,dublin,hurlei,ireland,jersei,rod,cast,categor,foofi,inde,turtl,foothil,geoffrei,remot,ferraro,griglia,pat,pitter,funki,restaraunt,yoself,fraich,bear,zoo,solar,alex,outcom,hk,midland,torch,moham,endocrinolog,gyn,hormon,mental,raleigh,aime,newborn,archi,thailand,cayenn,facebook,ginger,hotti,kyle,sinus,fishi,wilt,corni,corona,hade,huhot,inner,instinct,joke,meter,perceiv,rangoon,refut,spatula,tuhot,bilal,grad,marc,pharmaci,pharmacist,prescript,author,camp,gal,lc,mud,ruger,arnold,clenard,cordial,palmer,reflect,bunni,friendlier,hai,label,litterbox,mop,playpen,poop,rabbit,springbank,sweep,waiver,popsicl,seasalt,angel,ariel,doabl,helpless,hug,imperi,loren,overh,structur,bianca,cacti,harlow,margherita,skull,brawt,blog,blogspot,cecil,html,http,ron,palermo,angi,manicurist,pickiest,golfbal,shove,yell,restaut,itali,randomli,ioana,chinatown,stake,batteri,revolv,safer,favorti,mandalai,prickli,ddd,gilbert,kansa,doodl,petsburgh,poodl,tens,clubbi,colour,commonwealth,crow,dig,diggin,loaf,nibblet,sire,taquito,extend,uh,barro,accustom,etarian,faith,prop,rsvp,unfamiliar,abundantli,laden,temper,tripl,toilet,bow,distributor,schnorki,ana,feminin,flatter,parker,pixi,zen,everyplac,hollywood,thehotel,argu,brewco,chit,crackl,dint,glaze,peter,porter,puffi,sear,stood,sunni,tertilla,demand,summerlin,boon,elswher,bargain,benefit,faster,acquaint,kobayashi,stoni,andrada,fighter,muai,facelift,nostalg,westcor,hale,chiwa,bottomless,disrepair,towner,guard,hitch,threw,trailer,uhaul,dismiss,glider,jesu,login,nowher,registri,repurchas,stroller,target,yai,conni,destroi,foil,input,maximo,loc,stellar,amazon,beachwood,ceram,fondu,grater,hurri,implement,jumbl,retail,athen,critiqu,foodi,milo,wonderland,benefici,groomsmen,manscap,bistro,cracker,footprint,modifi,summari,ear,riski,vast,estast,upload,mishmash,aladdin,bcbg,bcbgirl,largest,passag,peep,reuben,unev,apprais,bankrat,clouatr,garza,nationschoic,refi,bud,despis,dorothi,evolv,gag,horror,hunger,mouthwash,rid,scrub,strike,toothbrush,eager,agx,kyb,paypal,strut,vivid,daycar,fanat,multitud,overcrowd,egglslut,gaucho,cochinita,pibil,yucatan,callend,canadian,casei,chive,layov,lyn,seek,setup,sober,succe,faucet,giddi,knob,understat,jenni,chuck,crappi,mattress,trial,bathtub,freestand,gta,invoic,lanewai,lumber,monstros,ossington,portug,reno,showerhead,carolina,vinegar,chenin,gear,invisalign,oldest,youngest,prosciutto,bout,repeatedli,arthur,asap,deepli,hestitatli,steer,unneccessari,grapefruit,hibiscu,perfekt,crystal,landlord,detractor,financ,mazda,tack,shandi,sprite,stella,counsel,digit,drinker,explicitli,fo,fort,hobbi,impli,nope,parch,pit,remad,silverado,xx,automot,brake,preciou,snug,bandido,julienn,tangi,woodbin,adega,distant,object,remark,herb,ahhhhh,choreographi,sight,cackalacki,cheerwin,variat,glitch,kat,seri,shoutout,swarm,fade,bingsu,neapolitan,brie,carbonara,chorizo,compot,fireplac,pancetta,erin,knight,buttermilk,cider,constraint,skim,sloppi,toffe,emot,escap,pee,cadillac,collis,barn,bate,brickwork,clever,coital,evergreen,fg,fidel,gastro,halv,ladl,mommi,purpl,quip,sammich,slather,wychwood,tonia,grainier,seemingli,pittsburg,brunett,cancel,hairdress,noell,gooooood,neck,mannerli,beati,crafti,vote,banquet,aesthet,blew,covet,dome,footag,exhal,cronut,saigon,shaken,lenscraft,dorm,wooah,acronym,creator,isali,klondik,westview,knack,knick,mitchel,wella,crunchier,fluster,overview,shortag,altho,sharwama,anybodi,goggl,infrar,mysteri,pitch,utensil,cheesteak,fio,pitt,disgust,schmanci,anchovi,beluga,biscotti,confin,cornish,custardi,dori,earthi,fragrant,glimps,gress,hen,interestingli,jacki,jargon,lardon,maximum,meagen,mouss,necessarili,newli,plethora,reg,reggiano,relaxingli,reveal,seven,shiaox,sou,syrup,thickli,troop,underneath,vide,ahhhh,beaten,blvd,centuri,courtesi,eastsid,felic,larchmer,mazingli,frankli,ie,irrit,partner,lifetim,pb,tooth,charbroil,vermicelli,establish,significantli,adorn,greenback,haul,mag,ownership,sportclip,trim,spruce,canal,daccach,heal,practition,batch,stadium,stale,suncost,geric,potent,thaiger,hero,priest,sen,woon,auspici,forgett,hap,mayonnais,snap,paraguai,spain,aint,bug,chief,cm,defrost,drawback,elud,fern,glob,johnson,lion,mane,mayhap,overst,paragraph,sinfulli,soggi,squash,vertic,wherea,ajitama,benidict,nitamago,siem,siu,pine,ct,lair,musuem,norwalk,partak,steadi,stream,econom,expertli,kenyan,lydiah,littler,ahhmaaazimgggg,cuban,aid,basa,overshadow,bitch,bottleneck,shouldn,stunt,lincoln,wholeheartedli,cathleen,rene,willoughbi,lauren,mister,fattoush,kafta,paramount,tawouk,cindi,liner,soften,mn,dresser,mckenna,chastiti,christi,marri,chalk,cotija,fe,core,regimen,barchef,sentenc,tootsi,sang,somewhat,isnt,nazi,qbout,thw,panini,venezia,shortstack,spam,stat,tocino,tosilog,underdon,blossom,cactu,fianc,hollandais,shortcak,steep,colon,greg,hydrotherapi,ecstat,laserawai,kassel,boss,clarifi,bogo,sketcher,skid,monster,unhappi,dollhous,fragranc,girli,spearmint,supermodel,ladylik,supe,dane,neglect,ef,underwhelm,viator,dna,hawker,kaya,korea,kun,malai,pandan,se,singaporean,wtf,archaic,signal,boneless,bubba,drain,walin,princess,dye,jayme,phase,supervis,caveat,princ,camelwest,mccreadi,veterinarian,destini,overdu,beto,manni,purista,jazz,wardrob,bonni,maid,serena,quirki,concentr,unevenli,death,jalepeno,horrifi,german,taller,stepmom,wld,conge,gil,keung,mil,singapor,wan,wong,yang,ying,canoli,haunt,marsala,scallopini,arbol,barrio,beau,clamato,coreano,fresco,kalbi,ma,misheard,ml,modelo,nordic,ontario,pale,playa,playacabana,tomatillo,wanna,worcestershir,bullmoos,dykman,diana,quarterli,bravo,coars,crusti,triniti,applic,atmosph,ttc,andersen,brave,exceedingli,freshest,pizzeria,weston,amaretto,boozi,budino,cremini,custard,em,gossip,libretto,limon,posset,rapini,standbi,antenna,crv,bap,bi,bim,butterfish,cano,chocolatei,hangar,souffl,tastiest,adamam,unpretenti,shhhhh,ncounter,plead,cereal,nutrishop,aaron,fleme,illustr,prevent,gentl,disclosur,distilleri,era,gothic,loosen,painfulli,prohibit,stirl,tunnel,birkenstock,recondit,resol,strap,sued,guava,kim,loin,sweetheart,eveyrh,frontlin,mexicorn,bengali,bwot,dalpuri,danforth,feast,kacchi,mindblow,nondescript,pakora,pratha,centurylink,fabian,lola,mixtur,porki,bulgugi,kine,ono,uncl,flawlessli,shadysid,assembl,chardonnai,consum,emptier,lievabl,unaccept,unmatch,sand,spud,idiot,mart,trinket,applianc,dimsum,elabor,nifti,siew,tentacl,waxer,aden,coop,cowboi,spur,williamsfield,convient,gestur,grandson,inclin,loiter,pumper,superpump,cogniz,knit,aj,leah,maegan,dice,gino,squarebii,deceiv,fatburg,fixin,minu,neatli,congratul,deliou,grangratulaion,nurs,token,herbal,malaysia,fractur,humeru,kastrup,overburden,exterior,redo,robert,shutoff,valv,andi,monstrou,cafeteria,glamor,tinfoil,yam,agedashi,antichuco,bobo,brazil,kobe,asia,cal,fullest,hoisin,ken,loooov,observ,sightse,slot,yeep,wolfgang,coral,bellagio,gina,michelin,pari,savoi,stall,amp,sham,takeawai,dino,anchor,clair,upcycl,witch,noda,utopia,advocado,edanam,habit,monica,throttl,shelf,shanna,aunt,nigiri,lovingli,sate,orangei,turkish,comedian,confer,departur,chompi,reupholst,tourista,umpteenth,wildli,campfir,frijol,nana,crembrule,eclair,ganac,profiterol,shimp,male,boca,britani,clicklist,kuddo,flakei,retriev,betti,quieter,aargosi,enlighten,inservic,mobil,reclin,unbeat,freehand,penguin,hourli,kibbeh,dreamt,linzer,prantl,savor,beneath,curtain,elia,gap,photosensit,snappi,stab,strain,sunglass,uncomfort,bundl,drai,hotspot,rooftop,fourth,braden,dalla,carwash,paragon,mcclintock,reopen,ochazuk,gorgonzola,affili,giftwar,incent,indirectli,novelti,primari,stationari,subdivis,supplier,weddingstar,critter,kicker,subpar,yeast,reinvent,spike,swank,uber,possum,determin,hh,paleo,hertz,twin,abund,atop,homerun,mccandless,nishikawa,slurp,umami,basketbal,brampton,dixi,hockei,jaunt,rink,sandlewood,skate,suburb,swim,lakewood,atla,jed,blizzard,promo,sew,canto,soupi,xiaolongbao,della,insalata,toscana,weak,antinori,fear,javier,knotch,peppoli,blink,crude,centeer,inflat,nina,rocki,telephon,tuffi,craze,onigiri,clasic,georgetown,roberto,bawl,frenchtoast,gypsi,silent,bellini,theatr,boulevard,ogr,taunt,migo,quavo,yall,baji,pav,gin,bathfitt,contractor,enclosur,cocoa,gooey,rio,shareabl,acupuntur,alyesh,indebt,magarita,tacqueria,chkn,vulner,cheerfulli,phrase,incan,pf,tastless,waldorf,effect,hood,inquir,raven,tat,public,saki,fam,hyundai,blindli,mob,grief,lightn,metamazol,pill,roadrunn,throat,thyroid,topic,web,fig,ness,expat,melbourn,bungeoppang,sturdi,randi,lavend,doc,hardest,humour,yearli,astronaut,definint,exhbit,har,navi,picket,requin,scienc,submarin,uss,nordstrom,cherrywood,humbl,sank,tatum,applebe,mordern,nevertheless,spendier,becki,bull,chap,cmon,honkytonk,incas,waaai,port,samsung,smartphon,superhero,thoma,blah,emili,genius,kebab,nadia,nephew,numbingli,ugh,deeelissshhhhh,iiit,musttttttt,omgg,rustica,premad,rewarm,bonsai,cajan,clip,ehh,gnarli,jonathon,lodg,longboard,projector,ski,snowboard,clash,crispier,disciplin,dous,maker,sequenti,sweeter,xoxox,tastyyyyi,fuss,gate,doon,fox,ldv,varna,whine,cigarett,intention,loav,melissa,nonsmok,oreo,overr,pralin,sanitari,worldli,bo,butterscotch,gq,anjoli,molina,arpita,brow,idol,reinforc,stubborn,born,lana,edmond,louis,snoopi,cuke,dill,exemplari,florida,fresno,haa,heirloom,mama,mildli,miner,puf,relish,render,roe,spear,spendi,torchio,inhal,urself,yellow,chianti,marcellio,rome,sandi,albacor,dijon,gumbo,ponzu,solv,wedg,po,dominican,jamaica,rosi,citibank,intuit,perish,provis,schemat,smarter,ssid,unifi,belt,pullei,socal,error,carl,lebaneh,mezz,courtyard,croon,jardin,nelson,overhead,peek,sinatra,touristi,umbrella,buzz,buzzer,napalitano,hengrenad,gari,incid,evryth,deuc,sdx,weekdai,gondoli,fuddruck,ohw,zipp,broil,chuckl,film,indiffer,nonchal,uncar,wiseacr,jerri,duzar,adam,bulli,cheroke,contrari,deposit,global,institut,kindergarten,mandarin,montessori,preschool,tactic,transit,alexandra,glare,intermiss,shuffl,stabbi,wale,angelina,mariann,erica,antibiot,ibuprofen,walgreen,carbin,emploi,gravit,sizzl,sodium,harumi,yummmm,aycd,sin,tipsi,trend,aerob,sculpt,thrown,anis,compris,dab,dragonfli,hefti,mute,oooohhhhh,poignantli,prepackag,reminisc,smack,spi,task,trump,vietnam,shini,brittl,hollow,macaron,occass,jordan,realki,tabitha,noisi,prieci,rig,carli,gooood,melon,airstream,chessboard,jenga,pescetarian,pimp,sayin,smokefre,steroid,tac,tic,ban,gastonia,nj,roxi,mojo,simp,lesli,loi,needl,phobia,ramzan,undecid,atv,exceed,jj,outfitt,craw,accus,inappropri,porn,potter,prob,applewood,flagstaff,guatemalan,ballad,fake,argentin,argentina,bueno,rincon,embrac,flaunt,kanapki,kooki,meatless,bulgoigi,krispel,meadow,retina,owen,casanova,louie,sauci,weirdo,hanna,rite,porch,islandcrav,kona,malasada,premium,refreshingli,stalk,twitter,shelli,bruis,dodgebow,elit,favour,mariko,paintbal,saber,clone,diversifi,empress,ethiopian,taytu,tgifridai,wasteland,campu,tendenc,uncommon,dissect,formula,founder,granddaught,modu,operanda,textbook,tick,tightli,dull,inattent,roar,longest,mutant,ninjan,ooei,observatori,schooler,absenc,capper,housemad,midwest,pappi,youngster,evict,expir,assez,ceci,cepend,champignon,cher,dit,extravaganza,lent,mettr,oblige,piment,plutot,pouc,raison,sembl,suivant,tied,tomat,vert,vincent,belgian,delirium,offish,shortrib,spatzel,stew,tremen,busier,charleston,middai,nate,babaganoush,falaf,lebanon,sleev,chamoi,chamoyada,mangoneada,penut,tamarindo,tostada,oxtail,choreograph,nostalgia,obstruct,ohh,yea,yeaa,cicken,fingerl,stamped,donna,fryer,humil,kindest,remedi,icebal,tumbler,kalamata,verd,sara,accompagn,aim,allegr,amenag,apport,attrait,avait,avion,cela,choux,copain,delicieux,donc,ell,epic,gouteux,manqu,manquait,moi,nou,planifi,premier,proximit,retournerai,riz,satisfait,souper,vinaigr,debat,splinter,sriracha,tabbouleh,attic,helpful,hive,pest,rehears,scarborough,deffinelti,philanthrop,guidanc,ly,mighti,outa,shinni,weekendinvega,autozon,freon,matthew,oregon,sprinkler,carnivor,anddddd,bigg,faanncyyi,uhh,courtnei,tropic,darren,compactli,krystal,biljana,croqu,monsieur,junction,aroma,rhineston,fiend,fiesta,latino,sanctuari,sneak,nw,cannoli,fortnightli,giganto,upholsteri,chix,cobb,elat,verso,granit,seam,baffl,chowda,deterr,moonen,crank,diagnos,sensor,unbeknownst,victoria,georgina,virginia,allllwai,fooooood,amt,ant,coincident,commend,cuppi,cuyahoga,dear,dick,hhhmmm,largo,rightfulli,tuff,acut,chronic,drug,gentli,manipul,priceless,shoulder,spine,billi,lvac,shimano,brossard,ahwatuke,pennei,curiou,brunchin,rough,sunda,burb,lest,ragstock,burg,howler,southpoint,kookoo,washer,continent,articl,cox,teamwork,happili,awsom,badass,bahn,boom,daikon,fin,fino,intrigu,marvi,simon,sorghum,uncrowd,unders,unsweet,salvador,surviv,teresa,updo,unavail,costli,isol,marbl,rh,yorkdal,willing,coulda,exec,rebook,aquarium,stingrai,underwat,asiat,automat,brazenli,gado,kha,malaya,yike,gong,diag,engin,greulich,misfir,thx,zach,bankruptci,cumbersom,firm,bermuda,sisig,southeast,summar,ub,sciatic,mellow,katherin,sofia,theraphi,chatter,coukd,earthquak,estat,feelibg,niner,zin,conei,sooooooooo,pont,vecchio,arena,newton,showgirl,lindsei,homewood,kitchenett,meathead,neil,tgif,maureen,prayer,brad,bradlei,network,ain,coolin,dapper,exagger,lemm,bic,greesi,roommat,vegi,wac,baker,bellevu,cloch,rum,ti,supposedli,darlen,champaign,audio,cade,chaz,choo,dave,taylor,waitperson,seevic,chariti,cuz,kiddi,sir,tho,lang,lean,garrett,rider,scoot,msg,handshak,emporium,ur,vibrat,breaker,freewai,solitair,whatnot,multigrain,qualifi,trivia,awak,barrier,china,emphas,yoji,painter,childcar,elimin,muffl,dinh,lua,mccowan,xe,ginorm,hwy,unimpress,slab,astoundingli,popul,jaw,lotta,perfum,phantom,puck,riva,sneez,subtract,suffici,speaker,bandaid,newb,sten,fund,hotz,capres,disaronno,intrud,sundri,soze,asset,dalton,mod,reali,peppermil,flintston,goali,meander,percept,phof,shaq,twilight,zoltan,archer,camper,fisherman,hunter,rifleman,allot,bridg,bypass,colorado,mead,museum,plaqu,railroad,ramp,recount,requisit,buckey,youtub,bedsid,extract,op,lizard,podium,tonya,wink,edgar,hokei,territori,sirah,eege,potluck,impati,beyong,repip,shane,slam,damp,horsesho,lawn,leash,tenni,volleybal,clockwork,heidi,nduja,oregano,hmmm,morton,mozerella,topnotch,horchata,nomin,panda,carmin,fing,fifteen,muffler,nationwid,pete,truth,kite,lyric,slang,tso,freezer,kensington,galleri,swenson,hippi,trampolin,unamus,schlotzski,deeeelish,kink,parlor,daryl,variabl,lasvega,florin,poet,exquisit,flown,yoghurt,grungi,secondli,capicolla,dibella,famish,genoa,godfath,grinder,newport,ri,virtual,nitpick,fremont,inquiri,beuno,dishona,famiri,flashback,hotpot,wimpi,yuck,fireston,voicemail,bob,phew,jorden,safelit,unpleas,windshield,tomatico,bummer,quad,felecia,thigh,jinyi,refinanc,throughli,bridesmaid,christin,gown,hangov,recov,strategi,cantina,cascabel,promt,refri,tastei,torito,hashbrown,hazelnut,clairvoy,unsur,dumb,roland,looooov,helicopt,wacki,advent,bop,scour,deleg,icon,lend,cambron,jaguar,justin,rover,delai,prepe,madam,restauar,craftsmanship,banger,coli,outdid,pablano,hungov,burner,cornichon,flair,heartier,raclett,omgggg,brainer,cutlet,fungu,hokkaido,oppos,recognit,richmond,antiqu,bigot,dictat,duzan,elector,eletor,invalid,diego,rae,jessi,jewelleri,placement,stud,titanium,apron,jph,mismatch,sewn,battl,calcium,kidnei,parathyroid,pcp,shaba,stride,urolog,horizon,puerto,rico,chaqu,nouvel,objet,proprio,raisonn,rapport,sympa,trouv,trouvail,financi,finic,geniu,math,nutsi,upsiz,midweek,shio,moxi,ommph,uninspir,adamo,bravi,copi,doughi,fior,laval,napoletana,ricotta,roma,taglio,unnecessarili,carlton,dinett,finer,inclus,linen,orbitz,roundtrip,sofab,wireless,sizabl,disastr,gawd,guna,handsom,maddi,merri,necessari,obliter,precari,respectfulli,robbi,simultan,surplu,legwork,showtim,jacksonvil,pam,broker,buyer,loan,mortgag,undertak,antioxid,brewster,compos,crowfoot,drippi,elixir,frankenb,huck,inferno,mckenzi,rage,rasp,shockingli,sloppili,whistl,beancurd,napa,tendon,yuzu,db,glendal,hawk,mcdowel,rebel,fest,polynesian,silverton,aod,nuce,spinakopita,airwai,bluebird,chore,enorm,frittata,moreso,perus,cortez,cough,enforc,extraordinarili,gander,groupi,illustri,imperson,jameson,vivaci,azteca,gonzalez,restraunt,avon,ined,rubberi,caregiv,cerna,dementia,glick,pretent,pullman,rever,variet,ahogada,milanesa,bask,ziplock,adjac,anterior,avalon,awaken,brain,bvxwr,camaraderi,coax,corridor,fog,friendship,hvu,mangler,narrow,quilt,rattl,religi,rival,scorpion,stagger,tingl,valhalla,voltaic,www,walden,bloodthirst,puzzl,rogu,teller,gladiat,trash,facial,katia,bovarian,lvcc,nv,pahrump,sheryl,agenc,baggag,buss,escal,fewer,prepai,streamlin,chiharu,kipp,ballon,curv,gabbi,oink,scissor,shack,suri,adultmart,mcknight,subject,marrow,ancient,compound,cottag,dandelion,hawthorn,kiwi,literatur,naturopath,pharmaceut,tumer,pouter,wallabi,unattend,mercato,sienna,tagliatel,buzi,greenland,perm,radio,unknown,wig,stainless,diesel,oem,artifact,buri,christ,librari,charit,helmet,rode,useri,bluff,hilton,bane,download,glutton,recoveri,sh,therm,tribe,lens,mykita,nikon,optic,dew,mt,eggrol,underr,tournament,akin,cliniqu,cosmet,gargoyl,overbear,sephora,borderlin,hubster,iceberg,majig,mnc,salamand,simplest,thingi,tid,extraordinari,nam,yasss,balli,bucca,peppo,viet,civil,nocturn,simplic,superstar,awfulli,blatantli,cult,gritti,nitti,pathet,vicki,cheapest,newyork,insecticid,lurk,conisseur,dulc,lech,berkshir,gallo,monti,simmer,rueben,slushi,takara,vaga,emphat,overcharg,waiv,gabriella,darrelyn,galina,kiera,maia,pilat,eclect,zenith,ash,scarc,zoe,isl,neither,eggington,lightrail,captur,arguabl,comprehens,discoveri,fluff,frill,substanc,gabe,backup,bellaggio,gabi,recc,wrinkl,backdrop,butternut,gasp,simmon,finch,topoki,julieann,koda,togo,biefnet,flavorful,gould,picata,guilt,nap,quietest,cue,nit,uppiti,oth,fanciest,ice,slack,kit,peic,crabcak,shield,swap,anorh,ao,bussi,daiquiri,karaok,kpop,qbistro,linda,nutti,wayq,offend,tonic,hover,allegi,stockton,crazili,creeper,edm,gg,herrrrro,thirst,mucha,newspap,ozzi,rampart,hazard,pylon,bopper,footer,duo,angioma,capillari,electrolysi,duet,fontana,louder,pandora,panera,semisweet,variant,benni,scramb,complic,issa,kash,unpack,lamesa,langonisa,agav,excurs,misura,mmmmmm,nopal,occupi,overpric,paradiso,polenta,rubi,sec,versu,birria,suiza,arthriti,meniscu,mri,quan,bonn,genereus,nourritur,qualit,vieillot,pasteri,sfolgia,manchego,phyllo,santorini,alarm,extent,funner,heritag,imax,myriad,normandi,yellowston,fro,menchi,curat,pepe,wowza,yup,hee,rebuf,repaint,rubber,scuff,yearn,anticip,detract,russian,lindt,password,bjj,drama,relat,sketchi,bird,ellen,darndest,kettl,afteral,bonzai,flaw,purist,qa,seppuku,fetch,fido,insecur,dvr,sirena,dauben,speckl,commut,handlebar,tuneup,boycot,artisit,makeup,cardin,keisl,alan,auerbach,bach,baroqu,berthold,blindfold,brahm,broadwai,cellist,conflict,contest,cpo,daaz,domain,epcor,espression,exud,fame,giveawai,gordon,hagen,incept,invad,molto,nintendo,orchestra,pianist,rozsa,smat,smoother,symphoni,tchaikovski,thereof,vgl,chillypalm,cornbeef,pt,servalinc,clearview,souvlaki,afterthought,eta,fender,clipper,janin,natali,analyz,plunger,regul,burito,brazillian,caipirinha,carnival,eel,passaporto,phillip,sushisamba,barricad,outweigh,spectrum,caio,stole,um,bk,charburg,eau,evidenc,ohgodsodamngood,ripen,vine,delicioso,effffff,napoleon,oop,yummm,breyon,framboi,ipod,soliel,harrison,kent,mosdef,bobbett,lauri,anderson,attir,demi,clipboard,tacoma,talker,tweak,scone,alberca,alta,arquitectura,cuando,cuanto,cuidando,dentro,desd,detal,dio,diseno,es,esposo,expectativa,fuera,habitacion,hermoso,hospedarno,magnifico,masaj,paradigma,perfecto,por,recepcion,sorpresa,supero,tenia,todo,verdad,fuel,bouquet,boutonnier,chosen,minist,sheila,bulliet,bellgaio,flashi,globe,reel,viva,widespread,greeter,umm,cervic,fedoriw,neurologist,ongo,spinal,surgeon,candlelight,redeem,busiest,crestfallen,tantal,dealus,potman,jealousi,ak,eglinton,hmph,hybrid,maingat,pout,covers,keith,roam,tobi,yess,callawai,kiddo,linq,novic,topgolf,barlei,chrysler,mccarran,mileag,pacifica,tako,unagi,daydream,workplac,penthous,snuggl,huynh,outburst,revolut,sifford,tpc,yd,briefli,honour,nostril,quirk,react,swiftli,verbal,thicker,jone,nati,ncc,caketini,confetti,rodeo,enthusiasm,justeat,wakam,lockout,madhous,montana,outer,sedona,timeshar,muesli,papper,pkwy,sunflow,booz,jeremi,splashier,ss,wage,crown,carton,emma,uhm,coe,cortado,dauber,extol,gaze,ho,jobot,manufactur,perch,ponder,readili,scth,skylin,songbird,sup,idaho,jane,rhyme,mohito,begrudg,bingo,capabl,dreyer,ea,jami,cellphon,jc,sorta,yummmmi,bw,handmak,mung,szechuan,unexpectedli,ludicr,tzatziki,notori,otter,supper,ballroom,shimmer,woohoo,benn,beverli,frise,lewellyn,sharp,vermont,jitter,adjoin,opul,palac,play,utmost,peppermint,lavosh,pepsi,hammer,percent,postcard,thor,blob,chapter,coaster,crayon,dostoyevski,drape,dryer,eleven,fantas,firkin,horton,paychequ,portrait,pulpi,saucer,streetcar,tablecloth,chee,shoyu,franci,knive,revamp,underw,belmont,cheerlead,fizzi,hanger,pizzazz,coic,distict,emporia,emporio,retract,sandwhich,trello,shavon,dissapoint,domin,rona,gut,lava,polo,architectur,monet,photograpi,rediscov,brenda,script,douthern,kickstart,vanessa,bicycl,conch,eggi,elvira,joyc,loudli,maduro,overheard,dando,lollipop,misl,pei,pomm,weakest,ahmaz,checkout,sofa,spous,bangin,blackstreet,ot,elton,keychain,ahh,sting,ballentyn,circul,mustardi,packet,scotland,stripe,yasu,eddi,goodyear,reloc,tott,calib,canfit,drastic,freakin,gl,goer,goodlif,ketogen,kinesoloigist,motion,preach,regiment,stagnant,totum,triathlon,waist,brisk,hugest,kimlan,longan,moos,soya,taiwan,scorcho,orthodontist,protocol,stephen,burstdai,colin,galor,huntersvil,pinki,salior,sierra,voila,henri,mock,sn,bruce,coil,cylind,diagnosi,ignit,laptop,nich,randal,coco,occurr,frothi,juliett,ooz,rind,ctl,hue,downright,patterson,tara,timmi,regina,kennel,log,choru,mbp,dispatch,greenwai,interst,terrifi,lolll,fallen,rojo,groov,demetr,mesmer,famtast,dispos,kunafa,omda,tereza,dowtown,mingl,mocha,waitng,brigdon,motherfuck,coolest,littlest,swing,ziplin,bel,lumier,semain,tamise,tranquil,chatim,harder,hojicha,dissip,karen,patel,scatterbrain,shiitak,shabu,sleek,swipe,batman,comic,war,infinit,nigh,barri,dakak,fancifi,garbag,lite,shar,havent,aggress,cl,fumbl,mira,tundra,smashburg,understaf,convei,upward,buffer,concess,concours,detector,goodby,imho,unclutt,vertigo,tatjana,mass,moreov,outta,height,vongol,bloor,permut,beard,brutal,interrog,stingi,whilst,buc,cheif,karla,yeh,burratta,clubgoer,perfetto,sicken,latina,lorena,abus,unseen,absurd,dtw,abbi,mither,miscommunict,potteri,townhom,silo,abel,bryan,masada,tilkka,decal,perfectionist,turntabl,wineri,rise,bbt,alicia,blather,coffin,embellish,incom,pintrest,undivid,malli,smitten,aqua,mazapan,gaetano,chelada,guacom,snuck,wateri,clusterf,engrain,greas,psych,soil,topshop,yarmulka,tron,carofit,daylight,debt,paycheck,ajout,garanti,recommand,gordita,goa,prawn,octan,wih,drawer,liv,megan,rural,splendid,union,inconspicu,judgement,accord,chronolog,daaaai,diva,donatella,energet,grammi,rican,sparkli,swag,versac,ow,jeanett,spiffi,bacchan,unreason,enriqu,housekeep,hypoallergen,jetlag,adobo,brocollini,kamayan,lechon,purposefulli,tastebud,enzym,reappli,smelt,handicapp,illini,wind,ehhhhhhh,jyan,dismai,lawyer,playroom,chimchurri,unsuspect,wrench,electrik,kenni,archeri,contradict,artwork,hump,surveil,underground,basilico,classifi,pasqual,coriand,satiat,sawtooth,clumsi,botch,differenti,stabl,bikram,curs,disparag,martial,rope,unchalleng,vulgar,hogtown,mirchi,discreet,gawlei,mastectomi,reconstruct,scari,uplift,timeless,tlc,distast,parmasean,rollatini,portuges,wvrst,dens,eco,essec,gracefulli,lactos,virtu,conner,jazzi,planner,xtreme,ganach,gimm,lavaza,loop,loopi,marscapon,wari,hmm,jackpot,woukd,henna,neelu,disorgan,savasana,zumba,chant,closur,paler,placat,poolsid,revel,thump,diddi,ries,barren,horrif,mcc,takoyaki,troll,truthfulli,uniformli,fret,akron,navajo,dope,asst,fausto,vela,alec,cloak,invis,dreami,kraft,squish,paitan,tori,quickest,barbacoa,flauta,bryce,chada,hed,kham,moo,nest,nua,pla,tod,whan,fh,macau,conveyor,shorten,infar,outlook,amend,monteregi,petino,pamper,strengthen,avacado,lab,soba,elyxx,mixx,phil,qween,balloon,blowup,glitzi,heartach,inanim,lachapel,quintessenti,amelia,tailpip,canneri,bene,dupe,intoler,jeremiah,oj,swirl,overcrowded,amoung,ashburi,haight,hob,liber,nob,snobbiest,transplant,willo,macchiato,goddess,lagha,theeeee,gp,mornin,volcano,marilyn,stout,homestead,bluth,boe,businessman,disgruntl,hilar,orli,americana,certif,cheryl,cite,cotton,effervesc,hum,incarn,lambada,laundromat,levi,lint,mere,merit,realis,secretli,sharpi,slaughter,vinyl,yokel,duh,australian,shiraz,humber,ibrahim,marshal,ross,similarli,campechano,cheek,chicharon,earliest,pescado,sope,england,longo,wal,commonli,manoshet,schwarma,unassum,cojita,feroci,meld,taqueria,cancer,daunt,micro,perth,sprayer,concord,kimi,meienk,rotor,statu,hvac,afterglow,anecdot,backstag,cc,cochran,deed,fist,lager,loath,moan,occur,onstag,regalia,relationship,ringer,septemb,stiller,syllabl,tortois,yacht,excitedli,fieri,lunchtruck,race,undeni,tha,middleton,athlet,motorcycl,wiss,babymoon,miranda,pasteur,radom,suffic,tortur,virgin,accueilli,banquett,bete,bien,brasseri,bruyant,choisi,choix,efficac,essentiel,fait,gro,hotess,longu,masson,melang,partage,propos,quelqu,rapid,regim,rempli,representatif,robor,sourir,tard,terrass,acn,configur,legend,scotch,welllll,whiski,sarita,clt,nerd,tonki,belat,cuff,empathi,fought,labrum,physio,physiotherapi,kayle,micki,cheesei,dippin,dot,jinni,revit,yukon,ez,victor,bosco,boxgrov,swab,kalem,cantones,clai,elect,ong,breaki,culligan,ehhhh,overserv,bao,bei,chou,dong,xiao,poof,barrow,bleu,bugsi,career,clyde,floyd,gangsta,glow,luke,petti,shtick,cineplex,adject,blu,gingerbread,molli,pedest,psst,romeo,shih,tzu,diagnost,ninja,lemoncello,rudi,kimmi,microblad,ceo,fingerprint,flagship,hudson,reviv,suddenli,fourteen,thanksgiv,arghh,babysit,bahklava,haz,ohhemmge,shank,ligament,storm,rigor,unwind,cheep,cougar,degener,wii,neighborli,emo,emphasi,strangest,cosi,vault,krissi,elderflow,moc,donat,fundrais,hyster,innov,juggl,partnership,unicycl,dumond,laissez,muffaletta,pheonix,rouler,highmark,roller,simul,sportswork,dissatisfi,gaati,gai,stonkingli,sauga,dant,expresso,fennel,panacotta,alejandro,biggi,chase,amiabl,cliff,valentin,amelior,peuvent,plat,valeur,dug,exectut,katrina,meringu,popov,rillett,liberti,unabl,swiss,teppanyaki,brea,carmal,cheeri,recog,meticul,typo,anounc,coz,headset,satellit,callu,tahitian,rocatta,corso,wilson,bertha,molei,salut,anxieti,schnoodl,moco,decemb,rex,poetri,upcom,elizabeth,janic,cellar,memorabilia,nfl,raider,odin,collag,coverag,dlk,flinch,infant,kowsari,rebecca,boberri,corrod,corros,ford,wire,jalisco,flore,willim,defens,karat,thrive,cucumelon,byo,roman,skimpi,frisco,anyplac,bye,tabel,clarenc,hyde,merriment,ruth,skylar,speech,prioriti,unclog,repairman,ceaser,demonstr,janea,lush,mask,moistur,rsvped,personnifi,ramada,jan,lesser,bukowski,ernesto,fingertip,guevara,hdl,headquart,irreplac,kerouac,mackimmi,ofttim,relev,rumour,soulsuck,tangibl,temporarili,twelv,wikipedia,british,hurrai,barramudi,bona,calabasa,fide,palmeri,refin,waft,compens,damillo,fillo,canelo,guero,mui,parole,pato,picadillo,quentin,raja,rec,runni,sheriff,cruis,etobicok,barbel,dylan,funnest,geoff,gymnast,metcon,ramsai,rcr,snatch,weightlift,cpk,mecklenburg,binder,ceremoni,murphi,reliv,ughhh,wayyyyyyi,wedgewood,billiard,eatz,luncheon,chevo,filler,val,vista,flop,hiker,pave,slipperi,trailhead,treacher,grin,heap,pepperomi,deana,aref,armen,cardamon,chenj,crop,farsi,guilti,mast,moosir,pistachio,rosewat,yummmmm,deservedli,cosmopolitan,essex,stk,antic,beta,lockjaw,lumina,pachyderm,theatric,oat,loft,mochiko,oc,faithfulli,chevi,cruze,secretari,messina,burden,moulin,context,croquett,ronci,anastasia,gavin,faught,hessel,poboi,harouni,samuel,roadhous,cornstarch,gan,infect,jjajang,jjampong,myun,pipin,shan,sinu,soybean,steami,yook,cripsi,kai,fleet,balayag,durham,makeov,swedish,devast,grapejuic,homei,michigan,surreal,tier,gor,overwhelminf,lankan,sri,whim,saltin,sept,gila,horsemanship,diseas,loungei,pinterest,botan,kratom,afghani,amor,amour,growl,analysi,affin,handi,whirlpool,bloom,hellish,henchman,nurseri,boast,rooster,yeahhhhhh,bin,biz,chillin,cmc,cranni,egypt,germ,kidnap,mummi,nook,permiss,phob,raincoat,realist,splashi,spout,youngin,embassi,commemor,courag,curios,ei,jingl,manga,muster,nervous,selfi,timid,utac,equestrian,grandkid,sauv,tripadvisor,wellb,wrangler,clan,wu,disord,harmoni,notebook,overjoi,rambl,warmest,meltdown,avg,dbltree,dt,dungeon,newcom,canonsburg,pgh,delux,cuddl,energ,garpar,squirrel,tatiana,escort,lingo,rash,akward,furbabi,veterinari,yuki,minster,sermon,anomali,jake,quesadillia,refurbish,presum,roux,greener,pastur,ethic,lemongrass,goto,sealer,aforement,alcoa,aluminum,aural,brass,column,conductor,evok,facad,firepow,foyer,gawk,glitter,grandeur,lotu,majest,motif,soar,szell,waltz,okei,thaw,uneven,unwav,maki,roku,clover,eyelin,moon,atkin,exnai,millennium,vito,accomid,desit,freebe,disposit,dolli,franco,sealant,personiz,ziggi,instagramm,rolltat,cannolli,ditch,honeymoon,newlyw,reload,expedi,overus,wei,gamei,raviolli,americano,procrastin,willow,jefe,prospect,biodegrad,frick,reus,vender,seattl,lilli,discourag,dutch,befuddl,staffer,exfoli,appi,duggan,gord,onsit,whoohoo,asana,enchalada,ganoush,pleasantri,golfer,koffe,kolsch,loser,lin,bluephi,franklin,oyl,zoei,flan,gratuiti,hugee,amin,sriacha,giggl,instrument,jcu,astor,doo,ooohh,chalkboard,nix,joselynn,letter,nov,armi,dilworth,gospel,kenneth,nine,norman,ottoman,ralph,salvat,vera,wool,diavolo,dolci,stallion,sukiyaki,klapach,fetish,mesquit,skincar,os,murrai,injur,cabbi,hoorai,miniskirt,objectif,shitfac,slop,mckee,clog,marlin,rainei,overrid,behavior,fl,interfer,intervent,jokingli,suitcas,proven,aller,classiqu,decu,depui,enfanc,famil,fortement,jamai,joliett,mmmmmh,toujour,vai,leisur,letharg,peppercorn,subtli,wintertim,detox,cheung,yan,tiernei,alexi,cioppino,rooter,sambhar,frilli,bash,congrat,hvill,sociabl,hideawai,ashlyn,bookmark,cass,crout,provinc,risk,segment,spillag,manor,moviego,tango,ambrosia,applemead,macintosh,vocabulari,oshinko,loveeeee,vivaaaaaa,bulki,dinki,legg,maxi,oakei,sandal,sleeveless,sling,sweatsuit,moli,sweetest,homefri,lemoni,littlefish,peameal,walter,replet,csi,graveyard,organiz,probabali,sherbrook,snowdon,villa,excus,burch,nike,pocketbook,barbequ,robata,uncertain,empow,scooter,wheelchair,butterfing,ici,bandi,scof,waimanato,lacross,rightli,getta,amospher,eek,shortcom,bluegrass,dunda,drywal,gregori,reachabl,entic,palazo,royalti,sandel,sunk,proprietor,shea,fritto,misto,kahuku,kalua,saimin,cami,dara,seth,tanya,commentari,discombobul,disrupt,fifth,heinz,oct,outset,scoreboard,snafu,steeler,homag,premanti,throne,kielbasa,tata,wheelhous,kimber,rox,whichev,sonic,adt,jpg,onobnoxi,darker,nailb,redid,scrape,mccarthi,surgic,jusi,shumai,siomai,armrest,centerpoint,cushi,filmor,gusto,mucho,porkbelli,cosmic,basch,filaberto,tikki,br,mississuaga,niagara,reimburs,lou,frine,vegtarian,chippewa,frye,mystiqu,someplac,assi,ba,beaubien,confort,giga,merci,plaisir,quell,restent,sieg,vraie,cudo,onz,pepperi,sauag,flatb,pr,janitor,reset,accuraci,blister,grip,miser,yourselv,campbel,ghetto,goddamn,rollin,rot,skippi,manhattan,dania,kate,hella,consciou,hog,sophi,unsettl,estiatorio,ingyin,moniqu,donni,tackett,rollup,stope,margaritavil,breakdown,snoot,failur,album,bayou,californ,celeri,oodl,ballpark,bleak,entrancewai,parkdal,dq,electrolyt,underdog,fantasi,durin,mickei,mooch,chotchki,worldi,grillmast,shiz,gfi,troubleshoot,homeless,ahold,agil,evalu,profici,regain,rn,scioliosi,scoliosi,upright,loca,sandia,bast,eatinglv,foodblog,ogden,salesmen,banku,fufu,carnag,gulp,sansei,toro,touchi,gumbal,playstat,reminiss,xbox,condition,neutrogena,yoyo,middlefield,mj,bademjan,kabab,kashk,torsh,walnutti,grimaldi,disclos,arr,blank,booo,castl,cavern,encanto,fireman,firemen,freshi,hoo,labrynth,lovesit,origion,terriyaki,whoo,antica,raul,pimiento,thediou,cam,bogglingli,citizenship,remnant,wowowowowowow,quac,ord,wah,chocolet,kreme,krispi,arnoldo,document,embroid,vest,hencho,olson,frenzi,shortcut,ds,kore,sean,ensu,erika,mamechka,punki,vat,citylight,leftist,maydai,progres,foundat,lancom,valeri,yangtz,ob,partridg,blunch,highbal,porkchop,thyme,unthink,rancid,freshen,pen,planetarium,amle,bullock,sandra,gow,suei,bankrupt,winkl,homebodi,squeaki,atrium,wf,nar,penang,som,panic,rena,rightman,effortlessli,infecti,maybellin,khao,norther,osmosi,revers,spigot,cupp,jp,reccomend,somesort,tasteful,acupunctur,schipperk,ecolog,halloween,louievil,patina,rummag,slugger,thirti,tivoli,victori,codi,countryman,merc,naomi,likeabl,cebuchon,arch,usefulli,buddyyi,franki,heyyyyyi,legal,piero,sex,vicario,voyeur,xxx,herbi,baconahol,composit,earmuff,moe,choke,keypad,branzano,antipasto,knockout,lookalik,solstic,willei,accordion,aaah,blondi,pavlova,fricasse,terra,dreadfulli,parrillada,bounci,jellyfish,dib,expedit,mustang,predominantli,shad,transpar,armadillo,haylei,nugget,carrier,matern,motherhood,madisontap,takeov,bellman,snf,doesnt,jolli,julian,lengyel,lineback,rancher,rankin,missaussaga,straighten,conscienti,pickei,trueli,victim,violat,bearabl,nevil,role,sasha,harkin,chorro,pao,kiddin,lan,nhu,pate,pupusa,rubberband,bookman,blogger,photogen,graciella,izzi,feb,dreari,overcast,lamin,thoughtfulli,ty,blare,uofa,dandi,liken,tingli,psychiatrist,suba,choolah,cyclist,deterg,dizzi,epsom,maxim,bikini,australia,vegemit,oblig,rehab,serendipit,copiou,grai,religion,tavern,worship,blunt,limb,aunti,ohana,saba,teri,okinawa,orion,beso,ramsei,tenderest,bracelet,contempl,hacienda,southwestern,resturaunt,geek,madis,incorrect,prescrib,zedek,congest,omnivor,crouch,chess,briell,thermag,jacquelyn,analog,sunshin,caterpillar,shania,cred,herd,massamam,woulnd,ambul,chihuahua,disput,fabrez,magnet,motel,slept,usher,worm,yield,lwave,bogu,kbb,skeevi,adul,awestruck,euphor,optim,panko,regal,solitari,sublim,transcend,unabash,verg,climat,encas,namast,puma,radiat,toasti,trauma,vastli,docker,goodwil,stigma,unopen,bia,collar,effin,flowin,lovin,popper,yegger,zuma,pounc,keandra,verizon,amazing,chia,lunasagna,expier,api,arsen,burgh,impromptu,smallish,allergist,maner,recomend,chanel,luminosa,reiki,tami,campustown,foodag,hideout,homemmad,inhabit,professor,punker,soulless,speakeasi,terrifyingli,unitarian,chu,smore,bail,raccoon,falootin,usa,copperpoint,simonm,colder,brewtopia,caffien,edgier,graphic,kahlua,sugari,buff,chapel,ooh,tonit,jumpin,playin,sevic,physician,tottori,treatabl,stow,voltron,keaton,heath,logo,melodi,nonfat,arancini,articul,amput,neuter,stickland,beecher,charl,franc,icewin,lcbo,magnotta,nuesk,palacio,upper,armori,bot,carei,dom,freebi,ihl,jumbotron,mack,mariah,monument,purs,ralli,vgk,winder,ainsi,alcool,amateur,apr,argent,bœuf,chacun,charcuteri,connaiss,connaissez,conseil,cran,cœur,datt,decontracte,decouvrir,desirez,deux,deuxiem,egal,enchantera,enfin,epaul,espagn,espagnol,etag,factur,fromag,hesitez,hyper,incroy,indeci,leur,musiqu,nombr,nombreus,odeur,ouvert,palourd,pensez,peut,prive,rendr,reservez,restant,retrouv,samedi,saveur,serez,serveur,tou,traditionnel,venant,vendredi,vieux,vill,vin,vo,voulez,discrep,comradeship,legion,gallon,seasid,abound,crossov,crustacean,launch,mug,popup,rlf,sinist,tromba,vqa,yooo,jonathan,karl,honda,hondatron,bead,crimp,jeweleri,shwan,rebuilt,transmiss,bremner,delta,smelli,soco,lookin,strict,tropicana,birdcag,azuki,bettah,braddah,condens,disnei,dole,ghirardelli,hawai,hing,intak,melona,pidgin,pog,temporari,cle,eri,hd,zia,brusetta,procuitto,payss,sherman,somtim,coronari,urn,weiner,wiener,auger,bent,snowthrow,unbent,whopper,gleam,laksa,whimsic,amphitheatr,molson,travelzoo,edward,headach,misgiv,herman,peewe,randyland,danier,morri,soju,campero,kfc,pl,popey,alaska,geneva,cabernet,fussili,sauvignon,blake,carson,changer,twelvepgh,avondal,ink,davenport,welleslei,doomi,wayyyi,obscur,wherebi,bibimbap,gochujang,hoorah,yippe,amass,audi,ballin,classless,cumulu,deet,disregard,frog,genitalia,hampshir,heathen,millionair,precipit,saniti,senor,supporti,witti,yolo,shepherd,julianna,sa,buta,chizu,futo,equiti,heloc,notari,summit,lumpia,blackhawk,cub,allison,enabl,nova,pinata,creamin,defini,histor,quivei,uw,gees,forno,scampi,rag,recwnt,tbe,anyhoo,biz_photo,blgmow,butterfli,forrest,gump,hxhtwf,jrmxfc,ldr,net,nqv,nsqnymg,pss,uwzka,ww,xqpekewfaw,yada,ykapn,alpha,annalicia,camden,sotelo,grunt,shopp,windi,brueshetta,estrellon,paella,polpo,kangaroo,recur,wiggl,foremost,tandoor,frybread,tourism,viateur,andr,andrea,westlak,criss,jillian,reshap,unruli,forearm,campesino,chilequil,demis,saliv,dehydr,massagework,rehabilit,medina,laurier,offenc,gourmand,parisian,taker,anaheim,bly,cambodian,cruller,dec,dub,ellkb,f_w,fcl,fdv_nfoyt,gfzrucdppjbvcd,gsy,mynyd,nik,rambo,refuge,sdpnbq,seang,sothi,userid,vegasinc,w_a,weforv,xsikhoffz,ywq,hardcor,calabacita,canteen,sheehi,papago,habenero,unleaven,urin,laughter,rous,pertain,ture,randolph,cinci,nonexist,sympath,agh,jess,experiment,atlant,yao,medal,accross,choolaah,mintu,cabag,loov,redicul,centurion,prescott,brighten,nico,pepita,fesenjaan,gheysi,ghormeh,grocer,hygien,jealous,plum,qeymeh,sabzi,doogi,leed,hookup,trampl,unforgett,cityscap,palomar,yip,silhouett,soondi,bltdca,niwa,pecorino,shroom,oversel,asleep,indiana,amman,bretagn,hurrah,manh,pronounc,yah,omikas,frizz,prizz,proverbi,tpclv,ws,gamer,sega,starwar,chirashi,mancuso,equival,frappuccino,straw,symbol,vicin,flyer,smyli,reorgan,amber,khalifa,wiz,shu,wonron,bid,pricelin,seein,victorian,soho,tirimisu,shawl,esthetician,flesher,jones,kristoph,overload,headboard,invas,berg,kahr,volkswagen,vw,alert,chestnut,conjunct,durian,feng,insta,ordinarili,reduc,undercurr,breach,cord,danger,safest,scarff,umbil,womb,nectar,overeasi,trisha,autoshop,decant,gio,snobbi,supplement,farewel,burlington,dank,dearth,passerel,trot,nutshel,plateau,simit,eoxk_,fz,hrid,hvsnx,ismzo,izccw,jgt,kla,kw,mle,mxhxtqukmr,nlkssekc,nq,pmoimk,pw,qe,sbw,srku,underrip,unimpos,upvp_,vxlhfryzzzj,whqii,ywaucw,zfzesz,zgwvksvopdbyfzg,geico,caledonian,carniv,displeasur,mush,uk,conceiv,goign,trippi,dixon,jon,membran,trophi,allez,aujourd,bemol,bourratif,chocolat,croustil,desssu,dessu,enlev,faibl,hasard,hui,laisse,limonad,maison,manœuvr,meme,parfait,parl,plastiqu,prochain,serait,tass,tellement,tenter,tomber,tourn,voudrai,vu,cliqu,overlai,slideshow,usb,dammit,toiletri,lefti,righti,lavraki,carryout,friggen,fuzzi,faci,superl,duplo,glu,kangamoo,shiatsu,unsupervis,yap,elderberri,aluminium,sonoran,explod,shiro,tib,freestyl,jukebox,classier,coletto,scottdal,sheena,charger,octupu,brock,gerri,picker,luna,arboretum,endow,saudi,josu,awn,theeee,metropark,mozzarela,piadina,thisiscl,improb,mezzo,sizeabl,soundtrack,tetto,warhol,westin,padthai,consign,hardtim,downgrad,rhode,bre,disbelief,symptom,omit,assam,kacang,comeback,gu,inni,dynasti,turnip,pullout,rialto,rollout,belabor,contus,distress,heartstr,jeopard,oxygen,panick,prai,saddest,samaritan,spook,miguel,bentcrayon,catalog,holland,kwame,wanton,freshii,feld,dnx,entitl,kenwood,redneck,unfavor,dii,stephano,tickl,silk,vase,merced,schumach,grumbl,indi,sabastian,stinkwe,nonstop,casserol,regretfulli,ab,freshco,galleria,scowl,sporad,worout,tallboi,greenberg,brewhous,generos,lame,sweetiest,bjorn,nascar,pirat,tounian,wooohooo,lcd,aleks,ljiljana,albuquerqu,kalei,strait,cameron,kara,glanc,acai,inevit,juiceri,ornament,salud,mandoo,lap,tablesid,flew,pilot,stewardess,grubhub,leeri,apteka,kartofl,okocim,kettlebel,mistaken,sled,trx,havarti,holder,marmalad,miniatur,abstract,alberta,edmonton,km,lawfulli,licenc,livabl,obei,ottawa,sault,secondari,ste,valid,etern,shimeji,shitak,fever,svoboda,spunki,heighten,omgood,tetri,uhhh,emotion,fondli,snaggl,philadelphia,cumin,oakvil,uniform,flobe,helper,latex,softer,talalai,unglu,sheik,cristina,topper,yamilet,murca,oversea,peasant,sha,hatchback,sedan,somedai,zenithautolv,growler,ibus,noteworthi,spooki,woot,toston,cowtown,ledg,phxam,pyramid,expectimg,emiliano,eon,palapa,cemita,nobel,habla,utilitarian,zesti,zingi,avant,celui,comm,emmen,entr,grosseur,impressionn,morceaux,passer,pein,poisson,rend,roug,seul,simplement,soyez,specialit,surement,tableau,thon,tobico,trouveront,valent,vino,jalfrezi,restrict,ach,commenc,communist,feen,lego,pole,tylenol,telli,aficionado,amidst,brethren,deadli,denot,dum,gullet,inexperi,nai,sheeeettttttt,waa,fervor,monarch,andrew,gentil,healer,hypnotherapi,ciruq,crappiest,definetli,happ,inmediatli,meyer,mufasa,nowayd,priceit,summerg,thenhat,christoph,hmmmmm,landmark,lodi,xma,musubi,stimuli,buen,comida,excelent,hispana,paisano,rapido,recomiendo,servicio,carter,manicotti,geesh,hubert,horseback,neighbohood,sbux,abiltii,acadami,cg,debri,degrad,demp,diodato,diver,durda,flander,identif,introvert,medder,padi,resuc,roatan,scuba,tania,wetsuit,classroom,bojangl,redefin,besti,stolen,labour,jill,lynzi,meinek,tranni,expeci,hansen,profess,unprofession,pekarna,cavatelli,larva,sonni,mate,holli,reconnect,swam,whisper,plug,akila,jackfruit,vei,outlandish,rake,scam,usabl,hazel,malibu,mansion,mcadam,romanian,silviya,bowel,canter,cleavag,fiction,genor,hallelujah,mascara,sensual,synchron,nitpicki,ohhh,unhealthi,director,faint,ghee,kulfi,makhani,marigold,mehic,mirn,papadum,saag,tastier,basmati,chana,daren,echo,gizmo,jap,trivago,screamin,engrav,osborn,prong,resiz,watchmak,destnat,classif,cleverli,crimin,deliber,floweri,froe,grasp,lofti,manila,rust,splendor,statement,tailgat,rumbl,timet,divei,euclid,merg,scantron,spaggetio,click,genet,joan,miradri,axel,exhaust,hauler,psi,slippag,snowflak,torqu,wobbl,collaps,fuse,portabl,retrospect,gsm,jovi,murdoch,cappucino,catfight,cufflink,ego,hypocrit,illus,lapel,measli,philosophi,seventi,theyll,whore,youll,fuk,foodgasm,pice,interven,proactiv,satisfactorili,satisifi,thereaft,glace,proch,jae,almandin,dollop,ratatouil,walkin,crescendo,gradual,groat,huuuug,katchori,legum,lilva,punjab,sunlight,toddi,turmer,unidentifi,germaphob,parachut,puppet,sniffl,beaudevin,dispensari,holbrook,forest,lukewarm,amstaff,condom,egyptian,erot,germain,klutzili,mistakingli,nameless,naughti,pane,rockwood,matine,superstit,midnit,dazzlingli,camaron,diabla,goon,cutter,fuck,charcutteri,humbolt,pars,proscuitto,provolon,rectangl,cleeeeeeeeeean,harken,lactaid,mississaugan,scoff,slum,tenner,yorker,devin,mier,ahm,extremelli,virus,caldo,guadalupana,menudo,oak,swoon,disabl,usuabl,vein,tacotuesdai,shadow,sysco,cutoff,canva,guesswork,sketch,dfinner,flourless,pucker,reverber,ensemada,jollibe,mamon,glucos,judi,vital,divorc,jaipur,jo,potion,puls,arac,ruben,maz,ronald,tastefulli,excalibur,harra,myvega,odor,satisufi,stench,unsaf,puni,checkpoint,ditto,woolli,bling,discontinu,glorifi,minimalist,overstock,twinkl,unconvent,memeb,postrio,wonki,printout,jinx,leeann,appris,olmstead,wyant,metric,seldom,tit,syrupi,rwb,architect,carla,celina,grader,picant,quinta,redol,sleeper,tabletop,evil,hound,protest,respectivli,hahha,actor,basiclali,hitchhik,linguinewith,chiller,nutellatt,rechauff,kitschi,reunion,grandchildren,lengthi,programm,filth,sheesha,homesick,bhatura,chola,desi,strive,bullhead,stroke,rasta,loyalist,peet,prego,sd,wean,tbh,elm,foodish,stucco,usd,arshai,arduou,inadequ,schlep,theto,arshanna,mishap,multicultur,cheeto,boiler,rm,buse,kingman,drea,shelbi,canist,slushe,taro,eggslut,nastiest,basalm,captiv,cedar,chimnei,clicker,everest,februari,formul,ovenston,perogi,pueblo,shinaki,tum,unmelt,yaki,marian,uncov,lizet,tribal,cydnei,longtim,mercado,monogram,oxford,babaghanoush,cleo,lebneh,zaatar,crudo,multi,unrip,contemptu,mph,goug,mcgill,alyssa,editori,rtr,whitnei,columbia,barrag,willi,moolean,guru,kenput,dapel,humid,kesha,rerun,bombero,coup,foreign,idiosyncraci,ihop,moral,panino,pluck,rebut,reeeeealli,sacramento,endamam,brodo,fieramosca,hyatt,ado,homebuy,pointer,taewkwondo,firepit,hindranc,soundproof,jorg,quijada,atwood,matilda,calabrian,soppresata,tackl,anti,marina,acritano,fusaro,rucola,accentu,chashu,gumi,shin,freedom,heed,creperi,bruster,tempeh,becherovka,boczniaki,fernet,kapusta,klushi,kluski,marissa,slaski,smallman,capriotti,baldwin,barmaci,cliental,hipper,diew,eiswein,miang,pou,sme,bichon,goldendoodl,tawni,beachfront,surfboard,robot,stephani,belatedli,bonus,dunk,evangelist,gender,heartili,waiterati,begger,shoo,wouldnt,kitfo,merkato,rougher,mandela,glock,warren,sezwhuan,newa,shisito,quanit,ting,bettor,westgat,cope,aquamarin,asham,bedazzl,cellophan,circa,demon,disco,fuchsia,gridlock,kitsch,ladyhawk,lampshad,madonna,nudi,quinceanera,reced,scheme,speck,sunburn,velour,squirt,espr,reader,wouldv,chaser,ebiyaki,forbidden,funkler,interv,marlboro,reseat,subtitl,unstopp,vana,kau,arroz,marisco,bangkok,descent,cobi,stoneg,predat,python,kidz,ilash,nela,benz,loaner,anthem,chromoli,kart,weld,welder,liqueur,ina,jidori,oddest,redirect,erik,bacio,illeg,tapenad,pedicurist,snoh,compact,crate,kierland,kor,mastro,caraf,mainland,aawl,aboutu,aspx,azfacc,dobbin,furthermor,gov,legisl,maricopa,mayhem,mcacc,microchip,mywebsitebuild,org,rabi,uno,vaccin,colombian,siam,birdsong,claw,resuppli,unrel,fb,fundido,preset,spider,lovraki,thickest,bitelv,fangirl,matchbox,mb,sheeran,throng,sorb,spong,haggi,firearm,ica,breathabl,hayden,metropolitan,yogurtland,sobresalient,armpit,dd,quess,swore,josselyn,sharma,operandi,regent,bacteri,basin,gregari,intermedi,moksha,slipper,firebal,dana,ascot,hail,hollidai,hoof,jwb,odyssei,sidebar,hennessi,flu,cv,blasti,ironman,misplac,pssh,scram,sixti,sporti,ru,wannab,angrili,belittl,elementari,duper,looong,dissapount,feiend,pram,boo,bradi,withought,wud,aft,cataract,decison,len,varianc,vist,wellish,debilit,kwaitkowski,kwiatkowski,swirli,terranc,hampton,connesieur,fascin,goji,lawrenc,merchant,teopia,tin,vancouv,ccm,frappucino,chemotherapi,almondin,overkil,intellig,gr,resent,invari,sol,sopa,thicken,vaughan,botox,cockteil,definitli,myer,gradi,hardwood,handrol,sterl,opu,udon,equinox,jacabo,attornei,merlot,palet,pew,risl,nyni,enchilado,asra,castor,farida,fuller,dachshund,picasso,orlando,vow,onnia,corrupt,dumpster,mobster,puppymil,claustrophob,hamm,squint,giraff,leap,mount,shenanigan,skeep,slicer,styrofoam,coloni,tangl,ravisoup,billion,bib,jicama,virmicelli,vivian,capastrami,cu,fa,hwponbzzymrd,mk,nhvv,oi,oig,rocco,rr,rvqgyq,ue,uind,uzdovugtunaugi,vwtaob,wdvyqtw,samantha,lumberjack,nicolett,amazebal,tijuana,attribut,cubano,influx,sudden,fedora,pike,cincinnati,shuffleboard,capsul,heartedli,champion,pizoki,disconcert,cove,goodman,dhingra,neel,cherish,reverend,greco,tcby,teeter,monic,chiffon,hem,grouper,looooveeeeeee,prosecco,parallax,conor,bandwagon,grave,hippo,humanli,prerequisit,restrain,trainwreck,dexon,seldomli,mentana,discharg,hematoma,vv,doug,inexperienc,domino,fetalici,mediteranean,spinich,cognac,gastiqu,grgich,jouet,perrier,quintessa,bearnais,bordelais,iffi,terzetto,viniagrett,huuuuug,underestim,mm,nightmar,wolfdal,partwai,envis,jowl,offset,choc,tushi,denim,selveg,ristretto,fatten,gremolata,radicchio,wor,steamer,thani,borna,rami,todorov,prone,caff,sickeningli,summertim,freshner,suv,petiquett,courtoi,degust,modal,oftentim,teka,af,emm,gee,woah,mose,regenc,bouff,jambon,notr,reviendrai,flirti,hhmmm,inglot,pigment,lakeshor,defend,wrangl,chico,clark,cradl,dreamili,labl,multilingu,recognis,steward,carcass,hoarder,pacman,patronag,recogniz,stencil,unmark,markvil,bvgezghyfo,houston,jewleri,stan,foursquar,georgeann,newcastl,tumbl,vig,unnatur,usag,bliss,transcendent,voyag,wright,vanc,crespel,scotia,silki,clearer,simplifi,mida,barstaff,beggar,carlson,catarac,dmt,gartner,gogo,grime,griz,segredo,toma,afro,comb,flattop,getcho,lena,manli,mulletu,teas,tula,chimi,churri,densiti,mammographi,stefani,ambiacnc,feat,adrenalin,battlefield,recoil,neill,glutin,damon,surfer,ugg,ellipt,kaityswai,mimico,chapati,itcontain,nepal,pakistan,ayran,digest,caram,crampt,whet,chengdu,mapo,quir,auhmaz,contin,concha,purisima,sebastian,bronx,stripteas,audiolog,sym,boister,shire,induc,envelop,aesthetician,glo,medspa,grandaught,realti,abba,dizi,ghusht,joojeh,koob,musir,shater,aolli,chatchki,wazoo,og,deciph,manoli,mcnulti,findlai,maytag,simplist,ogl,pilgrim,hanmoto,koren,loosei,seoul,snackier,weeknight,calimari,maryland,tediou,dillard,sanuk,hounder,lavash,syrinki,elli,halupki,halushki,keno,kornegai,parallel,superbook,wager,candyc,chui,expeeienc,kiara,pelo,senza,thermalo,undress,abraham,tosh,wearhous,chasu,kawali,jacob,pearson,moldi,smokin,compit,capp,amaaaaz,bulldog,arabiatta,opa,difficulti,acumen,masaman,philip,leaver,clutch,sal,triumph,abras,ditsi,egad,inc,terror,trancelik,anguish,feddi,thermostat,warrenti,schmitt,flipper,liberac,propel,dem,grandest,ii,iii,vi,yee,ra,cameo,debussi,detour,lune,useless,looooooooong,ziti,ageless,bothersom,glute,suuper,zomggggg,caucasian,cring,sauac,yaw,gangham,laidback,mosaic,taberna,cataplana,byron,jk,saltimbocca,libbi,skye,avai,controversi,quart,zealand,deconstruct,guiness,hmmmm,jut,lat,morel,seper,sud,walu,blade,rollerblad,companionship,coon,neve,obedi,quarrel,maniac,scenic,utah,cassava,cocina,filipina,kaldereta,karei,wholli,nourish,oneself,pdq,kalu,lagoon,seemlessli,bottomlin,cleanest,reagan,verbatum,effemin,parrot,possess,prowess,uncanni,bougi,friggin,swill,fluri,tonn,bugger,cockroach,darin,detest,kinjo,sockey,camelback,disturb,capicola,gianna,haddock,evaaa,yuca,reflexolog,craziest,suppl,italia,goben,optimist,quinn,spiel,greeneri,bain,cricket,repost,termit,crewmen,hrc,lingdonberri,temptat,textil,feisti,olivo,diagon,horizont,muck,burnin,ballet,llc,fettuccini,arent,cromewel,dancefloor,exclud,gabriel,selena,cookwar,bigmouth,shrub,cien,bulgolgi,err,defint,phelp,sucki,tutori,starr,handcraft,hooooo,whooo,cyclosporin,professioan,boxi,emblazon,tress,sherbondi,jaim,brighter,lengua,everth,ofnth,jacobson,sherri,exc,hernandez,lingeri,toxic,preslei,ipic,boar,cop,ju,sheldon,birdhous,hardi,powerhous,trollei,titti,odditi,rocknoodl,revis,bowlmor,stocker,cobler,yummmmmmmmmi,blogto,godli,ohemge,sago,kristapson,metabol,omega,intimaci,yucki,amazingand,illiniwek,jd,elk,simpler,bonterra,theri,bolognas,enchant,redesign,suzi,acorn,blowtorch,brine,docket,drumett,ebi,flesh,kewpi,mcnugget,pry,releas,salin,scallion,shrimpi,silken,spectacularli,unctuou,limitless,detriment,freakinggg,krazi,gucci,jacquelin,prada,shopaholicli,vespucci,vogu,butttt,impact,jana,mlk,wny,affabl,cenpho,tuscan,leech,mu,astound,circu,narr,marcela,closebi,coffeehous,crayola,curdl,electro,leasur,stripmal,thesi,umber,upperclassmen,eli,arctic,couscou,unquestion,jumpi,jamba,understaff,von,hibatchi,smuttynos,dillon,finagl,guyfriend,loveeee,mainstream,nghtmre,rl,compuls,stuffer,capreezi,hummaz,hummazzzingg,fleek,mingi,sola,raman,garbanzo,cagl,cannon,dor,chutnei,restauran,plasma,eggspect,basha,frito,poppi,smoothest,softest,szechwan,chaleureux,bizarr,everdai,godsend,tenaya,lydia,bac,stromboli,buzzkil,crook,gs,appal,furthest,harass,meredith,squeal,stanc,unboth,unwelcom,whiten,barleywin,brewer,dipa,heartiest,ironclad,rusulka,smug,smdh,bside,conduct,perspect,auditorium,dysfunct,reentri,sportbook,superbowl,vigor,wristband,toenail,freind,handheld,sac,discrimin,aliant,dinosaur,forefront,vouch,lotteri,damm,elna,vac,continuo,deem,forehead,gtfoh,alfonso,legibl,curt,minneapoli,incap,slightest,unqualifi,gamestop,illimin,psvr,crappier,creepi,frontag,seedier,customari,payless,couldb,emel,iwent,supervisor,wilei,mortifi,canton,courier,kowloon,montblanc,novak,unapologet,unbend,vonya,badlash,bloodshot,clump,glue,cartilag,deni,okaaaaai,glitchi,roberta,softwar,pawn,crummi,joann,margerita,utterli,yank,unsatisfactori,aloudli,livelihood,ughhhhh,untold,clariti,fairlawn,hopkin,pharmacut,reed,eczema,drinkabl,downhil,fals,furiou,greenbeen,amnesia,appeas,brusk,cathart,chastis,confront,godforsaken,incredul,inquisit,mutter,oversight,robberi,kitch,rug,fabio,jeeeez,tator,artifici,impolit,frickin,augment,disproport,juvederm,md,swollen,broadcast,cnn,undon,cleari,preheat,lifescap,xrai,biet,dac,sura,insect,lousi,skecher,arrowhead,strand,vtec,feder,misunderstood,repai,slogan,sundress,audac,climber,dowd,honk,aptli,deplor,diddlei,enthral,reconfirm,rehash,salli,battist,dupre,glacial,tightwad,asc,fraud,conscienc,evan,bachann,christaki,deviou,hor,oeuvr,outlin,unscrupul,nuke,anal,armatur,bahahaha,carelessli,coolant,dangl,diod,lkq,nippl,pcm,peddl,unskil,eras,reconsid,ripoff,rung,overse,overseason,dale,kieffer,yamaha,curb,dsl,router,elsehwer,atroci,bartendress,bitchi,cornflak,kobi,mecktoberfest,mmmkayi,stink,afloat,await,bundt,caustic,enemi,principl,promin,veini,fax,inaccur,overbil,dismal,glop,jail,mumbl,perfunctorili,unengag,bentli,dierk,sellout,withth,silver,amic,gummi,smoosh,unfailingli,trashi,reataur,concur,pungent,shown,unreli,displeas,ophthalmologist,reprocess,vsp,airbrush,diamet,pagoda,oph,kiku,maguro,nakama,tokyo,grumpi,slower,pointless,foami,rancidli,bastard,elitist,negat,purplish,garner,thankyou,stringi,aight,forreal,hittin,homi,hummingbird,okaaaai,packhous,welp,oddli,cellulit,dayb,fledg,murki,nuisanc,std,diarrhea,emt,vomit,biloxi,foodwis,hunch,sportsman,kirkland,mccain,ous,passabl,charlen,microderm,neo,mexicana,bribe,ineffici,oblivi,pandemonium,rearrang,lg,lure,conparison,ramon,unsanitari,birth,estrogen,milligram,miscarriag,precaut,preti,progesteron,smh,torr,superced,spadina,represent,holler,movingapt,shipment,threat,whereabout,wyom,gnat,planter,seedl,alllll,carrent,prejudic,prepaid,sleezi,tch,wench,preview,caddi,tabasco,creameri,calibr,gasolin,thiev,rotten,stenchi,lederman,seltzer,tbi,dissaipont,saggi,ought,stodgi,crocker,pilsburri,celin,eyeglass,fsa,gibsonia,mccaulei,oakland,wexford,omgosh,bbb,galaxi,procur,carbohydr,kanji,noodlecat,propan,bullshit,surcharg,cad,soymilk,unlock,garment,astronom,clumpi,horrid,shredder,speghetti,stupidli,postmat,precook,devein,bricco,presid,prestig,detach,improperli,tore,nught,indigest,borag,floater,parmatown,quo,rectifi,onioni,sopressata,untoast,brushetta,forti,greed,arbi,comprehend,elmer,haja,laughabl,longhitano,rootbeer,turd,aurora,overpai,curtesi,kamado,distint,geno,goo,manwich,vento,disneyland,sightli,sunblock,islington,stinki,chatelli,danish,gourmandin,oakmont,thief,constanc,douchiest,dslr,lifeguard,paramed,puke,stripper,unimagin,ned,vehichl,worthless,eggslutti,bert,erni,unfriendli,anatomi,anger,anxious,defect,dermal,gore,murder,ordeal,syndrom,ultrasound,begrudgingli,govern,sim,azmotorsport,bilt,deeper,raffl,unfair,ig,consecut,diffus,disinform,fraudul,quagmir,uneth,raab,animos,hostil,mvp,gaijin,abid,naiv,blunder,bracket,headlight,rav,reckless,snowi,tighten,warrante,probat,wic,chingado,puta,implant,cs,curbsid,bdub,bellydanc,gimmick,inaud,portal,sword,wield,disclaim,fring,swept,wavi,firetruck,inept,meth,suscept,praffin,thy,egregi,cappacino,plagu,bureau,irrat,liar,revert,roulett,bejezu,juicer,uninterest,hotwir,oiliest,revoltingli,staffmemb,yinzer,alloc,festool,opper,sander,uneduc,intercom,beahvior,cranki,disorient,frenet,goblin,hobbit,increasingli,outright,ram,jcrew,madewel,hammi,berra,attenu,deterior,gb,malfunct,om,thag,uav,usaf,poorest,disjoint,albertson,rethink,abruptli,fume,inconvenienc,oclock,sheath,gimmicki,cherng,yeehaw,godzilla,traine,shitti,montros,faux,onesi,overt,temari,twosi,unorgan,chik,doan,springrol,unwil,xeo,chalet,closeout,recheck,celiac,contamin,unavoid,bleed,scab,unitalian,writh,misconcept,poser,baggeri,dorito,douch,gameplai,cooker,diff,pois,belliago,ducki,entail,faulti,fece,mailbox,overwork,suicid,discreetli,scold,adj,deaf,jock,kronenbourg,onslaught,customiz,ars,axi,combat,emit,erupt,expung,garland,kafantari,levit,nichola,pantheon,peon,psychic,spiritu,spree,unsympathet,bla,hahahahahahaha,reaffirm,retrofit,aircraft,atc,carpent,suituat,bcf,belk,inconsider,halt,preced,clumsili,cohes,decrepit,fluoresc,hodgepodg,inkjet,magnifi,mould,nothing,odour,pervas,plywood,ragin,reek,armando,armondo,fredrico,frerico,slowest,palit,broom,getgo,condescendingli,cyclop,derid,sunken,tact,nutrient,repossess,forbid,sicker,urgent,salvadorian,cuss,daisi,deadlin,ree,savvi,daytim,cork,ect,hitter,uncork,mo,grumpiest,musashi,flirt,harrisburg,snarki,disguis,unfrozen,calient,tia,recom,broach,camel,rejoin,grail,intereact,coolada,vile,elara,inflight,choppi,bombai,channa,hindi,mahal,snowstorm,talon,tude,muji,aloft,irat,capit,cherrington,consent,dept,prematur,reject,sneaki,unawar,alaskan,noisei,pomodoro,spagheti,unpolish,bloomin,botani,mucki,astrai,lavish,uncook,undistinguish,yuk,kristen,visitng,eyeshadow,lorac,unclear,duckworth,garagei,forb,blatant,inabl,nan,olmst,asshol,blackmail,questionnair,shaker,garcia,achd,allegheni,handwash,webapp,mercuri,aloof,assault,drone,pompadour,wayi,awww,cig,cigar,cloi,cloyingli,dipper,flabbi,righteou,stabil,woof,bearden,bringggg,inpati,outpati,ptsd,resign,bramalea,apl,kitten,steelyard,bitti,itti,cortison,druggi,hmo,inflammatori,orthoped,welfar,escargot,slimi,zipang,metaphor,mildew,redon,constrain,quadrupl,mallow,punjabi,ext,wretch,shitzu,jello,blandli,hibbert,nunthaporn,republica,latch,dumpi,funniest,uhhhh,untrain,barf,mosquito,diffrent,redempt,mcdoubl,messiest,behalf,pillar,righthand,pak,stomachach,teharu,becau,sanwhich,rollercoast,demayo,dung,cattucci,cosco,cubana,calabres,slob,hahahaha,ontrac,undeliver,continuesli,apoleget,morelik,deliver,indigo,sarcast,alexandr,capitol,circular,dainti,carefre,media,modular,raita,mishandl,mismanag,ralphi,sickli,unmarbl,unpeel,earl,tallish,decidedli,frantic,gwen,lanyard,wad,zappo,engross,demograph,nouveau,swai,solidifi,escalad,monroevil,attende,dishonesti,exhibitor,fanexpo,firstli,hobbystar,informa,reciept,retest,cuervo,premix,sapphir,lvh,reser,tatuado,cannabi,eighth,absent,evertim,mcbryan,meghann,citat,cordova,jenkin,parkwai,polic,westheim,careless,golli,punk,bose,consol,dashboard,earphon,streak,hooligan,ladder,shoddi,gibson,durango,dryness,honcho,norterra,swoop,prorat,reilli,restart,byrid,stash,delet,dictionari,unansw,aviat,eww,rant,scientologist,travolta,benedictito,lifeless,hulk,jimstar,particl,redskin,unsuccess,width,itch,bream,limp,astic,fant,stern,delusion,hooo,levin,miseri,ncfoodgui,presbi,woo,foodora,gurgl,rundown,abondiga,braid,ummmm,anx,brenden,frai,greedi,ebai,chardon,historyi,jiffi,turner,upsal,jr,accpet,airforc,cdu,fkight,nav,preflight,finali,unrelax,unintention,whack,dishonest,dv,incapacit,fuji,miniscul,buis,delud,earshot,fidget,galact,lung,revok,errr,hapen,loblaw,peev,ayrslei,shiti,tweezer,wat,daal,gulab,jamun,makahni,graini,preslic,procuttio,saltinboca,unchicken,advers,mgmt,welt,renam,unbread,unded,nooo,spitter,yepp,shouldnt,sluggish,ispa,serum,annuiti,haymak,reboot,retent,templ,dagger,ponytail,maiddai,stovetop,misc,radiu,unclean,xxxxx,harbour,mutt,coliseum,fiasco,thug,hnj,sapporo,hiya,clown,dropout,smugli,greec,citric,dind,finat,mexish,mrealli,redish,rins,bigotri,complexion,headlock,homophob,manifest,repuls,qdoba,usx,ts,bld,checkbook,dissatisfact,dissatisfactori,scout,swish,uneaten,airplan,finder,walmert,acetaminophen,psudoephedrin,bradburi,evp,spark,congreg,hindu,kalga,mandir,tamrind,turnoff,warp,theresa,grid,hmmmmmm,litterrali,solicit,decenc,frosti,noddl,dramat,grimi,noxiou,standoffish,undermin,geographi,livingsoci,skit,altogeth,ding,portfolio,salesgui,gatewai,parkwest,finess,hangnail,molecul,shaft,wolfedal,acclim,gah,iamold,grind,corolla,mtnc,accumul,discard,tong,unthaw,ammet,dampen,snotti,artisano,phusion,bellboi,bkfst,coudln,fritz,kroger,leafblow,static,woudl,shoplift,hyson,paralysi,quack,shush,uncontrol,unproduct,mandi,mgr,slave,roger,wroth,pellegrino,catalogu,zilch,dignost,netbook,restok,xchang,callback,hotlin,pd,atroc,douchebag,riddanc,wreak,bureaucraci,disagr,harras,taho,uneasi,fluent,speical,achet,acheterai,affich,avou,cadeau,cafein,coucher,cout,dispendieux,dommag,expliqu,gater,mien,offert,quantit,reve,revient,sauf,sucr,tente,tisan,vendeur,vendr,voulait,vrai,poorer,letdown,yawn,bowti,whelm,musti,sag,trucker,debra,scottadal,barrett,turndown,motor,speedboat,bhajia,cocki,denial,disapprov,hetal,snide,ummm,undhia,verona,agricultur,cattl,dunno,enrich,grower,pavilion,politician,poultri,putt,sheep,shrunken,sponsor,sponsorship,taxpay,vocal,clap,humili,uncal,commiss,culmin,obstacl,recap,slope,theori,tl,committe,infrequ,apathi,heckl,longstand,overcom,proprieti,redondo,rile,waver,wildfir,strep,wrought,desktop,macbook,tldr,servant,chipolt,outbreak,alleywai,brilliantli,cr,monterrei,cari,midwood,molass,infiltr,jab,duct,permit,slur,gratif,spacer,agra,cubbi,goofi,pushup,waitlist,bloke,guff,lackei,notion,overtim,persuas,motionless,windex,alittl,shotti,beagl,rebat,murrysvil,maiz,poppa,bereft,needn,ravag,upstream,surli,ahol,apet,gob,nonchalantli,parilla,shoulda,vall,whrn,environment,marsh,soull,wildlif,huski,brochur,proportion,asado,masa,molleja,raviol,clank,swung,aerial,rv,litter,unsolicit,unwant,blan,desrv,lind,punish,saltier,woulda,amplifi,shute,faculti,monopoli,netflix,alla,gigi,dnt,reoccur,sawdust,drivabl,furthemor,stoneridg,ductwork,elig,filtrat,fazoli,needlessli,tinker,zephyr,biker,sari,sidewind,overbook,oversold,dirtiest,antipasti,graze,flea,buld,efffort,psa,daystar,tiesto,wanker,congeal,emperor,gen,interchang,capitalon,innoc,leon,nonprofession,zipster,disconnect,guuurl,snark,whatchu,commod,racket,toca,pp,lamanna,sangwich,curti,disinterest,queri,bald,uncalm,unmerci,creamer,clustertruck,figgi,aug,gooni,sloth,sulfur,velociraptor,wafer,allign,rancho,unus,cristo,monsier,consensu,driest,nutmeg,tbsp,ronni,lax,redund,savemart,shocker,bandeau,preorder,trashcan,absorb,grah,mif,mouthi,skunk,tornado,untrustworthi,calam,amateurish,zillion,minivan,absurdli,asinin,bhaigan,bhartha,maneuv,taj,yuva,mope,snapper,languish,suspicion,harden,mottz,demot,eboni,allevi,kerri,kyra,tension,unforun,aucun,blanc,chere,inclut,italien,parc,pens,seulement,priorit,csm,buscuit,dryest,heroin,autumn,zuppa,chardonai,meaningless,unaccommod,unsoci,abhorr,abbei,barstool,inhibit,introductori,piper,grizzl,knibbl,replenish,deff,barrista,mosei,panther,plausibl,reappear,extern,comprendert,espanol,hablo,hau,podria,segreg,booooo,sportchek,irwin,whiz,buffett,laps,pretens,reinstat,belliger,farmhous,ironi,royalton,unrespons,collectivo,carcar,fluid,pothol,roadandtravel,barcod,revenu,bacteria,lurch,chalant,dell,infer,numero,barefoot,roadsid,porcelain,hoop,adder,pli,overdress,bleh,ungrat,nougat,calcul,spoilt,buena,buiz,suert,whathehel,thickburg,duuuuddd,masseus,wierd,stingiest,ameripark,marcia,backn,befriend,galbi,decreas,aamco,tessa,reddish,sower,bluechees,endup,rattlesnak,snakebit,substandard,paraleg,releg,sweater,unkempt,apathet,digiorno,overhaul,debacl,scrammbl,juvenil,bedlom,berni,memov,pandomonium,cowl,deduct,germani,hogwash,rooki,atlanta,enj,glen,tx,impound,overpass,patrol,willetta,koval,kirk,kurt,balyag,toner,remak,joy,sashmi,disspoitmend,firt,merlin,shanghai,cleanup,duuhi,ger,honoreda,mmmmhhhhh,thia,sot,picatta,immemor,refiil,hostag,hq,pizzavil,jostl,java,applesauc,countertop,decour,dressier,diaper,iy,poopi,unlucki,biannual,cvc,deviat,entiti,septum,breault,unfound,obsolet,bleach,jackass,salisburi,gaslight,jaquelin,keyword,arbor,againwhi,ntb,inebri,beppo,buca,boatload,greei,bridget,slacker,pissi,zuchinni,empathet,doorbel,unsecur,fithy,tito,african,laud,annabel,assad,ciot,uneat,woodi,antipasta,tabbouli,loooonnnnggg,unstir,verrrrrri,gait,vuitton,brosnan,mamma,notwithstand,synthes,utter,tabouleh,misti,lamest,rhino,null,barrata,tablespoon,bluntli,footnot,hsa,otc,ohjah,tepenyaki,relic,cluelessli,ssn,signup,f_ckin,defunct,eefco,rbn,crafter,eff,curvi,groomsmaid,satin,transpir,sadden,gunk,sewag,ashvil,juri,litigi,butaft,communi,starmount,benchmark,smush,agoni,quicklift,rhinoplasti,surg,cie,iq,macallan,hillbilli,ither,traylor,descret,pheon,scrubber,antoinett,contrit,respit,uggh,violent,woken,devri,payng,gloppi,imbib,macer,meali,piti,unapp,ungainli,cesear,flaccid,metrocent,rudest,convalesc,ramshackl,asswip,autopai,calli,cloudi,corleon,spatter,hershei,brunswick,jeez,chinzi,infest,filiberto,speedwai,unsign,accost,overzeal,quench,microsoft,acct,swadde,thailici,approch,decatur,fir,hwaro,unhelp,spongi,powderi,dickei,plater,zinburg,demetriu,incur,nightstand,unanticip,attendai,cach,heureus,relativ,hendertucki,lasagn,keyosk,slooow,theu,woonam,pester,keel,defeat,cot,zepola,alga,csr,esa,intro,jet,premis,prostitut,reactiv,snacki,soot,stunk,upstand,webpag,remanufactur,oo,forgiven,checker,ruder,astonish,bomber,boyarde,radisson,curious,publish,swarma,purgatori,fettuccin,footstep,kmart,offput,panag,outershel,uned,dishearten,emesi,howard,mountainview,dolc,jamon,ymca,machet,expedia,eldest,frig,sacrific,mariana,nathan,nooooooo,ooooo,oreida,ridic,chaplin,mosh,lieu,sheraton,midsiz,vehiclei,flamm,bush,paraffin,topcoat,forewarn,pluse,whisk,mantra,increment,genghi,carfax,diminish,recours,antidepress,digniti,dissolv,gynecologist,hypothyroid,preval,scientif,systemat,unoffici,anther,hack,unconcern,czech,dakota,dumbass,passport,discolor,orangish,bruell,chinato,tremont,zack,avi,dallop,hadi,belgium,overhyp,approx,enuffsaid,patino,purita,kot,shun,throigh,totter,bauer,unpredict,milei,gunshot,semest,thrid,berat,interject,digoxin,irregular,nuclear,squirm,bumpi,shiner,necklac,comun,fricken,underwrit,partel,trent,thanku,oolong,rajdhani,abysm,peopldog,irma,flick,ishmael,sht,unrecommend,crylic,infact,tamato,trough,ovaltin,faygo,comeon,singalong,throwdown,wayyyyi,shanda,shanon,aaliyah,humidor,tinder,accredit,raymond,theft,dwarv,tweet,eduardo,boycott,johnathan,luther,matrix,understnad,dubiou,frown,sparklett,porridg,succeed,inexcus,infuri,softbal,uneventfulli,mesclun,everyrh,deflat,grammar,preposit,tutor,bori,eeg,entourag,epilepsi,karloff,ruvo,wive,footboard,siderail,glenfiddich,liabil,decept,preferenti,babe,cruel,publicli,saga,misalign,podiatrist,fingernail,papain,repurpos,toughest,cordon,grander,pasti,jetta,nashvil,tn,trickett,chevron,americanio,cont,mozz,bacalao,croqueta,lian,santon,undercharg,admonit,grudgingli,diffinetli,pizzaz,wg,clarif,grievanc,damper,dwell,snif,palmero,downer,despic,retard,suckiest,mma,rev,bengal,eyelid,lissamin,meanwhil,rosacea,schirmer,sjorgen,snip,beefbal,negit,riversid,lortab,splint,evjei,kinfolk,wanaaai,casion,inhous,ftp,mfrmail,multipurpos,pdf,safercar,scion,xb,howi,hs,fco,doest,flophous,sandpap,wrapper,arepiando,colombia,lulo,nbkqa,pxplj,ranchera,src,vcbm,venezuelan,moola,becais,clinton,corpul,crass,entranywai,gall,hillari,kever,marcu,neiman,pv,shoukd,underag,videogam,vitaligo,waaayyyyyyi,albondiga,hydraul,tarmack,leaki,tweaker,snort,dingbat,setback,wk,budless,lardi,moustach,amon,crutch,runn,sap,unkind,nm,marker,scribbl,ta,embarrassingli,unproffesion,explet,jaya,reall,sm,calu,loveli,foreverzzzzzz,preggo,suuuuuuper,whoop,zombi,firmli,inject,resteraunt,turquois,solado,screenshot,whew,compli,injustic,glossi,delorean,ragu,remors,dl,impermiss,trickster,damang,milag,pervert,frita,mofongo,nihari,toll,homecom,statehous,brentwood,larkin,sturman,abomin,estancia,hipaa,leadership,pnuemonia,sweatshirt,basqu,crisper,grandios,liveli,wayyyyyyyyyyyyi,resal,bonanza,ladlow,baozi,fraction,scum,uncivil,chrome,pham,malici,stackabl,abod,disinfect,distrust,emmi,lice,loll,percocet,sack,shithol,tuberculosi,vicodin,shed,hooker,outskirt,postino,autism,stupidest,ada,callthen,chk,unplug,repriev,unprepar,silverst,stainmast,testimoni,sneaker,adher,choir,seasonless,sl,mmade,skylight,solidli,southsid,jessyca,abdomen,backsid,blurri,unborn,atrea,giver,automobil,disciplinari,colourless,payasaam,proiyal,rasam,sambar,vada,excruciatingli,bowler,bluetooth,volvo,abrupt,brunt,insincer,juju,reprimand,vaporcito,chug,deliveryman,toaster,racism,unspoken,unattent,notat,mommmmmi,fulton,hairi,pleat,sassi,cassanova,litterali,jek,acuiti,sprain,triag,markedli,tamari,wrongli,ursula,filberto,goodnight,stairwel,toothpick,calor,crazier,thoughtless,conduc,kbbq,contempt,disdain,tardi,wingsuit,zipper,haphazardli,lazer,llv,survel,forcefulli,trespass,lacklustr,hoe,tnose,idl,lengthen,deflect,undisclos,cubic,escrow,ssi,apoint,scheduel,shedul,wooch,cornhol,staybridg,verrado,miscount,chagrin,coitu,heineken,leafi,privelag,projectil,defonit,asthmat,ozon,cosign,dod,fha,fortitud,innapropri,sixt,ileft,fettucin,awful,bec,misdirect,antibacteri,suchi,schriccha,schrricha,smidgen,narcissist,afb,amatur,itallian,pana,directv,rap,skeezi,stomp,restless,sill,drinnkkin,crazai,eesh,karin,masochist,nightlif,evd,relai,budg,abduct,dicei,gunpoint,nightfal,endang,graviti,lawsuit,plainli,robyn,tuition,gristl,donkasu,kasu,nabe,saus,livestock,onward,stoplight,mutuel,frenchi,trinidad,sbarro,ambar,dram,caster,sku,fruitless,givien,guidelin,pursu,newsstand,passiv,raid,sidewai,fierc,handbook,cartridg,pussi,shaki,ambiti,odda,sparkler,explicit,seizur,asylum,inmat,hurrican,bonnacini,halston,limousin,newark,opex,undesir,mor,adob,disk,lightroom,shinto,jughead,catti,hobo,roo,coldli,disbeliev,joki,literli,fatal,millenni,decorum,shef,kingfish,bilater,decai,fissur,journal,lesion,misogynist,symmetr,unilater,janet,vaunt,joli,processor,scammer,devoid,grizzlei,convolut,ling,livi,trickl,uncouth,untri,racer,defer,shitdog,incoher,newfoundland,petsmart,glovebox,maruchan,shizu,pager,criteria,oaklei,untreat,minion,showdown,squawk,ultron,ihg,vpn,tine,touchup,dumbest,motown,unwash,kasum,subpoena,neopolitan,soggier,chest,videotap,bedeckeck,rt,woz,dummi,hardboil,megatun,tme,stear,anthropologi,bohemian,boho,applaud,gleefulli,tenth,unison,appnt,serengeti,stauss,uphold,helen,schwab,californian,costwis,pricewis,sic,bicker,disintegr,leasid,salvag,warner,wrung,breakout,alton,offshoot,advert,contour,bww,dogfish,manggo,poppular,unattract,behaviour,hwai,uncomforatbl,casablanca,gristli,remast,whop,woodenli,evri,extraa,willnev,civic,despot,runaround,smilei,emptor,cheerio,doubletre,fiver,adobada,chubbi,bedbug,apportez,pica,votr,aber,abzock,aquival,beim,bier,dann,den,denen,der,dubai,enttauscht,erst,essen,expon,gern,gla,glaser,hier,ich,inkl,kannt,leider,lesen,nicht,nirgendwo,nur,prei,preis,schlag,schon,sehr,sich,sind,sonst,traff,und,viel,waren,wurd,zu,zumal,beret,dorki,longhorn,frederick,manchurian,jax,unpleasantli,wayyyyyi,upkeep,heeeeeeei,likei,sitch,sgt,pckg,bridgeston,grudg,admin,exploit,impos,uninform,batali,mala,darak,shoudnt,wrorst,uggg,shadier,redmond,shamelessli,gaug,nickl,posess,tepid,tepu,dean,nypd,maggiano,rito,louboutin,hollar,modem,manapua,chrishi,sawara,toooo,entireti,ewwww,northfield,twinsburg,canard,contend,leslievil,mort,neighbour,immigr,silicon,strongest,matzo,slapdash,exaserb,insignific,methodolog,grenad,hoon,mee,telur,hexx,snippet,oxymoron,chard,dandruff,kernel,xshtx,axl,murano,nissan,tampanada,renegoti,partli,recipi,nineti,frat,infomerci,bonfyr,nile,billionair,hilight,adio,alo,pencil,unflatt,weirdli,elot,elotero,soltero,tajin,malcom,tidiest,aorta,cardiac,poo,saurkraut,saleswoman,adel,phad,zupa,flask,ackl,hairstyl,jensen,philipina,unaccountabilti,xi,accusatori,howl,pancreat,skittish,boucher,corndog,hoppi,maroon,maroonei,patter,snifter,yeaaaah,timelin,undo,ooooh,huff,council,coven,discerningli,hippocrat,improprieti,oath,pledg,secular,voluntari,wigwam,slant,staci,kintaro,connolli,custodi,defam,gig,lien,pathat,prevail,pounder,qtr,sry,agreeabl,mutual,notif,vijaya,yadav,lafit,acur,storylin,tatar,backflip,employess,obsurd,portrai,wolv,ceser,oder,gasket,urbana,roter,floppi,shae,azcentr,deceas,giff,griev,insensit,mortuari,priceofdeath,disappointingli,wrost,hairdo,hypnosi,hypnot,hypnotist,peni,spiki,vtwo,quishi,tminut,incident,autour,bref,decev,demanderait,enthousiasm,etoffe,froid,hauteur,manquent,notam,ordinair,promess,prometteur,revenir,reveri,soigne,varie,voir,imbecil,evdi,alllllllllllll,berto,fack,fawk,ffin,finnish,pyle,buffoon,buffooneri,buffoonish,convoi,farthest,peripher,startl,unrequest,gilert,cystic,pimpl,pomeranian,slurpe,spat,wack,ggg,cx,puckett,unimport,enthusat,abbrevi,coincid,ola,haw,smarten,matzoh,roid,maggot,breezewood,housew,sexist,azzhol,ibnel,kadar,kafanizi,pahali,satiyosunuzki,sikiyim,sizin,elder,lumch,maam,guinea,peacock,pigeon,pratt,ewwwwww,tripe,whackkkkkk,amir,ellsworth,salesgirl,forese,loo,looki,assless,snail,nny,unseason,cora,muriel,placemat,guyz,shittti,businessmen,foodservic,unfinish,nga,chequ,knead,kc,shrunk,mexi,provok,chilango,symtomp,chie,hig,mihara,obscen,treton,viv,welli,westwood,primu,deafen,foe,nada,voluntarili,coachella,douw,egbert,pertin,seekh,disingenu,swan,lectur,meghan,refrain,lemeac,hindsight,trivial,vm,whisker,cartel,iguana,rampag,seati,guzzler,gaurante,thye,bran,cardboardi,lemonda,visa,dreadlock,blanco,prison,tifi,hammond,roadblock,sixth,baseboard,corp,homejoi,workman,nip,hypnotiz,morpheu,angst,outgrew,rocker,imped,luster,stem,acoupl,colonnad,blimpi,seinfeld,goblet,cornmeal,geez,guatemala,enrag,marijuana,siegal,vaselin,manuel,shari,meg,pdx,suspens,cleric,bologna,unalt,perscrib,regulatori,tragedi,sizzler,backroom,bcuz,belagio,calmli,everrr,mikei,ummmmmm,verrrrrryyyyyyi,apocalyps,barbar,rabid,riot,dirtier,ap,cackl,hollygood,hardcov,boursin,plaster,morrison,terrorist,danni,overslept,shone,primanti,aha,inflam,trimmer,kjng,lobter,sandbag,constrict,adriana,brusqu,plasticwar,competitv,desol,penmac,lipstick,nora,kickback,unenvi,donkei,jahn,naw,sarcasm,etch,charter,retak,tenaci,spacif,airflow,cul,kyli,trou,compressor,ascertain,droop,sr,stevi,esher,inexist,resignol,acog,alleg,bcb,biopsi,gynecolog,newman,obstetr,radiologist,sprung,disck,splenda,scanner,rivioli,scaloppinil,shao,shiu,compart,gloss,hind,regrett,resettl,undercarriag,undersid,wither,acoma,nood,hakka,gloopi,saltwat,balk,camilla,consequ,reevalu,subfloor,withdrew,abc,scarpetto,crt,firsthand,stank,teddi,unmemor,deniro,exposur,registr,tangier,whale,minuscul,lesco,varsiti,nitwit,brias,carr,chicarron,flavourless,gastriqu,merienda,nude,shrivel,dwr,freight,knoll,lumen,vitra,ylive,avana,greystar,moveout,skyrocket,cuti,narrowli,emeril,keller,legass,minibar,wand,rockfish,pizzaria,brocolli,disgrac,frequenc,regener,laurel,scratchi,bizzi,redeliv,redeliveri,stanlei,subhuman,flex,franchise,aftercar,zak,donald,convinient,wamu,weer,reedsburg,creol,heav,shrew,leaner,microscop,pheasant,souplant,waitrress,crackpot,ted,backfir,crue,feebl,pokebowl,unbalanc,blender,lovel,bayalag,brassi,flashlight,uniniti,entercom,goof,separetli,enchilad,experianc,bertolucci,statut,ppai,allergen,dob,hippa,medshap,aboit,evem,aarp,caption,circuit,constitut,hgtv,workabl,tarmac,gonzal,np,parol,grrrrrrrrrr,undevelop,osechi,blankli,laci,berserk,vocelli,einstein,embargo,penetr,undi,shudder,threshold,burritio,compost,herp,hiv,ingest,playdoh,rhythm,squishi,makani,palek,quailti,tadka,enourm,lunchbag,prewrap,knish,modicum,morsel,adapt,anydai,cheater,ferment,peke,blech,culprit,faintli,medlei,slosh,knowingli,specul,heartburn,claei,asign,catchi,censor,uiuc,peachtre,prepack,dragonfir,aldridg,pompou,bacu,charisma,firehous,maizi,persever,tureen,cocinan,comparacion,dijo,esper,espinaca,foto,fue,gerent,habl,iban,llego,minuto,nuevo,nunca,otro,parecia,practicament,preparar,sirvieron,mindbodygreen,neuro,postur,reinjur,everyt,mexcian,drunkard,brazen,afrojack,chevap,cock,pljeskavica,serbian,shopska,veshalica,beani,mafia,persi,sevich,selina,appalachian,shaggi,swath,badddd,bus,forfeit,lattic,philipp,experiec,baptism,abienc,tiniest,mot,snd,frazzl,jerker,sash,sob,banfield,banfil,christown,consumeraffair,withdraw,vape,wppi,ontop,celeb,forthcom,fradul,securirti,wallpap,peri,repugn,shrive,avatar,disapprovingli,eject,orbit,sledgehamm,newish,shallow,bix,fergu,marda,prowl,appoin,electrician,nhw,bugogi,che,profan,africa,zagat,jumbot,wetter,flier,guarente,thrust,hhhhhhooooribl,huf,serval,junkpil,democrat,fanfar,gazett,greensburg,mellon,obituari,republican,scaif,trib,tribun,不要在这里吃,他们知道,你不必付饭费,在我们的汤里发现了一个蟑螂,她一点都不惊讶,她说,对不起,我们刚在这里吃午饭,我把它展示给服务员,这意味着他们的厨房里有很多蟑螂,ommmmmg,alterc,damian,eighti,messeng,punctur,pui,convein,fratello,nino,sapori,kassandra,prof,unnerv,classmat,mekong,yesss,gorg,smudgi,yuppi,bulg,deform,seamstress,despond,fieldtabl,locksmith,shai,acclaim,preemi,walli,sewerag,alien,bacardi,cuba,flee,himmler,hitler,circumfer,putrid,mouldi,rawlici,newsflash,drumstick,greyish,kauai,insuffici,apper,improfession,mamag,hekka,sayyyi,hodo,kwaja,reinspect,doorman,hoopla,myeh,passerbi,presumptu,seduc,timber,infin,reliz,txt,buckl,prick,alpin,ambient,crutchfield,crutchfil,degress,inifin,inifinti,jl,kappa,mono,perpetu,speakersj,subaru,sv,tweeter,wrx,contractu,widow,confection,crinkl,humong,hairsprai,lifter,powerless,serenditpi,asthma,composur,chewei,mertan,antholog,cristal,iter,amuck,muse,deceit,ploi,spano,seashor,rockefel,laziest,passionless,tallmadg,coor,sprig,ineptitud,nadda,sherwai,transat,export,compsens,dredg,underserv,crisco,misquot,advoc,brivovarx,empir,glassdoor,hustler,optum,pbm,quota,sharehold,shyster,sicko,unfett,staplei,jniwxv,pdciru,phaetmra,reveng,riddler,skyscrap,insinu,sleepez,florenc,napl,posto,unkept,rockin,ia,unfotun,qsl,alli,discriminatori,dm,miriam,grossssss,ploye,extermin,spilt,commot,casher,dp,firmer,rashida,chicjen,fush,sticj,nylon,toulet,acknowleg,campaign,chickencrap,thebil,sep,itbon,flock,permeat,chitown,giardiniera,pinnacl,lever,wiper,spotlight,abernathi,alma,chemo,entrust,euthan,hudman,justif,lymphoma,prednison,schnauzer,testi,undu,ellijah,hord,cav,kyri,rrbc,tiramsu,contaci,jfc,offuc,patricia,recod,sek,trate,wjat,wlse,mtg,dabjqsdiyoq,downsiz,egtbvsf,ielc,kgqgu,neetzmzrxxfr,tgmhkfphkbxvpqa,ballsi,dynam,scupper,saut,frutti,mare,parmasan,tissot,unsuccessfulli,tooooooo,tpm,adrin,retire,teriaki,taramind,capric,stae,ffl,fra,siiigh,chlorin,allegedli,dearli,inadequaci,fudd,lmao,bulletproof,rangemast,uphil,bellagui,cust,gere,restauarnat,sae,ysed,purcel,bethani,thave,bellingham,beth,buh,udh,wankiiri,savior,threader,wok,deodor,nesta,cele,deo,intel,voght,inflect,avali,danrif,jaggli,fondant,majorli,resum,ponshu,unflavor,massacr,crud,concensu,fritada,yellowish,stonei,underseason,buid,gripevin,tsk,turnberri,carrara,capko,derogatori,hydro,odem,odom,psychot,thermal,undepend,abf,remember,rihanna,spoketo,lumpi,lpc,poisin,sloooooooow,resel,meager,straiten,monger,helpfulli,summarili,commerc,webcreationu,bdrv,evo,winnebago,innatent,addon,porta,acura,strung,celsiu,spg,odomet,appropi,gimmi,stumpi,southbridg,swat,snapshot,endlessli,obstructionist,backstrok,swimmer,acro,interlud,nuditi,psychedel,titan,carcinogen,icki,appret,caulk,mifflin,shingl,tar,unprefer,raiser,spartan,whaa,pediatrician,deadbeat,reorder,weed,acd,calmer,calmest,bryant,fgf,implor,raaaav,miscarri,discont,dumbfound,gerald,vapor,deworm,overdos,respir,blockag,upom,biomat,donor,grifol,syphili,talecri,neurolog,predict,cinch,purrfect,trave,warri,chalupa,retun,bradshaw,summon,beatrix,inflex,yogigym,bruno,derrick,reform,chomp,doorstep,tinoco,parchment,hotplat,thina,griddl,oso,scroung,expiri,blundston,flw,motherboard,squad,thompson,starwood,bruester,burntwood,congress,donot,lubric,outloud,shawna,wozniak,barriqu,marketbenitez,subscrib,ammen,manti,kristi,discust,elliott,kyren,bego,copai,ppo,stetson,unpaid,chedder,grossli,angryal,glamour,lackadais,migrat,delat,banzai,bp,bung,dopei,nag,resentfulli,tipto,airdri,spf,spoiler,looooooow,estrella,patchi,greeni,hm,bfing,nonhuman,velveeta,freemont,launder,algo,babbl,coyot,evermi,evermybeat,jaywyz,paradisebound,weisfield,perplex,mrdd,frinfabgrl,cb,gcu,unnam,gd,disappointm,layawai,hayot,israel,smartass,tshirt,alamo,slk,teja,lookout,roxburi,facepalm,indign,nuanc,restyl,whomp,jaimaica,fluentli,plummet,jiggli,transluc,dormont,parton,blander,undergo,unsurprisingli,gao,peski,yeesh,ruse,rigid,isorrri,knucklehead,snowdrift,chide,calip,cautious,kingdom,tk,sfo,swa,aa,interlock,mauric,caeser,kentucki,mayonnaisei,milano,falco,yeaaa,delv,lop,nukem,rater,asbesto,chesterfield,sphere,blaze,rigatoni,rosso,zinc,toobigtocar,ut,wihout,stirfri,cne,poutini,phoni,tampa,violinist,wail,pala,diaster,gallagh,disengag,unknowledg,qt,blowdri,sassoon,vidal,recook,wingstop,portopotti,dismount,scientist,endorphin,lolo,retrain,lenient,fujiama,mockingli,suppress,luch,voupon,oook,rodent,gy,ager,doom,enamor,eva,longoria,sidestep,leek,conting,landlin,reconcil,custerm,unprofessio,woulndt,coerc,farmhand,dink,snippi,horseplai,jovial,deescal,petland,harsher,wrongdo,cannelloni,centimet,rudimentari,cna,coder,casoncelli,ligunin,sauch,strozzapreit,strozzapreti,tagliata,catastrophi,lovag,revil,unbias,taboli,screwdriv,pigskin,servesr,oxygeneo,preseco,character,foibl,glaringli,toolbox,crain,mightv,mightvw,screech,oreilli,outag,plier,shitload,brett,summerlici,nauseou,payrol,lik,notar,peer,strongsvil,archiv,malleri,wgaca,worldmark,counterpart,katharin,mimic,mozarella,tomatoei,manur,nother,britch,attatch,reseal,hairdryer,paprikash,spaetzl,bizzar,giordano,malnati,cherrio,cupti,kanger,smirk,paoli,parkour,currenc,thriugh,altar,conscious,banchan,unfresh,quicki,chrystal,tryin,handler,enchirito,meaner,nastier,coronado,nami,apropo,downtim,plugin,pickin,cking,gc,bering,flammekuech,servisoft,overhear,raff,riff,drier,holster,peal,hiss,thr,huffi,vechicl,mixup,sharawma,sultani,equifax,jackasseri,mailboxez,usp,aimlessli,bewild,sweetbread,buddhist,ker,nigger,sender,pleaz,scorch,underli,vacant,ingenu,wasen,plea,smackaroo,queasi,pinhol,restitch,scroll,careles,charceuteri,lazili,marcello,preper,uncor,asahi,rapidli,mussl,vommit,flabbergast,tec,birch,exspect,phili,collab,violenc,mou,etal,matchstick,backord,drainag,humidifi,relianc,rheem,sheela,smartair,tankless,unleash,lender,tinni,bungl,entrop,lifer,mcfarlan,ministri,outpost,proposit,salarymen,sangweech,unadulter,wheatgrass,frapp,tolerancat,froze,selfish,tkt,apologis,capac,merica,myoglobin,underperform,reprint,ama,melatonin,psy,breckenridg,draught,highlan,willowick,rodriguez,shear,flit,reid,colonel,extravag,janean,linzi,stubbl,underarm,idriv,herv,runwai,header,comparris,diverg,irrelev,peculiar,cholula,akira,bloodwork,nevermind,ooop,wati,eavesdrop,slander,brunchi,smi,blisteringli,eb,heatwav,gab,acquiesc,bridgeland,redbloom,unhygien,bulldoz,dilapid,midwai,vira,munchkin,superfici,demean,saddl,immun,trashless,albiet,considerali,frugal,miserli,eggwork,natalia,partition,paraphras,jest,suntan,towl,claus,devis,switcher,cdc,superintend,flicker,reposit,beep,foolish,unschedul,lourenco,mangan,maryann,misinform,unlicens,hoax,inact,bss,characterist,yogurti,nectarin,quant,anythng,angelo,workload,beech,cacciator,incl,picken,appolog,belch,sane,twit,goop,gip,orderli,frape,mcmuffin,kicj,wate,nanni,cremat,greaseless,grn,tablewar,depressor,oblong,tuski,brightest,kcup,theyr,canm,boldli,doordash,rectangular,hunker,schezuan,abnorm,lupu,prognosi,webmd,welker,crewcut,jenna,lyon,grossest,diarehhero,juevo,samoan,undercut,rewax,duel,embark,polka,touski,benedictin,goutait,œuf,douchi,lawler,fusioni,scaddabush,ketoacidosi,undiagnos,unforgiv,yach,guidenc,vaireti,creas,pajama,demeanour,mangiacak,nonna,parmigianna,primavera,inconvieni,thimbl,waaayyi,haircutt,malitpoo,maltipoo,pnp,strangl,francesca,stander,westhil,sbe,cj,cpap,jalon,propaganda,strauss,watter,geezuz,mermaid,omfg,mth,nf,sb,adhd,frind,decencei,fatboi,loredo,endulg,subzero,cristi,vasquez,dimwit,palisad,haricot,reduct,roni,trifl,lao,frice,lomein,dartboard,quasi,footlong,comfiest,alll,dayum,playback,cardiovascular,unremark,excori,hamp,lynn,sloooow,blotto,boinggg,esco,fallaci,perv,phallaci,popolo,concertgo,decompress,moot,booster,monson,hostel,sweatbox,toolittlesauc,thanh,aldi,berger,burgerfi,fluiditi,xgtfit,pinevil,predomin,mettl,sndwich,multicolor,compulsori,overlord,theiv,unveliv,radler,stiegel,beginnig,hellman,regrad,scurri,wich,unpalat,yardag,undrink,fook,kien,minit,celebratori,embitt,ay,oversalt,impost,telemarket,rieu,soooooooooo,rabba,whitish,embed,pube,ehhh,spacious,hassel,maintenec,ooopp,juke,condus,speci,catastroph,cfo,coo,decongest,gaap,immov,immunotherapi,intellectu,pokei,praction,monro,agrees,pedicr,pumic,overfri,releno,cco,hatten,mountainsid,respiratori,tge,transmit,utub,correl,proffer,corvett,ageist,curfew,excruci,vacai,stinker,dealeship,fianlli,magament,reffer,lea,valualbl,wll,dojo,sensei,disgustingli,allig,merrick,sirup,dignitari,shard,becuas,freaker,gunna,knkw,manuali,peproni,speakerphon,interig,queda,compliant,psychiatri,unnot,filt,alia,aneurysm,ari,chute,coward,derbi,ebola,editor,englishmen,holyfield,iglesia,insuffer,izzo,lavar,lolololololol,magi,mlb,nantucket,quitter,cachet,delamin,liftmast,workmanship,itchi,unedit,abbott,signer,westcliff,blazer,manicin,serer,mayorga,monin,torani,ultimatum,mistreat,unappreci,tf,sase,arminian,mucu,nasal,stung,szechan,alphabet,oncologist,resubmit,retrac,umc,antithesi,glower,indescrib,tryon,woodlawn,solac,unfreak,apoolog,plow,competet,sportsbook,swina,allegedlli,visor,loveseat,denomin,elast,giardinera,jcpenni,advt,hubcap,seiz,burgundi,crimson,moh,satan,pend,dislodg,ubreakifix,pixel,ceas,desist,ftc,vultur,basenji,disarrai,pfd,babee,debaucheri,gummiest,indispos,sevinc,bled,gau,origianlli,smaill,typlic,mae,eeeeewww,helix,diem,thinnest,afarud,dorthi,rud,reisl,hanni,lj,fruster,saj,aaargh,ssl,microphon,stutter,dosag,atasti,brewmast,espic,maridith,hepat,isp,cofco,ranchmart,blotchi,likewis,stilllllllll,wrongooo,tyvola,scooper,futil,necessit,jacqu,scumbag,adorai,aimez,apparem,attendait,attendu,avoir,ayon,blagu,cett,collegu,commandez,cuiss,deja,dite,emportez,ennuient,espec,euh,inaccept,laisson,lor,manier,mecontent,mond,pay,payer,pire,plaint,portugai,pourboir,pourquoi,pourtant,prevenu,reprendr,reven,rien,servait,serveus,somm,vienn,voulion,hag,opi,distinctli,eatin,steamwork,tripper,sycamor,gurante,interfac,sequoia,juat,blegck,grung,grungiest,hangman,birchmount,kingston,kr,warden,gullibl,betta,discu,sailfin,rowdier,crewmemb,leari,unhappili,apoliget,janki,cleane,aggreg,butterfield,pitifulli,sourpuss,unsmil,estrang,gravei,roadtrip,businesz,dyer,nel,distraught,shakili,barmaid,item_imag,lcb,lcbapp,cambria,mailman,alphagraph,placard,coventri,frylat,gutter,bif,lyfe,crossanwich,whiter,texan,gatekeep,haggl,oncom,pedestrian,chime,metallica,sog,unforgiven,unwieldi,violin,jarvi,bartop,darl,groan,hurl,swell,doorknob,toliet,delmar,kerb,angeliqu,cromean,defrinit,electrifi,hlwp,candid,honer,invisilign,labwork,buttock,hoist,advil,devolv,haber,hubri,noninvas,postmodernist,siesta,trooper,fka,mourn,skyview,browser,esso,petro,cleen,akronit,bloodstream,bistek,mechado,electrolux,bsb,marsha,slite,depriv,derm,recolt,prank,biwon,forgav,jin,leo,toppoki,ambival,prepurchas,teambui,sundubu,fling,muddi,nfr,thehard,kah,tarnish,friendly,mistook,swatter,dodd,lavishli,savag,zwick,dallei,fallopian,ika,stingier,busker,defus,dollarstor,td,wr,payphon,photocopi,searcher,wanda,breakabl,defraud,broiler,chefalbrich,crisi,flatiron,noir,pinot,rethought,tenet,medicaid,preform,dressi,oversp,irani,griffin,blanch,fusian,underwhelem,jacuzz,infront,kream,someh,beano,fatardo,grandpa,parvo,willingli,undetect,ceasear,aghhhhhhhhhh,kindl,townsquar,ughhhh,birk,manna,dysart,freat,hungari,isaiah,moorehead,tealight,chinees,goin,gaudin,thrash,servicewar,accoutr,hairnet,zaba,looov,unscrew,windstorm,tourst,amoungst,tipper,restaru,unhygen,abcess,anitbot,hygenist,ridden,bunge,boaster,goldwel,hissi,acus,apolig,ruidli,snuff,unsincer,eyebal,geni,kaput,modul,oy,ryobi,cervix,miscalcul,pbr,fairmont,whereupon,interperson,mabo,dissapear,hoisen,seventeen,callou,throb,glasswar,expeienc,cottonel,sqft,carowind,boring,buuuuttttt,chemistri,audit,cacophoni,dinnerwar,floresc,schitzophren,spectacl,dishwar,highlin,outtta,rube,soemth,tyle,winterlici,convo,osn,fontina,wallac,township,voltag,arrow,roght,runninglp,heb,condesend,vial,baha,ballaaaaaaa,jockin,rapper,angela,dreadul,usairwai,persuad,thermomet,adag,chrispi,everon,oustand,pappadeaux,buger,lindsau,yyc,verrrrri,knat,trulei,centaur,dearlership,princip,subuaru,daft,imposit,andouil,fabfind,manta,awlin,burgher,moosehead,matchett,mehhhhhh,consit,autor,coff,delongi,mach,moeni,beliv,hemroid,mckellip,pleasent,recker,waitless,trainedn,pizzahut,hashana,rosh,shouldv,thd,intermin,gt,unfilt,lmy,bernaiss,medallion,beig,sharon,ugliest,wino,backfil,belsito,bobcat,shovel,trench,unti,downturn,barcelona,clench,molar,angrycustom,badrestaur,chewinggum,shameony,terribleservic,wolfgangpuck,wolfgangpuckmgm,nappi,recurv,switchback,leaz,puh,shill,showticket,unappetizingli,heartfelt,ketel,redston,cyberspac,duplicit,incessantli,persev,grandview,smmhhhhh,inlaw,evei,genesi,hussl,metformin,threyl,imadak,kazu,kinka,skytec,enquir,atwat,overstaf,stormi,honeysalt,ova,gmt,landri,unpopular,voodoo,boutiquei,iintellig,shirmp,sibl,championship,mater,ppp,bachi,blegh,disench,unapproach,mayweath,mcgregor,ravoli,backbon,onther,caldereta,dinuguan,kare,opo,sinigang,annoyingli,ewww,sadnoodl,department,caponata,cipollini,formaggio,rao,scala,scarpetta,unfit,petagogi,bumbleberri,fathead,unrat,geometri,spun,pepboi,uncompetit,mealbal,daytona,drrrryyyyyyi,firebird,inconviei,tablk,wiuyh,imparti,mtl,unmotiv,revfromca,inbox,appletini,stroganoff,firecrack,mindset,veer,beall,screechi,skippabl,kitchi,resold,stepcheesecak,hasta,compt,sassafra,unspectacular,wintergreen,spiderweb,arroyo,margaret,withdrawn,stripsteak,ingrown,candor,paprika,profainti,clencher,fifti,corad,kaimaki,karidopita,meze,tarma,arghhh,carver,rejuven,wkd,breadwork,grandpar,ungodlei,blandest,demor,lauderdal,vinegarett,buren,wether,deflector,liabl,spew,evoo,methink,mum,pointag,haluski,peirogi,dwindl,steph,stereotyp,unenthusiast,gurtner,panfri,commuun,rilei,romin,suddemli,goei,grata,sak,uglier,unsold,ineffect,studious,bemoan,rupert,tabloid,cynic,payback,snub,mehhhh,grisli,atl,cosist,falcon,fukuburg,shaka,uuu,keener,checklist,sabelt,prepster,gpu,kidnapp,molest,buggi,flir,xinjiang,tel,cucina,piccola,hendrson,mirabel,directori,acc,baldman,consumer,westwai,whoopi,blight,precinct,crotcheti,bentlei,asandwich,frangibl,pellet,rifl,nock,blemish,irl,wha,yyyeeaahhhh,aftermarket,alloi,schlotski,marriot,airhead,stubli,heterosexu,unfriendliest,andbth,vegtabl,gnome,molotov,smurf,wrestl,kiwispoon,creamier,noah,grimier,nieghborhood,aros,int,limei,nicki,avola,brulet,nero,yummo,scallywag,ninetta,contriv,buttend,kniwn,grouchi,kia,bod,chippendal,emce,stripshow,craftili,rosco,relent,beckett,durant,hillston,moni,boucl,markdown,alllright,tp,sow,probelm,canuck,chitos,davi,newmarket,brooki,munchi,byochair,lowli,baco,irk,inlin,pamika,abt,gaucamol,limead,fatso,laguna,nerf,ohop,goid,kany,unexcept,skew,bonz,baingan,bharta,delhi,kinko,repor,cao,tomal,xiu,boltini,draperi,imnot,aji,anticucho,bolster,cau,chaufa,criolla,gallina,midafternoon,mignonett,mixto,peruano,saltado,santi,seco,subdu,tumi,dall,palau,astronomi,cmu,emphasis,fundament,snacker,waaaaai,anglo,boti,dimension,earlybird,hazier,misfortun,oppress,overtli,undul,vixen,knickknack,deriv,tobasco,capiccol,etaient,laurin,marcel,ottavio,poir,prend,recett,repris,tyber,ambit,auspic,disneyworld,dual,straddl,troubador,wealthi,stickin,blous,heusen,jaywalk,reread,homeopath,boreal,arlecchino,gelateria,buoyant,joie,moul,vivr,blockad,dougla,foggi,funnel,homeland,incess,mcmansion,phenomenon,purport,radiohead,scandinavian,cosmoprof,darbar,gilaneh,soltani,culantro,furreal,analyt,chevr,englishwoman,frenchman,irishman,lifeboat,nonprofit,phoenician,wilfr,plaid,depict,cheapen,forceful,humdrum,nitrogen,khouri,diamondback,overcam,duli,samosonit,alkalin,soapi,bluberri,repat,beij,consolid,copyright,peoni,prestigi,walkthrough,karahi,kheer,pakistani,weeklong,overtook,workstat,cn,unknowingli,pancit,veracruz,otto,tooni,lacquer,superbad,maplesid,melros,ofcours,shucker,lafitt,cookout,brini,ier,wird,niagra,quebecoi,hacker,kretzler,munich,pschorr,refinish,chinaman,whaaat,zed,addi,cheezi,spaeztl,airbu,jjajeongmyeon,jcp,beater,costa,afghan,afterword,gomez,grout,jupit,seitan,whini,nann,fettucini,towni,jajang,myeon,loooooong,earnest,engulf,firefox,knell,marti,softi,guzzl,potbelli,mooyah,clad,scantli,tympan,disservic,lust,piazza,wallop,dk,adjud,mvd,godsei,gregorio,bacoj,eatabl,sodden,bocho,shunga,mandu,bullsey,checklan,greatland,moistest,shamefulli,tiiggghhhtttt,casio,everli,kenzo,noel,kosher,marshmellow,tiff,obes,yahti,brooklin,dolmad,pastitsio,saganaki,gaelic,semblanc,woodwork,mensroom,carriag,cubicl,tyre,tracker,bernadett,cond,lindsai,lohan,lowlif,drucken,loofah,refrig,lull,zzz,becasu,carbon,freeston,disassembl,gnoochi,schloterback,boteco,coq,docg,fleur,sel,strudel,lavazza,techno,platano,rissoto,birdi,ick,ostrich,valentino,noodlei,sakanaya,alumni,binsu,shortest,margi,senora,suav,ilk,bluenos,pervad,rusti,sweedish,barni,ephesu,palmetto,taxco,unfulfil,splatter,texter,arpa,therapeut,palak,vindaloo,shiumai,leer,cobia,krystina,crabfish,brosevelt,dbag,roundli,medicor,portland,worng,huuug,breakup,f_cking,quiz,marnier,crystallin,kohlrabi,gandolfo,accueil,alle,bocaux,boir,boit,canap,chais,dimanch,ecoli,ennui,ennuy,ensoleil,espac,eux,fauteuil,fer,fut,genial,industriel,lire,marcher,mauvai,neanmoin,negatif,pouvai,presqu,pri,quartier,rendu,restaurateur,vieill,visag,pediatr,phlebotomist,pebbl,skateboard,skatepark,bixi,iga,overdr,dinnertim,coveni,lala,uhmm,arteri,microbreweri,deathli,immin,ferm,propret,leetsdal,pacifico,omiss,clich,ramekin,candlestick,farro,hightop,outward,verbatim,heinou,caprici,exposit,knuckl,obstin,quash,hillcrest,kapoor,susanna,unr,lightheart,prana,cf,cursori,flapper,jacker,reconnaiss,armitag,etqtgluxgrbfbm,nanaljdtgnkdr,rwp,ywza,alto,palo,occassion,defici,wendesdai,blucheez,existst,perfunctori,busy,hardship,tumultu,ethel,strangli,jenner,lamar,householdish,cassandra,beurr,bretonn,cert,epaisseur,gach,garnitur,goutai,hic,plafond,redir,sarrasin,triskel,voulai,dempster,rewind,shyli,totoro,sidekick,lvb,hdtv,kitchenwar,mineo,northeasterli,papya,plod,remoulad,tabsaco,brochett,mixta,osmow,ryerson,tampenad,calabaza,flor,traeger,lub,insol,offerin,loquat,fivegui,handili,meatier,ascrib,longish,quebecois,memphi,bandag,derang,maintan,mangl,brucshetta,molassi,absolutli,sceen,nextdoor,chaing,kneed,sidelin,cheez,whizz,eachoth,gormet,nkt,sushiya,yanagi,eg,loverli,borani,dolmeh,artif,olimp,soufl,soyrizo,betsi,schpiel,hopeless,itinerari,kolb,legroom,seligman,tovar,verkamp,tsg,ff,banella,staircas,tampon,ghibli,ladure,sanrio,unmet,pepto,sie,bouche,fowl,malbec,bonbon,bubblegum,citron,coquett,maddison,papi,smoqu,assosci,superstor,ricki,cuddli,exel,restrur,salid,thid,liverwurst,vinegari,leanest,orfer,coronita,bigmac,mraz,rau,xanh,nepales,parktown,sichuan,soupless,structureless,uyghur,contrarian,dillud,celbriti,paraphenalia,lubi,mooshu,messini,grabber,peru,dece,amazzz,chimichuri,flute,guadalup,instantan,mois,nosejob,sombrero,robuchon,wp,predecessor,reallyh,mbb,phlegm,hoummou,tahina,espn,otb,cohort,fastbal,alight,bkack,chini,escuela,chowmein,mexicano,tbone,acorbat,gibberish,thinkn,utilix,cluck,cleaver,rembrandt,tobacco,brgr,burgatori,feli,awesommmm,tempur,chickfila,euphoria,irvin,pitti,bruchetta,ailment,indo,subcontin,foood,ver,waitresss,dcfc,airbnb,bor,rst,clandestin,regga,ruff,pneumonia,enjoii,johnston,opaqu,dialect,qdfax,brit,sarni,reson,flakier,punctuat,spawn,eerili,stub,pluss,namesak,schmear,weiss,usda,severli,drake,flnvfici,kiga,ucnxfu,otch,sardella,screeeeech,standi,saeed,capoeira,churrasco,softshel,yamato,bareburg,pincher,stuc,nauseum,recit,mcflurri,atmostpher,glitz,mull,painesvil,silvestro,spirito,unlit,audigi,eeeh,thang,bcoz,immidi,swatch,malais,maxx,wooloo,cymbal,likabl,compat,peggi,donato,twister,encrust,banc,chaleureus,combl,fourni,gigantesqu,goutt,microbrasseri,ombrag,ore,parasol,pluie,proteg,sall,seront,titanesqu,verrez,dissent,mroe,adida,bootleg,clamor,jfk,lingual,pacsun,warfar,cosmopolitian,yote,pdss,hogan,lebeau,overcompl,ph,atmosher,protion,convey,krab,whataburg,gilespi,mccarren,rac,nohea,annex,cobweb,quai,anime,boeuf,conven,cote,dejeun,malgr,mauvais,ni,niveau,oeuf,retourn,reveil,vit,locationg,southweset,edem,enthus,demo,pavillion,whatcha,heartbreakingli,whyyyyyyi,doppi,gnocco,kingswai,whinei,swankiest,brocolini,chinsei,toughi,multipack,wgw,wallflow,moodi,nightcap,cistern,computerspher,eloqu,sidenot,chauffa,lomo,beaver,parka,bechamel,borolo,campagnola,sansoni,sugo,witha,oldtimei,sheen,fina,audibl,gmo,mislabel,stye,bluish,mlife,waai,boni,enoki,communion,naanwich,umph,sino,shorthand,huz,legomar,comet,palomino,sofra,hoard,limbo,resili,blarg,buco,sobei,burpdai,yelpsearch,snare,okaaayyi,parmegeddon,rugbi,winc,blur,lasik,prk,floati,hallucin,lampoon,tarantino,za,creepili,deepest,peppadew,zeppelin,razz,smuggl,housem,momocho,orida,flagstaffian,intertrad,rebui,sustain,adelant,artista,asi,calefaccion,dia,fria,hacers,lugar,manana,mejor,mirar,opcion,pero,poco,presentar,primer,pued,quien,realment,revisar,rica,seleccionen,sistema,tienen,voi,foliag,waaaayi,gnr,glowingli,sconc,noh,cologn,overdid,rossi,abierto,debe,esta,seguir,una,secic,airsrtream,cylindr,dormant,curteou,statesvil,wt,mindfulli,piazziolo,rejoic,rusan,yasai,raaaaaar,saccharin,vidalia,yuri,kadahi,tlike,wrighulgh,ait,belz,mish,promenad,eggcel,eggstaci,mascarpon,reggular,speggtacular,forego,overgrip,planogram,racquet,restr,restring,viabl,cheesecakei,lunardi,ossobuco,curst,rebrand,setter,seemeda,ambrois,carbeau,cheval,ciel,dieu,chantilli,reallyyyi,minuet,arcan,lumbar,otber,doublewid,peorogi,cohen,leonard,suzann,hite,jiga,torranc,antonopoulo,bourguignon,bumbl,counterbal,foothold,gastropup,hote,breadth,divulg,primo,aritzia,kx,lululemon,meetup,mire,plato,uo,zara,salter,looooot,mgmgrand,carbi,szechaun,babka,chocolatin,boggl,dhaba,poundag,writer,flove,breadi,dback,marcona,culver,chuan,lunchbreak,darryl,deede,lorrain,quiana,tempera,riddl,yoi,gram,answerd,monoton,contrair,difficil,essayai,imaguin,gumboo,humm,alehous,bil,instig,nube,sil,erma,nt,codenam,teriyak,apdbjbueq,biia,cxv,dg,eggstasi,enrob,fukyf,gruyer,ihxqnw,iikkb,jot,kap,lq,moisten,pq,shh,uefovzzdubgcy_q,valrhona,yixqdkw,outhous,osetra,refold,tiradito,butttttt,convieni,carnegi,korq,standoff,shipper,carrri,cedarland,lebanes,localdin,ref,csx,jackhamm,transient,grotesqu,hudr,porno,seemless,overemploi,quail,aiola,bitterballion,distat,icecream,groundbreak,alfalfa,od,philadephia,teashop,baskin,robbin,arrarat,orchestr,simular,speede,kari,kwai,mundan,neko,sotong,tablem,teo,arrabbiata,clove,zeppoli,kuzi,wardoff,laymen,yorkshir,dimar,luisiana,loa,mauna,brava,patata,roulad,boer,dominion,dorchest,flatul,mago,marg,unfortunt,chikn,nicholett,yepper,basilica,dame,amazinggggg,kohl,stoopid,baysid,terroni,yadayada,downpoint,cerveza,euphem,nogal,siphon,spini,tecat,armchair,mediterian,reclaim,thunk,topping,problen,bocca,etsu,konnichiwa,nosei,mula,vampiro,cibo,lope,pinesol,dashi,hebi,lilokai,liqour,spaezl,whammi,yak,goubuli,adelaid,hakkasan,remiss,sixteen,vr,bather,poll,lifehack,immiedi,waitre,grope,hairmast,supercut,acr,megabu,chloron,bleacher,canner,javelina,mesculin,mtn,nari,hookipa,sirracha,yoshi,pucci,freed,guestcheck,imageri,seclud,disillus,arc,cheapo,triomph,nicknam,kama,sasa,jiang,zha,annona,eggdrop,northsid,langer,chapstick,admitt,suction,ligat,tubal,unw,shawrma,paska,banter,schtick,salari,giada,fonctionn,font,longtemp,diven,bhaji,oyu,kaow,kelp,ehhhhh,atti,advac,blase,dreamsicl,earthbound,foursid,discript,vua,bassett,cuppa,subtandard,recollect,bosh,pore,aahhh,avacad,crabmeat,kirei,okayi,resaur,nisaan,nismo,andjacuzzi,expeditor,skinnylisi,piecem,wo,montford,exasper,affluent,hummer,jag,tycoon,flouri,ndjua,gloomi,landlock,kimpton,lustr,hormel,owl,kaji,rehaul,reguard,huhuhu,riskaai,zag,zig,lsd,choripan,carribean,porgi,geisha,fromtim,penasco,gordo,bumpin,isabel,mamaka,unenjoy,ivei,killo,pusher,sentricon,terminix,citadel,jog,connaisseur,seewe,torontonian,burdensom,leopard,lolli,nsb,maserati,thebar,labatt,esk,ncdmv,springer,yaaa,toulous,yummylici,suspend,lulu,monsoon,blehhhh,blehhhhh,yuckkk,elena,cevapi,croatian,dubrovnik,farina,karlovacko,kava,palacinka,raznici,sarma,slivovit,trkska,earlob,orecciett,affluenc,apero,aurait,chouett,commande,courg,craquelin,cremeus,davantag,discut,dispon,emplac,erreur,gentiment,guis,meprenez,oui,ouvrait,parmenti,particulier,positif,pu,quoiqu,ramequin,recu,repar,reviendron,saumon,semblait,soire,suffisam,tete,durabl,yari,grr,fulsom,amaebi,duncin,coutur,hollindais,bayview,kenkou,chil,conundrum,deleveri,lazagn,selction,empas,sangioves,savignon,comfier,meater,hah,ferret,flounder,oakra,pubiic,bfast,rs,yoke,fwiw,meahhh,bladder,louisvil,merfolk,regnal,siren,trenta,pier,seatub,dangit,fru,awh,ight,remold,russ,windsor,offlin,servei,cun,amatriciana,pulver,saussag,childress,klein,bowlolog,pitaya,hallmark,taintor,mitig,ro,paltri,panhandl,crudite,besso,chiado,haut,lthforum,nothin,osteichthy,pix,ponderosa,interac,eventho,atherton,babygirl,baconi,sonofabitch,enviou,hicken,alliter,renegad,kindof,unauthent,jeesh,booyah,dispers,clu,hellah,lombard,bessi,laurent,replica,cotswold,ostentati,suuuper,schnapp,cantin,liciou,ramezai,tupperwar,yayi,slobberi,mongo,ramif,rectal,scath,slowish,stif,transpos,grayhawk,troon,attroci,fromt,shushi,worh,killian,gotham,subscript,kk,snowman,sectionm,teapot,herbac,waffel,decari,fiber,madtosh,paraphernalia,aww,conjur,williamsburg,loooooov,baton,sleet,albino,kreischer,shoi,jook,wildest,bundtlet,undeliv,frersh,ordrer,surpringli,eatri,blushberri,militia,readabl,allai,allait,chaud,disant,emport,frigidair,lu,personnalis,prendrai,presse,reculon,refroidi,remet,venir,chachi,fcuk,forshizzl,mayfield,phobe,yessssss,sorrow,var,frontrunn,sheppard,tranc,halloumi,sidecar,clang,mooooooov,sheepishli,southpark,sci,starchi,gelatier,thot,francai,hothothot,seater,somber,fron,tof,hanoi,documentari,lifelin,moviepass,cel,manolo,ctyd,ethernet,momofuku,betweent,cheesiest,overfil,thong,bz,madli,feather,feeder,heron,waterwai,bonaventur,brime,brimlei,chophous,davidstea,distressingli,dollarama,foodcourt,ip,kb,ltr,lyne,melani,reitman,scarberian,stc,tandori,unstabl,scrumptou,jaimi,banker,edison,sass,bistec,plaintain,alc,mgd,chiiii,chillax,callous,gramma,inordin,abyss,memo,silvertip,emphysema,dodgi,predetermin,suspish,enlarg,rabb,crcr,sumatra,enuf,breakag,brianna,intermitt,thomasvil,thomm,cailei,braddock,muah,afff,cham,thornhil,zoom,index,veto,sunnyslop,cldnt,darci,waxologist,motto,shashimi,colossu,marlborough,patent,fran,weeni,ryu,casbah,ragout,absinth,immers,licoric,macho,bloordal,chito,decibel,brink,carna,originaux,alison,chevrolet,ecoboost,turbo,applogis,backlog,currant,abend,allem,anbraten,angerichtet,appetitlich,auf,bedienung,bestellung,betrieben,brauchten,bzw,dass,ebenfal,eher,ein,einen,etwa,filial,frisch,fruhen,gast,geeignet,gekummert,geoffnet,gericht,getrank,große,huhnchen,imbiss,ist,kein,kett,knackig,liegt,mehrfach,mochten,muss,nach,nachgefragt,nachgeschenkt,naturlich,noch,obwohl,reichweit,sagen,salat,schnellen,selbst,speisen,tisch,uberschaubar,unmittelbar,vorteil,wartezeit,wir,wobei,zeitaufwand,zugig,cushioni,hubbyman,streusel,elmwood,loreen,menthol,rmt,stillwat,suffoc,unisex,animatron,cigawett,crosswalk,drunkenli,favreau,ko,ostrac,reenact,repress,rtc,sociopath,swinger,thunderdom,winchest,yesh,crescent,motherland,pilgrimag,nestea,remezzo,scallopin,conga,uv,adeq,emiss,fotb,bokoro,madagascar,backstreet,brah,caldwel,lfo,sync,eealli,sosi,velveta,asparaga,citycent,porchini,trattoria,persona,betcha,mastercard,castmast,meso,beefi,lexxi,paranoid,croagh,saracha,adelson,asani,nhi,aliev,poignant,quiri,toco,habibiz,het,evelyn,matent,cozier,geauga,pornographi,realign,springi,barkeep,comma,lunchroom,stcum,bri,pilsner,ht,alfr,hitchcock,saguaro,allov,tinga,gettin,mmmmmmm,capricol,fructos,hfc,eeri,aaaaand,doff,folger,rom,leaser,substrat,powehous,wer,expo,insuit,dweller,sidl,unobtrus,burndt,carmelaz,reataraunt,adina,cheezburg,chikin,chocolati,speacial,gandhi,ghandi,pastier,pliabl,mdw,bouscul,danser,vite,punctual,rhoda,shawerma,remo,cromwel,makj,nnight,stiletto,lagunita,rhapsodiel,covert,vicinti,niu,o_o,qing,rou,reso,tripod,visabl,abagillion,bouillabaiss,soppressata,annnnnnd,argula,holstein,precursor,waygu,pau,geezu,pinkberri,outpac,tork,neveria,beacon,bloatat,bloatios,chaparr,coalesc,endeavor,eyesor,flap,fvck,garish,gasstat,handful,insomniacian,jalopi,kelvin,overhang,perplexion,prefab,rutti,sheetmet,soinic,sonicag,stouffer,tele,thinge,thuggish,whereev,whoreishli,whorish,witheringchap,wrinkli,mediev,todd,lombardi,abstin,hearsai,makni,pappadum,momo,hock,mau,geologi,leighti,racial,ratemyprofessor,bymark,cress,tonno,broaden,larb,nuk,chiro,noggl,unsauc,coloss,marika,pblt,mcburger,borough,comerci,crag,jatujak,alrighti,kj,finch不太大的mall内,上菜速度ok,价格少贵,份量几足,位于士嘉堡warden,午市有特价粉面餐单,喇沙汤底唔够香浓,大餐单系张好大的餐纸,当然也可以散点其他,无图文的餐牌,晚上才全场开,服务方面还算ok,烤羊肉串不过不失,适合两个人分享吃,餐厅午市只开靠商场一边的偏厅,campground,aquaria,hullabaloo,liveaquaria,lovebird,parakeet,reptil,zebra,anejo,putti,assert,thew,kiltlift,premovi,ultrastar,dishwat,jeni,tzaziki,hankerin,headcount,winnipeg,thoe,nightshift,rez,clomato,bidder,marguerita,thisr,lvoc,purteee,collector,mattycollector,olli,dysport,agreeanc,calv,convict,felon,holondais,saveri,dwali,aaaaahhhh,wayward,foolishli,shizzl,gojiccino,nutriti,totrtilla,unchain,convenienct,vitner,gobbler,cambelback,tarian,drivethru,goooo,gotcha,lessss,millionth,tome,gobernador,saucei,roomier,boob,hijack,fugi,eid,heartland,khan,falut,reassembl,reinflat,perki,medicar,parkad,skinylisci,artistri,zarkana,capacitor,frisbe,paddl,bobbyq,caramba,carolin,fril,smashfri,prototyp,tamer,wamart,tother,stacker,bruscetta,donno,broc,donutast,xilfkuyaq,delano,divis,fhr,thecaf,thecofeebar,thecoffeebar,thesuit,unexplain,cashman,porcini,salumi,hipsterish,murkish,smokier,vegh,frangelico,imbalanc,pomtini,teal,ccr,doobi,nickelback,nuh,rudlei,barilla,kinton,expabd,avez,besoin,boisson,cachent,canadienn,ceux,demandez,devrait,dirait,habituel,leve,oubliez,personn,pourriez,pouvez,preferez,quand,quel,recevrez,remarqu,saura,trouver,verr,ped,bathurst,croquant,harujuku,mukimuki,dirtbik,minibik,motorcyclist,sportsplex,bollock,goddam,mediaocr,pollock,sozzl,grav,glorious,sloooowwww,waittress,canh,readjust,poli,roli,abalon,kimono,picturesqu,snowsho,bakalwa,fatay,pistchio,shawarama,tug,astoria,granul,christmasi,nighter,meanest,dukem,shuro,wot,wuss,yemis,granari,greasier,llewelyn,huhu,overlwhelmingli,rocher,skor,chickrn,karaag,yokohama,tempranillo,zinfendel,zinfindel,boorish,datcha,amaro,grana,guancial,montagna,stelvio,reallllllli,apeit,leatheri,bananaqu,denizen,esoter,hoppin,mindi,mocktail,carvel,carvelanch,anyhoodl,correi,interract,waaaaaai,bamm,divvi,getto,ghanouj,broch,goldstein,hoodlum,mitzvah,shmaltzberg,borscht,wrappi,potatoei,teryaki,jammun,lorex,otoro,shibuya,tarantula,bdw,exp,gha,ridonk,strewn,romero,shaun,slipknot,sulli,baklawa,mana,noob,buttercak,polpetinn,progresso,roh,rut,wolfi,shrimpwreck,meatzza,seeker,balzac,yuen,orecchiett,flack,mispronounc,jammin,partum,slag,spankin,charsiu,laffa,lemonnana,saluf,bendi,shirlei,oreder,excav,foreman,irrig,jerom,piedmont,slingshot,unfold,uninvit,briquet,wm,azaria,overdo,presntat,showuserreview,toronto_ontario,aloud,cargo,waitron,yeungl,arnt,travesti,cornor,bossa,thumbnail,lakesid,mesu,hoverboard,frigid,inlaid,prettiest,hangetsu,zakkushi,desput,buciut,oblidg,whe,dineen,trite,restsur,mardi,rocksid,crispli,wishbon,debut,strombolli,unfortunatlei,despair,floodgat,nasir,prolong,psycholog,unse,airheaded,appx,inoffens,smatter,avol,canterburi,hrh,vintagei,flem,glimmer,nhra,powerad,spectat,costilla,alki,capoianni,amphitheat,orch,trademark,psvita,amweodyai,acm,yeee,barbour,herschel,koop,nat,te,rumfish,spicy,murph,paddi,fuckin,riverdal,rhubarb,huong,nuong,pth,thit,sazon,cadi,demin,geet,quesidilla,abv,earhart,labyrinth,jheri,porridgei,burp,dion,muahahaha,redbox,asymmetr,underpad,firstdatefail,hoars,kennebec,microbrew,speedili,superfood,soondubu,berea,eastland,affl,anytgimg,sush,waysid,serendip,payout,douchei,fininsh,vic,truckload,agua,clarendon,ensalada,fresca,peruana,tranquilo,charlotean,taramousalata,havoc,weaken,beefsteak,cut_,heitz,steaks_,tatt,vineyard,watercress,cowgirl,uordinari,raisen,mcewen,pusaterri,theoret,ourself,holm,landslid,lassett,lawson,multifacet,undergrad,sssoooo,tanzania,tiresom,banan,griot,kitcheb,reallllli,folllow,sambal,untradit,yakitori,ghoul,souz,citrusi,tensai,countrif,injeolmi,sizewis,johnstown,certainti,assuag,cognit,coher,intemper,loom,bennihana,higlei,hodg,podg,radiant,salyl,unoccupi,billabong,huntington,kahuna,quicksliv,tequito,lucullu,roasteri,colorfulli,chojang,gorton,sconni,presidenti,katz,westbound,pistolero,bak,kaleidascop,homestyl,folksi,heroic,shapeless,slime,homosexu,fundi,msc,reproduc,scenei,straggler,tobanyaki,strickland,ust,negro,massachusett,donburi,barnum,eleph,puggl,ripatelli,catherin,eeekkk,unfil,aglio,olio,xfest,goya,cheuvront,beechwood,satifi,lowbal,latta,romar,crapper,flippin,hightail,numm,nummi,nolen,prissi,easten,reccomnd,rushli,lori,esc,eggfast,paig,margarheta,bitterballen,morcilla,comatos,garth,koo,brizza,chewn,toluca,hungeri,grapevin,plaka,sophia,taverna,unbuss,spotlessli,hoot,moneygram,bevi,zomg,powerpoint,storei,quacker,coldston,brodetto,giftcard,huug,manara,stemless,tide,wineglass,spelt,coffeemak,creemor,hernando,jave,primetim,aqnd,connoli,shiznit,aahh,bathrm,flr,mrng,ngt,sz,cava,margharit,proscietta,yick,minus,evapor,monk,behl,karachi,repel,uteru,coupla,glaru,stalwart,han,hans_moleman,anatolia,streetscap,abut,idgaf,ripest,rarer,silkier,gei,hama,negi,yesteryear,trendier,carib,suckl,teat,vortex,softli,bagh,databas,deepak,interim,tomfooleri,veral,hunan,shiang,tien,yu,pushin,sudsi,debon,dover,licor,tartufo,borrello,lewi,rawl,zani,rci,bimbimbap,quadrant,romado,xanthan,balmi,decebt,exept,hypocrisi,sabdwich,sandiwich,serpentin,shab,cutzi,ansi,secord,chimichang,angostura,astroturf,popicl,singha,yen,shunta,eden,brainpow,dexter,julep,moreno,starship,carmener,centerpiec,havana,shmear,spritzer,primit,sheetz,bloodstain,bosc,atomsher,lke,tgi,unsurpris,aperol,terriaki,maman,ax,huddl,personel,presser,richtre,ambigu,spiral,weirder,gastric,genit,gerd,perturb,rhapsodi,pomeroi,rosewood,ino,charanda,rolaid,savannah,wallah,serivc,coddl,bunna,chuhuahua,charlei,guardian,safelight,inna,vigi,ballantyn,lareadi,proshop,brac,bric,cavali,dappl,espi,ezra,preen,quixot,sho,tamper,tirelessli,triad,viz,croak,strongarm,carsid,veeeeeri,prolli,backbit,ward,pothead,accro,anne,arrive,aurai,compagni,confitur,copin,cors,entendu,essai,evitez,familial,gravlax,habitai,laiss,parler,poch,puisqu,regn,sorti,toutefoi,travail,venait,fruitti,overpoweringli,hahah,jist,weyerbach,vildan,goodfella,holdout,beneit,steetcar,autrement,enerv,nul,pourrai,lgo,tyson,nitro,stead,condominium,risen,cet,extasi,magnifiqu,montrealai,observatoir,vue,deffin,indiscern,epicent,floppin,mankind,wearin,rebuild,crai,eyesight,ricketi,enclav,magherita,desicc,emaci,trombon,undoubt,pamplem,schwartz,xchocol,costlier,buttah,deen,ohnoyoudidnt,paula,pizooki,breathlessli,flunki,makapu,saikyo,settebello,tobikko,zuke,packer,blip,compars,muddl,unexcit,borgo,liven,nape,nicois,puriti,underset,undersold,aruba,restraint,reconfigur,authen,chiken,northen,endiv,artoi,rediculi,fore,casin,masterlock,waitin,heaviest,carneasada,goooooood,juicier,contr,ebullit,eus,froidement,maladroit,original,plui,propose,rappele,secteur,situ,marghertia,madden,bayless,stretchi,topolobampo,paloma,splunk,surver,ramadan,aceit,cabra,escabech,gristlei,pulpo,quinc,tarragon,mel,whooppiee,humph,complant,potat,vib,flamboy,havento,rhodi,absotli,credibl,recapitul,arrachera,footwear,southcentr,otherhand,urbanspoon,befit,festoon,gameshow,pleather,sequin,siberia,alcov,benedicto,galett,mediterraneenn,bygon,frederico,macayo,annywai,asthetician,mink,receiptionist,abhor,bouchervil,qc,woodbridg,camuto,lrt,micheal,vinc,sharpen,mushu,monorail,ballantin,reusabl,afoot,casualti,honolulu,inconsequenti,mccormick,schmick,ichi,sora,palazzio,overtipp,spoilsport,diveri,assimil,chiptol,ethopian,strongpoint,wil,actuali,macron,guevo,quesdilla,winteri,deviant,glam,clung,intestin,siumai,harbourfront,lnc,neuf,whaddaya,santo,unchil,whoooo,muggi,arriba,brien,julio,mata,absentmind,sakeok,dotti,charismat,knorr,overrul,hater,sandbox,tike,kyot,inwhich,slooooow,guu,cara,eash,atmopher,roncesval,dieter,flapjack,gigonorm,overinfl,procliv,blowingli,guggenheim,tastic,jule,pinwheel,thobor,heatabl,frak,avo,teppynaki,tc,amenti,shameless,tackili,pursuit,tian,nano,sharabl,handcut,repasado,ruthless,anomia,wipedown,agani,oktoberfest,wallab,complac,creamsicl,fletcher,unc,cusin,brothel,folder,penal,bof,general,peux,tripp,reshuffl,sobe,tyropita,enya,gami,yanni,burberri,menswear,shick,upmarket,siopao,hochelaga,hundi,ladybug,chirashisushi,chutoro,counterbalanc,fluffier,shoushin,tachi,tekka,upris,hv,favorito,volveria,mindlessli,chulupa,supa,tb,sugarcan,razzi,portabella,acoomend,teff,verbos,graeter,pinecrest,fart,chasui,dilallo,trappist,heheh,finnegan,capella,jalepino,anarchi,crosandwitch,unfff,pobr,settlebello,coexist,douchefest,muzaaa,fugo,hoi,softserv,sacrilegi,rebak,soni,spcial,nba,salmonella,giggli,pullano,mylk,suja,cdn,neig,chesapeak,kefted,becar,bearer,effiloch,fameus,porc,artsi,machiatto,pleezsh,weck,avert,hardback,pail,pulpa,uncultur,wistfulli,awl,edamami,reccommend,yumyum,pavlov,skydom,seet,amantra,jeera,rasmalai,tdb,orzo,sabayon,jjangmyeun,mofo,shami,pillowei,redbean,avacodo,esthet,slc,ddukbokki,soondoobu,sunspot,firefight,harshli,kudu,physiqu,tricep,bridlewood,gameroom,pene,withheld,reynoso,kurig,everchang,rosita,asti,eo,hgjigej,hsfvlf,jabi,k_guwf,moscato,ocu,qiipa,rajq,rrm,sinewi,tuap,ybklkmg,zfq,biscuii,biersch,macro,artic,seablu,alfresco,crescenza,downward,foxrc,pequillo,prettili,raveworthi,versatil,coercion,mcalist,sharer,ae,contrapt,footlock,garb,hamster,hollist,malani,tilli,tween,zumiez,commingl,msrp,gaw,lolzzz,wane,hydrangea,pathdeal,algebra,flatli,russo,pedast,creed,denser,dupont,gringoish,dere,fastfood,lebowski,ramun,albina,charcuteria,iberian,romanc,tapeo,cmonnnnnnnn,ancho,fogo,restaurani,binieat,ensenada,bedspread,superclean,aerosol,beansprout,miracul,bourekah,hamentashen,rugelach,arayna,worrisom,trusti,frolick,oddbal,apex,linguist,outsurviv,trepid,wormlik,aglia,accrocheur,ais,allant,approprie,artisanal,betterav,cherch,cheri,cochonnail,complique,couvert,depos,developp,different,doivent,effet,entrecot,erabl,etap,histoir,identit,invers,jeun,jugement,laisser,lapin,leger,lourd,mademoisel,moutard,necessair,onctueus,papineau,partag,passant,petoncl,planchett,porcelet,prefererait,primordial,rappel,rattach,represente,reproch,saucisson,sentir,sera,simplicit,soit,tant,tendr,tenu,tremper,truie,verv,funfetti,pillsburi,mmhmm,neet,arika,here___,downtownphoenix,fuku,poundcak,deee,drunktard,enema,michigand,ooookai,piston,pratfal,shwerv,trooooit,unwatch,wgaf,buffaloian,linear,passersbi,mozel,slai,eeek,cort,fakher,slowwww,outlaw,professionali,soprano,undeserv,hearth,speedier,unfri,mentaiko,ceebriti,supposs,briyani,pocki,dishevel,moussei,tappin,brut,chrisp,corkei,eggless,injeomi,nahmean,comed,oxid,sqeez,kaiser,clovi,loma,mugg,batend,freaki,havta,whiskeyberri,somali,cypress,workdai,margharita,crudit,drumrol,galum,inward,lasal,pip,thalli,maribel,calmement,charge,charmant,commencait,commentair,croir,dison,doi,engloutir,entier,etudi,gauffr,lorsqu,malheureus,mariani,miam,passe,passon,reste,serai,gremlin,olivor,restaf,novella,underwear,margot,haird,mutton,redpath,upheld,camto,summeri,scuzzi,emblem,changi,insectarium,prossess,saison,bullsh,caesari,dealio,groupl,odessa,bab,gim,krn,bismol,godaw,ciopinno,mccallan,nooop,prose,fairi,malpequ,glut,bodypump,bonker,fafa,grang,kaka,hooyah,meek,nonmeat,sensibl,giardino,waaaaayyyi,handwritten,probbabl,ailleur,avaient,carrement,cuisini,doit,emboucan,figu,gagn,offr,papil,piquait,pogo,pourrait,renvers,repondr,seduit,vingtain,yeux,superflu,cofound,fob,quinten,jovan,crunci,stude,handsi,drap,jerusalem,looker,magret,ornat,pissaladier,porchetta,kabuki,nu,somth,breakthrough,tsu,amf,ful,drybar,boyfrend,fung,encompass,katsuya,shinshu,shiso,zinfinadel,bibimbop,jewellri,collabor,gratitud,beautyrex,forgivingli,hastili,volumin,vengenc,unbehav,indefinit,niber,turttl,jani,lilipad,swimsuit,clime,omaw,barbari,uncr,coconutti,fyitm,rng,carolyn,cruvant,darken,hibern,winterbach,flurri,smartest,deaden,affront,cleanish,ech,thee,goan,janel,dottsi,mewl,sameth,welington,raggedi,yelpi,manapuu,setebello,katelynn,sacrifici,lopez,grissl,mosli,neptun,streghth,fossil,orat,chirashidon,cetera,dragonair,dragonit,dratini,photoshoot,pokegym,pokemon,pokestop,splashpad,weetot,lambchop,spongebob,dicat,onoir,farrut,dorad,hefeweizen,marzen,rockytoberfest,barenak,bilk,canadiana,connor,crowded,dvp,eeeeeyiiit,eep,tca,dubstep,hooka,davinci,moushi,artisin,hungi,allan,arrabiata,aspiral,barbaresco,barolo,blair,castello,dea,deanna,fritatta,miln,quaf,verduno,wholewheat,zucca,consom,doser,interieur,paradi,parpadel,mezzanin,nicknack,chan,acceler,ecu,pedal,unauthor,ehhhhhhhh,cheescak,wendov,armless,incread,polli,attentit,mediocor,recipt,richlan,suprisingli,biali,pide,champag,biaggio,zeppol,douteus,homm,jusqu,shishtaouk,sortant,deluca,mateo,romolo,graffiti,showi,charlton,equivi,torward,dimshum,eval,kuan,lanzhou,kana,kix,doh,kinh,yagyu,overpour,bathhous,asiam,blitz,congi,fon,subset,paseo,outbound,drumlet,cotten,chivalr,errat,woefulli,nearer,cooktop,nonalcohol,greenwich,pirogi,matsuda,avellino,penza,fleec,udipi,chiarishi,gossp,skinless,twine,alida,anglais,conceit,heeelllloooo,lemondrop,goonmandu,jjajjangmyun,tangsuyeok,sitloin,jetton,casser,delicieus,merengu,grump,snarl,duchess,amtrack,amnesti,budda,edenam,finsih,intertior,samshburg,utilitairian,hight,reco,fmla,guch,cannibi,foooreverrrrrr,hahahaahahah,suckin,ruelo,hakksan,cyclo,hoan,khai,bulgulgi,chapcha,cutesi,instagrami,pinteresti,sambalatt,boyko,hillshir,rework,presotea,prettier,disect,hiatu,grotti,litmu,uncertainti,weaker,dreg,affix,cibatta,harriet,harriett,irresist,gula,melaka,rojak,chamberish,especiali,glide,gull,loafer,osaka,bristol,dufferin,duffi,monetarili,chinchsi,个人坐有少少逼,人台,出品ok,及第粥,吃完个粥饱到吃唔落其他嘢,周末仍然都系甘多人,新净同靓左,点前埋单还有优惠tim,环境貌似经过重新装修,真系好多料,等位等左半小时后终于有位,隔了长时间再离就无左啦,puttanesca,peperpmint,painfri,sunburst,birdnest,permil,duri,fishin,workmanlik,niman,sevric,cholla,croquet,racquetbal,sreve,benedum,piccatta,vinegrett,ashtanga,hatha,inspri,sancturai,sequenc,vinyasa,aiport,kokop,vinosquar,luau,latrin,adovad,wholesom,menfolk,oldschool,remix,rnb,scald,tapwat,taxiderm,turnonff,emul,alarmingli,cinderblock,fauxhawk,fuch,haughti,moonlight,scrimp,yupha,freeload,mangoito,thikn,cristen,kristena,dyson,philipino,balsalm,orfu,reptilian,tertiari,cinderella,stepsist,beaverton,ebt,calamansi,ensaladang,kecap,lasa,talong,huuuugee,weve,mutli,gentian,ginza,preoccupi,mori,woodland,cheng,gingeri,orangi,sfr,echelon,schizophren,elus,gulf,thrifili,vain,purifi,ulitm,competitif,francais,gilford,interessant,millefeuil,schiken,cho,perdu,rasberri,brrrrr,starvat,blat,mimick,flatwar,jackwagon,tucki,gauch,hologram,personifi,rustiqu,tournesol,fuggedaboutit,thaie,ikura,tobiko,backer,boxer,employmemt,hl,parkinglot,bridger,chainsmok,deng,esspensive,presal,funnili,yin,soooooooo,ciabetta,themeselv,isaw,vladimir,pitbul,espressament,boul,cardamom,chaleur,constat,couloir,donnent,engouement,epice,etroit,fenni,gache,goyav,halva,pamplemouss,parfum,plupart,reper,rhum,similair,tester,trottoir,serviv,heydai,flummox,cacher,coinc,deprim,evidem,faim,faudrait,fete,fraicheur,genereux,juger,lipton,loup,mettrai,nouveaux,overmarin,reellement,sert,sinon,speciaux,typiqu,veut,leewai,sorensen,rgb,creamciscl,toula,geox,naot,papelon,rta,carnagi,lester,snowden,outlai,unhurri,crockeri,dippi,sallyann,skaterboi,ideali,mehhh,koko,tarot,yogurtolog,bigl,mousaka,pilaf,shud,entrac,keed,pazza,economist,greenspan,bellpepp,apparatu,clarison,flail,payoff,ebgam,slloooowww,winghol,aceituna,bilbao,pintxo,barnon,psalm,sobbingli,stent,nurtur,hodori,choco,barbequei,pulp,janix,chrissi,sunterra,amazonia,barbarian,croisant,cull,artemi,medusa,perseu,techi,cheeki,beng,gwai,hippest,lacon,overreact,twentysometh,itun,muzak,schlocki,rava,dorf,beefeat,guido,jive,antacid,madina,colosseum,fiorentina,mulino,padano,stracciatella,airier,soso,garganelli,westisland,ua,gigli,buuut,bibimbob,booklet,ktown,ufo,uoft,brail,doosh,zimbabw,makeout,mercifulli,oishii,cuttlefish,kawartha,flamenco,revolucion,hygentist,movenpick,stepmil,happiest,highschool,overoak,specat,fusilli,unediblei,duckl,qjd,dawg,greenhous,lakefront,belair,brasa,unenthus,reaon,backach,trup,boeski,burk,cloonei,ella,fitzgerald,jethro,linu,pope,spink,poki,corps,gaspworthi,forefath,zzeek,littleweird,daintili,carveri,swimwear\n",
            "Time taken to create bow for :74.76181936264038\n"
          ],
          "name": "stdout"
        }
      ]
    },
    {
      "cell_type": "code",
      "metadata": {
        "id": "0-LMUoQ7wtLG",
        "colab_type": "code",
        "outputId": "cdcc0e4a-5895-4942-9201-4f4d97048240",
        "colab": {
          "base_uri": "https://localhost:8080/",
          "height": 235
        }
      },
      "source": [
        "import pandas as pd\n",
        "bow_df = pd.read_csv(OUTPUT_FOLDER + 'trained_data/' + 'train_review_bow.csv')\n",
        "print(bow_df.head(10))"
      ],
      "execution_count": 22,
      "outputs": [
        {
          "output_type": "stream",
          "text": [
            "   action  admir  ador  all  ...  littleweird  daintili  carveri  swimwear\n",
            "0     0.0    0.0   0.0  0.0  ...          0.0       0.0      0.0       0.0\n",
            "1     0.0    0.0   0.0  0.0  ...          0.0       0.0      0.0       0.0\n",
            "2     0.0    0.0   0.0  0.0  ...          0.0       0.0      0.0       0.0\n",
            "3     0.0    0.0   0.0  0.0  ...          0.0       0.0      0.0       0.0\n",
            "4     0.0    0.0   0.0  0.0  ...          0.0       0.0      0.0       0.0\n",
            "5     0.0    0.0   0.0  0.0  ...          0.0       0.0      0.0       0.0\n",
            "6     0.0    0.0   0.0  0.0  ...          0.0       0.0      0.0       0.0\n",
            "7     0.0    0.0   0.0  0.0  ...          0.0       0.0      0.0       0.0\n",
            "8     0.0    0.0   0.0  0.0  ...          0.0       0.0      0.0       0.0\n",
            "9     0.0    0.0   0.0  0.0  ...          0.0       0.0      0.0       0.0\n",
            "\n",
            "[10 rows x 21812 columns]\n"
          ],
          "name": "stdout"
        }
      ]
    },
    {
      "cell_type": "markdown",
      "metadata": {
        "id": "JxQcYgVJUx1D",
        "colab_type": "text"
      },
      "source": [
        "# Decision Tree Classifier with BOW\n",
        "\n",
        "Decision tree classifier is Supervised Machine learning algorithm for classification. Decision tree consists of nodes, edges and  leaf nodes. Leaf nodes are the one deciding the class. This is built using binary recursive partioning. Attribute selection measure which is heuristic is used to split the records at each stage of splitting. It gives rank to each feature and accordingly chooses the feature. Most popular measures are Information Gain, Gain Ratio, and Gini Index. In this example, scikit-learn package is used for implementing the [decision tree classifier class](https://scikit-learn.org/stable/modules/generated/sklearn.tree.DecisionTreeClassifier.html). Criterion paramter is used to set this measure. By default \"Gini\" is used. \n",
        "The goal of the splitting measure is to detect the most important features to be near the root and traversing down by splitting the nodes. The level of impurity decreases as we go down the tree. \n",
        "\n",
        "\n",
        "Gini Index measures the probability of a particular instance being wrongly labeled when it is randomly chosen. If all the elements in the group are classified in the same class then that is called pure. Impurity is the opposite of that situation, that the set is consisting of different classes. Value of Gini index varies from 0 to 1. 0 is pure and 1 signifies that the class distribution is random amongst the elements. Hence, while building the decision tree, feature with the least gini index is chosen for splitting. It is computatioanlly less intensive compared to Information Gain as it does not involve logarithms. Useful for faster training ( [Decision tree classifier](https://blog.quantinsti.com/gini-index/)). \n",
        "\n",
        "Process:\n",
        "1. Train the classifier model with the `fit` function.\n",
        "2. Use the model to predict the test data lables.\n",
        "3. Check the performance of the model using [classification report function](https://scikit-learn.org/stable/modules/generated/sklearn.metrics.classification_report.html). This function gives the precision, recall, f1-score and support for each class labels and gives the averaged accuracy as well. This can be used to compare different models in future. \n",
        "\n"
      ]
    },
    {
      "cell_type": "code",
      "metadata": {
        "id": "RwJ05H7UD6Z8",
        "colab_type": "code",
        "outputId": "7861a6aa-d7e5-462c-9f87-0e2033071dd8",
        "colab": {
          "base_uri": "https://localhost:8080/",
          "height": 34
        }
      },
      "source": [
        "from sklearn.tree import DecisionTreeClassifier\n",
        "import time\n",
        "# Train the classifier with default parameters\n",
        "start_time = time.time()\n",
        "clf = DecisionTreeClassifier(random_state=0)\n",
        "# Group 1 Task: Uncomment following line and comment the above line\n",
        "# clf = DecisionTreeClassifier(max_features=500, criterion='entropy')\n",
        "# Group 2 Task: Uncomment following line and comment the top classifier line\n",
        "# clf = DecisionTreeClassifier(max_features=1000, criterion='entropy')\n",
        "# Group 3 Task: Uncomment following line and comment the top classifier line\n",
        "# clf = DecisionTreeClassifier(max_features=2000, criterion='gini')\n",
        "clf.fit(bow_df, Y_train['sentiment'])\n",
        "print(\"Time taken to fit the model: \" + str(time.time() - start_time))"
      ],
      "execution_count": 23,
      "outputs": [
        {
          "output_type": "stream",
          "text": [
            "Time taken to fit the model: 10.95554518699646\n"
          ],
          "name": "stdout"
        }
      ]
    },
    {
      "cell_type": "code",
      "metadata": {
        "id": "Hnl4S17YuMB5",
        "colab_type": "code",
        "outputId": "345f0083-9ff2-41a0-da11-526f085e9d73",
        "colab": {
          "base_uri": "https://localhost:8080/",
          "height": 370
        }
      },
      "source": [
        "# Find out the most important features from the bow classification model\n",
        "importances = list(clf.feature_importances_)\n",
        "feature_importances = [(feature, round(importance, 10)) for feature, importance in zip(bow_df.columns, importances)]\n",
        "feature_importances = sorted(feature_importances, key = lambda x: x[1], reverse = True)\n",
        "# print(feature_importances)\n",
        "top_i = 0\n",
        "for pair in feature_importances:\n",
        "    print('Variable: {:20} Importance: {}'.format(*pair))\n",
        "    if top_i == 20:\n",
        "        break\n",
        "    top_i += 1"
      ],
      "execution_count": 24,
      "outputs": [
        {
          "output_type": "stream",
          "text": [
            "Variable: not                  Importance: 0.0388773101\n",
            "Variable: great                Importance: 0.0324062928\n",
            "Variable: but                  Importance: 0.0320342191\n",
            "Variable: good                 Importance: 0.0280112025\n",
            "Variable: amaz                 Importance: 0.0165604982\n",
            "Variable: never                Importance: 0.0143632584\n",
            "Variable: delici               Importance: 0.0142258021\n",
            "Variable: love                 Importance: 0.0141690332\n",
            "Variable: friendli             Importance: 0.0097266015\n",
            "Variable: the                  Importance: 0.0091863422\n",
            "Variable: worst                Importance: 0.0089672744\n",
            "Variable: and                  Importance: 0.0085211447\n",
            "Variable: told                 Importance: 0.0085111227\n",
            "Variable: wa                   Importance: 0.0082645404\n",
            "Variable: to                   Importance: 0.007870564\n",
            "Variable: rude                 Importance: 0.0078331741\n",
            "Variable: best                 Importance: 0.0077612715\n",
            "Variable: for                  Importance: 0.0076874985\n",
            "Variable: is                   Importance: 0.0069895856\n",
            "Variable: definit              Importance: 0.0065736187\n",
            "Variable: awesom               Importance: 0.0063998207\n"
          ],
          "name": "stdout"
        }
      ]
    },
    {
      "cell_type": "code",
      "metadata": {
        "id": "B8RjZngFIdDl",
        "colab_type": "code",
        "outputId": "ccda4f7d-f7f1-4f2e-f270-d287b5ac261b",
        "colab": {
          "base_uri": "https://localhost:8080/",
          "height": 202
        }
      },
      "source": [
        "# Iterating through test data to get the predictions of sentiment by the model\n",
        "test_features = []\n",
        "start_time = time.time()\n",
        "for index, row in X_test.iterrows():\n",
        "    # Converting the tokens into the formet that the model requires\n",
        "    features = gensim.matutils.corpus2csc([mydict.doc2bow(row['stemmed_tokens'])],num_terms=vocab_len).toarray()[:,0]\n",
        "    test_features.append(features)\n",
        "test_predictions = clf.predict(test_features)\n",
        "# Comparing the predictions to actual sentiments for the sentences\n",
        "print(classification_report(Y_test['sentiment'],test_predictions))\n",
        "print(\"Time taken to predict the model \" + str(time.time() - start_time))"
      ],
      "execution_count": 25,
      "outputs": [
        {
          "output_type": "stream",
          "text": [
            "              precision    recall  f1-score   support\n",
            "\n",
            "          -1       0.57      0.58      0.57      1474\n",
            "           0       0.45      0.47      0.46      1518\n",
            "           1       0.60      0.57      0.59      1508\n",
            "\n",
            "    accuracy                           0.54      4500\n",
            "   macro avg       0.54      0.54      0.54      4500\n",
            "weighted avg       0.54      0.54      0.54      4500\n",
            "\n",
            "Time taken to predict the model 3.567385673522949\n"
          ],
          "name": "stdout"
        }
      ]
    },
    {
      "cell_type": "markdown",
      "metadata": {
        "id": "R1RnAeSGZ2NA",
        "colab_type": "text"
      },
      "source": [
        "# Task 5: Classification with TF-IDF ( 5 min )\n",
        "## Making TF-IDF Vectors\n",
        "\n",
        "The Term Frequency – Inverse Document Frequency(TF-IDF) is a bag-of-words model but TFIDF has a way to down weigh tokens or words whose frequency is more across the documents. It makes sense in many cases where the words if appearing in every document with moderately the same frequency are not useful in detecting the class as such. This reduces the influence of those words in the model.\n",
        "\n",
        "Tf-IDF is computed by multiplying a local component like term frequency (TF) with a global component, that is, inverse document frequency (IDF) and optionally normalizing the result to unit length ([ref](http://man.hubwiz.com/docset/gensim.docset/Contents/Resources/Documents/radimrehurek.com/gensim/models/tfidfmodel.html)).\n",
        "term `i` in document `j` with total `D` documents in the corpus and `document_freq_{i}` is the number of documents in which term `i` exists. \n",
        "\n",
        " ```weight_{i,j} = frequency_{i,j} * log_2(D / document_freq_{i})```\n",
        "\n",
        "One can create tf-idf vector using either scikit-learn's [TfidfVectorizer](https://scikit-learn.org/stable/modules/generated/sklearn.feature_extraction.text.TfidfVectorizer.html) or using gensim's [Tfidf](http://man.hubwiz.com/docset/gensim.docset/Contents/Resources/Documents/radimrehurek.com/gensim/models/tfidfmodel.html).\n"
      ]
    },
    {
      "cell_type": "code",
      "metadata": {
        "id": "MYsNilGLZ1VR",
        "colab_type": "code",
        "colab": {}
      },
      "source": [
        "# Train the tfidf Model \n",
        "from gensim.models import TfidfModel\n",
        "# Make sure the dictionary is created from the previous block\n",
        "# BOW corpus is required for tfidf model\n",
        "corpus = [mydict.doc2bow(line) for line in top_data_df_small['stemmed_tokens']]\n",
        "\n",
        "# TF-IDF\n",
        "tfidf_model = TfidfModel(corpus)\n",
        "del(corpus)"
      ],
      "execution_count": 0,
      "outputs": []
    },
    {
      "cell_type": "code",
      "metadata": {
        "id": "rImQDmvdvVKq",
        "colab_type": "code",
        "outputId": "2247fa6e-5c2b-4ede-a976-a95c75a5572b",
        "colab": {
          "base_uri": "https://localhost:8080/",
          "height": 88
        }
      },
      "source": [
        "import gensim\n",
        "import time\n",
        "start_time = time.time()\n",
        "tfidf_filename = OUTPUT_FOLDER + 'trained_data/' + 'train_review_tfidf.csv'\n",
        "# Storing the tfidf vectors for training data in a file\n",
        "vocab_len = len(mydict.token2id)\n",
        "with open(tfidf_filename, 'w+') as tfidf_file:\n",
        "    for index, row in X_train.iterrows():\n",
        "        doc = mydict.doc2bow(row['stemmed_tokens'])\n",
        "        features = gensim.matutils.corpus2csc([tfidf_model[doc]], num_terms=vocab_len).toarray()[:,0]\n",
        "        if index == 0:\n",
        "            header = \",\".join(str(mydict[ele]) for ele in range(vocab_len))\n",
        "            print(header)\n",
        "            print(tfidf_model[doc])\n",
        "            tfidf_file.write(header)\n",
        "            tfidf_file.write(\"\\n\")\n",
        "        line1 = \",\".join( [str(vector_element) for vector_element in features] )\n",
        "        tfidf_file.write(line1)\n",
        "        tfidf_file.write('\\n')\n",
        "print(\"Time taken to create tfidf for :\" + str(time.time() - start_time))"
      ],
      "execution_count": 0,
      "outputs": [
        {
          "output_type": "stream",
          "text": [
            "action,admir,ador,all,along,also,alwai,amount,and,anoth,around,as,at,awesom,be,beauuuuti,befor,best,better,black,blowout,bouncei,brush,but,cardena,chain,clearli,come,corpor,could,cure,dai,didn,do,end,even,ever,everi,evid,extrem,fan,feel,finger,flat,flawless,flip,for,freakishli,from,fry,full,fun,genuin,get,girl,gloriou,good,great,green,greet,ha,had,hair,happen,hard,he,head,help,hi,howev,in,incred,involv,iron,it,kelli,last,less,level,like,look,make,me,messag,migrain,minut,most,much,my,new,next,no,not,note,of,offer,on,onli,otherwis,out,outfit,over,pagent,peopl,perfect,perfectli,pressur,realli,relax,requir,rock,rockstar,room,round,salon,scent,see,seen,servic,shampoo,singl,skill,so,some,someth,start,stranger,strong,style,stylist,superb,swoosh,taken,talk,team,terrif,texa,that,the,thei,then,there,thi,thing,three,time,to,travi,two,us,ve,vega,veri,volum,wa,wai,well,were,where,whole,will,with,without,worst,worth,worthi,wrist,you,about,amaz,ar,assist,bailei,can,care,comfort,credit,dental,dentist,don,dr,friendli,gave,have,highli,insur,is,jewel,knew,nice,noth,off,offic,organ,phillipp,plu,procedur,profession,purchas,recommend,sai,sign,synergi,their,through,togeth,up,visit,which,work,year,absolut,accommod,across,again,an,caesar,dawn,delici,distribut,dress,drink,each,experi,go,happi,her,know,leaf,lunch,pretti,price,pub,salad,sandwich,server,steak,summat,went,would,admit,ala,anyon,anyth,appet,ask,avail,bass,becaus,big,bit,bland,bother,calamari,chef,chicken,convers,cook,crab,date,dessert,die,dinner,dish,doe,doesn,enough,excit,expect,fight,first,food,free,fri,friend,got,group,hear,heard,hous,how,hubbi,if,im,job,jug,la,larg,leav,ll,loud,love,menu,mmmm,mussel,onlin,order,our,outnumb,overpr,pack,parm,pasta,place,plan,portion,proud,re,reserv,restaur,romano,said,sea,season,seem,she,side,sit,slow,snob,special,still,suggest,super,tabl,tavolta,teeni,thank,tortellini,unless,wait,waiter,we,when,wine,your,zucchini,afraid,after,afternoon,back,ball,bowl,came,dare,done,earli,few,freez,game,gentler,hand,leagu,machin,man,mid,more,morn,mother,ms,old,other,pac,pick,pin,plai,quarter,rememb,row,saturdai,show,sister,spend,sure,teen,theme,tilt,until,walk,want,although,app,appreci,atmospher,beauti,beautifulli,bottl,by,certainli,chair,cool,diablo,did,eat,entre,give,husband,just,knowledg,let,made,marinara,mash,matt,meal,mind,pepper,piec,pleasant,potato,prepar,problem,review,riesl,right,salmon,salt,sauc,serv,sometim,star,surpris,take,temp,tender,tiramisu,too,touch,try,veal,while,wonder,wow,bachelorett,book,carpet,contact,deal,easi,everyth,hotel,info,law,littl,michael,need,overwhelm,packag,reach,red,save,smooth,soon,trip,vip,both,case,check,downtown,find,high,lot,option,owner,pizza,poor,qualiti,reason,staff,think,wrong,addit,bbq,biryani,bread,casual,cleveland,enjoi,fast,ingredi,masala,naan,oven,scene,select,tandoori,tika,todai,yummi,ago,been,brew,disappoint,fresh,grill,huge,live,never,open,sinc,slim,sweet,tea,famili,here,kid,quick,biggest,bui,busi,butter,carri,chees,cold,definit,dozen,flavor,home,hungarian,internation,mani,older,onion,or,outsid,part,pierogi,pillow,pinch,pittsburgh,plump,poland,polish,readi,real,sell,seller,ship,small,soft,them,warm,why,win,women,ye,bar,cashier,choic,counter,deli,exactli,kind,limit,pai,search,shop,snack,strip,than,valu,ani,fish,lamb,meat,mexican,planet,taco,crave,earth,excel,fatti,healthiest,isn,month,obvious,onc,abl,attent,badli,begin,clean,competit,complet,damag,futur,landscap,notic,particularli,pipe,pleas,plumb,plumbsmart,provid,repair,scott,sewer,stop,superior,wayn,classic,delic,delight,pettuccin,piccata,close,drunken,duck,glad,intim,lettuc,mouth,mushroom,noodl,overal,panang,parti,raku,rate,receiv,seabass,set,wasn,wrap,yelp,chines,gi,resto,support,trust,vallei,west,wont,alik,epitom,local,must,none,process,rumor,second,transform,visitor,corn,fantast,filet,guess,hot,mac,realiz,scallop,share,shishito,soup,tartar,thought,tuna,whimp,actual,add,ahead,am,appl,base,beer,believ,bet,bewar,block,bourbon,box,brisket,brunch,buffalo,burger,calgari,call,catfish,cesar,charact,chili,cocktail,comment,countri,coupl,decent,decor,down,downstair,earlier,els,entir,entranc,everyon,fairli,garlic,garlici,gluten,gone,grant,hole,hungri,ignor,imposs,includ,long,mean,miss,music,now,ok,onto,plenti,point,serious,should,size,smell,smokei,solid,specialti,tasteless,those,tough,updat,vampir,vegetarian,veggi,wall,wander,weekend,wood,advis,broken,complaint,inspect,later,loos,multipl,number,quot,resid,roof,same,tile,baguett,bam,banh,beef,belli,benedict,chip,compliment,crispi,esp,ham,hash,juici,mi,pork,salsa,toast,waitress,ambianc,appeal,tast,visual,ahwahtuke,bomb,breakfast,croissant,item,run,spot,twice,environ,japanes,nativ,quit,avoid,belief,beyond,buffet,chewi,chimichurri,chocol,cooki,couldn,dairi,dip,dure,foccacia,gelato,gener,grab,gross,hate,highlight,ic,leg,lucki,macadamia,pad,portugues,prime,queen,rib,sausag,section,shrimp,stuf,textur,thai,wateringli,white,funni,return,such,uniqu,roti,satai,wonton,jose,bff,cupcak,fail,impress,tsoynami,unreal,bubbl,chat,dan,differ,dumpl,english,flavorless,gui,him,name,okai,opinion,plate,popular,prefer,prici,pricier,probabl,recent,rose,sticki,thick,thin,tri,veget,what,wide,won,write,ac,aspect,bounc,bra,brand,constant,current,depot,frequent,gather,hardwar,low,manag,materi,neighborhood,paul,person,project,store,yourself,charlott,easili,enter,jam,ny,phenomen,top,chanc,dine,due,empti,fridai,given,insid,josh,locat,plain,rice,rogan,samosa,surprisingli,tikka,unsavori,accomad,addict,alcohol,asparagu,becom,center,decid,fate,favorit,fritter,goat,interest,park,patio,patrick,portobello,random,rd,spici,st,tasti,tell,ther,ventur,checkin,chilli,equip,latest,myself,near,obsess,recharg,short,sunbath,tan,tech,vitamin,winter,yet,class,dog,dy,earlyu,fav,hipster,load,put,seat,secret,stand,tater,tight,ton,tot,town,vibe,babi,bartend,below,club,cute,eas,felt,mailer,mondai,shirt,sport,watch,wear,din,met,portofino,anna,awai,award,blown,charg,cole,commun,compani,email,flood,gentleman,host,imagin,into,kristin,laugh,night,present,privaci,tim,ad,arrai,becam,blueberri,boba,chandler,choos,coffe,etc,explos,forc,fruit,gem,honeydew,idea,intern,jelli,lee,lol,mango,middl,milk,mine,popcorn,pud,slush,snow,suck,supermarket,tapioca,tofu,usual,who,farm,grit,kale,yum,annoi,basic,cream,damn,hei,midwestern,ooooooh,palm,sanwich,snicker,tote,veil,waaaaaaai,boi,gallei,heaven,melt,milkshak,pair,teaser,these,airport,beach,flight,myrtl,stai,stuck,week,arrog,butcher,constantli,dauphinois,far,horseradish,humor,ian,memor,phoenix,request,sens,bacon,bite,channel,cheesecak,child,crisp,crouton,cut,danc,daughter,drown,finish,fudg,greasi,guest,hour,instead,left,listen,loudest,macaroni,mai,parmesan,peak,pepperoni,power,pretzel,sashimi,sat,sensit,sprinkl,stomach,tongu,tummi,variou,wasabi,zing,adult,backward,bad,bend,between,brought,coupon,event,four,invit,issu,jerk,lasagna,mario,market,obviou,penn,possibl,ravioli,recycl,sangria,scarpariello,school,son,treat,vodka,wife,agap,balanc,bring,carefulli,health,holist,individu,injuri,state,tailor,thorough,borrow,car,cheap,dingi,drive,hide,kabob,mall,membership,overlea,overrun,own,per,regardless,toronto,total,warn,zipcar,aris,bella,checkup,discomfort,drop,pain,severn,smile,whatsoev,doctor,nervou,paperwork,sever,stitch,toi,wish,wreck,crust,hold,slice,ahi,familiar,list,scottsdal,skirt,diet,excess,hawaii,land,liter,miller,oh,remind,sucker,welcom,zippi,bloodi,bm,ether,hometown,mari,mmm,nail,almost,front,margarita,quiet,basement,bunch,cost,crew,donnel,dry,hopefulli,keep,nick,sold,subsequ,waterproof,board,cielo,compel,discern,judg,kudo,soo,space,tenderloin,tomato,apart,area,caught,condit,consult,correct,greater,initi,instal,invest,major,monei,prc,properti,replac,report,roofer,roughli,spec,specif,spent,access,citi,compromis,elbow,facil,factori,goal,meet,neat,patient,practic,push,someon,teacher,timer,yoga,anytim,authent,defalco,ex,goodi,groceri,grub,italian,legit,parmigiana,tricki,agreement,ampl,answer,arrang,detail,found,furnish,graham,inconveni,januari,john,lamp,leas,move,north,past,phone,question,recal,regard,rental,site,sylvia,tie,trade,unit,uptown,adjust,custom,difficult,electr,fulfil,meant,pot,walnut,water,bonu,chill,cutest,dive,laura,interior,laid,american,darn,eggplant,goooood,minc,northern,simpl,sound,xlb,appoint,beal,conserv,dose,med,minecraft,rush,satisfi,solut,throw,especi,footbal,loco,mill,sundai,accept,amex,barg,basil,breast,combo,flavour,kebob,koobideh,paid,parslei,radish,read,skewer,yeah,catch,cell,cheer,either,eventu,everytim,late,non,pull,terribl,weird,wing,arugula,eaten,expens,feta,jalapeno,lemon,light,medium,pepperoncini,pure,regular,reheat,seventh,street,though,vinaigrett,address,bill,buck,bucket,encount,epoxi,equat,girlfriend,napkin,neg,pickl,post,pound,residu,resin,sticker,type,william,cake,candl,caramel,glass,mission,skeptic,told,upsid,agit,ai,air,assiett,avec,beaucoup,bon,ca,command,de,donn,donner,en,envi,est,et,etabliss,etant,etoil,eu,fair,faut,file,frite,gouter,il,infam,intens,jai,je,le,lui,meilleur,mieux,oublier,pa,petit,peu,piquant,piri,portugais,poulet,pour,poutin,pratiqu,prendr,qu,quatr,rotisseri,souvent,succul,tre,troi,trop,un,va,vaut,curri,polit,antigua,fortun,hoodi,champagn,interact,pool,sprai,tad,abov,adopt,agenda,anim,anywher,besid,certain,depress,discount,eater,except,finicki,mayb,pet,product,vers,whatev,dietari,mom,nowadai,pleasantli,surround,york,crunch,koodo,shortbread,america,among,arepa,chica,claim,cuisin,empanada,five,guacamol,imit,latin,mini,mood,rais,simpli,subtl,suppos,baja,momma,oooh,steril,lk,technician,alreadi,dove,gosh,lick,pic,pictur,roll,saw,spoken,spring,design,bake,combin,consist,cucumb,papaya,refresh,baselin,burrito,chimichanga,da,deliv,door,everydai,fargo,franchis,georg,leader,least,main,priscilla,quon,rel,repres,rubio,sale,shift,standard,th,themselv,took,upon,vision,yourbanktel,altern,auto,electron,ga,ground,kiosk,line,neutral,quicker,screen,station,towel,track,typic,upgrad,vacuum,wash,wiki,alter,bridal,britnei,brittani,butt,creativ,david,final,fit,fix,grand,grate,hang,ladi,mgm,origin,quickli,rip,sorri,taisha,tear,tux,tuxedo,unfortun,wed,agent,attach,awar,bai,cheaper,cloth,consider,educ,formal,gotstyl,half,hassl,holt,jannett,jean,king,learnt,ourselv,primarili,rang,rather,renfrew,self,tag,tailer,tend,tone,version,wouldn,browni,buttercream,frost,mostli,romant,stuff,velvet,concern,disagre,medic,refer,beat,exorbit,forth,healthi,held,melancholi,varieti,attest,client,stone,banana,brick,california,classi,craft,expos,fixtur,modern,pancak,respect,southern,stool,co,fill,pm,til,worker,etiquett,groomer,mix,schweeni,afford,alon,bun,caus,intric,japcha,jjajangmyun,jjamppong,kochu,korean,mon,pricei,rotat,speak,steam,stick,sun,thur,translat,tue,amen,ammo,bullet,consid,corneliu,daili,fulli,gun,lane,purpos,recreat,shooter,strai,suitabl,system,tourist,weapon,adventur,nicer,cafe,card,chang,couch,cozi,hope,loyal,maya,nearbi,newest,punch,reward,spaciou,studi,wooden,appar,arriv,chunk,enclos,exampl,foie,gra,heat,lobster,oyster,rest,rich,spaghetti,starter,terrin,unbeliev,urchin,az,contagi,crazi,flaca,hamburg,hefe,iv,life,penni,refil,wild,christina,conveni,split,tent,abandon,achiev,ah,armor,barbi,bat,bronz,chew,chimera,christma,cooler,delicto,dirti,disapoint,doll,dream,elvi,flagrant,gasm,hell,incomplet,jacket,jackson,jar,knee,leather,mark,nirvana,occasion,paint,repeat,repent,saver,sculptur,suffer,suit,sultri,third,thrift,thriller,tiger,toreador,true,unicorn,walmart,camera,commit,drove,extra,gang,hatch,hesit,mile,nex,notch,pioneer,rx,ryan,socket,step,stereo,touchscreen,verifi,volt,anywho,face,might,often,sadli,summer,thankfulli,transfer,turnaround,weather,artist,eric,happier,tattoo,bottom,carnita,chile,crema,decis,enchilada,encourag,fold,gf,handl,indic,influenc,mc,mexico,perhap,prove,saute,shame,signific,similar,somewher,spice,spiciest,tortilla,unlik,jun,bean,fajita,normal,energi,jlo,perform,sexi,venu,cancun,favor,fyi,peppi,sue,ultra,broccolini,chic,dimli,gardein,lit,vegan,tanner,batter,crepe,matcha,outdoor,pastel,sesam,waffl,whip,asada,cheddar,chicago,chose,elsewher,employe,feedback,guac,nacho,passion,pastor,paus,pico,scoop,sour,tradit,bagel,egg,amazingli,angri,buldogi,bulgogi,deelish,euro,homemad,hotdog,kimche,memori,famou,meatloaf,salti,closer,averag,blt,complement,lack,pea,peanut,shoe,string,biscuit,gravi,quaint,aggrav,iphon,mirror,al,bias,canada,churro,divers,fact,favourit,hurach,mandatori,puebla,taquizza,brussel,mention,sprout,avocado,bldg,blend,cover,municip,promis,turkei,bag,cabo,chimicurri,heavier,insul,lemonad,lighter,ocean,odowalla,platter,pomegran,promot,sryup,sugar,transport,turn,compassion,follow,lost,member,sing,sympathi,written,coconut,gelatin,kao,soi,colleg,commerci,intersect,villag,yong,desir,feet,floor,function,furnitur,greatest,heart,henc,ikea,intimid,miracl,nc,pass,shopper,showroom,somehow,sq,suppli,truck,upstair,van,build,cannot,compar,deserv,fool,gringo,hispan,omg,skillet,tina,upbeat,richard,booth,bustl,creat,fine,hank,hustl,bank,challeng,easier,flow,glenwai,haven,inspir,shannon,studio,treasur,yogi,asian,fusion,hawaiian,awri,bosa,donut,almond,diner,fellow,harcha,kefta,quinoa,spread,standout,tagin,angl,corner,dollar,everywher,ipa,monitor,pint,sidewalk,tap,tuesdai,watcher,whenev,apolog,greatcustom,mess,adventuru,drunk,ir,caviar,sushi,apt,break,complex,imo,allergi,leftov,lug,max,ordinari,smaller,stroll,tapa,venetian,advisor,anxiou,anywai,backseat,bmw,calm,color,convinc,dealer,dealership,dread,driver,entertain,explain,featur,fiat,gym,hello,hiccup,kept,kitti,lexu,lock,loyalti,mail,model,nutrit,paper,particular,period,politz,profil,reliabl,research,respond,road,salesman,semi,test,trick,wrote,yoda,def,rule,ajit,burn,connoisseur,culinari,detect,doubt,explor,fanci,indian,korma,palai,thali,whiff,concierg,condo,dedic,entri,hoa,laundri,secur,azzip,concept,hit,worri,zip,avenu,confus,thurnderbird,kick,pal,ultim,crossfit,forward,import,instructor,muscl,roomi,sooth,sore,stretch,voic,effort,bazaar,cauliflow,chaat,comparison,descript,gobi,india,neem,pani,pastri,puri,toothpast,oahu,birthdai,yesterdai,bed,clubber,crawl,juic,matter,scarf,vagu,aka,appear,attempt,autoplex,bare,buf,busili,cobbleston,complain,content,cooper,courteous,dash,directli,dirt,discourt,discov,disrespect,dust,dutifulli,episod,examin,fastpass,fat,former,frustrat,gift,glori,grain,halfheart,headrest,heavi,immedi,incompet,insult,jare,lazi,lesson,livid,malefic,masterfulli,mat,minor,moder,moron,nor,oil,panti,pride,realiti,refus,reluctantli,remain,remov,rescu,resolv,result,robust,routin,rub,scratch,situat,slide,smear,smudg,sought,spa,staf,suspect,tale,termin,thumb,tire,toss,tv,undetermin,vent,wax,woman,wors,joint,cevich,juan,concert,drank,ounc,whiskei,chilean,fabul,applaus,branzino,east,eastern,exot,greek,hostess,hummu,humu,isra,jewish,labaneh,latk,moussaka,proudli,shape,shawarma,cheesi,drool,mentor,cloud,febreez,fideo,gripe,hook,lindo,michoacan,par,satur,skin,smoke,beverag,canai,exact,forgot,grass,malaysian,prompt,rendang,sweat,boyfriend,frozen,mahi,mistak,needless,safe,shot,spinach,tequila,travel,bio,french,gel,hasn,manicur,markham,min,sacrif,seawe,thier,under,understood,deter,flank,francisco,octopu,san,weekli,coordin,craig,disadvantag,divid,instruct,lead,link,mixer,perk,pre,promptli,sammi,settl,throughout,tryst,valuabl,weren,art,dentistri,dri,goth,growth,oral,outstand,suspici,teeth,unsurpass,wisdom,word,accompani,airi,amish,bakeri,behind,bing,breath,bright,brooklyn,bulk,candi,carrot,cemeteri,centric,chayot,cherri,consumpt,contain,cram,crowd,cupboard,doucheri,fare,farmer,flax,flour,gentrifi,giant,gonna,known,kolaczki,kugel,mecca,nation,nearli,nut,ohio,overflow,peddler,pennsylvania,pie,plop,produc,region,seed,shadi,shake,sheer,stock,vener,whose,breann,clerk,desk,christian,joe,resolut,schedul,dorado,huevo,neighbourhood,pocket,pozol,ranchero,awhil,challah,disappear,thoroughli,alor,arret,aussi,autr,coin,coussin,devant,estrad,etai,etait,heur,huil,magasin,mang,midi,oliv,ou,patisseri,pendant,plein,pose,prit,produit,que,qui,repos,retrouverez,savon,sui,sur,vitre,vou,vraiment,defenit,haha,karu,bought,chilaquil,caffein,kitchen,arizona,exam,fond,gold,hospit,human,introduct,join,lovabl,match,puppi,reciev,sayuri,seamless,societi,vca,effici,keisha,roach,beast,correctli,hangri,hectic,itself,modif,nutella,successfulli,tame,ten,understand,within,seafood,bench,brown,built,bumper,cage,cardio,con,contract,crack,dumbbel,inconsist,keycard,lift,locker,olymp,platform,pro,shit,shower,slap,smith,spit,splotch,squat,weight,wipe,afterburn,companion,compon,harvest,impuls,mimosa,tip,freak,akropoli,gyro,vibrant,accolad,avid,charcoal,coal,compress,discuss,doubl,drab,durat,fiance,heater,honei,hookah,identifi,improv,linger,natur,oasi,odd,partial,pitfal,potenti,ql,shell,shish,shisha,smidg,smoker,strawberri,sum,term,boil,crawfish,gotten,margarin,nicest,el,gyoza,overdon,ramen,samba,tataki,tonkotsu,topo,wagyu,breadstick,bruschetta,count,daniel,dolcini,gourmet,hardli,limoncello,neighbor,silli,trio,carn,sooo,administ,affect,anthoni,began,clear,continu,cours,cycl,depart,dialogu,exercis,form,hannon,jennif,medicin,occas,physic,record,resourc,survei,tablet,therapi,therapist,toni,treatment,walker,attract,marvel,movi,afterward,aveng,collin,edit,guid,print,cart,showmanship,teppan,bait,gator,insist,orlean,scream,shuck,south,doughnut,higher,ouch,view,aren,court,dobson,eateri,fashion,gorgeou,jungl,lake,lentil,pita,rai,squar,cheesu,healthier,osu,reckon,allow,arcad,bro,centiped,crane,illumin,ol,pinbal,plushi,prize,refund,restor,thirsti,toward,vend,vintag,captain,chelsea,metro,bust,clamp,desert,hose,nevada,replic,resort,strang,invent,sick,cater,cleanli,conclus,contemporari,dim,eleg,hy,insight,keg,oz,porterhous,rockerfel,savori,slightli,steakhous,act,appli,assur,blow,clueless,condescend,derek,estim,fee,foster,hardwork,investig,mainten,mr,payment,proce,soooo,swamp,flare,golf,legaci,chri,regist,spanish,surf,turf,young,bang,boyz,brent,burst,convent,data,halibut,indulg,jalopeno,regret,spiner,trek,truli,withhold,accordian,battista,cappuccino,cramp,depend,flamingo,hadn,honest,kickbal,maze,minestron,octob,serenad,sort,teammat,tournei,unlimit,wakapalooza,bekk,describ,lord,pecan,properli,speechless,ag,angu,fed,alboorz,almighti,arab,aromat,aspir,bore,char,chateau,cling,dc,degre,delect,detroit,enlist,europ,evenli,fire,flai,fluffi,frankophil,freshwat,gaudi,hanker,hat,hickori,hideou,hire,incumb,iran,iraq,iraqi,latter,layout,legendari,maintain,masgoof,method,metropoli,montreal,paradis,persian,plank,pleasur,rare,reign,repetit,restauranteur,revisit,shamshiri,suprem,surfac,tamarind,techniqu,therefor,thousand,tilapia,tradition,trap,underappreci,velveti,washington,western,world,ahn,cuticl,hurt,pedicur,tool,brioch,diabet,omelett,protein,trace,cabinet,jayson,jodi,salesperson,ripe,yard,amigo,kei,queso,scrumptiou,alright,bmophx,foot,marathon,massag,boston,confess,cow,creme,folk,indoctrin,inexpens,junki,liver,nosh,parent,pastrami,pig,rape,wallet,brandon,junk,respons,freindli,mad,pedi,shellac,silverwar,tax,vacat,harajuku,islai,joseph,numer,penicillin,shock,ami,ashlei,ill,boot,brandi,photo,administr,celebr,heavenli,impecc,liquor,vintner,anni,bachelor,correspond,dough,dude,ebc,gmc,kodiak,limo,million,passeng,pregam,ridicul,whoa,xs,akina,ayc,bento,cali,miso,veg,wise,wonderfulli,bind,chamber,comput,crash,holidai,peoria,press,printer,rfp,seriou,sky,spare,stapl,websit,calzon,deep,sad,border,cash,chino,chopstick,destin,jade,jamaican,orient,pc,sampl,snickerdoodl,stir,twist,yep,courteou,critic,program,decad,recept,stage,superbl,terri,tiki,whether,substitut,boulder,cat,compass,express,feed,hairbal,harm,hatr,himself,horribl,kill,muzzl,overnight,overweight,previou,puppocino,sedat,spai,straight,suburbian,trustworthi,uptight,vet,youssef,chipotl,flatbread,gazpacho,moroccan,ashle,lash,aria,btw,carlo,luxor,mirag,mont,vdara,blast,cosmetologist,demeanor,scalp,chad,precis,sooner,affirm,changeov,dial,keeper,mechan,repli,timefram,vid,fave,chowder,ravi,handicap,prais,relief,ahhh,aswel,rustic,berri,broth,butteri,cab,capo,central,cleans,curd,dock,gnocchi,homework,inglewood,intrus,mmmmm,palat,pillowi,puff,shallot,sparkl,splurg,spotless,stuffi,taxi,truffl,volcan,washroom,belizean,bone,dang,fell,tamal,accomod,asid,band,cinco,delish,exclus,flame,hub,mariachi,mayo,sopapilla,strateg,toddler,dmv,googl,map,smog,thru,troubl,via,approxim,artichok,barbera,burnt,capricciosa,emerg,grazi,mozzarella,opt,parmigiano,pop,reggian,salam,vanish,boylan,condiment,ketchup,messi,ring,soda,hors,mous,august,ceil,complimentari,crumb,demolish,focaccia,ivi,lusciou,marketplac,marshmallow,mediterranean,mist,pesto,rave,scaloppini,swelter,syrah,temperatur,tucson,waterfront,bookstor,clearanc,dvd,gadget,wast,eyelash,casino,ensur,essenc,managen,oper,pang,ping,pong,presenc,sub,xo,chuang,endors,ent,gambl,healthcar,strongli,pollo,relleno,adlai,buddi,cabbag,charlottean,charro,coleslaw,complementari,drum,equal,gotta,manzetti,overstuf,paco,pinto,premeal,sanit,shred,spite,stain,texmex,bonafid,centr,garden,guarante,judgment,plant,proclaim,satisfact,ey,hummm,sirloin,apprehens,attitud,goe,introduc,joei,kinda,learn,loui,posit,cartier,forev,gondola,lv,maci,peac,ride,receipt,despit,enchillada,flag,lag,michelada,missu,mx,alexand,cardboard,creami,drench,friendliest,margin,ranch,soak,spars,wet,bedroom,beforehand,breez,crunchi,earn,figur,hallwai,inch,instanc,instant,isaac,monkei,perimet,protector,reiter,resembl,rick,riser,satisfactori,send,stair,warrant,backyard,experienc,grow,leak,mike,stonework,tree,waterfal,mint,nasti,pho,vietnames,di,radar,bombbbbbbbb,hundr,insan,massaman,minim,moment,nelli,pan,bless,champ,domican,god,longgg,marriag,rachet,republ,scar,session,superrrr,yr,addition,breadcrumb,busser,chunki,clam,drizzl,edibl,freshli,garnish,infus,ka,linguini,meatbal,moscow,mule,pappardel,pearl,raspberri,spectacular,theater,torn,zero,lisa,admiss,approach,backpack,blackjack,cabana,encor,lili,minimum,overs,piss,ruin,sooooo,ugli,dad,balconi,beter,dishwash,flatscreen,fridg,getawai,hung,intend,killer,loung,outdat,pavement,platinum,qualm,signatur,stoke,fantabul,admittedli,forget,nightli,shellfish,ticket,tix,tonight,vege,vendor,voucher,licens,waterwork,brother,bruh,bunk,cajun,dump,exce,expert,frank,grade,inferior,remodel,sirachi,stickler,whirl,canyon,fajta,foam,brais,extens,rail,ambienc,izakaya,jem,squid,tamaguro,tsuki,dart,irish,tour,twinki,shortli,latt,mesa,crest,debit,rye,waitstaff,argument,construct,convert,dodg,forgo,jim,logic,logist,ration,tank,vari,backless,bitter,bloat,fruiti,peach,rowdi,skip,sophist,yolk,bark,basi,casa,costco,edg,groom,jealou,mountain,necess,phoeb,pup,spoil,trader,neglig,pi,pieologi,cilantro,falafel,milder,omlet,ft,recess,struggl,oatmeal,raisin,artisan,explan,froyo,mochi,piccadilli,spontan,tart,trendi,warmli,yogurt,cane,distinct,indecis,sooooooo,takeout,totti,finest,holi,mex,tex,cfa,chick,fil,pimento,chop,edc,hidden,idk,ppl,thursdai,tub,barbecu,diggiti,lip,mississippi,petroleum,basebal,mignon,playoff,annoy,bike,inform,jt,nonetheless,barrel,bound,bourdain,categori,deliveri,embarrass,esophagu,ew,forgiv,ghost,gobbl,intent,misspel,misstep,na,nerv,opportun,rad,resist,sheesh,shy,slut,spell,swallow,thrill,thu,tom,upcharg,whomev,burro,cushion,edamam,privat,tatami,vanilla,rosemari,duplic,guin,scrambl,success,paratha,favio,london,mic,brushout,certifi,monthli,petco,trainer,aloha,anymor,atkinson,bum,cola,fizz,grew,gum,lime,longer,rc,retro,rocket,taffi,tidal,twix,wave,wifei,minh,traffic,fresher,draft,siti,sp,sake,cum,breathtak,exhibit,gaga,greatli,heel,lover,pravda,swift,hongkong,acryl,clientel,johnni,nanci,byob,itech,sprint,blue,dark,downfal,enthusiast,watermelon,chow,immens,nee,apologet,mistakenli,bigger,flaki,builder,cheapli,direct,drip,elderli,furnac,instantli,reliev,teach,util,warranti,venic,cross,histori,aromatherapi,jacuzzi,robe,sauna,mitch,agon,amus,bouch,chez,cod,code,epici,foix,gamut,gnocci,goos,hearti,journei,macaroon,pace,prep,ran,upscal,chuchai,cranberri,fall,grove,hommad,matur,roast,wheat,adhes,gooei,henderson,palpabl,schmuck,slip,sweati,synthet,ciao,divin,european,ps,risotto,yorkvil,piercer,talent,bolt,contribut,crawford,factor,frame,honor,nois,pinpoint,rack,pizzafarro,collect,incens,sandalwood,counti,enrol,flake,vienna,volunt,worthwhil,davidson,joi,quacamol,rosa,sabor,nori,overli,tamago,tonkatsu,cup,shiver,openli,grace,hut,ish,papa,pickup,pj,dameron,hygienist,honestli,laser,remaind,untouch,bumblefuck,default,destruct,discret,dont,edemam,engag,gastronom,gluttoni,hamachi,internet,interrupt,irrespons,japan,kankake,massiv,mesh,six,sleep,somebodi,stein,underst,unrestrain,unsalt,abord,au,aux,cuit,curieux,employ,essay,fraichement,frequem,genr,gout,hongkongais,jour,mal,moin,ont,plusieur,presentoir,prix,prouv,remplir,repa,roulement,si,sont,sucre,tablett,trainent,viand,voit,bell,broccoli,mein,lyle,advertis,cd,denver,exchang,magazin,shaunz,arm,district,dunkin,eagl,gargantuan,lone,renov,shave,soap,rendit,brian,chao,kee,mao,offici,fi,utliz,wi,ben,closest,dimens,anniversari,gratin,nd,beeri,bs,dead,gaspar,gastropub,hop,novemb,rue,saint,specifi,stupid,apach,arcadia,asu,balsam,incorrectli,marinad,portabello,sampler,spotti,coast,omelet,cro,mimi,restur,align,chiropract,chiropractor,devic,movement,stimul,singer,spanokopita,assum,groupon,injera,barhop,barvolo,unparallel,dimpl,errand,eyebrow,racist,thread,worthit,kardashian,keyyi,muchhh,rude,sickkk,willl,aliv,deifinit,russel,spirit,fly,associ,bath,bathroom,closet,cousin,gist,lobbi,march,microwav,separ,sink,stove,vaniti,visibl,warmth,wondrou,dam,starv,breweri,cotta,hermosa,inn,lon,mcfate,panna,fatter,sakana,shorter,azuza,fasten,sceneri,xoxo,kneader,brbbq,brfc,coat,essenti,fountain,habanero,hint,shoestr,skinni,slight,sweeten,unsweeten,wildflow,window,captiou,mediocr,ubereat,attend,decaffein,execut,facilit,offsit,retir,sigma,technolog,train,aunthent,obtrus,supris,teenag,trei,upset,blanca,kung,orang,pow,televis,wee,hr,amd,cascad,jw,koi,marriott,nobodi,pond,barber,master,razor,slick,thom,adequ,economi,farther,lowest,accouter,poke,claud,haircut,patron,wealth,bouchon,candlelit,coffeeshop,distinguish,elev,eman,expans,navig,compet,distanc,exrem,incrdibl,magician,malek,obtain,pushi,retain,surgeri,unexpect,upfront,vs,accessori,beltwai,branden,dilig,forthright,handgun,hunt,mislead,offcours,personnel,proper,scope,vinni,integr,brule,buckwheat,gouda,granola,munch,poach,struck,triangl,aisl,allerg,aoli,appetit,appropri,bamboo,bold,camino,chart,clue,cob,dancer,drummer,esqu,fushion,goood,grigio,hahaha,intox,mainli,margaritta,milki,omakas,peruvian,pink,pino,pretend,ruckusi,santa,scandal,shito,stare,stopper,yellowtail,yummmi,agre,aioli,alfredo,asiago,bolognes,capacola,caper,carpaccio,ciabatta,com,crustada,id,marcella,meati,opent,pant,raw,runner,salami,sicilian,sop,thinli,cowork,dee,broad,scottish,tram,bodi,misus,confid,dazzl,dian,razzl,bianco,dilut,espresso,froth,layer,defin,lai,wynn,advantag,graciou,kindli,steven,stori,comfi,men,monaco,salespeopl,greeeeeeat,abil,allei,clutter,heavili,restock,stack,cluster,hype,renown,reput,shabbi,audienc,civillico,connect,crotch,enjoy,hilari,jeff,buster,crucial,drawn,independ,mega,minnesota,miscellan,mural,partit,rariti,screw,shine,shook,sprawl,tenant,undercook,urban,verdict,walley,confectioneri,coxwel,dire,hike,jen,jump,keen,lickade,proxim,quantiti,ribbon,river,wagon,knock,larger,blacken,cai,collard,crayfish,libat,tega,trout,accordingli,kennedi,nichiban,pacif,plaza,steel,tempura,tuck,user,beg,dilla,faboulo,graduat,quesadilla,baba,ghanoush,calori,ident,lunchtim,receptionist,snobbish,fenc,rachel,fur,jerki,teriyaki,butthol,cosmo,focu,frontier,lux,luxuri,nightclub,palazzo,stardust,tao,trait,celent,april,calf,dusti,increas,oan,gam,ja,straightforward,tang,accomplish,boa,postpon,stephan,patienc,circumst,cry,daddi,expertis,father,floral,florist,flower,funer,gravesid,june,noon,offens,prom,shut,sympathet,tallei,crossroad,heather,strength,appt,aw,budget,countless,cynthia,drew,focal,interview,opposit,parcel,speed,thunderbird,whom,winner,cheyenn,floss,immacul,orthodont,southwest,tran,carradin,amena,amer,bakalava,bannon,children,concoct,freeli,halal,kunaff,magnific,meantim,mound,plastic,sahara,sensat,sent,tahini,mongolian,gigant,innard,novel,burnhamthorp,chai,creditview,erindal,exit,highwai,mavi,mississauga,northwest,oili,tei,lkn,regularli,biriyani,okish,tucker,expand,aftward,fault,sheet,beautician,hairstylist,rasheen,surpass,weav,totino,yumm,coma,creation,hef,kati,sam,turnhous,wake,antigrav,clinic,nekter,obgyn,treadmil,yoli,julia,baklava,cashew,dolma,flash,ganouj,sentiment,tabouli,acknowledg,awkwardli,contrast,distract,duti,mackerel,nod,obnoxi,startlingli,enhanc,mainstai,notabl,spin,standpoint,unrecogniz,brocoli,huckleberri,kayla,moonshin,outback,nose,pierc,westsid,banner,carv,karma,lose,lyche,powder,smoothi,twig,youth,island,kimchi,spicier,wth,approv,florentin,rubin,chemic,harsh,luv,nexgen,poison,tommi,blanket,hubski,picnic,aloo,arrowroot,blame,dal,exclaim,garam,grandma,kofta,lassi,lil,liz,okra,opera,paneer,pantri,proceed,rani,tini,wound,shwarma,academi,carousel,carrol,carroli,credenti,cultur,debbi,ferri,festiv,filipino,flatlei,garag,hall,justic,led,locklier,parad,particip,perman,shellei,snowcon,twirl,wheel,brat,mustard,announc,burr,calendar,comedi,filthi,headlin,languag,lotion,pauli,saloon,shark,shore,wolf,zone,nyc,ridg,toe,waxhaw,nicol,wahoo,heck,offhand,spasm,tmj,torticolli,wednesdai,woke,clock,gunshop,inventori,modest,tower,veteran,omar,thanx,brag,burgr,crap,flavortown,mayor,motlei,sumo,text,wrestler,merchandis,senior,shelv,sift,student,transact,void,ware,wold,afflict,allur,amongst,argyl,beckon,bev,boogi,cant,chinci,filter,haze,incub,miami,moth,mustach,neon,nobl,nom,polyest,rancor,sensori,slither,song,stiff,tab,taboo,vice,wore,albeit,amc,beam,caribbean,carleton,cave,cinema,citru,comer,cornbread,counterpoint,creek,darlin,del,devour,dh,edgi,er,esplandad,fella,field,fuego,gent,gracious,hid,hush,hushpuppi,mammoth,mar,musician,overcook,pernil,pineappl,playlist,plonk,poblano,poni,problemat,profer,puddl,quibbl,ritz,serrano,slaw,succotash,swine,tail,tall,wherev,whoever,xl,yanke,harvei,arguement,asshat,bj,cha,ching,dealt,flush,newbi,player,poker,sourdough,taught,yo,shatter,tacki,sunris,terrac,accur,confirm,creatur,lacklust,nake,pile,trai,unbear,jessica,kailei,autograph,hoagi,thinner,background,effortless,timeli,quizno,biltmor,canoodl,craftsman,deco,firesid,piano,retreat,seren,sunset,swanki,mojito,sorbet,mushi,barbershop,orgasm,ass,bouncer,breather,climb,comp,easiest,femal,guestlist,ideal,indoor,li,marque,midnight,morgan,nudg,page,ratio,restroom,sardin,social,spoke,stag,stress,surrend,tempt,wade,walkwai,versa,militari,ecuadorian,helado,paila,twighlight,proport,philli,sarah,annual,awaka,boost,busboi,hana,lycheetini,sincer,socialit,uni,easter,tomorrow,acoust,gauc,phx,weari,calvin,dj,endless,harri,ing,painless,kali,mastiff,paw,petsit,sabrina,rea,caution,eaton,fillet,marin,meh,ox,dislik,slider,defiantli,duke,inspector,realtor,referr,tune,rat,glove,pumpkin,valhrona,bf,coca,heartbeat,imag,michel,photographi,alexia,alvin,arrest,behold,booti,bump,declin,diplo,gratuit,grei,hydrat,magnum,marshmello,mileston,nightswim,obligatori,omnia,peasi,ratchet,span,spank,splash,stark,sunscreen,supernatur,tacular,threaten,twerk,desyre,herself,lump,unnecessari,bagger,corral,mold,outrag,poorli,refriger,spill,testament,unload,winco,scrap,tint,vehicl,accent,alum,bodega,brainchild,connelli,desoto,diehard,eight,entrepreneur,fillmor,household,muffin,nearest,nestl,pretenti,progress,roosevelt,safewai,shawn,sip,sleepi,storag,throwback,tissu,tread,undoubtedli,urbo,assess,attain,common,control,flexibl,importantli,lb,measur,percentag,stronger,tenur,alchemi,bison,blft,tort,unappet,deck,lessen,melisa,prefix,ahem,carb,further,madison,mornai,patti,brook,element,incorpor,albert,assit,beignet,carmel,crush,forgotton,jambalaya,jambalya,justifi,minti,restuar,rime,tougher,brief,conclud,depth,endur,hoover,horrend,juli,shade,snag,souvenir,subwai,video,viewpoint,fred,lembo,negoti,privileg,reluct,rout,scenario,shannan,badger,develop,gush,lightweight,malt,porker,root,suburban,touchdown,wisco,woop,buch,mole,spinner,amann,kouign,lait,turnov,belong,carawai,delicaci,lower,nyer,piqu,poppin,sigh,singular,sole,weirdest,aback,alic,amanda,anlo,begun,blush,citizen,displai,frock,greylin,handbag,jame,petal,rees,saunter,scatter,shoshanna,showcas,spy,stun,stylish,traci,trixi,uprichard,wider,chatti,dime,nickel,flimsi,matza,raini,spoon,sturdier,teaspoon,ya,claranc,grown,niec,katsu,keali,poster,reichel,billboard,colburn,enterpris,fwy,plumber,against,airlin,autom,belov,bruddah,dhl,dilemma,drift,duffl,eh,fedex,fragil,liquid,luggag,mahalo,omiyagi,plane,postal,problemo,raggin,servi,smart,sweeti,tape,tj,tsa,unlv,warrior,whaaaalaaaah,anyhow,awkward,bernais,canon,cinammon,cobbler,crock,delmonico,dent,forum,fussi,litt,oscar,overboard,pseudo,recommen,ribey,squeak,safeti,latasha,nie,rob,scan,martini,mode,potstick,roi,swordfish,rent,columbian,yucca,grotto,bae,smash,shout,fugu,ichiban,luck,soooooo,charm,assort,brim,donair,gargl,homer,insert,jimmi,mouthwat,nah,profus,simpson,lox,rank,aftertast,mapl,dustin,herold,labor,pep,rep,sc,technic,thansgiv,urgenc,kevin,blackberri,bree,outlet,shepard,denis,maggi,chickpea,coke,cutleri,dolomad,exception,fluke,grape,spanakopita,tatziki,zest,kiss,account,activ,childish,colleagu,concis,concret,drivewai,foul,immatur,manner,pattern,proof,renter,snake,steal,switch,tantrum,brewben,craftsmen,float,smokehous,timei,acid,freddi,mcdonald,wendi,cabin,invalu,protect,steve,exist,filo,signag,tube,chin,atleast,bok,choi,drill,hotter,lard,mild,pod,tangerin,attack,deer,furri,pvsec,relaps,traumat,gracia,alabama,soldier,caviti,churn,headphon,numb,southview,heartbroken,maria,waaaai,drag,flatten,louisiana,polici,smother,asseoir,bienvenu,caramelis,consomm,enfant,excellent,manger,ne,occup,oignon,passiez,pression,quoi,sympathiqu,vouliez,episag,fascia,knot,limmi,mistli,nikki,reschedul,shelter,shrink,skimp,taint,fairfax,squeez,bobbi,bride,eagerli,ed,gain,highest,lifestyl,motiv,similiar,wygu,overpow,yelper,accident,beginn,cement,chi,childhood,diamond,doggi,draw,grassi,gravel,hill,medit,path,pathwai,photograph,playground,soccer,solo,soul,tai,till,trail,warmer,workout,acrobat,beatl,cirqu,costum,du,fab,interpret,masterpiec,meaning,solei,delfaco,cinnabon,cinnamon,cube,handmad,mason,preserv,bee,equi,filli,nando,pitcher,ck,fu,funtacoslv,torta,blond,brittnei,brownish,copper,lighten,lowlight,ombr,peco,scare,unsatisfi,windmil,outgo,driven,sonora,advic,bridgett,hincklei,specialist,harbor,jeep,manual,queue,shuttl,xd,carol,fabric,stumbl,hooter,ufc,wit,junior,shoot,smallest,worn,maltes,reassur,werent,yorki,myster,soleil,emerson,fli,iceburg,buddha,devil,yardbird,intact,kimberli,peel,speedi,format,mcd,nonsens,panzarotti,schnitzel,slew,substanti,fishbowl,dissappoint,omlett,barista,bc,cheeseburg,cheesesteak,couldnt,definet,lancast,reportedli,decaf,quich,roaster,yarn,denni,santaf,tremend,wgag,boarder,couli,crumbl,molten,pear,venison,wellington,cap,didnt,clubhous,austin,bdai,picki,georgia,affair,aftermath,alongsid,barb,basket,beet,bisqu,bulb,chewier,crostini,ev,firework,foi,garlicki,interspers,jumbo,markup,nibbl,nye,parsnip,recogn,shall,sliver,sonoma,squeamish,charli,horn,lace,attn,younger,harevei,starch,amazzzinnngg,gambler,lilypad,pfeiffer,broadview,gladli,bimbap,button,dosa,mia,wick,cathedr,disc,downsid,midst,univers,agnolotti,brightli,bucco,burrata,chanterel,fork,golden,knife,maui,onda,osso,plush,romain,saffron,slid,sommeli,quest,storefront,xtra,creep,homeown,polar,prior,bond,eccentr,gruff,jasmin,wasnt,av,experinc,industri,investor,notifi,profit,reli,renew,residenti,funghi,unamerican,domest,assedli,disast,lid,panel,rear,seal,shrug,snowbal,splitter,su,submit,sworn,trunk,vandal,melti,agreabl,ce,decouvert,endroit,etr,maitr,savour,surtout,tout,addam,forgotten,lotr,lyft,riplei,slowli,tribut,walkabl,blind,corei,larri,shutter,bunker,fairwai,norm,patch,previous,tee,cheat,dbl,lineup,sauerkraut,church,devot,everybodi,aaa,brace,competitor,fathom,metal,nite,reveiw,assign,boat,colada,dragon,luckili,pina,quebec,jason,ajax,moist,bom,dynamit,sonia,nuff,bootcamp,coach,loss,scale,weigh,tammi,blood,fenig,milliken,rim,susan,cabl,gentlemen,jumper,marco,elyria,confit,lie,tortelli,circl,twenti,valet,widescreen,cleaner,instagram,formerli,gilli,presti,sniff,mortar,nash,brows,fancier,guitar,keyboard,sourc,tyler,vocalist,housewar,lube,tidi,optometri,optometrist,aveda,desper,plung,prefac,pregnanc,ali,curl,magic,shag,ahr,darold,honesti,quietli,smoothli,ubiquit,upsel,dgb,hummmmmm,robin,royal,pardon,spade,trigger,viewer,chaotic,hangout,apricot,ilici,julien,savouri,toler,stunna,wknd,focus,snooti,tiffani,ann,vicuna,hottest,rain,granni,larissa,blackboard,prefect,centenni,cheapskat,chock,craigslist,doorwai,highland,indent,jack,linoleum,mover,pallet,scuf,seamlessli,toyota,warehous,carcassonn,lo,overlook,slat,tow,kathi,veena,cleanser,delightfulli,palett,persist,unusu,herbst,sarra,urg,bnb,cone,parlour,trumph,gm,rainbow,accid,chirofit,pun,stamp,ankl,bu,digress,intermod,milwauke,wifi,wisconsin,branch,fastest,starbuck,omni,prenat,bah,chanai,hong,kong,kut,taiwanes,tarik,teh,steeper,unheard,dach,swear,wimp,brazilian,brendon,chicharron,mezcal,plantain,rita,ayam,redang,expensif,hip,huran,pnc,advanc,declar,pregnant,siracha,tomahawk,broke,recip,sock,abd,lifelong,soffa,timepiec,alot,thrn,halo,jewelri,reexplain,atm,cassett,cent,foosbal,pump,score,strictli,thrifti,ceasar,linguin,behav,breed,breeder,kuzma,potti,reaction,siberian,sineglazka,emerald,foo,machaca,ritual,yung,lastli,mosi,spicei,hunk,risqu,seedi,slutti,thunder,deprec,harrah,innuendo,sexual,smoki,ventil,cautiou,curli,halfwai,length,yolanda,jojo,yyuummmm,rainforest,descend,grandfath,grandmoth,sicili,silenc,apprehend,crime,dispens,ethnic,eventhough,ipad,legitim,pristin,assumpt,lightli,northeast,parma,boutiqu,brilliant,cri,causal,chandeli,hibachi,huh,martha,newer,posh,redecor,sage,stewart,sw,titl,laredo,overwhelmingli,sf,dublin,hurlei,ireland,jersei,rod,cast,categor,foofi,inde,turtl,foothil,geoffrei,remot,ferraro,griglia,pat,pitter,funki,restaraunt,yoself,fraich,bear,zoo,solar,alex,outcom,hk,midland,torch,moham,endocrinolog,gyn,hormon,mental,raleigh,aime,newborn,archi,thailand,cayenn,facebook,ginger,hotti,kyle,sinus,fishi,wilt,corni,corona,hade,huhot,inner,instinct,joke,meter,perceiv,rangoon,refut,spatula,tuhot,bilal,grad,marc,pharmaci,pharmacist,prescript,author,camp,gal,lc,mud,ruger,arnold,clenard,cordial,palmer,reflect,bunni,friendlier,hai,label,litterbox,mop,playpen,poop,rabbit,springbank,sweep,waiver,popsicl,seasalt,angel,ariel,doabl,helpless,hug,imperi,loren,overh,structur,bianca,cacti,harlow,margherita,skull,brawt,blog,blogspot,cecil,html,http,ron,palermo,angi,manicurist,pickiest,golfbal,shove,yell,restaut,itali,randomli,ioana,chinatown,stake,batteri,revolv,safer,favorti,mandalai,prickli,ddd,gilbert,kansa,doodl,petsburgh,poodl,tens,clubbi,colour,commonwealth,crow,dig,diggin,loaf,nibblet,sire,taquito,extend,uh,barro,accustom,etarian,faith,prop,rsvp,unfamiliar,abundantli,laden,temper,tripl,toilet,bow,distributor,schnorki,ana,feminin,flatter,parker,pixi,zen,everyplac,hollywood,thehotel,argu,brewco,chit,crackl,dint,glaze,peter,porter,puffi,sear,stood,sunni,tertilla,demand,summerlin,boon,elswher,bargain,benefit,faster,acquaint,kobayashi,stoni,andrada,fighter,muai,facelift,nostalg,westcor,hale,chiwa,bottomless,disrepair,towner,guard,hitch,threw,trailer,uhaul,dismiss,glider,jesu,login,nowher,registri,repurchas,stroller,target,yai,conni,destroi,foil,input,maximo,loc,stellar,amazon,beachwood,ceram,fondu,grater,hurri,implement,jumbl,retail,athen,critiqu,foodi,milo,wonderland,benefici,groomsmen,manscap,bistro,cracker,footprint,modifi,summari,ear,riski,vast,estast,upload,mishmash,aladdin,bcbg,bcbgirl,largest,passag,peep,reuben,unev,apprais,bankrat,clouatr,garza,nationschoic,refi,bud,despis,dorothi,evolv,gag,horror,hunger,mouthwash,rid,scrub,strike,toothbrush,eager,agx,kyb,paypal,strut,vivid,daycar,fanat,multitud,overcrowd,egglslut,gaucho,cochinita,pibil,yucatan,callend,canadian,casei,chive,layov,lyn,seek,setup,sober,succe,faucet,giddi,knob,understat,jenni,chuck,crappi,mattress,trial,bathtub,freestand,gta,invoic,lanewai,lumber,monstros,ossington,portug,reno,showerhead,carolina,vinegar,chenin,gear,invisalign,oldest,youngest,prosciutto,bout,repeatedli,arthur,asap,deepli,hestitatli,steer,unneccessari,grapefruit,hibiscu,perfekt,crystal,landlord,detractor,financ,mazda,tack,shandi,sprite,stella,counsel,digit,drinker,explicitli,fo,fort,hobbi,impli,nope,parch,pit,remad,silverado,xx,automot,brake,preciou,snug,bandido,julienn,tangi,woodbin,adega,distant,object,remark,herb,ahhhhh,choreographi,sight,cackalacki,cheerwin,variat,glitch,kat,seri,shoutout,swarm,fade,bingsu,neapolitan,brie,carbonara,chorizo,compot,fireplac,pancetta,erin,knight,buttermilk,cider,constraint,skim,sloppi,toffe,emot,escap,pee,cadillac,collis,barn,bate,brickwork,clever,coital,evergreen,fg,fidel,gastro,halv,ladl,mommi,purpl,quip,sammich,slather,wychwood,tonia,grainier,seemingli,pittsburg,brunett,cancel,hairdress,noell,gooooood,neck,mannerli,beati,crafti,vote,banquet,aesthet,blew,covet,dome,footag,exhal,cronut,saigon,shaken,lenscraft,dorm,wooah,acronym,creator,isali,klondik,westview,knack,knick,mitchel,wella,crunchier,fluster,overview,shortag,altho,sharwama,anybodi,goggl,infrar,mysteri,pitch,utensil,cheesteak,fio,pitt,disgust,schmanci,anchovi,beluga,biscotti,confin,cornish,custardi,dori,earthi,fragrant,glimps,gress,hen,interestingli,jacki,jargon,lardon,maximum,meagen,mouss,necessarili,newli,plethora,reg,reggiano,relaxingli,reveal,seven,shiaox,sou,syrup,thickli,troop,underneath,vide,ahhhh,beaten,blvd,centuri,courtesi,eastsid,felic,larchmer,mazingli,frankli,ie,irrit,partner,lifetim,pb,tooth,charbroil,vermicelli,establish,significantli,adorn,greenback,haul,mag,ownership,sportclip,trim,spruce,canal,daccach,heal,practition,batch,stadium,stale,suncost,geric,potent,thaiger,hero,priest,sen,woon,auspici,forgett,hap,mayonnais,snap,paraguai,spain,aint,bug,chief,cm,defrost,drawback,elud,fern,glob,johnson,lion,mane,mayhap,overst,paragraph,sinfulli,soggi,squash,vertic,wherea,ajitama,benidict,nitamago,siem,siu,pine,ct,lair,musuem,norwalk,partak,steadi,stream,econom,expertli,kenyan,lydiah,littler,ahhmaaazimgggg,cuban,aid,basa,overshadow,bitch,bottleneck,shouldn,stunt,lincoln,wholeheartedli,cathleen,rene,willoughbi,lauren,mister,fattoush,kafta,paramount,tawouk,cindi,liner,soften,mn,dresser,mckenna,chastiti,christi,marri,chalk,cotija,fe,core,regimen,barchef,sentenc,tootsi,sang,somewhat,isnt,nazi,qbout,thw,panini,venezia,shortstack,spam,stat,tocino,tosilog,underdon,blossom,cactu,fianc,hollandais,shortcak,steep,colon,greg,hydrotherapi,ecstat,laserawai,kassel,boss,clarifi,bogo,sketcher,skid,monster,unhappi,dollhous,fragranc,girli,spearmint,supermodel,ladylik,supe,dane,neglect,ef,underwhelm,viator,dna,hawker,kaya,korea,kun,malai,pandan,se,singaporean,wtf,archaic,signal,boneless,bubba,drain,walin,princess,dye,jayme,phase,supervis,caveat,princ,camelwest,mccreadi,veterinarian,destini,overdu,beto,manni,purista,jazz,wardrob,bonni,maid,serena,quirki,concentr,unevenli,death,jalepeno,horrifi,german,taller,stepmom,wld,conge,gil,keung,mil,singapor,wan,wong,yang,ying,canoli,haunt,marsala,scallopini,arbol,barrio,beau,clamato,coreano,fresco,kalbi,ma,misheard,ml,modelo,nordic,ontario,pale,playa,playacabana,tomatillo,wanna,worcestershir,bullmoos,dykman,diana,quarterli,bravo,coars,crusti,triniti,applic,atmosph,ttc,andersen,brave,exceedingli,freshest,pizzeria,weston,amaretto,boozi,budino,cremini,custard,em,gossip,libretto,limon,posset,rapini,standbi,antenna,crv,bap,bi,bim,butterfish,cano,chocolatei,hangar,souffl,tastiest,adamam,unpretenti,shhhhh,ncounter,plead,cereal,nutrishop,aaron,fleme,illustr,prevent,gentl,disclosur,distilleri,era,gothic,loosen,painfulli,prohibit,stirl,tunnel,birkenstock,recondit,resol,strap,sued,guava,kim,loin,sweetheart,eveyrh,frontlin,mexicorn,bengali,bwot,dalpuri,danforth,feast,kacchi,mindblow,nondescript,pakora,pratha,centurylink,fabian,lola,mixtur,porki,bulgugi,kine,ono,uncl,flawlessli,shadysid,assembl,chardonnai,consum,emptier,lievabl,unaccept,unmatch,sand,spud,idiot,mart,trinket,applianc,dimsum,elabor,nifti,siew,tentacl,waxer,aden,coop,cowboi,spur,williamsfield,convient,gestur,grandson,inclin,loiter,pumper,superpump,cogniz,knit,aj,leah,maegan,dice,gino,squarebii,deceiv,fatburg,fixin,minu,neatli,congratul,deliou,grangratulaion,nurs,token,herbal,malaysia,fractur,humeru,kastrup,overburden,exterior,redo,robert,shutoff,valv,andi,monstrou,cafeteria,glamor,tinfoil,yam,agedashi,antichuco,bobo,brazil,kobe,asia,cal,fullest,hoisin,ken,loooov,observ,sightse,slot,yeep,wolfgang,coral,bellagio,gina,michelin,pari,savoi,stall,amp,sham,takeawai,dino,anchor,clair,upcycl,witch,noda,utopia,advocado,edanam,habit,monica,throttl,shelf,shanna,aunt,nigiri,lovingli,sate,orangei,turkish,comedian,confer,departur,chompi,reupholst,tourista,umpteenth,wildli,campfir,frijol,nana,crembrule,eclair,ganac,profiterol,shimp,male,boca,britani,clicklist,kuddo,flakei,retriev,betti,quieter,aargosi,enlighten,inservic,mobil,reclin,unbeat,freehand,penguin,hourli,kibbeh,dreamt,linzer,prantl,savor,beneath,curtain,elia,gap,photosensit,snappi,stab,strain,sunglass,uncomfort,bundl,drai,hotspot,rooftop,fourth,braden,dalla,carwash,paragon,mcclintock,reopen,ochazuk,gorgonzola,affili,giftwar,incent,indirectli,novelti,primari,stationari,subdivis,supplier,weddingstar,critter,kicker,subpar,yeast,reinvent,spike,swank,uber,possum,determin,hh,paleo,hertz,twin,abund,atop,homerun,mccandless,nishikawa,slurp,umami,basketbal,brampton,dixi,hockei,jaunt,rink,sandlewood,skate,suburb,swim,lakewood,atla,jed,blizzard,promo,sew,canto,soupi,xiaolongbao,della,insalata,toscana,weak,antinori,fear,javier,knotch,peppoli,blink,crude,centeer,inflat,nina,rocki,telephon,tuffi,craze,onigiri,clasic,georgetown,roberto,bawl,frenchtoast,gypsi,silent,bellini,theatr,boulevard,ogr,taunt,migo,quavo,yall,baji,pav,gin,bathfitt,contractor,enclosur,cocoa,gooey,rio,shareabl,acupuntur,alyesh,indebt,magarita,tacqueria,chkn,vulner,cheerfulli,phrase,incan,pf,tastless,waldorf,effect,hood,inquir,raven,tat,public,saki,fam,hyundai,blindli,mob,grief,lightn,metamazol,pill,roadrunn,throat,thyroid,topic,web,fig,ness,expat,melbourn,bungeoppang,sturdi,randi,lavend,doc,hardest,humour,yearli,astronaut,definint,exhbit,har,navi,picket,requin,scienc,submarin,uss,nordstrom,cherrywood,humbl,sank,tatum,applebe,mordern,nevertheless,spendier,becki,bull,chap,cmon,honkytonk,incas,waaai,port,samsung,smartphon,superhero,thoma,blah,emili,genius,kebab,nadia,nephew,numbingli,ugh,deeelissshhhhh,iiit,musttttttt,omgg,rustica,premad,rewarm,bonsai,cajan,clip,ehh,gnarli,jonathon,lodg,longboard,projector,ski,snowboard,clash,crispier,disciplin,dous,maker,sequenti,sweeter,xoxox,tastyyyyi,fuss,gate,doon,fox,ldv,varna,whine,cigarett,intention,loav,melissa,nonsmok,oreo,overr,pralin,sanitari,worldli,bo,butterscotch,gq,anjoli,molina,arpita,brow,idol,reinforc,stubborn,born,lana,edmond,louis,snoopi,cuke,dill,exemplari,florida,fresno,haa,heirloom,mama,mildli,miner,puf,relish,render,roe,spear,spendi,torchio,inhal,urself,yellow,chianti,marcellio,rome,sandi,albacor,dijon,gumbo,ponzu,solv,wedg,po,dominican,jamaica,rosi,citibank,intuit,perish,provis,schemat,smarter,ssid,unifi,belt,pullei,socal,error,carl,lebaneh,mezz,courtyard,croon,jardin,nelson,overhead,peek,sinatra,touristi,umbrella,buzz,buzzer,napalitano,hengrenad,gari,incid,evryth,deuc,sdx,weekdai,gondoli,fuddruck,ohw,zipp,broil,chuckl,film,indiffer,nonchal,uncar,wiseacr,jerri,duzar,adam,bulli,cheroke,contrari,deposit,global,institut,kindergarten,mandarin,montessori,preschool,tactic,transit,alexandra,glare,intermiss,shuffl,stabbi,wale,angelina,mariann,erica,antibiot,ibuprofen,walgreen,carbin,emploi,gravit,sizzl,sodium,harumi,yummmm,aycd,sin,tipsi,trend,aerob,sculpt,thrown,anis,compris,dab,dragonfli,hefti,mute,oooohhhhh,poignantli,prepackag,reminisc,smack,spi,task,trump,vietnam,shini,brittl,hollow,macaron,occass,jordan,realki,tabitha,noisi,prieci,rig,carli,gooood,melon,airstream,chessboard,jenga,pescetarian,pimp,sayin,smokefre,steroid,tac,tic,ban,gastonia,nj,roxi,mojo,simp,lesli,loi,needl,phobia,ramzan,undecid,atv,exceed,jj,outfitt,craw,accus,inappropri,porn,potter,prob,applewood,flagstaff,guatemalan,ballad,fake,argentin,argentina,bueno,rincon,embrac,flaunt,kanapki,kooki,meatless,bulgoigi,krispel,meadow,retina,owen,casanova,louie,sauci,weirdo,hanna,rite,porch,islandcrav,kona,malasada,premium,refreshingli,stalk,twitter,shelli,bruis,dodgebow,elit,favour,mariko,paintbal,saber,clone,diversifi,empress,ethiopian,taytu,tgifridai,wasteland,campu,tendenc,uncommon,dissect,formula,founder,granddaught,modu,operanda,textbook,tick,tightli,dull,inattent,roar,longest,mutant,ninjan,ooei,observatori,schooler,absenc,capper,housemad,midwest,pappi,youngster,evict,expir,assez,ceci,cepend,champignon,cher,dit,extravaganza,lent,mettr,oblige,piment,plutot,pouc,raison,sembl,suivant,tied,tomat,vert,vincent,belgian,delirium,offish,shortrib,spatzel,stew,tremen,busier,charleston,middai,nate,babaganoush,falaf,lebanon,sleev,chamoi,chamoyada,mangoneada,penut,tamarindo,tostada,oxtail,choreograph,nostalgia,obstruct,ohh,yea,yeaa,cicken,fingerl,stamped,donna,fryer,humil,kindest,remedi,icebal,tumbler,kalamata,verd,sara,accompagn,aim,allegr,amenag,apport,attrait,avait,avion,cela,choux,copain,delicieux,donc,ell,epic,gouteux,manqu,manquait,moi,nou,planifi,premier,proximit,retournerai,riz,satisfait,souper,vinaigr,debat,splinter,sriracha,tabbouleh,attic,helpful,hive,pest,rehears,scarborough,deffinelti,philanthrop,guidanc,ly,mighti,outa,shinni,weekendinvega,autozon,freon,matthew,oregon,sprinkler,carnivor,anddddd,bigg,faanncyyi,uhh,courtnei,tropic,darren,compactli,krystal,biljana,croqu,monsieur,junction,aroma,rhineston,fiend,fiesta,latino,sanctuari,sneak,nw,cannoli,fortnightli,giganto,upholsteri,chix,cobb,elat,verso,granit,seam,baffl,chowda,deterr,moonen,crank,diagnos,sensor,unbeknownst,victoria,georgina,virginia,allllwai,fooooood,amt,ant,coincident,commend,cuppi,cuyahoga,dear,dick,hhhmmm,largo,rightfulli,tuff,acut,chronic,drug,gentli,manipul,priceless,shoulder,spine,billi,lvac,shimano,brossard,ahwatuke,pennei,curiou,brunchin,rough,sunda,burb,lest,ragstock,burg,howler,southpoint,kookoo,washer,continent,articl,cox,teamwork,happili,awsom,badass,bahn,boom,daikon,fin,fino,intrigu,marvi,simon,sorghum,uncrowd,unders,unsweet,salvador,surviv,teresa,updo,unavail,costli,isol,marbl,rh,yorkdal,willing,coulda,exec,rebook,aquarium,stingrai,underwat,asiat,automat,brazenli,gado,kha,malaya,yike,gong,diag,engin,greulich,misfir,thx,zach,bankruptci,cumbersom,firm,bermuda,sisig,southeast,summar,ub,sciatic,mellow,katherin,sofia,theraphi,chatter,coukd,earthquak,estat,feelibg,niner,zin,conei,sooooooooo,pont,vecchio,arena,newton,showgirl,lindsei,homewood,kitchenett,meathead,neil,tgif,maureen,prayer,brad,bradlei,network,ain,coolin,dapper,exagger,lemm,bic,greesi,roommat,vegi,wac,baker,bellevu,cloch,rum,ti,supposedli,darlen,champaign,audio,cade,chaz,choo,dave,taylor,waitperson,seevic,chariti,cuz,kiddi,sir,tho,lang,lean,garrett,rider,scoot,msg,handshak,emporium,ur,vibrat,breaker,freewai,solitair,whatnot,multigrain,qualifi,trivia,awak,barrier,china,emphas,yoji,painter,childcar,elimin,muffl,dinh,lua,mccowan,xe,ginorm,hwy,unimpress,slab,astoundingli,popul,jaw,lotta,perfum,phantom,puck,riva,sneez,subtract,suffici,speaker,bandaid,newb,sten,fund,hotz,capres,disaronno,intrud,sundri,soze,asset,dalton,mod,reali,peppermil,flintston,goali,meander,percept,phof,shaq,twilight,zoltan,archer,camper,fisherman,hunter,rifleman,allot,bridg,bypass,colorado,mead,museum,plaqu,railroad,ramp,recount,requisit,buckey,youtub,bedsid,extract,op,lizard,podium,tonya,wink,edgar,hokei,territori,sirah,eege,potluck,impati,beyong,repip,shane,slam,damp,horsesho,lawn,leash,tenni,volleybal,clockwork,heidi,nduja,oregano,hmmm,morton,mozerella,topnotch,horchata,nomin,panda,carmin,fing,fifteen,muffler,nationwid,pete,truth,kite,lyric,slang,tso,freezer,kensington,galleri,swenson,hippi,trampolin,unamus,schlotzski,deeeelish,kink,parlor,daryl,variabl,lasvega,florin,poet,exquisit,flown,yoghurt,grungi,secondli,capicolla,dibella,famish,genoa,godfath,grinder,newport,ri,virtual,nitpick,fremont,inquiri,beuno,dishona,famiri,flashback,hotpot,wimpi,yuck,fireston,voicemail,bob,phew,jorden,safelit,unpleas,windshield,tomatico,bummer,quad,felecia,thigh,jinyi,refinanc,throughli,bridesmaid,christin,gown,hangov,recov,strategi,cantina,cascabel,promt,refri,tastei,torito,hashbrown,hazelnut,clairvoy,unsur,dumb,roland,looooov,helicopt,wacki,advent,bop,scour,deleg,icon,lend,cambron,jaguar,justin,rover,delai,prepe,madam,restauar,craftsmanship,banger,coli,outdid,pablano,hungov,burner,cornichon,flair,heartier,raclett,omgggg,brainer,cutlet,fungu,hokkaido,oppos,recognit,richmond,antiqu,bigot,dictat,duzan,elector,eletor,invalid,diego,rae,jessi,jewelleri,placement,stud,titanium,apron,jph,mismatch,sewn,battl,calcium,kidnei,parathyroid,pcp,shaba,stride,urolog,horizon,puerto,rico,chaqu,nouvel,objet,proprio,raisonn,rapport,sympa,trouv,trouvail,financi,finic,geniu,math,nutsi,upsiz,midweek,shio,moxi,ommph,uninspir,adamo,bravi,copi,doughi,fior,laval,napoletana,ricotta,roma,taglio,unnecessarili,carlton,dinett,finer,inclus,linen,orbitz,roundtrip,sofab,wireless,sizabl,disastr,gawd,guna,handsom,maddi,merri,necessari,obliter,precari,respectfulli,robbi,simultan,surplu,legwork,showtim,jacksonvil,pam,broker,buyer,loan,mortgag,undertak,antioxid,brewster,compos,crowfoot,drippi,elixir,frankenb,huck,inferno,mckenzi,rage,rasp,shockingli,sloppili,whistl,beancurd,napa,tendon,yuzu,db,glendal,hawk,mcdowel,rebel,fest,polynesian,silverton,aod,nuce,spinakopita,airwai,bluebird,chore,enorm,frittata,moreso,perus,cortez,cough,enforc,extraordinarili,gander,groupi,illustri,imperson,jameson,vivaci,azteca,gonzalez,restraunt,avon,ined,rubberi,caregiv,cerna,dementia,glick,pretent,pullman,rever,variet,ahogada,milanesa,bask,ziplock,adjac,anterior,avalon,awaken,brain,bvxwr,camaraderi,coax,corridor,fog,friendship,hvu,mangler,narrow,quilt,rattl,religi,rival,scorpion,stagger,tingl,valhalla,voltaic,www,walden,bloodthirst,puzzl,rogu,teller,gladiat,trash,facial,katia,bovarian,lvcc,nv,pahrump,sheryl,agenc,baggag,buss,escal,fewer,prepai,streamlin,chiharu,kipp,ballon,curv,gabbi,oink,scissor,shack,suri,adultmart,mcknight,subject,marrow,ancient,compound,cottag,dandelion,hawthorn,kiwi,literatur,naturopath,pharmaceut,tumer,pouter,wallabi,unattend,mercato,sienna,tagliatel,buzi,greenland,perm,radio,unknown,wig,stainless,diesel,oem,artifact,buri,christ,librari,charit,helmet,rode,useri,bluff,hilton,bane,download,glutton,recoveri,sh,therm,tribe,lens,mykita,nikon,optic,dew,mt,eggrol,underr,tournament,akin,cliniqu,cosmet,gargoyl,overbear,sephora,borderlin,hubster,iceberg,majig,mnc,salamand,simplest,thingi,tid,extraordinari,nam,yasss,balli,bucca,peppo,viet,civil,nocturn,simplic,superstar,awfulli,blatantli,cult,gritti,nitti,pathet,vicki,cheapest,newyork,insecticid,lurk,conisseur,dulc,lech,berkshir,gallo,monti,simmer,rueben,slushi,takara,vaga,emphat,overcharg,waiv,gabriella,darrelyn,galina,kiera,maia,pilat,eclect,zenith,ash,scarc,zoe,isl,neither,eggington,lightrail,captur,arguabl,comprehens,discoveri,fluff,frill,substanc,gabe,backup,bellaggio,gabi,recc,wrinkl,backdrop,butternut,gasp,simmon,finch,topoki,julieann,koda,togo,biefnet,flavorful,gould,picata,guilt,nap,quietest,cue,nit,uppiti,oth,fanciest,ice,slack,kit,peic,crabcak,shield,swap,anorh,ao,bussi,daiquiri,karaok,kpop,qbistro,linda,nutti,wayq,offend,tonic,hover,allegi,stockton,crazili,creeper,edm,gg,herrrrro,thirst,mucha,newspap,ozzi,rampart,hazard,pylon,bopper,footer,duo,angioma,capillari,electrolysi,duet,fontana,louder,pandora,panera,semisweet,variant,benni,scramb,complic,issa,kash,unpack,lamesa,langonisa,agav,excurs,misura,mmmmmm,nopal,occupi,overpric,paradiso,polenta,rubi,sec,versu,birria,suiza,arthriti,meniscu,mri,quan,bonn,genereus,nourritur,qualit,vieillot,pasteri,sfolgia,manchego,phyllo,santorini,alarm,extent,funner,heritag,imax,myriad,normandi,yellowston,fro,menchi,curat,pepe,wowza,yup,hee,rebuf,repaint,rubber,scuff,yearn,anticip,detract,russian,lindt,password,bjj,drama,relat,sketchi,bird,ellen,darndest,kettl,afteral,bonzai,flaw,purist,qa,seppuku,fetch,fido,insecur,dvr,sirena,dauben,speckl,commut,handlebar,tuneup,boycot,artisit,makeup,cardin,keisl,alan,auerbach,bach,baroqu,berthold,blindfold,brahm,broadwai,cellist,conflict,contest,cpo,daaz,domain,epcor,espression,exud,fame,giveawai,gordon,hagen,incept,invad,molto,nintendo,orchestra,pianist,rozsa,smat,smoother,symphoni,tchaikovski,thereof,vgl,chillypalm,cornbeef,pt,servalinc,clearview,souvlaki,afterthought,eta,fender,clipper,janin,natali,analyz,plunger,regul,burito,brazillian,caipirinha,carnival,eel,passaporto,phillip,sushisamba,barricad,outweigh,spectrum,caio,stole,um,bk,charburg,eau,evidenc,ohgodsodamngood,ripen,vine,delicioso,effffff,napoleon,oop,yummm,breyon,framboi,ipod,soliel,harrison,kent,mosdef,bobbett,lauri,anderson,attir,demi,clipboard,tacoma,talker,tweak,scone,alberca,alta,arquitectura,cuando,cuanto,cuidando,dentro,desd,detal,dio,diseno,es,esposo,expectativa,fuera,habitacion,hermoso,hospedarno,magnifico,masaj,paradigma,perfecto,por,recepcion,sorpresa,supero,tenia,todo,verdad,fuel,bouquet,boutonnier,chosen,minist,sheila,bulliet,bellgaio,flashi,globe,reel,viva,widespread,greeter,umm,cervic,fedoriw,neurologist,ongo,spinal,surgeon,candlelight,redeem,busiest,crestfallen,tantal,dealus,potman,jealousi,ak,eglinton,hmph,hybrid,maingat,pout,covers,keith,roam,tobi,yess,callawai,kiddo,linq,novic,topgolf,barlei,chrysler,mccarran,mileag,pacifica,tako,unagi,daydream,workplac,penthous,snuggl,huynh,outburst,revolut,sifford,tpc,yd,briefli,honour,nostril,quirk,react,swiftli,verbal,thicker,jone,nati,ncc,caketini,confetti,rodeo,enthusiasm,justeat,wakam,lockout,madhous,montana,outer,sedona,timeshar,muesli,papper,pkwy,sunflow,booz,jeremi,splashier,ss,wage,crown,carton,emma,uhm,coe,cortado,dauber,extol,gaze,ho,jobot,manufactur,perch,ponder,readili,scth,skylin,songbird,sup,idaho,jane,rhyme,mohito,begrudg,bingo,capabl,dreyer,ea,jami,cellphon,jc,sorta,yummmmi,bw,handmak,mung,szechuan,unexpectedli,ludicr,tzatziki,notori,otter,supper,ballroom,shimmer,woohoo,benn,beverli,frise,lewellyn,sharp,vermont,jitter,adjoin,opul,palac,play,utmost,peppermint,lavosh,pepsi,hammer,percent,postcard,thor,blob,chapter,coaster,crayon,dostoyevski,drape,dryer,eleven,fantas,firkin,horton,paychequ,portrait,pulpi,saucer,streetcar,tablecloth,chee,shoyu,franci,knive,revamp,underw,belmont,cheerlead,fizzi,hanger,pizzazz,coic,distict,emporia,emporio,retract,sandwhich,trello,shavon,dissapoint,domin,rona,gut,lava,polo,architectur,monet,photograpi,rediscov,brenda,script,douthern,kickstart,vanessa,bicycl,conch,eggi,elvira,joyc,loudli,maduro,overheard,dando,lollipop,misl,pei,pomm,weakest,ahmaz,checkout,sofa,spous,bangin,blackstreet,ot,elton,keychain,ahh,sting,ballentyn,circul,mustardi,packet,scotland,stripe,yasu,eddi,goodyear,reloc,tott,calib,canfit,drastic,freakin,gl,goer,goodlif,ketogen,kinesoloigist,motion,preach,regiment,stagnant,totum,triathlon,waist,brisk,hugest,kimlan,longan,moos,soya,taiwan,scorcho,orthodontist,protocol,stephen,burstdai,colin,galor,huntersvil,pinki,salior,sierra,voila,henri,mock,sn,bruce,coil,cylind,diagnosi,ignit,laptop,nich,randal,coco,occurr,frothi,juliett,ooz,rind,ctl,hue,downright,patterson,tara,timmi,regina,kennel,log,choru,mbp,dispatch,greenwai,interst,terrifi,lolll,fallen,rojo,groov,demetr,mesmer,famtast,dispos,kunafa,omda,tereza,dowtown,mingl,mocha,waitng,brigdon,motherfuck,coolest,littlest,swing,ziplin,bel,lumier,semain,tamise,tranquil,chatim,harder,hojicha,dissip,karen,patel,scatterbrain,shiitak,shabu,sleek,swipe,batman,comic,war,infinit,nigh,barri,dakak,fancifi,garbag,lite,shar,havent,aggress,cl,fumbl,mira,tundra,smashburg,understaf,convei,upward,buffer,concess,concours,detector,goodby,imho,unclutt,vertigo,tatjana,mass,moreov,outta,height,vongol,bloor,permut,beard,brutal,interrog,stingi,whilst,buc,cheif,karla,yeh,burratta,clubgoer,perfetto,sicken,latina,lorena,abus,unseen,absurd,dtw,abbi,mither,miscommunict,potteri,townhom,silo,abel,bryan,masada,tilkka,decal,perfectionist,turntabl,wineri,rise,bbt,alicia,blather,coffin,embellish,incom,pintrest,undivid,malli,smitten,aqua,mazapan,gaetano,chelada,guacom,snuck,wateri,clusterf,engrain,greas,psych,soil,topshop,yarmulka,tron,carofit,daylight,debt,paycheck,ajout,garanti,recommand,gordita,goa,prawn,octan,wih,drawer,liv,megan,rural,splendid,union,inconspicu,judgement,accord,chronolog,daaaai,diva,donatella,energet,grammi,rican,sparkli,swag,versac,ow,jeanett,spiffi,bacchan,unreason,enriqu,housekeep,hypoallergen,jetlag,adobo,brocollini,kamayan,lechon,purposefulli,tastebud,enzym,reappli,smelt,handicapp,illini,wind,ehhhhhhh,jyan,dismai,lawyer,playroom,chimchurri,unsuspect,wrench,electrik,kenni,archeri,contradict,artwork,hump,surveil,underground,basilico,classifi,pasqual,coriand,satiat,sawtooth,clumsi,botch,differenti,stabl,bikram,curs,disparag,martial,rope,unchalleng,vulgar,hogtown,mirchi,discreet,gawlei,mastectomi,reconstruct,scari,uplift,timeless,tlc,distast,parmasean,rollatini,portuges,wvrst,dens,eco,essec,gracefulli,lactos,virtu,conner,jazzi,planner,xtreme,ganach,gimm,lavaza,loop,loopi,marscapon,wari,hmm,jackpot,woukd,henna,neelu,disorgan,savasana,zumba,chant,closur,paler,placat,poolsid,revel,thump,diddi,ries,barren,horrif,mcc,takoyaki,troll,truthfulli,uniformli,fret,akron,navajo,dope,asst,fausto,vela,alec,cloak,invis,dreami,kraft,squish,paitan,tori,quickest,barbacoa,flauta,bryce,chada,hed,kham,moo,nest,nua,pla,tod,whan,fh,macau,conveyor,shorten,infar,outlook,amend,monteregi,petino,pamper,strengthen,avacado,lab,soba,elyxx,mixx,phil,qween,balloon,blowup,glitzi,heartach,inanim,lachapel,quintessenti,amelia,tailpip,canneri,bene,dupe,intoler,jeremiah,oj,swirl,overcrowded,amoung,ashburi,haight,hob,liber,nob,snobbiest,transplant,willo,macchiato,goddess,lagha,theeeee,gp,mornin,volcano,marilyn,stout,homestead,bluth,boe,businessman,disgruntl,hilar,orli,americana,certif,cheryl,cite,cotton,effervesc,hum,incarn,lambada,laundromat,levi,lint,mere,merit,realis,secretli,sharpi,slaughter,vinyl,yokel,duh,australian,shiraz,humber,ibrahim,marshal,ross,similarli,campechano,cheek,chicharon,earliest,pescado,sope,england,longo,wal,commonli,manoshet,schwarma,unassum,cojita,feroci,meld,taqueria,cancer,daunt,micro,perth,sprayer,concord,kimi,meienk,rotor,statu,hvac,afterglow,anecdot,backstag,cc,cochran,deed,fist,lager,loath,moan,occur,onstag,regalia,relationship,ringer,septemb,stiller,syllabl,tortois,yacht,excitedli,fieri,lunchtruck,race,undeni,tha,middleton,athlet,motorcycl,wiss,babymoon,miranda,pasteur,radom,suffic,tortur,virgin,accueilli,banquett,bete,bien,brasseri,bruyant,choisi,choix,efficac,essentiel,fait,gro,hotess,longu,masson,melang,partage,propos,quelqu,rapid,regim,rempli,representatif,robor,sourir,tard,terrass,acn,configur,legend,scotch,welllll,whiski,sarita,clt,nerd,tonki,belat,cuff,empathi,fought,labrum,physio,physiotherapi,kayle,micki,cheesei,dippin,dot,jinni,revit,yukon,ez,victor,bosco,boxgrov,swab,kalem,cantones,clai,elect,ong,breaki,culligan,ehhhh,overserv,bao,bei,chou,dong,xiao,poof,barrow,bleu,bugsi,career,clyde,floyd,gangsta,glow,luke,petti,shtick,cineplex,adject,blu,gingerbread,molli,pedest,psst,romeo,shih,tzu,diagnost,ninja,lemoncello,rudi,kimmi,microblad,ceo,fingerprint,flagship,hudson,reviv,suddenli,fourteen,thanksgiv,arghh,babysit,bahklava,haz,ohhemmge,shank,ligament,storm,rigor,unwind,cheep,cougar,degener,wii,neighborli,emo,emphasi,strangest,cosi,vault,krissi,elderflow,moc,donat,fundrais,hyster,innov,juggl,partnership,unicycl,dumond,laissez,muffaletta,pheonix,rouler,highmark,roller,simul,sportswork,dissatisfi,gaati,gai,stonkingli,sauga,dant,expresso,fennel,panacotta,alejandro,biggi,chase,amiabl,cliff,valentin,amelior,peuvent,plat,valeur,dug,exectut,katrina,meringu,popov,rillett,liberti,unabl,swiss,teppanyaki,brea,carmal,cheeri,recog,meticul,typo,anounc,coz,headset,satellit,callu,tahitian,rocatta,corso,wilson,bertha,molei,salut,anxieti,schnoodl,moco,decemb,rex,poetri,upcom,elizabeth,janic,cellar,memorabilia,nfl,raider,odin,collag,coverag,dlk,flinch,infant,kowsari,rebecca,boberri,corrod,corros,ford,wire,jalisco,flore,willim,defens,karat,thrive,cucumelon,byo,roman,skimpi,frisco,anyplac,bye,tabel,clarenc,hyde,merriment,ruth,skylar,speech,prioriti,unclog,repairman,ceaser,demonstr,janea,lush,mask,moistur,rsvped,personnifi,ramada,jan,lesser,bukowski,ernesto,fingertip,guevara,hdl,headquart,irreplac,kerouac,mackimmi,ofttim,relev,rumour,soulsuck,tangibl,temporarili,twelv,wikipedia,british,hurrai,barramudi,bona,calabasa,fide,palmeri,refin,waft,compens,damillo,fillo,canelo,guero,mui,parole,pato,picadillo,quentin,raja,rec,runni,sheriff,cruis,etobicok,barbel,dylan,funnest,geoff,gymnast,metcon,ramsai,rcr,snatch,weightlift,cpk,mecklenburg,binder,ceremoni,murphi,reliv,ughhh,wayyyyyyi,wedgewood,billiard,eatz,luncheon,chevo,filler,val,vista,flop,hiker,pave,slipperi,trailhead,treacher,grin,heap,pepperomi,deana,aref,armen,cardamon,chenj,crop,farsi,guilti,mast,moosir,pistachio,rosewat,yummmmm,deservedli,cosmopolitan,essex,stk,antic,beta,lockjaw,lumina,pachyderm,theatric,oat,loft,mochiko,oc,faithfulli,chevi,cruze,secretari,messina,burden,moulin,context,croquett,ronci,anastasia,gavin,faught,hessel,poboi,harouni,samuel,roadhous,cornstarch,gan,infect,jjajang,jjampong,myun,pipin,shan,sinu,soybean,steami,yook,cripsi,kai,fleet,balayag,durham,makeov,swedish,devast,grapejuic,homei,michigan,surreal,tier,gor,overwhelminf,lankan,sri,whim,saltin,sept,gila,horsemanship,diseas,loungei,pinterest,botan,kratom,afghani,amor,amour,growl,analysi,affin,handi,whirlpool,bloom,hellish,henchman,nurseri,boast,rooster,yeahhhhhh,bin,biz,chillin,cmc,cranni,egypt,germ,kidnap,mummi,nook,permiss,phob,raincoat,realist,splashi,spout,youngin,embassi,commemor,courag,curios,ei,jingl,manga,muster,nervous,selfi,timid,utac,equestrian,grandkid,sauv,tripadvisor,wellb,wrangler,clan,wu,disord,harmoni,notebook,overjoi,rambl,warmest,meltdown,avg,dbltree,dt,dungeon,newcom,canonsburg,pgh,delux,cuddl,energ,garpar,squirrel,tatiana,escort,lingo,rash,akward,furbabi,veterinari,yuki,minster,sermon,anomali,jake,quesadillia,refurbish,presum,roux,greener,pastur,ethic,lemongrass,goto,sealer,aforement,alcoa,aluminum,aural,brass,column,conductor,evok,facad,firepow,foyer,gawk,glitter,grandeur,lotu,majest,motif,soar,szell,waltz,okei,thaw,uneven,unwav,maki,roku,clover,eyelin,moon,atkin,exnai,millennium,vito,accomid,desit,freebe,disposit,dolli,franco,sealant,personiz,ziggi,instagramm,rolltat,cannolli,ditch,honeymoon,newlyw,reload,expedi,overus,wei,gamei,raviolli,americano,procrastin,willow,jefe,prospect,biodegrad,frick,reus,vender,seattl,lilli,discourag,dutch,befuddl,staffer,exfoli,appi,duggan,gord,onsit,whoohoo,asana,enchalada,ganoush,pleasantri,golfer,koffe,kolsch,loser,lin,bluephi,franklin,oyl,zoei,flan,gratuiti,hugee,amin,sriacha,giggl,instrument,jcu,astor,doo,ooohh,chalkboard,nix,joselynn,letter,nov,armi,dilworth,gospel,kenneth,nine,norman,ottoman,ralph,salvat,vera,wool,diavolo,dolci,stallion,sukiyaki,klapach,fetish,mesquit,skincar,os,murrai,injur,cabbi,hoorai,miniskirt,objectif,shitfac,slop,mckee,clog,marlin,rainei,overrid,behavior,fl,interfer,intervent,jokingli,suitcas,proven,aller,classiqu,decu,depui,enfanc,famil,fortement,jamai,joliett,mmmmmh,toujour,vai,leisur,letharg,peppercorn,subtli,wintertim,detox,cheung,yan,tiernei,alexi,cioppino,rooter,sambhar,frilli,bash,congrat,hvill,sociabl,hideawai,ashlyn,bookmark,cass,crout,provinc,risk,segment,spillag,manor,moviego,tango,ambrosia,applemead,macintosh,vocabulari,oshinko,loveeeee,vivaaaaaa,bulki,dinki,legg,maxi,oakei,sandal,sleeveless,sling,sweatsuit,moli,sweetest,homefri,lemoni,littlefish,peameal,walter,replet,csi,graveyard,organiz,probabali,sherbrook,snowdon,villa,excus,burch,nike,pocketbook,barbequ,robata,uncertain,empow,scooter,wheelchair,butterfing,ici,bandi,scof,waimanato,lacross,rightli,getta,amospher,eek,shortcom,bluegrass,dunda,drywal,gregori,reachabl,entic,palazo,royalti,sandel,sunk,proprietor,shea,fritto,misto,kahuku,kalua,saimin,cami,dara,seth,tanya,commentari,discombobul,disrupt,fifth,heinz,oct,outset,scoreboard,snafu,steeler,homag,premanti,throne,kielbasa,tata,wheelhous,kimber,rox,whichev,sonic,adt,jpg,onobnoxi,darker,nailb,redid,scrape,mccarthi,surgic,jusi,shumai,siomai,armrest,centerpoint,cushi,filmor,gusto,mucho,porkbelli,cosmic,basch,filaberto,tikki,br,mississuaga,niagara,reimburs,lou,frine,vegtarian,chippewa,frye,mystiqu,someplac,assi,ba,beaubien,confort,giga,merci,plaisir,quell,restent,sieg,vraie,cudo,onz,pepperi,sauag,flatb,pr,janitor,reset,accuraci,blister,grip,miser,yourselv,campbel,ghetto,goddamn,rollin,rot,skippi,manhattan,dania,kate,hella,consciou,hog,sophi,unsettl,estiatorio,ingyin,moniqu,donni,tackett,rollup,stope,margaritavil,breakdown,snoot,failur,album,bayou,californ,celeri,oodl,ballpark,bleak,entrancewai,parkdal,dq,electrolyt,underdog,fantasi,durin,mickei,mooch,chotchki,worldi,grillmast,shiz,gfi,troubleshoot,homeless,ahold,agil,evalu,profici,regain,rn,scioliosi,scoliosi,upright,loca,sandia,bast,eatinglv,foodblog,ogden,salesmen,banku,fufu,carnag,gulp,sansei,toro,touchi,gumbal,playstat,reminiss,xbox,condition,neutrogena,yoyo,middlefield,mj,bademjan,kabab,kashk,torsh,walnutti,grimaldi,disclos,arr,blank,booo,castl,cavern,encanto,fireman,firemen,freshi,hoo,labrynth,lovesit,origion,terriyaki,whoo,antica,raul,pimiento,thediou,cam,bogglingli,citizenship,remnant,wowowowowowow,quac,ord,wah,chocolet,kreme,krispi,arnoldo,document,embroid,vest,hencho,olson,frenzi,shortcut,ds,kore,sean,ensu,erika,mamechka,punki,vat,citylight,leftist,maydai,progres,foundat,lancom,valeri,yangtz,ob,partridg,blunch,highbal,porkchop,thyme,unthink,rancid,freshen,pen,planetarium,amle,bullock,sandra,gow,suei,bankrupt,winkl,homebodi,squeaki,atrium,wf,nar,penang,som,panic,rena,rightman,effortlessli,infecti,maybellin,khao,norther,osmosi,revers,spigot,cupp,jp,reccomend,somesort,tasteful,acupunctur,schipperk,ecolog,halloween,louievil,patina,rummag,slugger,thirti,tivoli,victori,codi,countryman,merc,naomi,likeabl,cebuchon,arch,usefulli,buddyyi,franki,heyyyyyi,legal,piero,sex,vicario,voyeur,xxx,herbi,baconahol,composit,earmuff,moe,choke,keypad,branzano,antipasto,knockout,lookalik,solstic,willei,accordion,aaah,blondi,pavlova,fricasse,terra,dreadfulli,parrillada,bounci,jellyfish,dib,expedit,mustang,predominantli,shad,transpar,armadillo,haylei,nugget,carrier,matern,motherhood,madisontap,takeov,bellman,snf,doesnt,jolli,julian,lengyel,lineback,rancher,rankin,missaussaga,straighten,conscienti,pickei,trueli,victim,violat,bearabl,nevil,role,sasha,harkin,chorro,pao,kiddin,lan,nhu,pate,pupusa,rubberband,bookman,blogger,photogen,graciella,izzi,feb,dreari,overcast,lamin,thoughtfulli,ty,blare,uofa,dandi,liken,tingli,psychiatrist,suba,choolah,cyclist,deterg,dizzi,epsom,maxim,bikini,australia,vegemit,oblig,rehab,serendipit,copiou,grai,religion,tavern,worship,blunt,limb,aunti,ohana,saba,teri,okinawa,orion,beso,ramsei,tenderest,bracelet,contempl,hacienda,southwestern,resturaunt,geek,madis,incorrect,prescrib,zedek,congest,omnivor,crouch,chess,briell,thermag,jacquelyn,analog,sunshin,caterpillar,shania,cred,herd,massamam,woulnd,ambul,chihuahua,disput,fabrez,magnet,motel,slept,usher,worm,yield,lwave,bogu,kbb,skeevi,adul,awestruck,euphor,optim,panko,regal,solitari,sublim,transcend,unabash,verg,climat,encas,namast,puma,radiat,toasti,trauma,vastli,docker,goodwil,stigma,unopen,bia,collar,effin,flowin,lovin,popper,yegger,zuma,pounc,keandra,verizon,amazing,chia,lunasagna,expier,api,arsen,burgh,impromptu,smallish,allergist,maner,recomend,chanel,luminosa,reiki,tami,campustown,foodag,hideout,homemmad,inhabit,professor,punker,soulless,speakeasi,terrifyingli,unitarian,chu,smore,bail,raccoon,falootin,usa,copperpoint,simonm,colder,brewtopia,caffien,edgier,graphic,kahlua,sugari,buff,chapel,ooh,tonit,jumpin,playin,sevic,physician,tottori,treatabl,stow,voltron,keaton,heath,logo,melodi,nonfat,arancini,articul,amput,neuter,stickland,beecher,charl,franc,icewin,lcbo,magnotta,nuesk,palacio,upper,armori,bot,carei,dom,freebi,ihl,jumbotron,mack,mariah,monument,purs,ralli,vgk,winder,ainsi,alcool,amateur,apr,argent,bœuf,chacun,charcuteri,connaiss,connaissez,conseil,cran,cœur,datt,decontracte,decouvrir,desirez,deux,deuxiem,egal,enchantera,enfin,epaul,espagn,espagnol,etag,factur,fromag,hesitez,hyper,incroy,indeci,leur,musiqu,nombr,nombreus,odeur,ouvert,palourd,pensez,peut,prive,rendr,reservez,restant,retrouv,samedi,saveur,serez,serveur,tou,traditionnel,venant,vendredi,vieux,vill,vin,vo,voulez,discrep,comradeship,legion,gallon,seasid,abound,crossov,crustacean,launch,mug,popup,rlf,sinist,tromba,vqa,yooo,jonathan,karl,honda,hondatron,bead,crimp,jeweleri,shwan,rebuilt,transmiss,bremner,delta,smelli,soco,lookin,strict,tropicana,birdcag,azuki,bettah,braddah,condens,disnei,dole,ghirardelli,hawai,hing,intak,melona,pidgin,pog,temporari,cle,eri,hd,zia,brusetta,procuitto,payss,sherman,somtim,coronari,urn,weiner,wiener,auger,bent,snowthrow,unbent,whopper,gleam,laksa,whimsic,amphitheatr,molson,travelzoo,edward,headach,misgiv,herman,peewe,randyland,danier,morri,soju,campero,kfc,pl,popey,alaska,geneva,cabernet,fussili,sauvignon,blake,carson,changer,twelvepgh,avondal,ink,davenport,welleslei,doomi,wayyyi,obscur,wherebi,bibimbap,gochujang,hoorah,yippe,amass,audi,ballin,classless,cumulu,deet,disregard,frog,genitalia,hampshir,heathen,millionair,precipit,saniti,senor,supporti,witti,yolo,shepherd,julianna,sa,buta,chizu,futo,equiti,heloc,notari,summit,lumpia,blackhawk,cub,allison,enabl,nova,pinata,creamin,defini,histor,quivei,uw,gees,forno,scampi,rag,recwnt,tbe,anyhoo,biz_photo,blgmow,butterfli,forrest,gump,hxhtwf,jrmxfc,ldr,net,nqv,nsqnymg,pss,uwzka,ww,xqpekewfaw,yada,ykapn,alpha,annalicia,camden,sotelo,grunt,shopp,windi,brueshetta,estrellon,paella,polpo,kangaroo,recur,wiggl,foremost,tandoor,frybread,tourism,viateur,andr,andrea,westlak,criss,jillian,reshap,unruli,forearm,campesino,chilequil,demis,saliv,dehydr,massagework,rehabilit,medina,laurier,offenc,gourmand,parisian,taker,anaheim,bly,cambodian,cruller,dec,dub,ellkb,f_w,fcl,fdv_nfoyt,gfzrucdppjbvcd,gsy,mynyd,nik,rambo,refuge,sdpnbq,seang,sothi,userid,vegasinc,w_a,weforv,xsikhoffz,ywq,hardcor,calabacita,canteen,sheehi,papago,habenero,unleaven,urin,laughter,rous,pertain,ture,randolph,cinci,nonexist,sympath,agh,jess,experiment,atlant,yao,medal,accross,choolaah,mintu,cabag,loov,redicul,centurion,prescott,brighten,nico,pepita,fesenjaan,gheysi,ghormeh,grocer,hygien,jealous,plum,qeymeh,sabzi,doogi,leed,hookup,trampl,unforgett,cityscap,palomar,yip,silhouett,soondi,bltdca,niwa,pecorino,shroom,oversel,asleep,indiana,amman,bretagn,hurrah,manh,pronounc,yah,omikas,frizz,prizz,proverbi,tpclv,ws,gamer,sega,starwar,chirashi,mancuso,equival,frappuccino,straw,symbol,vicin,flyer,smyli,reorgan,amber,khalifa,wiz,shu,wonron,bid,pricelin,seein,victorian,soho,tirimisu,shawl,esthetician,flesher,jones,kristoph,overload,headboard,invas,berg,kahr,volkswagen,vw,alert,chestnut,conjunct,durian,feng,insta,ordinarili,reduc,undercurr,breach,cord,danger,safest,scarff,umbil,womb,nectar,overeasi,trisha,autoshop,decant,gio,snobbi,supplement,farewel,burlington,dank,dearth,passerel,trot,nutshel,plateau,simit,eoxk_,fz,hrid,hvsnx,ismzo,izccw,jgt,kla,kw,mle,mxhxtqukmr,nlkssekc,nq,pmoimk,pw,qe,sbw,srku,underrip,unimpos,upvp_,vxlhfryzzzj,whqii,ywaucw,zfzesz,zgwvksvopdbyfzg,geico,caledonian,carniv,displeasur,mush,uk,conceiv,goign,trippi,dixon,jon,membran,trophi,allez,aujourd,bemol,bourratif,chocolat,croustil,desssu,dessu,enlev,faibl,hasard,hui,laisse,limonad,maison,manœuvr,meme,parfait,parl,plastiqu,prochain,serait,tass,tellement,tenter,tomber,tourn,voudrai,vu,cliqu,overlai,slideshow,usb,dammit,toiletri,lefti,righti,lavraki,carryout,friggen,fuzzi,faci,superl,duplo,glu,kangamoo,shiatsu,unsupervis,yap,elderberri,aluminium,sonoran,explod,shiro,tib,freestyl,jukebox,classier,coletto,scottdal,sheena,charger,octupu,brock,gerri,picker,luna,arboretum,endow,saudi,josu,awn,theeee,metropark,mozzarela,piadina,thisiscl,improb,mezzo,sizeabl,soundtrack,tetto,warhol,westin,padthai,consign,hardtim,downgrad,rhode,bre,disbelief,symptom,omit,assam,kacang,comeback,gu,inni,dynasti,turnip,pullout,rialto,rollout,belabor,contus,distress,heartstr,jeopard,oxygen,panick,prai,saddest,samaritan,spook,miguel,bentcrayon,catalog,holland,kwame,wanton,freshii,feld,dnx,entitl,kenwood,redneck,unfavor,dii,stephano,tickl,silk,vase,merced,schumach,grumbl,indi,sabastian,stinkwe,nonstop,casserol,regretfulli,ab,freshco,galleria,scowl,sporad,worout,tallboi,greenberg,brewhous,generos,lame,sweetiest,bjorn,nascar,pirat,tounian,wooohooo,lcd,aleks,ljiljana,albuquerqu,kalei,strait,cameron,kara,glanc,acai,inevit,juiceri,ornament,salud,mandoo,lap,tablesid,flew,pilot,stewardess,grubhub,leeri,apteka,kartofl,okocim,kettlebel,mistaken,sled,trx,havarti,holder,marmalad,miniatur,abstract,alberta,edmonton,km,lawfulli,licenc,livabl,obei,ottawa,sault,secondari,ste,valid,etern,shimeji,shitak,fever,svoboda,spunki,heighten,omgood,tetri,uhhh,emotion,fondli,snaggl,philadelphia,cumin,oakvil,uniform,flobe,helper,latex,softer,talalai,unglu,sheik,cristina,topper,yamilet,murca,oversea,peasant,sha,hatchback,sedan,somedai,zenithautolv,growler,ibus,noteworthi,spooki,woot,toston,cowtown,ledg,phxam,pyramid,expectimg,emiliano,eon,palapa,cemita,nobel,habla,utilitarian,zesti,zingi,avant,celui,comm,emmen,entr,grosseur,impressionn,morceaux,passer,pein,poisson,rend,roug,seul,simplement,soyez,specialit,surement,tableau,thon,tobico,trouveront,valent,vino,jalfrezi,restrict,ach,commenc,communist,feen,lego,pole,tylenol,telli,aficionado,amidst,brethren,deadli,denot,dum,gullet,inexperi,nai,sheeeettttttt,waa,fervor,monarch,andrew,gentil,healer,hypnotherapi,ciruq,crappiest,definetli,happ,inmediatli,meyer,mufasa,nowayd,priceit,summerg,thenhat,christoph,hmmmmm,landmark,lodi,xma,musubi,stimuli,buen,comida,excelent,hispana,paisano,rapido,recomiendo,servicio,carter,manicotti,geesh,hubert,horseback,neighbohood,sbux,abiltii,acadami,cg,debri,degrad,demp,diodato,diver,durda,flander,identif,introvert,medder,padi,resuc,roatan,scuba,tania,wetsuit,classroom,bojangl,redefin,besti,stolen,labour,jill,lynzi,meinek,tranni,expeci,hansen,profess,unprofession,pekarna,cavatelli,larva,sonni,mate,holli,reconnect,swam,whisper,plug,akila,jackfruit,vei,outlandish,rake,scam,usabl,hazel,malibu,mansion,mcadam,romanian,silviya,bowel,canter,cleavag,fiction,genor,hallelujah,mascara,sensual,synchron,nitpicki,ohhh,unhealthi,director,faint,ghee,kulfi,makhani,marigold,mehic,mirn,papadum,saag,tastier,basmati,chana,daren,echo,gizmo,jap,trivago,screamin,engrav,osborn,prong,resiz,watchmak,destnat,classif,cleverli,crimin,deliber,floweri,froe,grasp,lofti,manila,rust,splendor,statement,tailgat,rumbl,timet,divei,euclid,merg,scantron,spaggetio,click,genet,joan,miradri,axel,exhaust,hauler,psi,slippag,snowflak,torqu,wobbl,collaps,fuse,portabl,retrospect,gsm,jovi,murdoch,cappucino,catfight,cufflink,ego,hypocrit,illus,lapel,measli,philosophi,seventi,theyll,whore,youll,fuk,foodgasm,pice,interven,proactiv,satisfactorili,satisifi,thereaft,glace,proch,jae,almandin,dollop,ratatouil,walkin,crescendo,gradual,groat,huuuug,katchori,legum,lilva,punjab,sunlight,toddi,turmer,unidentifi,germaphob,parachut,puppet,sniffl,beaudevin,dispensari,holbrook,forest,lukewarm,amstaff,condom,egyptian,erot,germain,klutzili,mistakingli,nameless,naughti,pane,rockwood,matine,superstit,midnit,dazzlingli,camaron,diabla,goon,cutter,fuck,charcutteri,humbolt,pars,proscuitto,provolon,rectangl,cleeeeeeeeeean,harken,lactaid,mississaugan,scoff,slum,tenner,yorker,devin,mier,ahm,extremelli,virus,caldo,guadalupana,menudo,oak,swoon,disabl,usuabl,vein,tacotuesdai,shadow,sysco,cutoff,canva,guesswork,sketch,dfinner,flourless,pucker,reverber,ensemada,jollibe,mamon,glucos,judi,vital,divorc,jaipur,jo,potion,puls,arac,ruben,maz,ronald,tastefulli,excalibur,harra,myvega,odor,satisufi,stench,unsaf,puni,checkpoint,ditto,woolli,bling,discontinu,glorifi,minimalist,overstock,twinkl,unconvent,memeb,postrio,wonki,printout,jinx,leeann,appris,olmstead,wyant,metric,seldom,tit,syrupi,rwb,architect,carla,celina,grader,picant,quinta,redol,sleeper,tabletop,evil,hound,protest,respectivli,hahha,actor,basiclali,hitchhik,linguinewith,chiller,nutellatt,rechauff,kitschi,reunion,grandchildren,lengthi,programm,filth,sheesha,homesick,bhatura,chola,desi,strive,bullhead,stroke,rasta,loyalist,peet,prego,sd,wean,tbh,elm,foodish,stucco,usd,arshai,arduou,inadequ,schlep,theto,arshanna,mishap,multicultur,cheeto,boiler,rm,buse,kingman,drea,shelbi,canist,slushe,taro,eggslut,nastiest,basalm,captiv,cedar,chimnei,clicker,everest,februari,formul,ovenston,perogi,pueblo,shinaki,tum,unmelt,yaki,marian,uncov,lizet,tribal,cydnei,longtim,mercado,monogram,oxford,babaghanoush,cleo,lebneh,zaatar,crudo,multi,unrip,contemptu,mph,goug,mcgill,alyssa,editori,rtr,whitnei,columbia,barrag,willi,moolean,guru,kenput,dapel,humid,kesha,rerun,bombero,coup,foreign,idiosyncraci,ihop,moral,panino,pluck,rebut,reeeeealli,sacramento,endamam,brodo,fieramosca,hyatt,ado,homebuy,pointer,taewkwondo,firepit,hindranc,soundproof,jorg,quijada,atwood,matilda,calabrian,soppresata,tackl,anti,marina,acritano,fusaro,rucola,accentu,chashu,gumi,shin,freedom,heed,creperi,bruster,tempeh,becherovka,boczniaki,fernet,kapusta,klushi,kluski,marissa,slaski,smallman,capriotti,baldwin,barmaci,cliental,hipper,diew,eiswein,miang,pou,sme,bichon,goldendoodl,tawni,beachfront,surfboard,robot,stephani,belatedli,bonus,dunk,evangelist,gender,heartili,waiterati,begger,shoo,wouldnt,kitfo,merkato,rougher,mandela,glock,warren,sezwhuan,newa,shisito,quanit,ting,bettor,westgat,cope,aquamarin,asham,bedazzl,cellophan,circa,demon,disco,fuchsia,gridlock,kitsch,ladyhawk,lampshad,madonna,nudi,quinceanera,reced,scheme,speck,sunburn,velour,squirt,espr,reader,wouldv,chaser,ebiyaki,forbidden,funkler,interv,marlboro,reseat,subtitl,unstopp,vana,kau,arroz,marisco,bangkok,descent,cobi,stoneg,predat,python,kidz,ilash,nela,benz,loaner,anthem,chromoli,kart,weld,welder,liqueur,ina,jidori,oddest,redirect,erik,bacio,illeg,tapenad,pedicurist,snoh,compact,crate,kierland,kor,mastro,caraf,mainland,aawl,aboutu,aspx,azfacc,dobbin,furthermor,gov,legisl,maricopa,mayhem,mcacc,microchip,mywebsitebuild,org,rabi,uno,vaccin,colombian,siam,birdsong,claw,resuppli,unrel,fb,fundido,preset,spider,lovraki,thickest,bitelv,fangirl,matchbox,mb,sheeran,throng,sorb,spong,haggi,firearm,ica,breathabl,hayden,metropolitan,yogurtland,sobresalient,armpit,dd,quess,swore,josselyn,sharma,operandi,regent,bacteri,basin,gregari,intermedi,moksha,slipper,firebal,dana,ascot,hail,hollidai,hoof,jwb,odyssei,sidebar,hennessi,flu,cv,blasti,ironman,misplac,pssh,scram,sixti,sporti,ru,wannab,angrili,belittl,elementari,duper,looong,dissapount,feiend,pram,boo,bradi,withought,wud,aft,cataract,decison,len,varianc,vist,wellish,debilit,kwaitkowski,kwiatkowski,swirli,terranc,hampton,connesieur,fascin,goji,lawrenc,merchant,teopia,tin,vancouv,ccm,frappucino,chemotherapi,almondin,overkil,intellig,gr,resent,invari,sol,sopa,thicken,vaughan,botox,cockteil,definitli,myer,gradi,hardwood,handrol,sterl,opu,udon,equinox,jacabo,attornei,merlot,palet,pew,risl,nyni,enchilado,asra,castor,farida,fuller,dachshund,picasso,orlando,vow,onnia,corrupt,dumpster,mobster,puppymil,claustrophob,hamm,squint,giraff,leap,mount,shenanigan,skeep,slicer,styrofoam,coloni,tangl,ravisoup,billion,bib,jicama,virmicelli,vivian,capastrami,cu,fa,hwponbzzymrd,mk,nhvv,oi,oig,rocco,rr,rvqgyq,ue,uind,uzdovugtunaugi,vwtaob,wdvyqtw,samantha,lumberjack,nicolett,amazebal,tijuana,attribut,cubano,influx,sudden,fedora,pike,cincinnati,shuffleboard,capsul,heartedli,champion,pizoki,disconcert,cove,goodman,dhingra,neel,cherish,reverend,greco,tcby,teeter,monic,chiffon,hem,grouper,looooveeeeeee,prosecco,parallax,conor,bandwagon,grave,hippo,humanli,prerequisit,restrain,trainwreck,dexon,seldomli,mentana,discharg,hematoma,vv,doug,inexperienc,domino,fetalici,mediteranean,spinich,cognac,gastiqu,grgich,jouet,perrier,quintessa,bearnais,bordelais,iffi,terzetto,viniagrett,huuuuug,underestim,mm,nightmar,wolfdal,partwai,envis,jowl,offset,choc,tushi,denim,selveg,ristretto,fatten,gremolata,radicchio,wor,steamer,thani,borna,rami,todorov,prone,caff,sickeningli,summertim,freshner,suv,petiquett,courtoi,degust,modal,oftentim,teka,af,emm,gee,woah,mose,regenc,bouff,jambon,notr,reviendrai,flirti,hhmmm,inglot,pigment,lakeshor,defend,wrangl,chico,clark,cradl,dreamili,labl,multilingu,recognis,steward,carcass,hoarder,pacman,patronag,recogniz,stencil,unmark,markvil,bvgezghyfo,houston,jewleri,stan,foursquar,georgeann,newcastl,tumbl,vig,unnatur,usag,bliss,transcendent,voyag,wright,vanc,crespel,scotia,silki,clearer,simplifi,mida,barstaff,beggar,carlson,catarac,dmt,gartner,gogo,grime,griz,segredo,toma,afro,comb,flattop,getcho,lena,manli,mulletu,teas,tula,chimi,churri,densiti,mammographi,stefani,ambiacnc,feat,adrenalin,battlefield,recoil,neill,glutin,damon,surfer,ugg,ellipt,kaityswai,mimico,chapati,itcontain,nepal,pakistan,ayran,digest,caram,crampt,whet,chengdu,mapo,quir,auhmaz,contin,concha,purisima,sebastian,bronx,stripteas,audiolog,sym,boister,shire,induc,envelop,aesthetician,glo,medspa,grandaught,realti,abba,dizi,ghusht,joojeh,koob,musir,shater,aolli,chatchki,wazoo,og,deciph,manoli,mcnulti,findlai,maytag,simplist,ogl,pilgrim,hanmoto,koren,loosei,seoul,snackier,weeknight,calimari,maryland,tediou,dillard,sanuk,hounder,lavash,syrinki,elli,halupki,halushki,keno,kornegai,parallel,superbook,wager,candyc,chui,expeeienc,kiara,pelo,senza,thermalo,undress,abraham,tosh,wearhous,chasu,kawali,jacob,pearson,moldi,smokin,compit,capp,amaaaaz,bulldog,arabiatta,opa,difficulti,acumen,masaman,philip,leaver,clutch,sal,triumph,abras,ditsi,egad,inc,terror,trancelik,anguish,feddi,thermostat,warrenti,schmitt,flipper,liberac,propel,dem,grandest,ii,iii,vi,yee,ra,cameo,debussi,detour,lune,useless,looooooooong,ziti,ageless,bothersom,glute,suuper,zomggggg,caucasian,cring,sauac,yaw,gangham,laidback,mosaic,taberna,cataplana,byron,jk,saltimbocca,libbi,skye,avai,controversi,quart,zealand,deconstruct,guiness,hmmmm,jut,lat,morel,seper,sud,walu,blade,rollerblad,companionship,coon,neve,obedi,quarrel,maniac,scenic,utah,cassava,cocina,filipina,kaldereta,karei,wholli,nourish,oneself,pdq,kalu,lagoon,seemlessli,bottomlin,cleanest,reagan,verbatum,effemin,parrot,possess,prowess,uncanni,bougi,friggin,swill,fluri,tonn,bugger,cockroach,darin,detest,kinjo,sockey,camelback,disturb,capicola,gianna,haddock,evaaa,yuca,reflexolog,craziest,suppl,italia,goben,optimist,quinn,spiel,greeneri,bain,cricket,repost,termit,crewmen,hrc,lingdonberri,temptat,textil,feisti,olivo,diagon,horizont,muck,burnin,ballet,llc,fettuccini,arent,cromewel,dancefloor,exclud,gabriel,selena,cookwar,bigmouth,shrub,cien,bulgolgi,err,defint,phelp,sucki,tutori,starr,handcraft,hooooo,whooo,cyclosporin,professioan,boxi,emblazon,tress,sherbondi,jaim,brighter,lengua,everth,ofnth,jacobson,sherri,exc,hernandez,lingeri,toxic,preslei,ipic,boar,cop,ju,sheldon,birdhous,hardi,powerhous,trollei,titti,odditi,rocknoodl,revis,bowlmor,stocker,cobler,yummmmmmmmmi,blogto,godli,ohemge,sago,kristapson,metabol,omega,intimaci,yucki,amazingand,illiniwek,jd,elk,simpler,bonterra,theri,bolognas,enchant,redesign,suzi,acorn,blowtorch,brine,docket,drumett,ebi,flesh,kewpi,mcnugget,pry,releas,salin,scallion,shrimpi,silken,spectacularli,unctuou,limitless,detriment,freakinggg,krazi,gucci,jacquelin,prada,shopaholicli,vespucci,vogu,butttt,impact,jana,mlk,wny,affabl,cenpho,tuscan,leech,mu,astound,circu,narr,marcela,closebi,coffeehous,crayola,curdl,electro,leasur,stripmal,thesi,umber,upperclassmen,eli,arctic,couscou,unquestion,jumpi,jamba,understaff,von,hibatchi,smuttynos,dillon,finagl,guyfriend,loveeee,mainstream,nghtmre,rl,compuls,stuffer,capreezi,hummaz,hummazzzingg,fleek,mingi,sola,raman,garbanzo,cagl,cannon,dor,chutnei,restauran,plasma,eggspect,basha,frito,poppi,smoothest,softest,szechwan,chaleureux,bizarr,everdai,godsend,tenaya,lydia,bac,stromboli,buzzkil,crook,gs,appal,furthest,harass,meredith,squeal,stanc,unboth,unwelcom,whiten,barleywin,brewer,dipa,heartiest,ironclad,rusulka,smug,smdh,bside,conduct,perspect,auditorium,dysfunct,reentri,sportbook,superbowl,vigor,wristband,toenail,freind,handheld,sac,discrimin,aliant,dinosaur,forefront,vouch,lotteri,damm,elna,vac,continuo,deem,forehead,gtfoh,alfonso,legibl,curt,minneapoli,incap,slightest,unqualifi,gamestop,illimin,psvr,crappier,creepi,frontag,seedier,customari,payless,couldb,emel,iwent,supervisor,wilei,mortifi,canton,courier,kowloon,montblanc,novak,unapologet,unbend,vonya,badlash,bloodshot,clump,glue,cartilag,deni,okaaaaai,glitchi,roberta,softwar,pawn,crummi,joann,margerita,utterli,yank,unsatisfactori,aloudli,livelihood,ughhhhh,untold,clariti,fairlawn,hopkin,pharmacut,reed,eczema,drinkabl,downhil,fals,furiou,greenbeen,amnesia,appeas,brusk,cathart,chastis,confront,godforsaken,incredul,inquisit,mutter,oversight,robberi,kitch,rug,fabio,jeeeez,tator,artifici,impolit,frickin,augment,disproport,juvederm,md,swollen,broadcast,cnn,undon,cleari,preheat,lifescap,xrai,biet,dac,sura,insect,lousi,skecher,arrowhead,strand,vtec,feder,misunderstood,repai,slogan,sundress,audac,climber,dowd,honk,aptli,deplor,diddlei,enthral,reconfirm,rehash,salli,battist,dupre,glacial,tightwad,asc,fraud,conscienc,evan,bachann,christaki,deviou,hor,oeuvr,outlin,unscrupul,nuke,anal,armatur,bahahaha,carelessli,coolant,dangl,diod,lkq,nippl,pcm,peddl,unskil,eras,reconsid,ripoff,rung,overse,overseason,dale,kieffer,yamaha,curb,dsl,router,elsehwer,atroci,bartendress,bitchi,cornflak,kobi,mecktoberfest,mmmkayi,stink,afloat,await,bundt,caustic,enemi,principl,promin,veini,fax,inaccur,overbil,dismal,glop,jail,mumbl,perfunctorili,unengag,bentli,dierk,sellout,withth,silver,amic,gummi,smoosh,unfailingli,trashi,reataur,concur,pungent,shown,unreli,displeas,ophthalmologist,reprocess,vsp,airbrush,diamet,pagoda,oph,kiku,maguro,nakama,tokyo,grumpi,slower,pointless,foami,rancidli,bastard,elitist,negat,purplish,garner,thankyou,stringi,aight,forreal,hittin,homi,hummingbird,okaaaai,packhous,welp,oddli,cellulit,dayb,fledg,murki,nuisanc,std,diarrhea,emt,vomit,biloxi,foodwis,hunch,sportsman,kirkland,mccain,ous,passabl,charlen,microderm,neo,mexicana,bribe,ineffici,oblivi,pandemonium,rearrang,lg,lure,conparison,ramon,unsanitari,birth,estrogen,milligram,miscarriag,precaut,preti,progesteron,smh,torr,superced,spadina,represent,holler,movingapt,shipment,threat,whereabout,wyom,gnat,planter,seedl,alllll,carrent,prejudic,prepaid,sleezi,tch,wench,preview,caddi,tabasco,creameri,calibr,gasolin,thiev,rotten,stenchi,lederman,seltzer,tbi,dissaipont,saggi,ought,stodgi,crocker,pilsburri,celin,eyeglass,fsa,gibsonia,mccaulei,oakland,wexford,omgosh,bbb,galaxi,procur,carbohydr,kanji,noodlecat,propan,bullshit,surcharg,cad,soymilk,unlock,garment,astronom,clumpi,horrid,shredder,speghetti,stupidli,postmat,precook,devein,bricco,presid,prestig,detach,improperli,tore,nught,indigest,borag,floater,parmatown,quo,rectifi,onioni,sopressata,untoast,brushetta,forti,greed,arbi,comprehend,elmer,haja,laughabl,longhitano,rootbeer,turd,aurora,overpai,curtesi,kamado,distint,geno,goo,manwich,vento,disneyland,sightli,sunblock,islington,stinki,chatelli,danish,gourmandin,oakmont,thief,constanc,douchiest,dslr,lifeguard,paramed,puke,stripper,unimagin,ned,vehichl,worthless,eggslutti,bert,erni,unfriendli,anatomi,anger,anxious,defect,dermal,gore,murder,ordeal,syndrom,ultrasound,begrudgingli,govern,sim,azmotorsport,bilt,deeper,raffl,unfair,ig,consecut,diffus,disinform,fraudul,quagmir,uneth,raab,animos,hostil,mvp,gaijin,abid,naiv,blunder,bracket,headlight,rav,reckless,snowi,tighten,warrante,probat,wic,chingado,puta,implant,cs,curbsid,bdub,bellydanc,gimmick,inaud,portal,sword,wield,disclaim,fring,swept,wavi,firetruck,inept,meth,suscept,praffin,thy,egregi,cappacino,plagu,bureau,irrat,liar,revert,roulett,bejezu,juicer,uninterest,hotwir,oiliest,revoltingli,staffmemb,yinzer,alloc,festool,opper,sander,uneduc,intercom,beahvior,cranki,disorient,frenet,goblin,hobbit,increasingli,outright,ram,jcrew,madewel,hammi,berra,attenu,deterior,gb,malfunct,om,thag,uav,usaf,poorest,disjoint,albertson,rethink,abruptli,fume,inconvenienc,oclock,sheath,gimmicki,cherng,yeehaw,godzilla,traine,shitti,montros,faux,onesi,overt,temari,twosi,unorgan,chik,doan,springrol,unwil,xeo,chalet,closeout,recheck,celiac,contamin,unavoid,bleed,scab,unitalian,writh,misconcept,poser,baggeri,dorito,douch,gameplai,cooker,diff,pois,belliago,ducki,entail,faulti,fece,mailbox,overwork,suicid,discreetli,scold,adj,deaf,jock,kronenbourg,onslaught,customiz,ars,axi,combat,emit,erupt,expung,garland,kafantari,levit,nichola,pantheon,peon,psychic,spiritu,spree,unsympathet,bla,hahahahahahaha,reaffirm,retrofit,aircraft,atc,carpent,suituat,bcf,belk,inconsider,halt,preced,clumsili,cohes,decrepit,fluoresc,hodgepodg,inkjet,magnifi,mould,nothing,odour,pervas,plywood,ragin,reek,armando,armondo,fredrico,frerico,slowest,palit,broom,getgo,condescendingli,cyclop,derid,sunken,tact,nutrient,repossess,forbid,sicker,urgent,salvadorian,cuss,daisi,deadlin,ree,savvi,daytim,cork,ect,hitter,uncork,mo,grumpiest,musashi,flirt,harrisburg,snarki,disguis,unfrozen,calient,tia,recom,broach,camel,rejoin,grail,intereact,coolada,vile,elara,inflight,choppi,bombai,channa,hindi,mahal,snowstorm,talon,tude,muji,aloft,irat,capit,cherrington,consent,dept,prematur,reject,sneaki,unawar,alaskan,noisei,pomodoro,spagheti,unpolish,bloomin,botani,mucki,astrai,lavish,uncook,undistinguish,yuk,kristen,visitng,eyeshadow,lorac,unclear,duckworth,garagei,forb,blatant,inabl,nan,olmst,asshol,blackmail,questionnair,shaker,garcia,achd,allegheni,handwash,webapp,mercuri,aloof,assault,drone,pompadour,wayi,awww,cig,cigar,cloi,cloyingli,dipper,flabbi,righteou,stabil,woof,bearden,bringggg,inpati,outpati,ptsd,resign,bramalea,apl,kitten,steelyard,bitti,itti,cortison,druggi,hmo,inflammatori,orthoped,welfar,escargot,slimi,zipang,metaphor,mildew,redon,constrain,quadrupl,mallow,punjabi,ext,wretch,shitzu,jello,blandli,hibbert,nunthaporn,republica,latch,dumpi,funniest,uhhhh,untrain,barf,mosquito,diffrent,redempt,mcdoubl,messiest,behalf,pillar,righthand,pak,stomachach,teharu,becau,sanwhich,rollercoast,demayo,dung,cattucci,cosco,cubana,calabres,slob,hahahaha,ontrac,undeliver,continuesli,apoleget,morelik,deliver,indigo,sarcast,alexandr,capitol,circular,dainti,carefre,media,modular,raita,mishandl,mismanag,ralphi,sickli,unmarbl,unpeel,earl,tallish,decidedli,frantic,gwen,lanyard,wad,zappo,engross,demograph,nouveau,swai,solidifi,escalad,monroevil,attende,dishonesti,exhibitor,fanexpo,firstli,hobbystar,informa,reciept,retest,cuervo,premix,sapphir,lvh,reser,tatuado,cannabi,eighth,absent,evertim,mcbryan,meghann,citat,cordova,jenkin,parkwai,polic,westheim,careless,golli,punk,bose,consol,dashboard,earphon,streak,hooligan,ladder,shoddi,gibson,durango,dryness,honcho,norterra,swoop,prorat,reilli,restart,byrid,stash,delet,dictionari,unansw,aviat,eww,rant,scientologist,travolta,benedictito,lifeless,hulk,jimstar,particl,redskin,unsuccess,width,itch,bream,limp,astic,fant,stern,delusion,hooo,levin,miseri,ncfoodgui,presbi,woo,foodora,gurgl,rundown,abondiga,braid,ummmm,anx,brenden,frai,greedi,ebai,chardon,historyi,jiffi,turner,upsal,jr,accpet,airforc,cdu,fkight,nav,preflight,finali,unrelax,unintention,whack,dishonest,dv,incapacit,fuji,miniscul,buis,delud,earshot,fidget,galact,lung,revok,errr,hapen,loblaw,peev,ayrslei,shiti,tweezer,wat,daal,gulab,jamun,makahni,graini,preslic,procuttio,saltinboca,unchicken,advers,mgmt,welt,renam,unbread,unded,nooo,spitter,yepp,shouldnt,sluggish,ispa,serum,annuiti,haymak,reboot,retent,templ,dagger,ponytail,maiddai,stovetop,misc,radiu,unclean,xxxxx,harbour,mutt,coliseum,fiasco,thug,hnj,sapporo,hiya,clown,dropout,smugli,greec,citric,dind,finat,mexish,mrealli,redish,rins,bigotri,complexion,headlock,homophob,manifest,repuls,qdoba,usx,ts,bld,checkbook,dissatisfact,dissatisfactori,scout,swish,uneaten,airplan,finder,walmert,acetaminophen,psudoephedrin,bradburi,evp,spark,congreg,hindu,kalga,mandir,tamrind,turnoff,warp,theresa,grid,hmmmmmm,litterrali,solicit,decenc,frosti,noddl,dramat,grimi,noxiou,standoffish,undermin,geographi,livingsoci,skit,altogeth,ding,portfolio,salesgui,gatewai,parkwest,finess,hangnail,molecul,shaft,wolfedal,acclim,gah,iamold,grind,corolla,mtnc,accumul,discard,tong,unthaw,ammet,dampen,snotti,artisano,phusion,bellboi,bkfst,coudln,fritz,kroger,leafblow,static,woudl,shoplift,hyson,paralysi,quack,shush,uncontrol,unproduct,mandi,mgr,slave,roger,wroth,pellegrino,catalogu,zilch,dignost,netbook,restok,xchang,callback,hotlin,pd,atroc,douchebag,riddanc,wreak,bureaucraci,disagr,harras,taho,uneasi,fluent,speical,achet,acheterai,affich,avou,cadeau,cafein,coucher,cout,dispendieux,dommag,expliqu,gater,mien,offert,quantit,reve,revient,sauf,sucr,tente,tisan,vendeur,vendr,voulait,vrai,poorer,letdown,yawn,bowti,whelm,musti,sag,trucker,debra,scottadal,barrett,turndown,motor,speedboat,bhajia,cocki,denial,disapprov,hetal,snide,ummm,undhia,verona,agricultur,cattl,dunno,enrich,grower,pavilion,politician,poultri,putt,sheep,shrunken,sponsor,sponsorship,taxpay,vocal,clap,humili,uncal,commiss,culmin,obstacl,recap,slope,theori,tl,committe,infrequ,apathi,heckl,longstand,overcom,proprieti,redondo,rile,waver,wildfir,strep,wrought,desktop,macbook,tldr,servant,chipolt,outbreak,alleywai,brilliantli,cr,monterrei,cari,midwood,molass,infiltr,jab,duct,permit,slur,gratif,spacer,agra,cubbi,goofi,pushup,waitlist,bloke,guff,lackei,notion,overtim,persuas,motionless,windex,alittl,shotti,beagl,rebat,murrysvil,maiz,poppa,bereft,needn,ravag,upstream,surli,ahol,apet,gob,nonchalantli,parilla,shoulda,vall,whrn,environment,marsh,soull,wildlif,huski,brochur,proportion,asado,masa,molleja,raviol,clank,swung,aerial,rv,litter,unsolicit,unwant,blan,desrv,lind,punish,saltier,woulda,amplifi,shute,faculti,monopoli,netflix,alla,gigi,dnt,reoccur,sawdust,drivabl,furthemor,stoneridg,ductwork,elig,filtrat,fazoli,needlessli,tinker,zephyr,biker,sari,sidewind,overbook,oversold,dirtiest,antipasti,graze,flea,buld,efffort,psa,daystar,tiesto,wanker,congeal,emperor,gen,interchang,capitalon,innoc,leon,nonprofession,zipster,disconnect,guuurl,snark,whatchu,commod,racket,toca,pp,lamanna,sangwich,curti,disinterest,queri,bald,uncalm,unmerci,creamer,clustertruck,figgi,aug,gooni,sloth,sulfur,velociraptor,wafer,allign,rancho,unus,cristo,monsier,consensu,driest,nutmeg,tbsp,ronni,lax,redund,savemart,shocker,bandeau,preorder,trashcan,absorb,grah,mif,mouthi,skunk,tornado,untrustworthi,calam,amateurish,zillion,minivan,absurdli,asinin,bhaigan,bhartha,maneuv,taj,yuva,mope,snapper,languish,suspicion,harden,mottz,demot,eboni,allevi,kerri,kyra,tension,unforun,aucun,blanc,chere,inclut,italien,parc,pens,seulement,priorit,csm,buscuit,dryest,heroin,autumn,zuppa,chardonai,meaningless,unaccommod,unsoci,abhorr,abbei,barstool,inhibit,introductori,piper,grizzl,knibbl,replenish,deff,barrista,mosei,panther,plausibl,reappear,extern,comprendert,espanol,hablo,hau,podria,segreg,booooo,sportchek,irwin,whiz,buffett,laps,pretens,reinstat,belliger,farmhous,ironi,royalton,unrespons,collectivo,carcar,fluid,pothol,roadandtravel,barcod,revenu,bacteria,lurch,chalant,dell,infer,numero,barefoot,roadsid,porcelain,hoop,adder,pli,overdress,bleh,ungrat,nougat,calcul,spoilt,buena,buiz,suert,whathehel,thickburg,duuuuddd,masseus,wierd,stingiest,ameripark,marcia,backn,befriend,galbi,decreas,aamco,tessa,reddish,sower,bluechees,endup,rattlesnak,snakebit,substandard,paraleg,releg,sweater,unkempt,apathet,digiorno,overhaul,debacl,scrammbl,juvenil,bedlom,berni,memov,pandomonium,cowl,deduct,germani,hogwash,rooki,atlanta,enj,glen,tx,impound,overpass,patrol,willetta,koval,kirk,kurt,balyag,toner,remak,joy,sashmi,disspoitmend,firt,merlin,shanghai,cleanup,duuhi,ger,honoreda,mmmmhhhhh,thia,sot,picatta,immemor,refiil,hostag,hq,pizzavil,jostl,java,applesauc,countertop,decour,dressier,diaper,iy,poopi,unlucki,biannual,cvc,deviat,entiti,septum,breault,unfound,obsolet,bleach,jackass,salisburi,gaslight,jaquelin,keyword,arbor,againwhi,ntb,inebri,beppo,buca,boatload,greei,bridget,slacker,pissi,zuchinni,empathet,doorbel,unsecur,fithy,tito,african,laud,annabel,assad,ciot,uneat,woodi,antipasta,tabbouli,loooonnnnggg,unstir,verrrrrri,gait,vuitton,brosnan,mamma,notwithstand,synthes,utter,tabouleh,misti,lamest,rhino,null,barrata,tablespoon,bluntli,footnot,hsa,otc,ohjah,tepenyaki,relic,cluelessli,ssn,signup,f_ckin,defunct,eefco,rbn,crafter,eff,curvi,groomsmaid,satin,transpir,sadden,gunk,sewag,ashvil,juri,litigi,butaft,communi,starmount,benchmark,smush,agoni,quicklift,rhinoplasti,surg,cie,iq,macallan,hillbilli,ither,traylor,descret,pheon,scrubber,antoinett,contrit,respit,uggh,violent,woken,devri,payng,gloppi,imbib,macer,meali,piti,unapp,ungainli,cesear,flaccid,metrocent,rudest,convalesc,ramshackl,asswip,autopai,calli,cloudi,corleon,spatter,hershei,brunswick,jeez,chinzi,infest,filiberto,speedwai,unsign,accost,overzeal,quench,microsoft,acct,swadde,thailici,approch,decatur,fir,hwaro,unhelp,spongi,powderi,dickei,plater,zinburg,demetriu,incur,nightstand,unanticip,attendai,cach,heureus,relativ,hendertucki,lasagn,keyosk,slooow,theu,woonam,pester,keel,defeat,cot,zepola,alga,csr,esa,intro,jet,premis,prostitut,reactiv,snacki,soot,stunk,upstand,webpag,remanufactur,oo,forgiven,checker,ruder,astonish,bomber,boyarde,radisson,curious,publish,swarma,purgatori,fettuccin,footstep,kmart,offput,panag,outershel,uned,dishearten,emesi,howard,mountainview,dolc,jamon,ymca,machet,expedia,eldest,frig,sacrific,mariana,nathan,nooooooo,ooooo,oreida,ridic,chaplin,mosh,lieu,sheraton,midsiz,vehiclei,flamm,bush,paraffin,topcoat,forewarn,pluse,whisk,mantra,increment,genghi,carfax,diminish,recours,antidepress,digniti,dissolv,gynecologist,hypothyroid,preval,scientif,systemat,unoffici,anther,hack,unconcern,czech,dakota,dumbass,passport,discolor,orangish,bruell,chinato,tremont,zack,avi,dallop,hadi,belgium,overhyp,approx,enuffsaid,patino,purita,kot,shun,throigh,totter,bauer,unpredict,milei,gunshot,semest,thrid,berat,interject,digoxin,irregular,nuclear,squirm,bumpi,shiner,necklac,comun,fricken,underwrit,partel,trent,thanku,oolong,rajdhani,abysm,peopldog,irma,flick,ishmael,sht,unrecommend,crylic,infact,tamato,trough,ovaltin,faygo,comeon,singalong,throwdown,wayyyyi,shanda,shanon,aaliyah,humidor,tinder,accredit,raymond,theft,dwarv,tweet,eduardo,boycott,johnathan,luther,matrix,understnad,dubiou,frown,sparklett,porridg,succeed,inexcus,infuri,softbal,uneventfulli,mesclun,everyrh,deflat,grammar,preposit,tutor,bori,eeg,entourag,epilepsi,karloff,ruvo,wive,footboard,siderail,glenfiddich,liabil,decept,preferenti,babe,cruel,publicli,saga,misalign,podiatrist,fingernail,papain,repurpos,toughest,cordon,grander,pasti,jetta,nashvil,tn,trickett,chevron,americanio,cont,mozz,bacalao,croqueta,lian,santon,undercharg,admonit,grudgingli,diffinetli,pizzaz,wg,clarif,grievanc,damper,dwell,snif,palmero,downer,despic,retard,suckiest,mma,rev,bengal,eyelid,lissamin,meanwhil,rosacea,schirmer,sjorgen,snip,beefbal,negit,riversid,lortab,splint,evjei,kinfolk,wanaaai,casion,inhous,ftp,mfrmail,multipurpos,pdf,safercar,scion,xb,howi,hs,fco,doest,flophous,sandpap,wrapper,arepiando,colombia,lulo,nbkqa,pxplj,ranchera,src,vcbm,venezuelan,moola,becais,clinton,corpul,crass,entranywai,gall,hillari,kever,marcu,neiman,pv,shoukd,underag,videogam,vitaligo,waaayyyyyyi,albondiga,hydraul,tarmack,leaki,tweaker,snort,dingbat,setback,wk,budless,lardi,moustach,amon,crutch,runn,sap,unkind,nm,marker,scribbl,ta,embarrassingli,unproffesion,explet,jaya,reall,sm,calu,loveli,foreverzzzzzz,preggo,suuuuuuper,whoop,zombi,firmli,inject,resteraunt,turquois,solado,screenshot,whew,compli,injustic,glossi,delorean,ragu,remors,dl,impermiss,trickster,damang,milag,pervert,frita,mofongo,nihari,toll,homecom,statehous,brentwood,larkin,sturman,abomin,estancia,hipaa,leadership,pnuemonia,sweatshirt,basqu,crisper,grandios,liveli,wayyyyyyyyyyyyi,resal,bonanza,ladlow,baozi,fraction,scum,uncivil,chrome,pham,malici,stackabl,abod,disinfect,distrust,emmi,lice,loll,percocet,sack,shithol,tuberculosi,vicodin,shed,hooker,outskirt,postino,autism,stupidest,ada,callthen,chk,unplug,repriev,unprepar,silverst,stainmast,testimoni,sneaker,adher,choir,seasonless,sl,mmade,skylight,solidli,southsid,jessyca,abdomen,backsid,blurri,unborn,atrea,giver,automobil,disciplinari,colourless,payasaam,proiyal,rasam,sambar,vada,excruciatingli,bowler,bluetooth,volvo,abrupt,brunt,insincer,juju,reprimand,vaporcito,chug,deliveryman,toaster,racism,unspoken,unattent,notat,mommmmmi,fulton,hairi,pleat,sassi,cassanova,litterali,jek,acuiti,sprain,triag,markedli,tamari,wrongli,ursula,filberto,goodnight,stairwel,toothpick,calor,crazier,thoughtless,conduc,kbbq,contempt,disdain,tardi,wingsuit,zipper,haphazardli,lazer,llv,survel,forcefulli,trespass,lacklustr,hoe,tnose,idl,lengthen,deflect,undisclos,cubic,escrow,ssi,apoint,scheduel,shedul,wooch,cornhol,staybridg,verrado,miscount,chagrin,coitu,heineken,leafi,privelag,projectil,defonit,asthmat,ozon,cosign,dod,fha,fortitud,innapropri,sixt,ileft,fettucin,awful,bec,misdirect,antibacteri,suchi,schriccha,schrricha,smidgen,narcissist,afb,amatur,itallian,pana,directv,rap,skeezi,stomp,restless,sill,drinnkkin,crazai,eesh,karin,masochist,nightlif,evd,relai,budg,abduct,dicei,gunpoint,nightfal,endang,graviti,lawsuit,plainli,robyn,tuition,gristl,donkasu,kasu,nabe,saus,livestock,onward,stoplight,mutuel,frenchi,trinidad,sbarro,ambar,dram,caster,sku,fruitless,givien,guidelin,pursu,newsstand,passiv,raid,sidewai,fierc,handbook,cartridg,pussi,shaki,ambiti,odda,sparkler,explicit,seizur,asylum,inmat,hurrican,bonnacini,halston,limousin,newark,opex,undesir,mor,adob,disk,lightroom,shinto,jughead,catti,hobo,roo,coldli,disbeliev,joki,literli,fatal,millenni,decorum,shef,kingfish,bilater,decai,fissur,journal,lesion,misogynist,symmetr,unilater,janet,vaunt,joli,processor,scammer,devoid,grizzlei,convolut,ling,livi,trickl,uncouth,untri,racer,defer,shitdog,incoher,newfoundland,petsmart,glovebox,maruchan,shizu,pager,criteria,oaklei,untreat,minion,showdown,squawk,ultron,ihg,vpn,tine,touchup,dumbest,motown,unwash,kasum,subpoena,neopolitan,soggier,chest,videotap,bedeckeck,rt,woz,dummi,hardboil,megatun,tme,stear,anthropologi,bohemian,boho,applaud,gleefulli,tenth,unison,appnt,serengeti,stauss,uphold,helen,schwab,californian,costwis,pricewis,sic,bicker,disintegr,leasid,salvag,warner,wrung,breakout,alton,offshoot,advert,contour,bww,dogfish,manggo,poppular,unattract,behaviour,hwai,uncomforatbl,casablanca,gristli,remast,whop,woodenli,evri,extraa,willnev,civic,despot,runaround,smilei,emptor,cheerio,doubletre,fiver,adobada,chubbi,bedbug,apportez,pica,votr,aber,abzock,aquival,beim,bier,dann,den,denen,der,dubai,enttauscht,erst,essen,expon,gern,gla,glaser,hier,ich,inkl,kannt,leider,lesen,nicht,nirgendwo,nur,prei,preis,schlag,schon,sehr,sich,sind,sonst,traff,und,viel,waren,wurd,zu,zumal,beret,dorki,longhorn,frederick,manchurian,jax,unpleasantli,wayyyyyi,upkeep,heeeeeeei,likei,sitch,sgt,pckg,bridgeston,grudg,admin,exploit,impos,uninform,batali,mala,darak,shoudnt,wrorst,uggg,shadier,redmond,shamelessli,gaug,nickl,posess,tepid,tepu,dean,nypd,maggiano,rito,louboutin,hollar,modem,manapua,chrishi,sawara,toooo,entireti,ewwww,northfield,twinsburg,canard,contend,leslievil,mort,neighbour,immigr,silicon,strongest,matzo,slapdash,exaserb,insignific,methodolog,grenad,hoon,mee,telur,hexx,snippet,oxymoron,chard,dandruff,kernel,xshtx,axl,murano,nissan,tampanada,renegoti,partli,recipi,nineti,frat,infomerci,bonfyr,nile,billionair,hilight,adio,alo,pencil,unflatt,weirdli,elot,elotero,soltero,tajin,malcom,tidiest,aorta,cardiac,poo,saurkraut,saleswoman,adel,phad,zupa,flask,ackl,hairstyl,jensen,philipina,unaccountabilti,xi,accusatori,howl,pancreat,skittish,boucher,corndog,hoppi,maroon,maroonei,patter,snifter,yeaaaah,timelin,undo,ooooh,huff,council,coven,discerningli,hippocrat,improprieti,oath,pledg,secular,voluntari,wigwam,slant,staci,kintaro,connolli,custodi,defam,gig,lien,pathat,prevail,pounder,qtr,sry,agreeabl,mutual,notif,vijaya,yadav,lafit,acur,storylin,tatar,backflip,employess,obsurd,portrai,wolv,ceser,oder,gasket,urbana,roter,floppi,shae,azcentr,deceas,giff,griev,insensit,mortuari,priceofdeath,disappointingli,wrost,hairdo,hypnosi,hypnot,hypnotist,peni,spiki,vtwo,quishi,tminut,incident,autour,bref,decev,demanderait,enthousiasm,etoffe,froid,hauteur,manquent,notam,ordinair,promess,prometteur,revenir,reveri,soigne,varie,voir,imbecil,evdi,alllllllllllll,berto,fack,fawk,ffin,finnish,pyle,buffoon,buffooneri,buffoonish,convoi,farthest,peripher,startl,unrequest,gilert,cystic,pimpl,pomeranian,slurpe,spat,wack,ggg,cx,puckett,unimport,enthusat,abbrevi,coincid,ola,haw,smarten,matzoh,roid,maggot,breezewood,housew,sexist,azzhol,ibnel,kadar,kafanizi,pahali,satiyosunuzki,sikiyim,sizin,elder,lumch,maam,guinea,peacock,pigeon,pratt,ewwwwww,tripe,whackkkkkk,amir,ellsworth,salesgirl,forese,loo,looki,assless,snail,nny,unseason,cora,muriel,placemat,guyz,shittti,businessmen,foodservic,unfinish,nga,chequ,knead,kc,shrunk,mexi,provok,chilango,symtomp,chie,hig,mihara,obscen,treton,viv,welli,westwood,primu,deafen,foe,nada,voluntarili,coachella,douw,egbert,pertin,seekh,disingenu,swan,lectur,meghan,refrain,lemeac,hindsight,trivial,vm,whisker,cartel,iguana,rampag,seati,guzzler,gaurante,thye,bran,cardboardi,lemonda,visa,dreadlock,blanco,prison,tifi,hammond,roadblock,sixth,baseboard,corp,homejoi,workman,nip,hypnotiz,morpheu,angst,outgrew,rocker,imped,luster,stem,acoupl,colonnad,blimpi,seinfeld,goblet,cornmeal,geez,guatemala,enrag,marijuana,siegal,vaselin,manuel,shari,meg,pdx,suspens,cleric,bologna,unalt,perscrib,regulatori,tragedi,sizzler,backroom,bcuz,belagio,calmli,everrr,mikei,ummmmmm,verrrrrryyyyyyi,apocalyps,barbar,rabid,riot,dirtier,ap,cackl,hollygood,hardcov,boursin,plaster,morrison,terrorist,danni,overslept,shone,primanti,aha,inflam,trimmer,kjng,lobter,sandbag,constrict,adriana,brusqu,plasticwar,competitv,desol,penmac,lipstick,nora,kickback,unenvi,donkei,jahn,naw,sarcasm,etch,charter,retak,tenaci,spacif,airflow,cul,kyli,trou,compressor,ascertain,droop,sr,stevi,esher,inexist,resignol,acog,alleg,bcb,biopsi,gynecolog,newman,obstetr,radiologist,sprung,disck,splenda,scanner,rivioli,scaloppinil,shao,shiu,compart,gloss,hind,regrett,resettl,undercarriag,undersid,wither,acoma,nood,hakka,gloopi,saltwat,balk,camilla,consequ,reevalu,subfloor,withdrew,abc,scarpetto,crt,firsthand,stank,teddi,unmemor,deniro,exposur,registr,tangier,whale,minuscul,lesco,varsiti,nitwit,brias,carr,chicarron,flavourless,gastriqu,merienda,nude,shrivel,dwr,freight,knoll,lumen,vitra,ylive,avana,greystar,moveout,skyrocket,cuti,narrowli,emeril,keller,legass,minibar,wand,rockfish,pizzaria,brocolli,disgrac,frequenc,regener,laurel,scratchi,bizzi,redeliv,redeliveri,stanlei,subhuman,flex,franchise,aftercar,zak,donald,convinient,wamu,weer,reedsburg,creol,heav,shrew,leaner,microscop,pheasant,souplant,waitrress,crackpot,ted,backfir,crue,feebl,pokebowl,unbalanc,blender,lovel,bayalag,brassi,flashlight,uniniti,entercom,goof,separetli,enchilad,experianc,bertolucci,statut,ppai,allergen,dob,hippa,medshap,aboit,evem,aarp,caption,circuit,constitut,hgtv,workabl,tarmac,gonzal,np,parol,grrrrrrrrrr,undevelop,osechi,blankli,laci,berserk,vocelli,einstein,embargo,penetr,undi,shudder,threshold,burritio,compost,herp,hiv,ingest,playdoh,rhythm,squishi,makani,palek,quailti,tadka,enourm,lunchbag,prewrap,knish,modicum,morsel,adapt,anydai,cheater,ferment,peke,blech,culprit,faintli,medlei,slosh,knowingli,specul,heartburn,claei,asign,catchi,censor,uiuc,peachtre,prepack,dragonfir,aldridg,pompou,bacu,charisma,firehous,maizi,persever,tureen,cocinan,comparacion,dijo,esper,espinaca,foto,fue,gerent,habl,iban,llego,minuto,nuevo,nunca,otro,parecia,practicament,preparar,sirvieron,mindbodygreen,neuro,postur,reinjur,everyt,mexcian,drunkard,brazen,afrojack,chevap,cock,pljeskavica,serbian,shopska,veshalica,beani,mafia,persi,sevich,selina,appalachian,shaggi,swath,badddd,bus,forfeit,lattic,philipp,experiec,baptism,abienc,tiniest,mot,snd,frazzl,jerker,sash,sob,banfield,banfil,christown,consumeraffair,withdraw,vape,wppi,ontop,celeb,forthcom,fradul,securirti,wallpap,peri,repugn,shrive,avatar,disapprovingli,eject,orbit,sledgehamm,newish,shallow,bix,fergu,marda,prowl,appoin,electrician,nhw,bugogi,che,profan,africa,zagat,jumbot,wetter,flier,guarente,thrust,hhhhhhooooribl,huf,serval,junkpil,democrat,fanfar,gazett,greensburg,mellon,obituari,republican,scaif,trib,tribun,不要在这里吃,他们知道,你不必付饭费,在我们的汤里发现了一个蟑螂,她一点都不惊讶,她说,对不起,我们刚在这里吃午饭,我把它展示给服务员,这意味着他们的厨房里有很多蟑螂,ommmmmg,alterc,damian,eighti,messeng,punctur,pui,convein,fratello,nino,sapori,kassandra,prof,unnerv,classmat,mekong,yesss,gorg,smudgi,yuppi,bulg,deform,seamstress,despond,fieldtabl,locksmith,shai,acclaim,preemi,walli,sewerag,alien,bacardi,cuba,flee,himmler,hitler,circumfer,putrid,mouldi,rawlici,newsflash,drumstick,greyish,kauai,insuffici,apper,improfession,mamag,hekka,sayyyi,hodo,kwaja,reinspect,doorman,hoopla,myeh,passerbi,presumptu,seduc,timber,infin,reliz,txt,buckl,prick,alpin,ambient,crutchfield,crutchfil,degress,inifin,inifinti,jl,kappa,mono,perpetu,speakersj,subaru,sv,tweeter,wrx,contractu,widow,confection,crinkl,humong,hairsprai,lifter,powerless,serenditpi,asthma,composur,chewei,mertan,antholog,cristal,iter,amuck,muse,deceit,ploi,spano,seashor,rockefel,laziest,passionless,tallmadg,coor,sprig,ineptitud,nadda,sherwai,transat,export,compsens,dredg,underserv,crisco,misquot,advoc,brivovarx,empir,glassdoor,hustler,optum,pbm,quota,sharehold,shyster,sicko,unfett,staplei,jniwxv,pdciru,phaetmra,reveng,riddler,skyscrap,insinu,sleepez,florenc,napl,posto,unkept,rockin,ia,unfotun,qsl,alli,discriminatori,dm,miriam,grossssss,ploye,extermin,spilt,commot,casher,dp,firmer,rashida,chicjen,fush,sticj,nylon,toulet,acknowleg,campaign,chickencrap,thebil,sep,itbon,flock,permeat,chitown,giardiniera,pinnacl,lever,wiper,spotlight,abernathi,alma,chemo,entrust,euthan,hudman,justif,lymphoma,prednison,schnauzer,testi,undu,ellijah,hord,cav,kyri,rrbc,tiramsu,contaci,jfc,offuc,patricia,recod,sek,trate,wjat,wlse,mtg,dabjqsdiyoq,downsiz,egtbvsf,ielc,kgqgu,neetzmzrxxfr,tgmhkfphkbxvpqa,ballsi,dynam,scupper,saut,frutti,mare,parmasan,tissot,unsuccessfulli,tooooooo,tpm,adrin,retire,teriaki,taramind,capric,stae,ffl,fra,siiigh,chlorin,allegedli,dearli,inadequaci,fudd,lmao,bulletproof,rangemast,uphil,bellagui,cust,gere,restauarnat,sae,ysed,purcel,bethani,thave,bellingham,beth,buh,udh,wankiiri,savior,threader,wok,deodor,nesta,cele,deo,intel,voght,inflect,avali,danrif,jaggli,fondant,majorli,resum,ponshu,unflavor,massacr,crud,concensu,fritada,yellowish,stonei,underseason,buid,gripevin,tsk,turnberri,carrara,capko,derogatori,hydro,odem,odom,psychot,thermal,undepend,abf,remember,rihanna,spoketo,lumpi,lpc,poisin,sloooooooow,resel,meager,straiten,monger,helpfulli,summarili,commerc,webcreationu,bdrv,evo,winnebago,innatent,addon,porta,acura,strung,celsiu,spg,odomet,appropi,gimmi,stumpi,southbridg,swat,snapshot,endlessli,obstructionist,backstrok,swimmer,acro,interlud,nuditi,psychedel,titan,carcinogen,icki,appret,caulk,mifflin,shingl,tar,unprefer,raiser,spartan,whaa,pediatrician,deadbeat,reorder,weed,acd,calmer,calmest,bryant,fgf,implor,raaaav,miscarri,discont,dumbfound,gerald,vapor,deworm,overdos,respir,blockag,upom,biomat,donor,grifol,syphili,talecri,neurolog,predict,cinch,purrfect,trave,warri,chalupa,retun,bradshaw,summon,beatrix,inflex,yogigym,bruno,derrick,reform,chomp,doorstep,tinoco,parchment,hotplat,thina,griddl,oso,scroung,expiri,blundston,flw,motherboard,squad,thompson,starwood,bruester,burntwood,congress,donot,lubric,outloud,shawna,wozniak,barriqu,marketbenitez,subscrib,ammen,manti,kristi,discust,elliott,kyren,bego,copai,ppo,stetson,unpaid,chedder,grossli,angryal,glamour,lackadais,migrat,delat,banzai,bp,bung,dopei,nag,resentfulli,tipto,airdri,spf,spoiler,looooooow,estrella,patchi,greeni,hm,bfing,nonhuman,velveeta,freemont,launder,algo,babbl,coyot,evermi,evermybeat,jaywyz,paradisebound,weisfield,perplex,mrdd,frinfabgrl,cb,gcu,unnam,gd,disappointm,layawai,hayot,israel,smartass,tshirt,alamo,slk,teja,lookout,roxburi,facepalm,indign,nuanc,restyl,whomp,jaimaica,fluentli,plummet,jiggli,transluc,dormont,parton,blander,undergo,unsurprisingli,gao,peski,yeesh,ruse,rigid,isorrri,knucklehead,snowdrift,chide,calip,cautious,kingdom,tk,sfo,swa,aa,interlock,mauric,caeser,kentucki,mayonnaisei,milano,falco,yeaaa,delv,lop,nukem,rater,asbesto,chesterfield,sphere,blaze,rigatoni,rosso,zinc,toobigtocar,ut,wihout,stirfri,cne,poutini,phoni,tampa,violinist,wail,pala,diaster,gallagh,disengag,unknowledg,qt,blowdri,sassoon,vidal,recook,wingstop,portopotti,dismount,scientist,endorphin,lolo,retrain,lenient,fujiama,mockingli,suppress,luch,voupon,oook,rodent,gy,ager,doom,enamor,eva,longoria,sidestep,leek,conting,landlin,reconcil,custerm,unprofessio,woulndt,coerc,farmhand,dink,snippi,horseplai,jovial,deescal,petland,harsher,wrongdo,cannelloni,centimet,rudimentari,cna,coder,casoncelli,ligunin,sauch,strozzapreit,strozzapreti,tagliata,catastrophi,lovag,revil,unbias,taboli,screwdriv,pigskin,servesr,oxygeneo,preseco,character,foibl,glaringli,toolbox,crain,mightv,mightvw,screech,oreilli,outag,plier,shitload,brett,summerlici,nauseou,payrol,lik,notar,peer,strongsvil,archiv,malleri,wgaca,worldmark,counterpart,katharin,mimic,mozarella,tomatoei,manur,nother,britch,attatch,reseal,hairdryer,paprikash,spaetzl,bizzar,giordano,malnati,cherrio,cupti,kanger,smirk,paoli,parkour,currenc,thriugh,altar,conscious,banchan,unfresh,quicki,chrystal,tryin,handler,enchirito,meaner,nastier,coronado,nami,apropo,downtim,plugin,pickin,cking,gc,bering,flammekuech,servisoft,overhear,raff,riff,drier,holster,peal,hiss,thr,huffi,vechicl,mixup,sharawma,sultani,equifax,jackasseri,mailboxez,usp,aimlessli,bewild,sweetbread,buddhist,ker,nigger,sender,pleaz,scorch,underli,vacant,ingenu,wasen,plea,smackaroo,queasi,pinhol,restitch,scroll,careles,charceuteri,lazili,marcello,preper,uncor,asahi,rapidli,mussl,vommit,flabbergast,tec,birch,exspect,phili,collab,violenc,mou,etal,matchstick,backord,drainag,humidifi,relianc,rheem,sheela,smartair,tankless,unleash,lender,tinni,bungl,entrop,lifer,mcfarlan,ministri,outpost,proposit,salarymen,sangweech,unadulter,wheatgrass,frapp,tolerancat,froze,selfish,tkt,apologis,capac,merica,myoglobin,underperform,reprint,ama,melatonin,psy,breckenridg,draught,highlan,willowick,rodriguez,shear,flit,reid,colonel,extravag,janean,linzi,stubbl,underarm,idriv,herv,runwai,header,comparris,diverg,irrelev,peculiar,cholula,akira,bloodwork,nevermind,ooop,wati,eavesdrop,slander,brunchi,smi,blisteringli,eb,heatwav,gab,acquiesc,bridgeland,redbloom,unhygien,bulldoz,dilapid,midwai,vira,munchkin,superfici,demean,saddl,immun,trashless,albiet,considerali,frugal,miserli,eggwork,natalia,partition,paraphras,jest,suntan,towl,claus,devis,switcher,cdc,superintend,flicker,reposit,beep,foolish,unschedul,lourenco,mangan,maryann,misinform,unlicens,hoax,inact,bss,characterist,yogurti,nectarin,quant,anythng,angelo,workload,beech,cacciator,incl,picken,appolog,belch,sane,twit,goop,gip,orderli,frape,mcmuffin,kicj,wate,nanni,cremat,greaseless,grn,tablewar,depressor,oblong,tuski,brightest,kcup,theyr,canm,boldli,doordash,rectangular,hunker,schezuan,abnorm,lupu,prognosi,webmd,welker,crewcut,jenna,lyon,grossest,diarehhero,juevo,samoan,undercut,rewax,duel,embark,polka,touski,benedictin,goutait,œuf,douchi,lawler,fusioni,scaddabush,ketoacidosi,undiagnos,unforgiv,yach,guidenc,vaireti,creas,pajama,demeanour,mangiacak,nonna,parmigianna,primavera,inconvieni,thimbl,waaayyi,haircutt,malitpoo,maltipoo,pnp,strangl,francesca,stander,westhil,sbe,cj,cpap,jalon,propaganda,strauss,watter,geezuz,mermaid,omfg,mth,nf,sb,adhd,frind,decencei,fatboi,loredo,endulg,subzero,cristi,vasquez,dimwit,palisad,haricot,reduct,roni,trifl,lao,frice,lomein,dartboard,quasi,footlong,comfiest,alll,dayum,playback,cardiovascular,unremark,excori,hamp,lynn,sloooow,blotto,boinggg,esco,fallaci,perv,phallaci,popolo,concertgo,decompress,moot,booster,monson,hostel,sweatbox,toolittlesauc,thanh,aldi,berger,burgerfi,fluiditi,xgtfit,pinevil,predomin,mettl,sndwich,multicolor,compulsori,overlord,theiv,unveliv,radler,stiegel,beginnig,hellman,regrad,scurri,wich,unpalat,yardag,undrink,fook,kien,minit,celebratori,embitt,ay,oversalt,impost,telemarket,rieu,soooooooooo,rabba,whitish,embed,pube,ehhh,spacious,hassel,maintenec,ooopp,juke,condus,speci,catastroph,cfo,coo,decongest,gaap,immov,immunotherapi,intellectu,pokei,praction,monro,agrees,pedicr,pumic,overfri,releno,cco,hatten,mountainsid,respiratori,tge,transmit,utub,correl,proffer,corvett,ageist,curfew,excruci,vacai,stinker,dealeship,fianlli,magament,reffer,lea,valualbl,wll,dojo,sensei,disgustingli,allig,merrick,sirup,dignitari,shard,becuas,freaker,gunna,knkw,manuali,peproni,speakerphon,interig,queda,compliant,psychiatri,unnot,filt,alia,aneurysm,ari,chute,coward,derbi,ebola,editor,englishmen,holyfield,iglesia,insuffer,izzo,lavar,lolololololol,magi,mlb,nantucket,quitter,cachet,delamin,liftmast,workmanship,itchi,unedit,abbott,signer,westcliff,blazer,manicin,serer,mayorga,monin,torani,ultimatum,mistreat,unappreci,tf,sase,arminian,mucu,nasal,stung,szechan,alphabet,oncologist,resubmit,retrac,umc,antithesi,glower,indescrib,tryon,woodlawn,solac,unfreak,apoolog,plow,competet,sportsbook,swina,allegedlli,visor,loveseat,denomin,elast,giardinera,jcpenni,advt,hubcap,seiz,burgundi,crimson,moh,satan,pend,dislodg,ubreakifix,pixel,ceas,desist,ftc,vultur,basenji,disarrai,pfd,babee,debaucheri,gummiest,indispos,sevinc,bled,gau,origianlli,smaill,typlic,mae,eeeeewww,helix,diem,thinnest,afarud,dorthi,rud,reisl,hanni,lj,fruster,saj,aaargh,ssl,microphon,stutter,dosag,atasti,brewmast,espic,maridith,hepat,isp,cofco,ranchmart,blotchi,likewis,stilllllllll,wrongooo,tyvola,scooper,futil,necessit,jacqu,scumbag,adorai,aimez,apparem,attendait,attendu,avoir,ayon,blagu,cett,collegu,commandez,cuiss,deja,dite,emportez,ennuient,espec,euh,inaccept,laisson,lor,manier,mecontent,mond,pay,payer,pire,plaint,portugai,pourboir,pourquoi,pourtant,prevenu,reprendr,reven,rien,servait,serveus,somm,vienn,voulion,hag,opi,distinctli,eatin,steamwork,tripper,sycamor,gurante,interfac,sequoia,juat,blegck,grung,grungiest,hangman,birchmount,kingston,kr,warden,gullibl,betta,discu,sailfin,rowdier,crewmemb,leari,unhappili,apoliget,janki,cleane,aggreg,butterfield,pitifulli,sourpuss,unsmil,estrang,gravei,roadtrip,businesz,dyer,nel,distraught,shakili,barmaid,item_imag,lcb,lcbapp,cambria,mailman,alphagraph,placard,coventri,frylat,gutter,bif,lyfe,crossanwich,whiter,texan,gatekeep,haggl,oncom,pedestrian,chime,metallica,sog,unforgiven,unwieldi,violin,jarvi,bartop,darl,groan,hurl,swell,doorknob,toliet,delmar,kerb,angeliqu,cromean,defrinit,electrifi,hlwp,candid,honer,invisilign,labwork,buttock,hoist,advil,devolv,haber,hubri,noninvas,postmodernist,siesta,trooper,fka,mourn,skyview,browser,esso,petro,cleen,akronit,bloodstream,bistek,mechado,electrolux,bsb,marsha,slite,depriv,derm,recolt,prank,biwon,forgav,jin,leo,toppoki,ambival,prepurchas,teambui,sundubu,fling,muddi,nfr,thehard,kah,tarnish,friendly,mistook,swatter,dodd,lavishli,savag,zwick,dallei,fallopian,ika,stingier,busker,defus,dollarstor,td,wr,payphon,photocopi,searcher,wanda,breakabl,defraud,broiler,chefalbrich,crisi,flatiron,noir,pinot,rethought,tenet,medicaid,preform,dressi,oversp,irani,griffin,blanch,fusian,underwhelem,jacuzz,infront,kream,someh,beano,fatardo,grandpa,parvo,willingli,undetect,ceasear,aghhhhhhhhhh,kindl,townsquar,ughhhh,birk,manna,dysart,freat,hungari,isaiah,moorehead,tealight,chinees,goin,gaudin,thrash,servicewar,accoutr,hairnet,zaba,looov,unscrew,windstorm,tourst,amoungst,tipper,restaru,unhygen,abcess,anitbot,hygenist,ridden,bunge,boaster,goldwel,hissi,acus,apolig,ruidli,snuff,unsincer,eyebal,geni,kaput,modul,oy,ryobi,cervix,miscalcul,pbr,fairmont,whereupon,interperson,mabo,dissapear,hoisen,seventeen,callou,throb,glasswar,expeienc,cottonel,sqft,carowind,boring,buuuuttttt,chemistri,audit,cacophoni,dinnerwar,floresc,schitzophren,spectacl,dishwar,highlin,outtta,rube,soemth,tyle,winterlici,convo,osn,fontina,wallac,township,voltag,arrow,roght,runninglp,heb,condesend,vial,baha,ballaaaaaaa,jockin,rapper,angela,dreadul,usairwai,persuad,thermomet,adag,chrispi,everon,oustand,pappadeaux,buger,lindsau,yyc,verrrrri,knat,trulei,centaur,dearlership,princip,subuaru,daft,imposit,andouil,fabfind,manta,awlin,burgher,moosehead,matchett,mehhhhhh,consit,autor,coff,delongi,mach,moeni,beliv,hemroid,mckellip,pleasent,recker,waitless,trainedn,pizzahut,hashana,rosh,shouldv,thd,intermin,gt,unfilt,lmy,bernaiss,medallion,beig,sharon,ugliest,wino,backfil,belsito,bobcat,shovel,trench,unti,downturn,barcelona,clench,molar,angrycustom,badrestaur,chewinggum,shameony,terribleservic,wolfgangpuck,wolfgangpuckmgm,nappi,recurv,switchback,leaz,puh,shill,showticket,unappetizingli,heartfelt,ketel,redston,cyberspac,duplicit,incessantli,persev,grandview,smmhhhhh,inlaw,evei,genesi,hussl,metformin,threyl,imadak,kazu,kinka,skytec,enquir,atwat,overstaf,stormi,honeysalt,ova,gmt,landri,unpopular,voodoo,boutiquei,iintellig,shirmp,sibl,championship,mater,ppp,bachi,blegh,disench,unapproach,mayweath,mcgregor,ravoli,backbon,onther,caldereta,dinuguan,kare,opo,sinigang,annoyingli,ewww,sadnoodl,department,caponata,cipollini,formaggio,rao,scala,scarpetta,unfit,petagogi,bumbleberri,fathead,unrat,geometri,spun,pepboi,uncompetit,mealbal,daytona,drrrryyyyyyi,firebird,inconviei,tablk,wiuyh,imparti,mtl,unmotiv,revfromca,inbox,appletini,stroganoff,firecrack,mindset,veer,beall,screechi,skippabl,kitchi,resold,stepcheesecak,hasta,compt,sassafra,unspectacular,wintergreen,spiderweb,arroyo,margaret,withdrawn,stripsteak,ingrown,candor,paprika,profainti,clencher,fifti,corad,kaimaki,karidopita,meze,tarma,arghhh,carver,rejuven,wkd,breadwork,grandpar,ungodlei,blandest,demor,lauderdal,vinegarett,buren,wether,deflector,liabl,spew,evoo,methink,mum,pointag,haluski,peirogi,dwindl,steph,stereotyp,unenthusiast,gurtner,panfri,commuun,rilei,romin,suddemli,goei,grata,sak,uglier,unsold,ineffect,studious,bemoan,rupert,tabloid,cynic,payback,snub,mehhhh,grisli,atl,cosist,falcon,fukuburg,shaka,uuu,keener,checklist,sabelt,prepster,gpu,kidnapp,molest,buggi,flir,xinjiang,tel,cucina,piccola,hendrson,mirabel,directori,acc,baldman,consumer,westwai,whoopi,blight,precinct,crotcheti,bentlei,asandwich,frangibl,pellet,rifl,nock,blemish,irl,wha,yyyeeaahhhh,aftermarket,alloi,schlotski,marriot,airhead,stubli,heterosexu,unfriendliest,andbth,vegtabl,gnome,molotov,smurf,wrestl,kiwispoon,creamier,noah,grimier,nieghborhood,aros,int,limei,nicki,avola,brulet,nero,yummo,scallywag,ninetta,contriv,buttend,kniwn,grouchi,kia,bod,chippendal,emce,stripshow,craftili,rosco,relent,beckett,durant,hillston,moni,boucl,markdown,alllright,tp,sow,probelm,canuck,chitos,davi,newmarket,brooki,munchi,byochair,lowli,baco,irk,inlin,pamika,abt,gaucamol,limead,fatso,laguna,nerf,ohop,goid,kany,unexcept,skew,bonz,baingan,bharta,delhi,kinko,repor,cao,tomal,xiu,boltini,draperi,imnot,aji,anticucho,bolster,cau,chaufa,criolla,gallina,midafternoon,mignonett,mixto,peruano,saltado,santi,seco,subdu,tumi,dall,palau,astronomi,cmu,emphasis,fundament,snacker,waaaaai,anglo,boti,dimension,earlybird,hazier,misfortun,oppress,overtli,undul,vixen,knickknack,deriv,tobasco,capiccol,etaient,laurin,marcel,ottavio,poir,prend,recett,repris,tyber,ambit,auspic,disneyworld,dual,straddl,troubador,wealthi,stickin,blous,heusen,jaywalk,reread,homeopath,boreal,arlecchino,gelateria,buoyant,joie,moul,vivr,blockad,dougla,foggi,funnel,homeland,incess,mcmansion,phenomenon,purport,radiohead,scandinavian,cosmoprof,darbar,gilaneh,soltani,culantro,furreal,analyt,chevr,englishwoman,frenchman,irishman,lifeboat,nonprofit,phoenician,wilfr,plaid,depict,cheapen,forceful,humdrum,nitrogen,khouri,diamondback,overcam,duli,samosonit,alkalin,soapi,bluberri,repat,beij,consolid,copyright,peoni,prestigi,walkthrough,karahi,kheer,pakistani,weeklong,overtook,workstat,cn,unknowingli,pancit,veracruz,otto,tooni,lacquer,superbad,maplesid,melros,ofcours,shucker,lafitt,cookout,brini,ier,wird,niagra,quebecoi,hacker,kretzler,munich,pschorr,refinish,chinaman,whaaat,zed,addi,cheezi,spaeztl,airbu,jjajeongmyeon,jcp,beater,costa,afghan,afterword,gomez,grout,jupit,seitan,whini,nann,fettucini,towni,jajang,myeon,loooooong,earnest,engulf,firefox,knell,marti,softi,guzzl,potbelli,mooyah,clad,scantli,tympan,disservic,lust,piazza,wallop,dk,adjud,mvd,godsei,gregorio,bacoj,eatabl,sodden,bocho,shunga,mandu,bullsey,checklan,greatland,moistest,shamefulli,tiiggghhhtttt,casio,everli,kenzo,noel,kosher,marshmellow,tiff,obes,yahti,brooklin,dolmad,pastitsio,saganaki,gaelic,semblanc,woodwork,mensroom,carriag,cubicl,tyre,tracker,bernadett,cond,lindsai,lohan,lowlif,drucken,loofah,refrig,lull,zzz,becasu,carbon,freeston,disassembl,gnoochi,schloterback,boteco,coq,docg,fleur,sel,strudel,lavazza,techno,platano,rissoto,birdi,ick,ostrich,valentino,noodlei,sakanaya,alumni,binsu,shortest,margi,senora,suav,ilk,bluenos,pervad,rusti,sweedish,barni,ephesu,palmetto,taxco,unfulfil,splatter,texter,arpa,therapeut,palak,vindaloo,shiumai,leer,cobia,krystina,crabfish,brosevelt,dbag,roundli,medicor,portland,worng,huuug,breakup,f_cking,quiz,marnier,crystallin,kohlrabi,gandolfo,accueil,alle,bocaux,boir,boit,canap,chais,dimanch,ecoli,ennui,ennuy,ensoleil,espac,eux,fauteuil,fer,fut,genial,industriel,lire,marcher,mauvai,neanmoin,negatif,pouvai,presqu,pri,quartier,rendu,restaurateur,vieill,visag,pediatr,phlebotomist,pebbl,skateboard,skatepark,bixi,iga,overdr,dinnertim,coveni,lala,uhmm,arteri,microbreweri,deathli,immin,ferm,propret,leetsdal,pacifico,omiss,clich,ramekin,candlestick,farro,hightop,outward,verbatim,heinou,caprici,exposit,knuckl,obstin,quash,hillcrest,kapoor,susanna,unr,lightheart,prana,cf,cursori,flapper,jacker,reconnaiss,armitag,etqtgluxgrbfbm,nanaljdtgnkdr,rwp,ywza,alto,palo,occassion,defici,wendesdai,blucheez,existst,perfunctori,busy,hardship,tumultu,ethel,strangli,jenner,lamar,householdish,cassandra,beurr,bretonn,cert,epaisseur,gach,garnitur,goutai,hic,plafond,redir,sarrasin,triskel,voulai,dempster,rewind,shyli,totoro,sidekick,lvb,hdtv,kitchenwar,mineo,northeasterli,papya,plod,remoulad,tabsaco,brochett,mixta,osmow,ryerson,tampenad,calabaza,flor,traeger,lub,insol,offerin,loquat,fivegui,handili,meatier,ascrib,longish,quebecois,memphi,bandag,derang,maintan,mangl,brucshetta,molassi,absolutli,sceen,nextdoor,chaing,kneed,sidelin,cheez,whizz,eachoth,gormet,nkt,sushiya,yanagi,eg,loverli,borani,dolmeh,artif,olimp,soufl,soyrizo,betsi,schpiel,hopeless,itinerari,kolb,legroom,seligman,tovar,verkamp,tsg,ff,banella,staircas,tampon,ghibli,ladure,sanrio,unmet,pepto,sie,bouche,fowl,malbec,bonbon,bubblegum,citron,coquett,maddison,papi,smoqu,assosci,superstor,ricki,cuddli,exel,restrur,salid,thid,liverwurst,vinegari,leanest,orfer,coronita,bigmac,mraz,rau,xanh,nepales,parktown,sichuan,soupless,structureless,uyghur,contrarian,dillud,celbriti,paraphenalia,lubi,mooshu,messini,grabber,peru,dece,amazzz,chimichuri,flute,guadalup,instantan,mois,nosejob,sombrero,robuchon,wp,predecessor,reallyh,mbb,phlegm,hoummou,tahina,espn,otb,cohort,fastbal,alight,bkack,chini,escuela,chowmein,mexicano,tbone,acorbat,gibberish,thinkn,utilix,cluck,cleaver,rembrandt,tobacco,brgr,burgatori,feli,awesommmm,tempur,chickfila,euphoria,irvin,pitti,bruchetta,ailment,indo,subcontin,foood,ver,waitresss,dcfc,airbnb,bor,rst,clandestin,regga,ruff,pneumonia,enjoii,johnston,opaqu,dialect,qdfax,brit,sarni,reson,flakier,punctuat,spawn,eerili,stub,pluss,namesak,schmear,weiss,usda,severli,drake,flnvfici,kiga,ucnxfu,otch,sardella,screeeeech,standi,saeed,capoeira,churrasco,softshel,yamato,bareburg,pincher,stuc,nauseum,recit,mcflurri,atmostpher,glitz,mull,painesvil,silvestro,spirito,unlit,audigi,eeeh,thang,bcoz,immidi,swatch,malais,maxx,wooloo,cymbal,likabl,compat,peggi,donato,twister,encrust,banc,chaleureus,combl,fourni,gigantesqu,goutt,microbrasseri,ombrag,ore,parasol,pluie,proteg,sall,seront,titanesqu,verrez,dissent,mroe,adida,bootleg,clamor,jfk,lingual,pacsun,warfar,cosmopolitian,yote,pdss,hogan,lebeau,overcompl,ph,atmosher,protion,convey,krab,whataburg,gilespi,mccarren,rac,nohea,annex,cobweb,quai,anime,boeuf,conven,cote,dejeun,malgr,mauvais,ni,niveau,oeuf,retourn,reveil,vit,locationg,southweset,edem,enthus,demo,pavillion,whatcha,heartbreakingli,whyyyyyyi,doppi,gnocco,kingswai,whinei,swankiest,brocolini,chinsei,toughi,multipack,wgw,wallflow,moodi,nightcap,cistern,computerspher,eloqu,sidenot,chauffa,lomo,beaver,parka,bechamel,borolo,campagnola,sansoni,sugo,witha,oldtimei,sheen,fina,audibl,gmo,mislabel,stye,bluish,mlife,waai,boni,enoki,communion,naanwich,umph,sino,shorthand,huz,legomar,comet,palomino,sofra,hoard,limbo,resili,blarg,buco,sobei,burpdai,yelpsearch,snare,okaaayyi,parmegeddon,rugbi,winc,blur,lasik,prk,floati,hallucin,lampoon,tarantino,za,creepili,deepest,peppadew,zeppelin,razz,smuggl,housem,momocho,orida,flagstaffian,intertrad,rebui,sustain,adelant,artista,asi,calefaccion,dia,fria,hacers,lugar,manana,mejor,mirar,opcion,pero,poco,presentar,primer,pued,quien,realment,revisar,rica,seleccionen,sistema,tienen,voi,foliag,waaaayi,gnr,glowingli,sconc,noh,cologn,overdid,rossi,abierto,debe,esta,seguir,una,secic,airsrtream,cylindr,dormant,curteou,statesvil,wt,mindfulli,piazziolo,rejoic,rusan,yasai,raaaaaar,saccharin,vidalia,yuri,kadahi,tlike,wrighulgh,ait,belz,mish,promenad,eggcel,eggstaci,mascarpon,reggular,speggtacular,forego,overgrip,planogram,racquet,restr,restring,viabl,cheesecakei,lunardi,ossobuco,curst,rebrand,setter,seemeda,ambrois,carbeau,cheval,ciel,dieu,chantilli,reallyyyi,minuet,arcan,lumbar,otber,doublewid,peorogi,cohen,leonard,suzann,hite,jiga,torranc,antonopoulo,bourguignon,bumbl,counterbal,foothold,gastropup,hote,breadth,divulg,primo,aritzia,kx,lululemon,meetup,mire,plato,uo,zara,salter,looooot,mgmgrand,carbi,szechaun,babka,chocolatin,boggl,dhaba,poundag,writer,flove,breadi,dback,marcona,culver,chuan,lunchbreak,darryl,deede,lorrain,quiana,tempera,riddl,yoi,gram,answerd,monoton,contrair,difficil,essayai,imaguin,gumboo,humm,alehous,bil,instig,nube,sil,erma,nt,codenam,teriyak,apdbjbueq,biia,cxv,dg,eggstasi,enrob,fukyf,gruyer,ihxqnw,iikkb,jot,kap,lq,moisten,pq,shh,uefovzzdubgcy_q,valrhona,yixqdkw,outhous,osetra,refold,tiradito,butttttt,convieni,carnegi,korq,standoff,shipper,carrri,cedarland,lebanes,localdin,ref,csx,jackhamm,transient,grotesqu,hudr,porno,seemless,overemploi,quail,aiola,bitterballion,distat,icecream,groundbreak,alfalfa,od,philadephia,teashop,baskin,robbin,arrarat,orchestr,simular,speede,kari,kwai,mundan,neko,sotong,tablem,teo,arrabbiata,clove,zeppoli,kuzi,wardoff,laymen,yorkshir,dimar,luisiana,loa,mauna,brava,patata,roulad,boer,dominion,dorchest,flatul,mago,marg,unfortunt,chikn,nicholett,yepper,basilica,dame,amazinggggg,kohl,stoopid,baysid,terroni,yadayada,downpoint,cerveza,euphem,nogal,siphon,spini,tecat,armchair,mediterian,reclaim,thunk,topping,problen,bocca,etsu,konnichiwa,nosei,mula,vampiro,cibo,lope,pinesol,dashi,hebi,lilokai,liqour,spaezl,whammi,yak,goubuli,adelaid,hakkasan,remiss,sixteen,vr,bather,poll,lifehack,immiedi,waitre,grope,hairmast,supercut,acr,megabu,chloron,bleacher,canner,javelina,mesculin,mtn,nari,hookipa,sirracha,yoshi,pucci,freed,guestcheck,imageri,seclud,disillus,arc,cheapo,triomph,nicknam,kama,sasa,jiang,zha,annona,eggdrop,northsid,langer,chapstick,admitt,suction,ligat,tubal,unw,shawrma,paska,banter,schtick,salari,giada,fonctionn,font,longtemp,diven,bhaji,oyu,kaow,kelp,ehhhhh,atti,advac,blase,dreamsicl,earthbound,foursid,discript,vua,bassett,cuppa,subtandard,recollect,bosh,pore,aahhh,avacad,crabmeat,kirei,okayi,resaur,nisaan,nismo,andjacuzzi,expeditor,skinnylisi,piecem,wo,montford,exasper,affluent,hummer,jag,tycoon,flouri,ndjua,gloomi,landlock,kimpton,lustr,hormel,owl,kaji,rehaul,reguard,huhuhu,riskaai,zag,zig,lsd,choripan,carribean,porgi,geisha,fromtim,penasco,gordo,bumpin,isabel,mamaka,unenjoy,ivei,killo,pusher,sentricon,terminix,citadel,jog,connaisseur,seewe,torontonian,burdensom,leopard,lolli,nsb,maserati,thebar,labatt,esk,ncdmv,springer,yaaa,toulous,yummylici,suspend,lulu,monsoon,blehhhh,blehhhhh,yuckkk,elena,cevapi,croatian,dubrovnik,farina,karlovacko,kava,palacinka,raznici,sarma,slivovit,trkska,earlob,orecciett,affluenc,apero,aurait,chouett,commande,courg,craquelin,cremeus,davantag,discut,dispon,emplac,erreur,gentiment,guis,meprenez,oui,ouvrait,parmenti,particulier,positif,pu,quoiqu,ramequin,recu,repar,reviendron,saumon,semblait,soire,suffisam,tete,durabl,yari,grr,fulsom,amaebi,duncin,coutur,hollindais,bayview,kenkou,chil,conundrum,deleveri,lazagn,selction,empas,sangioves,savignon,comfier,meater,hah,ferret,flounder,oakra,pubiic,bfast,rs,yoke,fwiw,meahhh,bladder,louisvil,merfolk,regnal,siren,trenta,pier,seatub,dangit,fru,awh,ight,remold,russ,windsor,offlin,servei,cun,amatriciana,pulver,saussag,childress,klein,bowlolog,pitaya,hallmark,taintor,mitig,ro,paltri,panhandl,crudite,besso,chiado,haut,lthforum,nothin,osteichthy,pix,ponderosa,interac,eventho,atherton,babygirl,baconi,sonofabitch,enviou,hicken,alliter,renegad,kindof,unauthent,jeesh,booyah,dispers,clu,hellah,lombard,bessi,laurent,replica,cotswold,ostentati,suuuper,schnapp,cantin,liciou,ramezai,tupperwar,yayi,slobberi,mongo,ramif,rectal,scath,slowish,stif,transpos,grayhawk,troon,attroci,fromt,shushi,worh,killian,gotham,subscript,kk,snowman,sectionm,teapot,herbac,waffel,decari,fiber,madtosh,paraphernalia,aww,conjur,williamsburg,loooooov,baton,sleet,albino,kreischer,shoi,jook,wildest,bundtlet,undeliv,frersh,ordrer,surpringli,eatri,blushberri,militia,readabl,allai,allait,chaud,disant,emport,frigidair,lu,personnalis,prendrai,presse,reculon,refroidi,remet,venir,chachi,fcuk,forshizzl,mayfield,phobe,yessssss,sorrow,var,frontrunn,sheppard,tranc,halloumi,sidecar,clang,mooooooov,sheepishli,southpark,sci,starchi,gelatier,thot,francai,hothothot,seater,somber,fron,tof,hanoi,documentari,lifelin,moviepass,cel,manolo,ctyd,ethernet,momofuku,betweent,cheesiest,overfil,thong,bz,madli,feather,feeder,heron,waterwai,bonaventur,brime,brimlei,chophous,davidstea,distressingli,dollarama,foodcourt,ip,kb,ltr,lyne,melani,reitman,scarberian,stc,tandori,unstabl,scrumptou,jaimi,banker,edison,sass,bistec,plaintain,alc,mgd,chiiii,chillax,callous,gramma,inordin,abyss,memo,silvertip,emphysema,dodgi,predetermin,suspish,enlarg,rabb,crcr,sumatra,enuf,breakag,brianna,intermitt,thomasvil,thomm,cailei,braddock,muah,afff,cham,thornhil,zoom,index,veto,sunnyslop,cldnt,darci,waxologist,motto,shashimi,colossu,marlborough,patent,fran,weeni,ryu,casbah,ragout,absinth,immers,licoric,macho,bloordal,chito,decibel,brink,carna,originaux,alison,chevrolet,ecoboost,turbo,applogis,backlog,currant,abend,allem,anbraten,angerichtet,appetitlich,auf,bedienung,bestellung,betrieben,brauchten,bzw,dass,ebenfal,eher,ein,einen,etwa,filial,frisch,fruhen,gast,geeignet,gekummert,geoffnet,gericht,getrank,große,huhnchen,imbiss,ist,kein,kett,knackig,liegt,mehrfach,mochten,muss,nach,nachgefragt,nachgeschenkt,naturlich,noch,obwohl,reichweit,sagen,salat,schnellen,selbst,speisen,tisch,uberschaubar,unmittelbar,vorteil,wartezeit,wir,wobei,zeitaufwand,zugig,cushioni,hubbyman,streusel,elmwood,loreen,menthol,rmt,stillwat,suffoc,unisex,animatron,cigawett,crosswalk,drunkenli,favreau,ko,ostrac,reenact,repress,rtc,sociopath,swinger,thunderdom,winchest,yesh,crescent,motherland,pilgrimag,nestea,remezzo,scallopin,conga,uv,adeq,emiss,fotb,bokoro,madagascar,backstreet,brah,caldwel,lfo,sync,eealli,sosi,velveta,asparaga,citycent,porchini,trattoria,persona,betcha,mastercard,castmast,meso,beefi,lexxi,paranoid,croagh,saracha,adelson,asani,nhi,aliev,poignant,quiri,toco,habibiz,het,evelyn,matent,cozier,geauga,pornographi,realign,springi,barkeep,comma,lunchroom,stcum,bri,pilsner,ht,alfr,hitchcock,saguaro,allov,tinga,gettin,mmmmmmm,capricol,fructos,hfc,eeri,aaaaand,doff,folger,rom,leaser,substrat,powehous,wer,expo,insuit,dweller,sidl,unobtrus,burndt,carmelaz,reataraunt,adina,cheezburg,chikin,chocolati,speacial,gandhi,ghandi,pastier,pliabl,mdw,bouscul,danser,vite,punctual,rhoda,shawerma,remo,cromwel,makj,nnight,stiletto,lagunita,rhapsodiel,covert,vicinti,niu,o_o,qing,rou,reso,tripod,visabl,abagillion,bouillabaiss,soppressata,annnnnnd,argula,holstein,precursor,waygu,pau,geezu,pinkberri,outpac,tork,neveria,beacon,bloatat,bloatios,chaparr,coalesc,endeavor,eyesor,flap,fvck,garish,gasstat,handful,insomniacian,jalopi,kelvin,overhang,perplexion,prefab,rutti,sheetmet,soinic,sonicag,stouffer,tele,thinge,thuggish,whereev,whoreishli,whorish,witheringchap,wrinkli,mediev,todd,lombardi,abstin,hearsai,makni,pappadum,momo,hock,mau,geologi,leighti,racial,ratemyprofessor,bymark,cress,tonno,broaden,larb,nuk,chiro,noggl,unsauc,coloss,marika,pblt,mcburger,borough,comerci,crag,jatujak,alrighti,kj,finch不太大的mall内,上菜速度ok,价格少贵,份量几足,位于士嘉堡warden,午市有特价粉面餐单,喇沙汤底唔够香浓,大餐单系张好大的餐纸,当然也可以散点其他,无图文的餐牌,晚上才全场开,服务方面还算ok,烤羊肉串不过不失,适合两个人分享吃,餐厅午市只开靠商场一边的偏厅,campground,aquaria,hullabaloo,liveaquaria,lovebird,parakeet,reptil,zebra,anejo,putti,assert,thew,kiltlift,premovi,ultrastar,dishwat,jeni,tzaziki,hankerin,headcount,winnipeg,thoe,nightshift,rez,clomato,bidder,marguerita,thisr,lvoc,purteee,collector,mattycollector,olli,dysport,agreeanc,calv,convict,felon,holondais,saveri,dwali,aaaaahhhh,wayward,foolishli,shizzl,gojiccino,nutriti,totrtilla,unchain,convenienct,vitner,gobbler,cambelback,tarian,drivethru,goooo,gotcha,lessss,millionth,tome,gobernador,saucei,roomier,boob,hijack,fugi,eid,heartland,khan,falut,reassembl,reinflat,perki,medicar,parkad,skinylisci,artistri,zarkana,capacitor,frisbe,paddl,bobbyq,caramba,carolin,fril,smashfri,prototyp,tamer,wamart,tother,stacker,bruscetta,donno,broc,donutast,xilfkuyaq,delano,divis,fhr,thecaf,thecofeebar,thecoffeebar,thesuit,unexplain,cashman,porcini,salumi,hipsterish,murkish,smokier,vegh,frangelico,imbalanc,pomtini,teal,ccr,doobi,nickelback,nuh,rudlei,barilla,kinton,expabd,avez,besoin,boisson,cachent,canadienn,ceux,demandez,devrait,dirait,habituel,leve,oubliez,personn,pourriez,pouvez,preferez,quand,quel,recevrez,remarqu,saura,trouver,verr,ped,bathurst,croquant,harujuku,mukimuki,dirtbik,minibik,motorcyclist,sportsplex,bollock,goddam,mediaocr,pollock,sozzl,grav,glorious,sloooowwww,waittress,canh,readjust,poli,roli,abalon,kimono,picturesqu,snowsho,bakalwa,fatay,pistchio,shawarama,tug,astoria,granul,christmasi,nighter,meanest,dukem,shuro,wot,wuss,yemis,granari,greasier,llewelyn,huhu,overlwhelmingli,rocher,skor,chickrn,karaag,yokohama,tempranillo,zinfendel,zinfindel,boorish,datcha,amaro,grana,guancial,montagna,stelvio,reallllllli,apeit,leatheri,bananaqu,denizen,esoter,hoppin,mindi,mocktail,carvel,carvelanch,anyhoodl,correi,interract,waaaaaai,bamm,divvi,getto,ghanouj,broch,goldstein,hoodlum,mitzvah,shmaltzberg,borscht,wrappi,potatoei,teryaki,jammun,lorex,otoro,shibuya,tarantula,bdw,exp,gha,ridonk,strewn,romero,shaun,slipknot,sulli,baklawa,mana,noob,buttercak,polpetinn,progresso,roh,rut,wolfi,shrimpwreck,meatzza,seeker,balzac,yuen,orecchiett,flack,mispronounc,jammin,partum,slag,spankin,charsiu,laffa,lemonnana,saluf,bendi,shirlei,oreder,excav,foreman,irrig,jerom,piedmont,slingshot,unfold,uninvit,briquet,wm,azaria,overdo,presntat,showuserreview,toronto_ontario,aloud,cargo,waitron,yeungl,arnt,travesti,cornor,bossa,thumbnail,lakesid,mesu,hoverboard,frigid,inlaid,prettiest,hangetsu,zakkushi,desput,buciut,oblidg,whe,dineen,trite,restsur,mardi,rocksid,crispli,wishbon,debut,strombolli,unfortunatlei,despair,floodgat,nasir,prolong,psycholog,unse,airheaded,appx,inoffens,smatter,avol,canterburi,hrh,vintagei,flem,glimmer,nhra,powerad,spectat,costilla,alki,capoianni,amphitheat,orch,trademark,psvita,amweodyai,acm,yeee,barbour,herschel,koop,nat,te,rumfish,spicy,murph,paddi,fuckin,riverdal,rhubarb,huong,nuong,pth,thit,sazon,cadi,demin,geet,quesidilla,abv,earhart,labyrinth,jheri,porridgei,burp,dion,muahahaha,redbox,asymmetr,underpad,firstdatefail,hoars,kennebec,microbrew,speedili,superfood,soondubu,berea,eastland,affl,anytgimg,sush,waysid,serendip,payout,douchei,fininsh,vic,truckload,agua,clarendon,ensalada,fresca,peruana,tranquilo,charlotean,taramousalata,havoc,weaken,beefsteak,cut_,heitz,steaks_,tatt,vineyard,watercress,cowgirl,uordinari,raisen,mcewen,pusaterri,theoret,ourself,holm,landslid,lassett,lawson,multifacet,undergrad,sssoooo,tanzania,tiresom,banan,griot,kitcheb,reallllli,folllow,sambal,untradit,yakitori,ghoul,souz,citrusi,tensai,countrif,injeolmi,sizewis,johnstown,certainti,assuag,cognit,coher,intemper,loom,bennihana,higlei,hodg,podg,radiant,salyl,unoccupi,billabong,huntington,kahuna,quicksliv,tequito,lucullu,roasteri,colorfulli,chojang,gorton,sconni,presidenti,katz,westbound,pistolero,bak,kaleidascop,homestyl,folksi,heroic,shapeless,slime,homosexu,fundi,msc,reproduc,scenei,straggler,tobanyaki,strickland,ust,negro,massachusett,donburi,barnum,eleph,puggl,ripatelli,catherin,eeekkk,unfil,aglio,olio,xfest,goya,cheuvront,beechwood,satifi,lowbal,latta,romar,crapper,flippin,hightail,numm,nummi,nolen,prissi,easten,reccomnd,rushli,lori,esc,eggfast,paig,margarheta,bitterballen,morcilla,comatos,garth,koo,brizza,chewn,toluca,hungeri,grapevin,plaka,sophia,taverna,unbuss,spotlessli,hoot,moneygram,bevi,zomg,powerpoint,storei,quacker,coldston,brodetto,giftcard,huug,manara,stemless,tide,wineglass,spelt,coffeemak,creemor,hernando,jave,primetim,aqnd,connoli,shiznit,aahh,bathrm,flr,mrng,ngt,sz,cava,margharit,proscietta,yick,minus,evapor,monk,behl,karachi,repel,uteru,coupla,glaru,stalwart,han,hans_moleman,anatolia,streetscap,abut,idgaf,ripest,rarer,silkier,gei,hama,negi,yesteryear,trendier,carib,suckl,teat,vortex,softli,bagh,databas,deepak,interim,tomfooleri,veral,hunan,shiang,tien,yu,pushin,sudsi,debon,dover,licor,tartufo,borrello,lewi,rawl,zani,rci,bimbimbap,quadrant,romado,xanthan,balmi,decebt,exept,hypocrisi,sabdwich,sandiwich,serpentin,shab,cutzi,ansi,secord,chimichang,angostura,astroturf,popicl,singha,yen,shunta,eden,brainpow,dexter,julep,moreno,starship,carmener,centerpiec,havana,shmear,spritzer,primit,sheetz,bloodstain,bosc,atomsher,lke,tgi,unsurpris,aperol,terriaki,maman,ax,huddl,personel,presser,richtre,ambigu,spiral,weirder,gastric,genit,gerd,perturb,rhapsodi,pomeroi,rosewood,ino,charanda,rolaid,savannah,wallah,serivc,coddl,bunna,chuhuahua,charlei,guardian,safelight,inna,vigi,ballantyn,lareadi,proshop,brac,bric,cavali,dappl,espi,ezra,preen,quixot,sho,tamper,tirelessli,triad,viz,croak,strongarm,carsid,veeeeeri,prolli,backbit,ward,pothead,accro,anne,arrive,aurai,compagni,confitur,copin,cors,entendu,essai,evitez,familial,gravlax,habitai,laiss,parler,poch,puisqu,regn,sorti,toutefoi,travail,venait,fruitti,overpoweringli,hahah,jist,weyerbach,vildan,goodfella,holdout,beneit,steetcar,autrement,enerv,nul,pourrai,lgo,tyson,nitro,stead,condominium,risen,cet,extasi,magnifiqu,montrealai,observatoir,vue,deffin,indiscern,epicent,floppin,mankind,wearin,rebuild,crai,eyesight,ricketi,enclav,magherita,desicc,emaci,trombon,undoubt,pamplem,schwartz,xchocol,costlier,buttah,deen,ohnoyoudidnt,paula,pizooki,breathlessli,flunki,makapu,saikyo,settebello,tobikko,zuke,packer,blip,compars,muddl,unexcit,borgo,liven,nape,nicois,puriti,underset,undersold,aruba,restraint,reconfigur,authen,chiken,northen,endiv,artoi,rediculi,fore,casin,masterlock,waitin,heaviest,carneasada,goooooood,juicier,contr,ebullit,eus,froidement,maladroit,original,plui,propose,rappele,secteur,situ,marghertia,madden,bayless,stretchi,topolobampo,paloma,splunk,surver,ramadan,aceit,cabra,escabech,gristlei,pulpo,quinc,tarragon,mel,whooppiee,humph,complant,potat,vib,flamboy,havento,rhodi,absotli,credibl,recapitul,arrachera,footwear,southcentr,otherhand,urbanspoon,befit,festoon,gameshow,pleather,sequin,siberia,alcov,benedicto,galett,mediterraneenn,bygon,frederico,macayo,annywai,asthetician,mink,receiptionist,abhor,bouchervil,qc,woodbridg,camuto,lrt,micheal,vinc,sharpen,mushu,monorail,ballantin,reusabl,afoot,casualti,honolulu,inconsequenti,mccormick,schmick,ichi,sora,palazzio,overtipp,spoilsport,diveri,assimil,chiptol,ethopian,strongpoint,wil,actuali,macron,guevo,quesdilla,winteri,deviant,glam,clung,intestin,siumai,harbourfront,lnc,neuf,whaddaya,santo,unchil,whoooo,muggi,arriba,brien,julio,mata,absentmind,sakeok,dotti,charismat,knorr,overrul,hater,sandbox,tike,kyot,inwhich,slooooow,guu,cara,eash,atmopher,roncesval,dieter,flapjack,gigonorm,overinfl,procliv,blowingli,guggenheim,tastic,jule,pinwheel,thobor,heatabl,frak,avo,teppynaki,tc,amenti,shameless,tackili,pursuit,tian,nano,sharabl,handcut,repasado,ruthless,anomia,wipedown,agani,oktoberfest,wallab,complac,creamsicl,fletcher,unc,cusin,brothel,folder,penal,bof,general,peux,tripp,reshuffl,sobe,tyropita,enya,gami,yanni,burberri,menswear,shick,upmarket,siopao,hochelaga,hundi,ladybug,chirashisushi,chutoro,counterbalanc,fluffier,shoushin,tachi,tekka,upris,hv,favorito,volveria,mindlessli,chulupa,supa,tb,sugarcan,razzi,portabella,acoomend,teff,verbos,graeter,pinecrest,fart,chasui,dilallo,trappist,heheh,finnegan,capella,jalepino,anarchi,crosandwitch,unfff,pobr,settlebello,coexist,douchefest,muzaaa,fugo,hoi,softserv,sacrilegi,rebak,soni,spcial,nba,salmonella,giggli,pullano,mylk,suja,cdn,neig,chesapeak,kefted,becar,bearer,effiloch,fameus,porc,artsi,machiatto,pleezsh,weck,avert,hardback,pail,pulpa,uncultur,wistfulli,awl,edamami,reccommend,yumyum,pavlov,skydom,seet,amantra,jeera,rasmalai,tdb,orzo,sabayon,jjangmyeun,mofo,shami,pillowei,redbean,avacodo,esthet,slc,ddukbokki,soondoobu,sunspot,firefight,harshli,kudu,physiqu,tricep,bridlewood,gameroom,pene,withheld,reynoso,kurig,everchang,rosita,asti,eo,hgjigej,hsfvlf,jabi,k_guwf,moscato,ocu,qiipa,rajq,rrm,sinewi,tuap,ybklkmg,zfq,biscuii,biersch,macro,artic,seablu,alfresco,crescenza,downward,foxrc,pequillo,prettili,raveworthi,versatil,coercion,mcalist,sharer,ae,contrapt,footlock,garb,hamster,hollist,malani,tilli,tween,zumiez,commingl,msrp,gaw,lolzzz,wane,hydrangea,pathdeal,algebra,flatli,russo,pedast,creed,denser,dupont,gringoish,dere,fastfood,lebowski,ramun,albina,charcuteria,iberian,romanc,tapeo,cmonnnnnnnn,ancho,fogo,restaurani,binieat,ensenada,bedspread,superclean,aerosol,beansprout,miracul,bourekah,hamentashen,rugelach,arayna,worrisom,trusti,frolick,oddbal,apex,linguist,outsurviv,trepid,wormlik,aglia,accrocheur,ais,allant,approprie,artisanal,betterav,cherch,cheri,cochonnail,complique,couvert,depos,developp,different,doivent,effet,entrecot,erabl,etap,histoir,identit,invers,jeun,jugement,laisser,lapin,leger,lourd,mademoisel,moutard,necessair,onctueus,papineau,partag,passant,petoncl,planchett,porcelet,prefererait,primordial,rappel,rattach,represente,reproch,saucisson,sentir,sera,simplicit,soit,tant,tendr,tenu,tremper,truie,verv,funfetti,pillsburi,mmhmm,neet,arika,here___,downtownphoenix,fuku,poundcak,deee,drunktard,enema,michigand,ooookai,piston,pratfal,shwerv,trooooit,unwatch,wgaf,buffaloian,linear,passersbi,mozel,slai,eeek,cort,fakher,slowwww,outlaw,professionali,soprano,undeserv,hearth,speedier,unfri,mentaiko,ceebriti,supposs,briyani,pocki,dishevel,moussei,tappin,brut,chrisp,corkei,eggless,injeomi,nahmean,comed,oxid,sqeez,kaiser,clovi,loma,mugg,batend,freaki,havta,whiskeyberri,somali,cypress,workdai,margharita,crudit,drumrol,galum,inward,lasal,pip,thalli,maribel,calmement,charge,charmant,commencait,commentair,croir,dison,doi,engloutir,entier,etudi,gauffr,lorsqu,malheureus,mariani,miam,passe,passon,reste,serai,gremlin,olivor,restaf,novella,underwear,margot,haird,mutton,redpath,upheld,camto,summeri,scuzzi,emblem,changi,insectarium,prossess,saison,bullsh,caesari,dealio,groupl,odessa,bab,gim,krn,bismol,godaw,ciopinno,mccallan,nooop,prose,fairi,malpequ,glut,bodypump,bonker,fafa,grang,kaka,hooyah,meek,nonmeat,sensibl,giardino,waaaaayyyi,handwritten,probbabl,ailleur,avaient,carrement,cuisini,doit,emboucan,figu,gagn,offr,papil,piquait,pogo,pourrait,renvers,repondr,seduit,vingtain,yeux,superflu,cofound,fob,quinten,jovan,crunci,stude,handsi,drap,jerusalem,looker,magret,ornat,pissaladier,porchetta,kabuki,nu,somth,breakthrough,tsu,amf,ful,drybar,boyfrend,fung,encompass,katsuya,shinshu,shiso,zinfinadel,bibimbop,jewellri,collabor,gratitud,beautyrex,forgivingli,hastili,volumin,vengenc,unbehav,indefinit,niber,turttl,jani,lilipad,swimsuit,clime,omaw,barbari,uncr,coconutti,fyitm,rng,carolyn,cruvant,darken,hibern,winterbach,flurri,smartest,deaden,affront,cleanish,ech,thee,goan,janel,dottsi,mewl,sameth,welington,raggedi,yelpi,manapuu,setebello,katelynn,sacrifici,lopez,grissl,mosli,neptun,streghth,fossil,orat,chirashidon,cetera,dragonair,dragonit,dratini,photoshoot,pokegym,pokemon,pokestop,splashpad,weetot,lambchop,spongebob,dicat,onoir,farrut,dorad,hefeweizen,marzen,rockytoberfest,barenak,bilk,canadiana,connor,crowded,dvp,eeeeeyiiit,eep,tca,dubstep,hooka,davinci,moushi,artisin,hungi,allan,arrabiata,aspiral,barbaresco,barolo,blair,castello,dea,deanna,fritatta,miln,quaf,verduno,wholewheat,zucca,consom,doser,interieur,paradi,parpadel,mezzanin,nicknack,chan,acceler,ecu,pedal,unauthor,ehhhhhhhh,cheescak,wendov,armless,incread,polli,attentit,mediocor,recipt,richlan,suprisingli,biali,pide,champag,biaggio,zeppol,douteus,homm,jusqu,shishtaouk,sortant,deluca,mateo,romolo,graffiti,showi,charlton,equivi,torward,dimshum,eval,kuan,lanzhou,kana,kix,doh,kinh,yagyu,overpour,bathhous,asiam,blitz,congi,fon,subset,paseo,outbound,drumlet,cotten,chivalr,errat,woefulli,nearer,cooktop,nonalcohol,greenwich,pirogi,matsuda,avellino,penza,fleec,udipi,chiarishi,gossp,skinless,twine,alida,anglais,conceit,heeelllloooo,lemondrop,goonmandu,jjajjangmyun,tangsuyeok,sitloin,jetton,casser,delicieus,merengu,grump,snarl,duchess,amtrack,amnesti,budda,edenam,finsih,intertior,samshburg,utilitairian,hight,reco,fmla,guch,cannibi,foooreverrrrrr,hahahaahahah,suckin,ruelo,hakksan,cyclo,hoan,khai,bulgulgi,chapcha,cutesi,instagrami,pinteresti,sambalatt,boyko,hillshir,rework,presotea,prettier,disect,hiatu,grotti,litmu,uncertainti,weaker,dreg,affix,cibatta,harriet,harriett,irresist,gula,melaka,rojak,chamberish,especiali,glide,gull,loafer,osaka,bristol,dufferin,duffi,monetarili,chinchsi,个人坐有少少逼,人台,出品ok,及第粥,吃完个粥饱到吃唔落其他嘢,周末仍然都系甘多人,新净同靓左,点前埋单还有优惠tim,环境貌似经过重新装修,真系好多料,等位等左半小时后终于有位,隔了长时间再离就无左啦,puttanesca,peperpmint,painfri,sunburst,birdnest,permil,duri,fishin,workmanlik,niman,sevric,cholla,croquet,racquetbal,sreve,benedum,piccatta,vinegrett,ashtanga,hatha,inspri,sancturai,sequenc,vinyasa,aiport,kokop,vinosquar,luau,latrin,adovad,wholesom,menfolk,oldschool,remix,rnb,scald,tapwat,taxiderm,turnonff,emul,alarmingli,cinderblock,fauxhawk,fuch,haughti,moonlight,scrimp,yupha,freeload,mangoito,thikn,cristen,kristena,dyson,philipino,balsalm,orfu,reptilian,tertiari,cinderella,stepsist,beaverton,ebt,calamansi,ensaladang,kecap,lasa,talong,huuuugee,weve,mutli,gentian,ginza,preoccupi,mori,woodland,cheng,gingeri,orangi,sfr,echelon,schizophren,elus,gulf,thrifili,vain,purifi,ulitm,competitif,francais,gilford,interessant,millefeuil,schiken,cho,perdu,rasberri,brrrrr,starvat,blat,mimick,flatwar,jackwagon,tucki,gauch,hologram,personifi,rustiqu,tournesol,fuggedaboutit,thaie,ikura,tobiko,backer,boxer,employmemt,hl,parkinglot,bridger,chainsmok,deng,esspensive,presal,funnili,yin,soooooooo,ciabetta,themeselv,isaw,vladimir,pitbul,espressament,boul,cardamom,chaleur,constat,couloir,donnent,engouement,epice,etroit,fenni,gache,goyav,halva,pamplemouss,parfum,plupart,reper,rhum,similair,tester,trottoir,serviv,heydai,flummox,cacher,coinc,deprim,evidem,faim,faudrait,fete,fraicheur,genereux,juger,lipton,loup,mettrai,nouveaux,overmarin,reellement,sert,sinon,speciaux,typiqu,veut,leewai,sorensen,rgb,creamciscl,toula,geox,naot,papelon,rta,carnagi,lester,snowden,outlai,unhurri,crockeri,dippi,sallyann,skaterboi,ideali,mehhh,koko,tarot,yogurtolog,bigl,mousaka,pilaf,shud,entrac,keed,pazza,economist,greenspan,bellpepp,apparatu,clarison,flail,payoff,ebgam,slloooowww,winghol,aceituna,bilbao,pintxo,barnon,psalm,sobbingli,stent,nurtur,hodori,choco,barbequei,pulp,janix,chrissi,sunterra,amazonia,barbarian,croisant,cull,artemi,medusa,perseu,techi,cheeki,beng,gwai,hippest,lacon,overreact,twentysometh,itun,muzak,schlocki,rava,dorf,beefeat,guido,jive,antacid,madina,colosseum,fiorentina,mulino,padano,stracciatella,airier,soso,garganelli,westisland,ua,gigli,buuut,bibimbob,booklet,ktown,ufo,uoft,brail,doosh,zimbabw,makeout,mercifulli,oishii,cuttlefish,kawartha,flamenco,revolucion,hygentist,movenpick,stepmil,happiest,highschool,overoak,specat,fusilli,unediblei,duckl,qjd,dawg,greenhous,lakefront,belair,brasa,unenthus,reaon,backach,trup,boeski,burk,cloonei,ella,fitzgerald,jethro,linu,pope,spink,poki,corps,gaspworthi,forefath,zzeek,littleweird,daintili,carveri,swimwear\n",
            "[(6, 0.07433613294791862), (8, 0.015450772495654134), (14, 0.030102481851659042), (17, 0.06836545194033682), (27, 0.05357430223511394), (48, 0.046313780345863344), (53, 0.038574666913207066), (70, 0.03417161273071302), (74, 0.01286762265447434), (80, 0.059625575905823444), (86, 0.08081323882963737), (88, 0.045526508515473636), (94, 0.014579576023533493), (96, 0.03686169387611925), (122, 0.03174028893185699), (137, 0.023366251826613667), (138, 0.011369517120441442), (140, 0.06799338689038446), (142, 0.020878626169471254), (146, 0.041761733136656834), (149, 0.048554665081218175), (151, 0.09060743280308489), (154, 0.014038764400373533), (157, 0.034022254497632146), (160, 0.04957602019398281), (183, 0.02676864036097885), (186, 0.033465488041618634), (200, 0.067730218267473), (206, 0.04629574255067243), (224, 0.038235439946320546), (275, 0.05777463472615469), (296, 0.04496209975098945), (309, 0.1268043345424339), (332, 0.034053134186678755), (333, 0.09079530375883813), (340, 0.13423950039306026), (490, 0.053048074549851706), (514, 0.07444343970163107), (661, 0.07600684698836466), (798, 0.1062828208996801), (1206, 0.10123977759271385), (1270, 0.1360531389074963), (1501, 0.14649595713266425), (1603, 0.1151462470695157), (1875, 0.1378286999230552), (2330, 0.1494052332735896), (2339, 0.4394560727115471), (2347, 0.1646749277414678), (2352, 0.15284264683748508), (2855, 0.14019441338475735), (3070, 0.15332981209790486), (4150, 0.20855662557517138), (6558, 0.28905736153790607), (10134, 0.26660224912137703), (10578, 0.27592196282475856), (11018, 0.3115124739544351), (11019, 0.3115124739544351)]\n",
            "Time taken to create tfidf for :75.70155739784241\n"
          ],
          "name": "stdout"
        }
      ]
    },
    {
      "cell_type": "markdown",
      "metadata": {
        "id": "cZyr2MSAxFVp",
        "colab_type": "text"
      },
      "source": [
        "### Loading the data from the trained vectors in the csv file"
      ]
    },
    {
      "cell_type": "code",
      "metadata": {
        "id": "AsTh9yi0wi76",
        "colab_type": "code",
        "outputId": "9683174d-b1b6-4a88-f427-10b1448975cf",
        "colab": {
          "base_uri": "https://localhost:8080/",
          "height": 238
        }
      },
      "source": [
        "import pandas as pd\n",
        "tfidf_df = pd.read_csv(OUTPUT_FOLDER + 'trained_data/' + 'train_review_tfidf.csv')\n",
        "print(tfidf_df.head(10))"
      ],
      "execution_count": 0,
      "outputs": [
        {
          "output_type": "stream",
          "text": [
            "   action  admir  ador  all  ...  littleweird  daintili  carveri  swimwear\n",
            "0     0.0    0.0   0.0  0.0  ...          0.0       0.0      0.0       0.0\n",
            "1     0.0    0.0   0.0  0.0  ...          0.0       0.0      0.0       0.0\n",
            "2     0.0    0.0   0.0  0.0  ...          0.0       0.0      0.0       0.0\n",
            "3     0.0    0.0   0.0  0.0  ...          0.0       0.0      0.0       0.0\n",
            "4     0.0    0.0   0.0  0.0  ...          0.0       0.0      0.0       0.0\n",
            "5     0.0    0.0   0.0  0.0  ...          0.0       0.0      0.0       0.0\n",
            "6     0.0    0.0   0.0  0.0  ...          0.0       0.0      0.0       0.0\n",
            "7     0.0    0.0   0.0  0.0  ...          0.0       0.0      0.0       0.0\n",
            "8     0.0    0.0   0.0  0.0  ...          0.0       0.0      0.0       0.0\n",
            "9     0.0    0.0   0.0  0.0  ...          0.0       0.0      0.0       0.0\n",
            "\n",
            "[10 rows x 21812 columns]\n"
          ],
          "name": "stdout"
        }
      ]
    },
    {
      "cell_type": "markdown",
      "metadata": {
        "id": "dpv0czGLB94G",
        "colab_type": "text"
      },
      "source": [
        "## Decision Classifier for tfidf vectors as features"
      ]
    },
    {
      "cell_type": "code",
      "metadata": {
        "id": "VoK0g8RAws9T",
        "colab_type": "code",
        "outputId": "c96e8ad8-f403-4782-ef02-c910bb47ce8c",
        "colab": {
          "base_uri": "https://localhost:8080/",
          "height": 34
        }
      },
      "source": [
        "from sklearn.tree import DecisionTreeClassifier\n",
        "import time\n",
        "start_time = time.time()\n",
        "clf_decision_tfidf = DecisionTreeClassifier(random_state=1)\n",
        "# Group 1 Task: Uncomment following sentence and comment the first DecisionClassifier\n",
        "# clf_decision_tfidf = DecisionTreeClassifier(splitter='random', max_depth=500)\n",
        "# Group 2 Task: Uncomment following sentence and comment the first DecisionClassifier\n",
        "# clf_decision_tfidf = DecisionTreeClassifier(splitter='best', max_depth=500)\n",
        "# Group 3 Task: Uncomment following sentence and comment the first DecisionClassifier\n",
        "# clf_decision_tfidf = DecisionTreeClassifier(splitter='best', max_depth=2000)\n",
        "# Fit the model \n",
        "clf_decision_tfidf.fit(tfidf_df, Y_train['sentiment'])\n",
        "print(\"Time to taken to fit the TF-IDF as input for classifier: \" + str(time.time() - start_time))\n",
        "\n"
      ],
      "execution_count": 0,
      "outputs": [
        {
          "output_type": "stream",
          "text": [
            "Time to taken to fit the TF-IDF as input for classifier: 13.847737073898315\n"
          ],
          "name": "stdout"
        }
      ]
    },
    {
      "cell_type": "code",
      "metadata": {
        "id": "BB0SY4g2wzCI",
        "colab_type": "code",
        "outputId": "536a9b59-3d4f-461c-f931-1639855fe3e5",
        "colab": {
          "base_uri": "https://localhost:8080/",
          "height": 204
        }
      },
      "source": [
        "test_features_tfidf = []\n",
        "import time\n",
        "start_time = time.time()\n",
        "for index, row in X_test.iterrows():\n",
        "    doc = mydict.doc2bow(row['stemmed_tokens'])\n",
        "    features = gensim.matutils.corpus2csc([tfidf_model[doc]], num_terms=vocab_len).toarray()[:,0]\n",
        "    test_features_tfidf.append(features)\n",
        "test_predictions_tfidf = clf_decision_tfidf.predict(test_features_tfidf)\n",
        "print(classification_report(Y_test['sentiment'],test_predictions_tfidf))\n",
        "print(\"Time taken to predict using TF-IDF:\" + str(time.time() - start_time))"
      ],
      "execution_count": 0,
      "outputs": [
        {
          "output_type": "stream",
          "text": [
            "              precision    recall  f1-score   support\n",
            "\n",
            "          -1       0.57      0.57      0.57      1474\n",
            "           0       0.46      0.48      0.47      1518\n",
            "           1       0.59      0.56      0.58      1508\n",
            "\n",
            "    accuracy                           0.54      4500\n",
            "   macro avg       0.54      0.54      0.54      4500\n",
            "weighted avg       0.54      0.54      0.54      4500\n",
            "\n",
            "Time taken to predict using TF-IDF:4.297654867172241\n"
          ],
          "name": "stdout"
        }
      ]
    },
    {
      "cell_type": "markdown",
      "metadata": {
        "id": "gqC9pUblyfu1",
        "colab_type": "text"
      },
      "source": [
        "# Task 6: Classification with Word Embeddings ( 10 mins )\n",
        "\n",
        "## Word Embeddings\n",
        "\n",
        "Word embeddings are words mapped to real number vectors. The methods seen before do not capture the relationship between the words, they consider the words seperately as a feature. Word embeddings uses some models to map a word into vectors such that similar words will be closer to each other. It captures semantical and sentactical information of words. To train this model it takes into consideration the words surrounding that word of particular window size. There are different ways of deriving the word embedding vectors. Word2vec is one such method where neural embeddings model is used to learn that. It uses following two architectures to achieve this. \n",
        "\n",
        "- CBOW\n",
        "- Skip Gram\n",
        "\n",
        "## CBOW ( Continuous bag of words )\n",
        "Here the model predicts the word under consideration given context words within specific window. The hidden layer has the number of dimensions in which the current word needs to be represented at the output layer. \n",
        "\n",
        "## Skip Gram\n",
        "\n",
        "Skip gram is opposite of CBOW where it predicts the surrounding context words in the specific window given a current word. The input layer contains the current word and the output layer contains the context words. The hidden layer contains the number of dimensions in which we want to represent current word present at the input layer.\n",
        "\n",
        "In this case, we will be using gensim's [Word2Vec](https://radimrehurek.com/gensim/models/word2vec.html) for creating the model. The parameters are as follows:\n",
        "\n",
        "#### **Params** - \n",
        "- **size**: The number of dimensions of the embeddings and the default is 100.\n",
        "- **window**: The maximum distance between a target word and words around the target word. The default window is 5.\n",
        "- **min_count**: The minimum count of words to consider when training the model; words with occurrence less than this count will be ignored. The default for min_count is 5.\n",
        "- **workers**: The number of partitions during training and the default workers is 3.\n",
        "- **sg**: The training algorithm, either CBOW(0) or skip gram(1). The default training algorithm is CBOW."
      ]
    },
    {
      "cell_type": "code",
      "metadata": {
        "id": "ueup3EKYyi_y",
        "colab_type": "code",
        "outputId": "26af6dd3-c781-4882-ec50-a2847a8c586e",
        "colab": {
          "base_uri": "https://localhost:8080/",
          "height": 88
        }
      },
      "source": [
        "from gensim.models import Word2Vec\n",
        "import time\n",
        "# Skip-gram model (sg = 1)\n",
        "size = 1000\n",
        "window = 3\n",
        "min_count = 1\n",
        "workers = 3\n",
        "sg = 1\n",
        "\n",
        "# Function to train word2vec model\n",
        "def make_word2vec_model(top_data_df_small, padding=True, sg=1, min_count=1, size=500, workers=3, window=3):\n",
        "    if  padding:\n",
        "        print(len(top_data_df_small))\n",
        "        temp_df = pd.Series(top_data_df_small['stemmed_tokens']).values\n",
        "        temp_df = list(temp_df)\n",
        "        temp_df.append(['pad'])\n",
        "        word2vec_file = OUTPUT_FOLDER + 'models/' + 'word2vec_' + str(size) + '_PAD.model'\n",
        "    else:\n",
        "        temp_df = top_data_df_small['stemmed_tokens']\n",
        "        word2vec_file = OUTPUT_FOLDER + 'models/' + 'word2vec_' + str(size) + '.model'\n",
        "    w2v_model = Word2Vec(temp_df, min_count = min_count, size = size, workers = workers, window = window, sg = sg)\n",
        "\n",
        "    w2v_model.save(word2vec_file)\n",
        "    return w2v_model, word2vec_file\n",
        "\n",
        "start_time = time.time()\n",
        "# Train Word2vec model\n",
        "sg_w2v_model, word2vec_file = make_word2vec_model(top_data_df_small, padding=False, sg=sg, min_count=min_count, size=size, workers=workers, window=window)\n",
        "print(\"Time taken to train word2vec model: \" + str(time.time() - start_time))"
      ],
      "execution_count": 0,
      "outputs": [
        {
          "output_type": "stream",
          "text": [
            "/usr/local/lib/python3.6/dist-packages/smart_open/smart_open_lib.py:402: UserWarning: This function is deprecated, use smart_open.open instead. See the migration notes for details: https://github.com/RaRe-Technologies/smart_open/blob/master/README.rst#migrating-to-the-new-open-function\n",
            "  'See the migration notes for details: %s' % _MIGRATION_NOTES_URL\n"
          ],
          "name": "stderr"
        },
        {
          "output_type": "stream",
          "text": [
            "Time taken to train word2vec model: 58.97814607620239\n"
          ],
          "name": "stdout"
        }
      ]
    },
    {
      "cell_type": "code",
      "metadata": {
        "id": "TtEe_jcf0eO1",
        "colab_type": "code",
        "outputId": "2763114e-1057-4e59-91cc-bd48ed9d3661",
        "colab": {
          "base_uri": "https://localhost:8080/",
          "height": 156
        }
      },
      "source": [
        "# Step 10\n",
        "# Load the model\n",
        "sg_w2v_model = Word2Vec.load(word2vec_file)\n",
        "# Check the vector for word 'admir' as follows\n",
        "print(len(sg_w2v_model['admir']))\n",
        "\n",
        "# Following can be used to get the index of padding word when padding is used\n",
        "# for word in sg_w2v_model.wv.vocab:\n",
        "#     if sg_w2v_model.wv.vocab[word].index == 0:\n",
        "#         print(word)\n",
        "\n",
        "# Task Word2vec: Uncomment following, pick one word from the output and run it again (action,admir,ador,all,along,also,alwai,amount)\n",
        "print(sg_w2v_model.wv.vocab[\"action\"].index) # Index of the word in the word2vec dictionary\n",
        "print(len(sg_w2v_model.wv.vocab)) # Total Length of the words in Word2Vec"
      ],
      "execution_count": 0,
      "outputs": [
        {
          "output_type": "stream",
          "text": [
            "/usr/local/lib/python3.6/dist-packages/smart_open/smart_open_lib.py:402: UserWarning: This function is deprecated, use smart_open.open instead. See the migration notes for details: https://github.com/RaRe-Technologies/smart_open/blob/master/README.rst#migrating-to-the-new-open-function\n",
            "  'See the migration notes for details: %s' % _MIGRATION_NOTES_URL\n"
          ],
          "name": "stderr"
        },
        {
          "output_type": "stream",
          "text": [
            "1000\n",
            "2020\n",
            "21812\n"
          ],
          "name": "stdout"
        },
        {
          "output_type": "stream",
          "text": [
            "/usr/local/lib/python3.6/dist-packages/ipykernel_launcher.py:3: DeprecationWarning: Call to deprecated `__getitem__` (Method will be removed in 4.0.0, use self.wv.__getitem__() instead).\n",
            "  This is separate from the ipykernel package so we can avoid doing imports until\n"
          ],
          "name": "stderr"
        }
      ]
    },
    {
      "cell_type": "markdown",
      "metadata": {
        "id": "iCwhz4i3ySfX",
        "colab_type": "text"
      },
      "source": [
        "# Doc2Vec\n",
        "\n",
        "The main objective of Doc2Vec is to convert the sentence (or para) into a vector. It is generalization of the Word2Vec model. You can use the averaged word2vec vectors of each words to get the sentence vector as well. Doc2Vec is an efficient and high-quality distributed vectors that is it captures the precise syntactic and semantic word relationships ( [ref](https://papers.nips.cc/paper/5021-distributed-representations-of-words-and-phrases-and-their-compositionality.pdf)) \n",
        "\n",
        "The way of training involves adding another vector called paragraph id vector in addition to the surrounding vector so specifically adding an extra parameter for identifying the doc. Along with training the word vectors it learns the document vector. This extension of CBOW is called Distributed Memory version of Paragraph Vector **(PV-DM)**. Another algorithm which is an extension of Skip-gram is called Distributed Bag of Words version of Paragraph Vector **(PV-DBOW)**. In this input is the paragraph id and the output layer is the surrounding word vectors. This is actually faster and uses less memory. PV-DM has been used quite often as it gives state-of-the-art results. Here, Gensim's [Doc2Vec](https://radimrehurek.com/gensim/models/doc2vec.html) is used to create the vectors. Corresponding important parameters are explained below. \n",
        "\n",
        "#### **Params** -\n",
        "- **documents**: iterable of list of TaggedDocument or  can be simply a list of elements. Prefer the iterable for large datasets.\n",
        "- **dm**: Decides which algorithm out of PV-DM and PV-DBOW. By default dm=1 (PV-DM) and if dm=0 then PV-DBOW. \n",
        "- **vector-size**: Dimensionality of the feature vectors.\n",
        "- **window**: The maximum distance between the current and predicted word within a sentence.\n",
        "- **min_count**: Ignores all words with total frequency lower than this.\n",
        "\n",
        "\n"
      ]
    },
    {
      "cell_type": "code",
      "metadata": {
        "id": "QjFyD17I2qh2",
        "colab_type": "code",
        "outputId": "31395c83-4a6b-4fd3-91c9-45bdc7f59929",
        "colab": {
          "base_uri": "https://localhost:8080/",
          "height": 1000
        }
      },
      "source": [
        "from gensim.models.doc2vec import Doc2Vec, TaggedDocument\n",
        "\n",
        "# TaggedDocuments are tuple of stemmed_tokens and class lable, example is printed (scroll to the right to see label)\n",
        "documents = [TaggedDocument(doc, [i]) for i, doc in enumerate(top_data_df_small['stemmed_tokens'])]\n",
        "print(documents[1])\n",
        "# Initialize the model\n",
        "doc2vec_model = Doc2Vec(documents, vector_size=1000, window=10, min_count=2, workers=4)\n",
        "# Group 1 Task: Uncomment following when adding new params and comment above line\n",
        "# doc2vec_model = Doc2Vec(documents, dm=0, vector_size=1000, window=10, min_count=2, workers=4)\n",
        "# Group 1 Task: Uncomment following when adding new params and comment above line\n",
        "# doc2vec_model = Doc2Vec(documents, dm=1, vector_size=500, window=20, min_count=2, workers=5)\n",
        "# Group 1 Task: Uncomment following when adding new params and comment above line\n",
        "# doc2vec_model = Doc2Vec(documents, dm=0, vector_size=2000, window=5, min_count=2, workers=6)\n",
        "\n",
        "# Sample vector for the stemmed tokens\n",
        "vector = doc2vec_model.infer_vector(top_data_df_small['stemmed_tokens'][0])\n",
        "# Printing sample vectir\n",
        "print(vector)"
      ],
      "execution_count": 0,
      "outputs": [
        {
          "output_type": "stream",
          "text": [
            "TaggedDocument(['have', 'to', 'sai', 'that', 'thi', 'offic', 'realli', 'ha', 'it', 'togeth', 'thei', 'ar', 'so', 'organ', 'and', 'friendli', 'dr', 'phillipp', 'is', 'great', 'dentist', 'veri', 'friendli', 'and', 'profession', 'the', 'dental', 'assist', 'that', 'help', 'in', 'my', 'procedur', 'were', 'amaz', 'jewel', 'and', 'bailei', 'help', 'me', 'to', 'feel', 'comfort', 'don', 'have', 'dental', 'insur', 'but', 'thei', 'have', 'thi', 'insur', 'through', 'their', 'offic', 'you', 'can', 'purchas', 'for', 'someth', 'year', 'and', 'thi', 'gave', 'me', 'off', 'all', 'of', 'my', 'dental', 'work', 'plu', 'thei', 'help', 'me', 'get', 'sign', 'up', 'for', 'care', 'credit', 'which', 'knew', 'noth', 'about', 'befor', 'thi', 'visit', 'highli', 'recommend', 'thi', 'offic', 'for', 'the', 'nice', 'synergi', 'the', 'whole', 'offic', 'ha'], [1])\n",
            "[-1.86139699e-02 -3.67857069e-02 -6.06006756e-02  4.25392687e-02\n",
            " -2.20045038e-02  1.47112198e-02 -1.33760273e-03 -2.91535147e-02\n",
            " -5.27609745e-03  2.77063325e-02  1.82836298e-02 -3.63056622e-02\n",
            " -1.65151861e-02  9.90119483e-03 -1.52992216e-04 -8.24288279e-03\n",
            " -8.72729719e-03 -3.66490893e-03  3.03205345e-02 -2.31044088e-03\n",
            " -1.66203396e-03 -2.20079813e-02  2.71502212e-02  1.56821739e-02\n",
            "  1.83039904e-02  5.73522225e-03 -6.84435805e-03 -2.80093285e-03\n",
            " -3.99686210e-03 -1.73761174e-02 -3.71691119e-03 -3.38040479e-03\n",
            " -4.37598862e-03  1.01633021e-03  9.10947751e-03 -9.85615607e-03\n",
            "  6.43552374e-03  3.75430612e-03 -6.50857168e-04 -2.33860109e-02\n",
            "  1.90785974e-02  8.82349629e-03 -1.49572892e-02 -5.95997134e-03\n",
            "  1.07856840e-02  1.17561575e-02  5.99795720e-03  1.13915782e-02\n",
            "  1.74502246e-02  9.19544883e-03  1.95070878e-02 -8.33297439e-04\n",
            " -1.85647630e-04  1.34712271e-02  1.37717207e-03 -3.92413186e-03\n",
            "  8.75644200e-03  1.49625288e-02 -2.08876375e-03  2.01546159e-02\n",
            "  2.01923698e-02  8.17214604e-03  1.79454386e-02 -7.28076231e-03\n",
            "  1.70855075e-02  2.67610550e-02  1.30565893e-02 -4.38858010e-03\n",
            " -9.42032784e-03  1.26612866e-02 -5.37777040e-03 -7.39666494e-03\n",
            "  8.55027512e-03 -1.49378309e-03  1.26301050e-02  1.14995725e-02\n",
            "  1.05089480e-02  1.83450431e-02 -2.46436764e-02  1.67075414e-02\n",
            " -1.04348604e-02  8.91240127e-03  5.31321540e-02  1.33360224e-02\n",
            " -3.32427844e-02 -6.08245004e-03 -3.90861835e-03  3.91071886e-02\n",
            "  2.21810602e-02 -4.14691046e-02  3.53908632e-03 -4.73401733e-02\n",
            "  1.61471386e-02  2.37849485e-02 -6.89803949e-03 -3.72087546e-02\n",
            " -1.70576442e-02  1.37253376e-02 -4.00510468e-02  2.71296091e-02\n",
            "  2.37603509e-03 -3.85449603e-02 -2.14686777e-04 -2.59573329e-02\n",
            " -1.41208293e-02 -2.47613825e-02 -5.36152273e-02 -3.35390531e-02\n",
            " -1.63205117e-02 -1.26760509e-02 -3.39542888e-02  3.58234346e-03\n",
            " -4.48154286e-03  1.70723125e-02  2.52999342e-03 -2.00978518e-02\n",
            " -1.83770014e-03  1.48483142e-02  5.46363089e-03 -6.76374976e-03\n",
            "  1.79443676e-02  1.29702259e-02  2.11752150e-02  1.07117184e-02\n",
            "  1.33608608e-02 -2.12364960e-02 -1.88938528e-02 -1.21807028e-02\n",
            " -3.24025787e-02  1.05589861e-02  3.17797959e-02 -2.40859985e-02\n",
            " -2.90904902e-02  4.61849989e-03 -1.06385108e-02  1.16497511e-02\n",
            " -2.07296982e-02  3.03036664e-02 -1.97805297e-02  2.14844160e-02\n",
            " -5.06203286e-02 -4.58287969e-02  1.28819896e-02  4.19583544e-02\n",
            "  5.76770268e-02  1.95346829e-02  5.62947523e-03 -2.83561796e-02\n",
            " -2.94978637e-03 -1.49843628e-02  3.21195573e-02  1.74047425e-02\n",
            "  2.04504188e-02  2.25461051e-02 -3.94462096e-03  6.92891330e-03\n",
            "  1.08065677e-03 -2.41897702e-02 -3.09069664e-03 -1.27596920e-02\n",
            "  2.89231054e-02  8.81173462e-03 -1.58405956e-02 -1.94714200e-02\n",
            " -2.57121287e-02  2.56266035e-02  1.43070789e-02  6.61257748e-03\n",
            " -3.19522023e-02  3.73779587e-03  6.95628375e-02 -2.25353390e-02\n",
            " -1.21929254e-02  1.05100032e-02 -2.93054972e-02  5.45488112e-02\n",
            " -2.87849065e-02  5.71963424e-03  2.58200075e-02 -8.48873984e-03\n",
            "  9.73301101e-03 -4.32425179e-03 -2.85270531e-02  1.08738393e-02\n",
            "  2.19821036e-02 -1.73933338e-02 -1.36792688e-02 -6.13577142e-02\n",
            " -1.38842808e-02 -2.87954044e-02  1.33723654e-02  2.32452843e-02\n",
            " -3.16106938e-02  3.22179943e-02 -4.90702502e-02 -4.00552303e-02\n",
            " -2.58843265e-02 -2.07163729e-02 -2.52457801e-02  3.62064168e-02\n",
            " -4.27599810e-02 -5.05436584e-02 -4.64528147e-03 -4.13534977e-03\n",
            "  2.65719816e-02 -6.34058518e-03  2.56320182e-03 -4.99816015e-02\n",
            " -8.48388951e-03  3.95177007e-02  1.80876348e-02  4.21323292e-02\n",
            "  3.45598906e-02 -3.92115228e-02  6.54279366e-02  1.77552961e-02\n",
            "  1.34117231e-02  3.57169062e-02 -2.16130912e-02 -6.36364752e-03\n",
            "  5.93937375e-02 -2.67183278e-02 -1.24442792e-02  4.48299423e-02\n",
            "  3.28884386e-02 -1.95411053e-02 -1.47958882e-02  1.97433308e-03\n",
            "  5.02376556e-02  4.77210479e-03 -6.06008247e-02  4.18396783e-04\n",
            "  9.94916353e-03 -4.11198428e-03 -2.54863072e-02 -2.00477447e-02\n",
            "  1.65362079e-02  3.81922498e-02 -1.00414697e-02  8.16965103e-03\n",
            "  3.74853127e-02 -3.23988264e-03 -3.74629907e-02 -1.67837050e-02\n",
            "  7.13728219e-02  1.04649058e-02  2.98479367e-02  1.61753222e-02\n",
            "  7.02285115e-03  1.69800837e-02  3.84904817e-02 -5.64808398e-03\n",
            " -5.27003827e-03 -1.92477833e-02  7.43099488e-03 -7.18455389e-03\n",
            "  2.58514266e-02 -1.85368024e-02 -1.85858458e-02  2.56367028e-02\n",
            " -5.24564721e-02 -2.99327262e-02 -3.95899173e-03 -9.11133457e-03\n",
            "  1.26140993e-02 -3.69459055e-02  4.17155586e-02 -3.27623077e-03\n",
            "  4.22991486e-03 -1.43194767e-02  8.44728947e-03  1.87461190e-02\n",
            "  9.19976830e-03 -2.30481327e-02  1.29366536e-02  2.26947553e-02\n",
            " -1.23974113e-02 -8.46988801e-03  6.50699809e-03  2.42623109e-02\n",
            "  8.42990167e-03 -5.85196214e-03  4.34367508e-02 -1.69034228e-02\n",
            " -1.47282882e-02 -8.32291599e-03  2.69867592e-02  2.04195417e-02\n",
            " -4.53638248e-02 -3.95579729e-03 -3.95055339e-02  2.99816323e-03\n",
            "  3.72391380e-02  4.45626415e-02  8.36240407e-03 -1.51558509e-02\n",
            "  1.25164436e-02  1.18997227e-02 -2.50110985e-03  4.96086590e-02\n",
            " -5.08585833e-02  1.61995422e-02  3.23051326e-02  3.90594825e-02\n",
            " -1.04456050e-02  1.64298136e-02  2.05345061e-02  1.89624671e-02\n",
            "  6.80976035e-03  1.08355777e-02 -5.93836978e-03 -1.12356832e-02\n",
            " -9.15566552e-03  1.06122317e-02 -1.15482043e-02  4.20625135e-02\n",
            "  4.75503271e-03  7.59075582e-03 -3.69669385e-02 -5.32263145e-02\n",
            " -3.96585884e-03  5.10982573e-02 -1.89710930e-02 -2.77202539e-02\n",
            " -2.73738150e-02 -1.35007631e-02  1.18442951e-02  2.87585147e-02\n",
            "  7.64393806e-02 -5.81976213e-02 -1.17923394e-02  1.46105960e-02\n",
            " -5.89762349e-04 -3.84948663e-02  1.93843786e-02 -8.10451619e-03\n",
            "  1.64831989e-02  1.32521428e-02  4.52832282e-02 -2.29065437e-02\n",
            "  2.58919206e-02  2.57873163e-02 -7.02104531e-03  7.33944541e-03\n",
            "  2.07095407e-02 -2.47359779e-02 -2.72370502e-02 -1.51696308e-02\n",
            " -4.55292501e-03 -1.85244121e-02 -2.87934039e-02 -4.32260931e-02\n",
            "  3.59066986e-02 -4.42193635e-03 -3.26742344e-02  1.66575462e-02\n",
            "  1.33280444e-03 -1.63830463e-02  1.69876851e-02  3.75645943e-02\n",
            " -1.04756914e-02 -5.31848110e-02 -4.06782515e-03  3.91556788e-03\n",
            "  1.63875800e-02 -3.25097330e-03 -5.53691806e-03 -3.96019220e-02\n",
            " -3.80759351e-02 -1.07450096e-03  2.41277758e-02  1.62231252e-02\n",
            " -3.00782733e-02  7.74594862e-03  2.13353988e-02 -2.46063294e-03\n",
            "  2.26407032e-03  5.16202226e-02 -2.71702316e-02  4.78724809e-03\n",
            " -3.99689488e-02  3.48503105e-02  1.94212403e-02 -1.31351426e-02\n",
            "  7.05774128e-03  1.20548280e-02 -4.43122871e-02 -3.34491394e-03\n",
            " -4.03735116e-02  1.63449384e-02 -4.39912593e-03 -1.98073611e-02\n",
            " -2.10116152e-02 -1.46597642e-02 -9.54697654e-03 -1.40804099e-02\n",
            " -3.55676003e-03 -2.64496747e-02  8.13094340e-03 -1.60056986e-02\n",
            " -2.20166296e-02 -2.04037726e-02  2.53395941e-02  1.87570229e-02\n",
            " -1.74578242e-02 -1.10427747e-02 -4.10704538e-02 -1.58841759e-02\n",
            "  1.44501892e-03 -1.68676171e-02  6.89271465e-03  1.18756760e-02\n",
            " -5.11815585e-03  2.61264537e-02  6.76429123e-02  1.43200252e-02\n",
            "  4.96715307e-03  2.50363816e-03 -4.95802658e-03 -1.11459009e-02\n",
            " -3.32690659e-03 -2.99872737e-02 -6.80720014e-03  6.42948737e-03\n",
            " -1.99412387e-02  2.66828053e-02 -1.75177865e-02  3.70227471e-02\n",
            " -3.62768932e-03 -1.40662156e-02 -2.23256964e-02  2.11052201e-03\n",
            " -3.51740345e-02 -2.49530636e-02  7.56507926e-03  2.31894609e-02\n",
            " -2.41754465e-02  5.61827654e-03  1.86770931e-02 -2.00489812e-04\n",
            "  1.01007987e-02  1.12724770e-02 -4.42944048e-03 -2.12028017e-03\n",
            "  2.39303298e-02 -4.61001433e-02 -1.06089888e-02  1.96312964e-02\n",
            "  2.71082483e-02 -5.31983823e-02 -4.06314898e-03  2.90664993e-02\n",
            " -8.20154045e-03  8.98614619e-03 -7.84320012e-03  1.50915897e-02\n",
            "  7.55191362e-03 -2.89343279e-02 -6.02950575e-03  2.59669013e-02\n",
            " -1.12642962e-02 -1.67400539e-02 -1.87282320e-02 -4.02655862e-02\n",
            "  2.93367566e-03 -1.56677514e-02  1.17233358e-02 -1.49926841e-02\n",
            "  4.41557681e-03  6.47963583e-03 -7.08306953e-03 -6.31488254e-03\n",
            "  2.25540809e-02 -3.37204221e-03  2.28160582e-02  1.97633803e-02\n",
            " -1.93129126e-02  1.40877329e-02 -5.97661221e-03 -3.14440243e-02\n",
            " -1.19491499e-02 -3.12138777e-02 -6.76055029e-02  2.79221945e-02\n",
            " -1.44569846e-02  1.22182788e-02  1.65593401e-02 -8.17285851e-04\n",
            "  2.66200136e-02  8.84384383e-03 -2.17396338e-02  4.62917052e-02\n",
            " -2.20185285e-03  8.45381990e-03 -4.79551628e-02 -2.34045610e-02\n",
            " -5.66705083e-03 -4.75357141e-04  1.40363742e-02  4.48343204e-03\n",
            "  6.42134994e-03 -2.58491281e-02  1.90679007e-03  2.55231932e-02\n",
            "  1.83561575e-02 -1.87937208e-02  3.47791016e-02 -5.27689746e-03\n",
            "  9.13691300e-04  2.22690273e-02 -1.03911655e-02  1.60423610e-02\n",
            "  2.43781712e-02  1.57632132e-03  1.21833002e-02 -3.85073796e-02\n",
            "  1.02017727e-03 -1.96695030e-02  9.15546063e-03  1.50626563e-02\n",
            "  2.08992083e-02  2.53585577e-02 -1.87840350e-02 -5.49985422e-03\n",
            "  2.18077302e-02 -2.66005658e-02 -2.18197796e-02  2.17023920e-02\n",
            "  5.93897998e-02 -4.91096964e-03  5.69631308e-02  3.93955642e-03\n",
            " -1.39179332e-02 -1.36474073e-02 -3.38237248e-02  1.20167553e-01\n",
            "  8.62686429e-04  3.23155783e-02 -3.14367679e-03 -1.25175426e-02\n",
            " -8.34309263e-04  7.06883892e-02  5.88016538e-03 -3.39857973e-02\n",
            "  2.62871198e-02 -3.65234986e-02 -1.45906145e-02  7.58496625e-03\n",
            " -1.64082125e-02  1.12936161e-02  1.06072091e-02 -2.54777819e-02\n",
            " -3.54573913e-02  1.45606361e-02 -4.21414897e-03  4.32742275e-02\n",
            " -6.33216510e-03 -4.54119733e-03  1.05890315e-02  5.58194099e-03\n",
            "  4.47413214e-02 -4.36516218e-02 -4.12830897e-02  4.12152521e-02\n",
            "  5.46138845e-02 -3.52705568e-02 -5.92863001e-03 -2.72964500e-02\n",
            "  2.20086798e-02 -1.80368461e-02 -1.80247519e-02 -3.83901708e-02\n",
            " -1.06977820e-02 -2.54860222e-02  9.61326249e-03  4.83924197e-03\n",
            "  6.37880713e-02  1.74011420e-02  1.99435428e-02 -2.92864274e-02\n",
            "  2.31966265e-02  2.87902839e-02 -1.57558676e-02  1.74651742e-02\n",
            "  4.43792790e-02 -8.79520737e-03  2.38077808e-03  2.46304423e-02\n",
            "  1.34463832e-02 -1.00931348e-02 -9.44419112e-03 -4.63299453e-03\n",
            "  1.03596030e-02 -1.26608694e-02 -9.95460618e-03 -2.18119342e-02\n",
            " -1.29017755e-02  8.65142606e-03 -1.89375170e-02  1.84805468e-02\n",
            "  1.03630936e-02 -1.99952605e-03 -2.69131120e-02 -1.12755066e-02\n",
            " -1.99021362e-02  4.56760218e-03  9.91537934e-04  2.18754373e-02\n",
            "  1.71884019e-02  1.28467884e-02 -4.03187331e-03  3.13099916e-03\n",
            " -8.00068583e-03 -1.26415789e-02 -4.49710805e-03 -2.38493532e-02\n",
            "  7.81637616e-03  2.54513556e-03 -1.39228627e-02 -4.39711567e-03\n",
            "  3.40769719e-03 -1.23308087e-02  1.09943794e-02 -9.51254275e-03\n",
            "  1.28405960e-02  9.70443431e-03 -1.12860352e-02  2.06412077e-02\n",
            "  1.55026205e-02  1.16901509e-02  2.44368194e-03 -9.70513467e-03\n",
            "  3.16754766e-02 -9.22574953e-04 -9.58298985e-03 -6.56680437e-04\n",
            " -1.25673218e-02  1.01048704e-02  1.26377475e-02 -9.26759746e-03\n",
            " -3.35294846e-03  3.84193007e-03  4.36466932e-03  1.82471029e-03\n",
            " -1.20600304e-02 -2.57119965e-02  1.25606013e-02  1.35661773e-02\n",
            " -7.58360489e-04  7.67651526e-03 -1.05979219e-02 -6.26101205e-03\n",
            " -5.22241369e-03 -3.18835825e-02 -2.54945867e-02  9.61952377e-03\n",
            " -1.72480401e-02  1.60070416e-02 -5.00773080e-04  1.80759747e-02\n",
            "  5.83133893e-03 -1.56098530e-02 -3.75199094e-02  2.68939286e-02\n",
            "  1.47744245e-03 -2.69161705e-02 -1.37096578e-02 -8.96711089e-03\n",
            " -1.32880658e-02 -1.37532726e-02 -3.83843319e-03  5.17709972e-03\n",
            "  8.75203870e-03 -3.97417583e-02 -7.67150708e-03  3.57870534e-02\n",
            "  7.53805041e-04  4.07253206e-02 -1.28700761e-02  1.80558655e-02\n",
            "  1.04682334e-02 -2.20480678e-03  8.13814625e-03  1.09725399e-02\n",
            "  8.68311059e-03 -6.54023094e-03  1.75982702e-03  1.92236248e-02\n",
            "  1.49371279e-02 -6.71538850e-03  1.09282834e-02  2.15473957e-02\n",
            "  2.25870330e-02  1.33430148e-02  2.94727385e-02  9.71804280e-03\n",
            " -1.40886602e-03  3.57988919e-03  4.50847624e-03 -3.44606712e-02\n",
            "  8.72387737e-03  2.78408565e-02 -1.41206086e-02 -1.79896597e-02\n",
            "  2.06905361e-02 -7.29458174e-03 -9.56297666e-03 -1.22490088e-02\n",
            " -1.38883537e-04 -1.96318477e-02 -1.51955290e-03 -7.39065837e-03\n",
            " -3.16869165e-03  6.14111731e-03  8.31197109e-03 -8.30470119e-03\n",
            " -2.45497655e-02  1.27401911e-02  7.03026028e-03 -5.37503185e-03\n",
            "  3.65238748e-02  1.95535440e-02 -3.13825756e-02  1.23432651e-02\n",
            "  2.28519142e-02  8.78001004e-03 -4.93421964e-03  3.49956304e-02\n",
            " -1.18432203e-02 -2.08841078e-03 -5.99841727e-03  6.89715846e-03\n",
            "  4.89679072e-03 -1.65142566e-02  6.06612442e-03 -6.09987415e-03\n",
            " -5.19569591e-03 -1.11971358e-02 -2.15478125e-03  2.82175113e-02\n",
            "  9.20550525e-03 -1.54054933e-03  2.11188868e-02  1.69526730e-02\n",
            " -3.85967866e-02  2.35620607e-02 -1.76474992e-02 -4.74585593e-02\n",
            " -8.70377105e-03 -6.98375283e-03  9.78263374e-03 -1.17839100e-02\n",
            "  1.74499061e-02  2.36724373e-02  1.86986923e-02  1.43761318e-02\n",
            " -1.45479420e-03 -8.47036950e-03  1.96774732e-02 -1.54530639e-02\n",
            " -2.56671105e-02  8.73501506e-03  3.25081288e-03 -3.05855442e-02\n",
            " -9.89936106e-03  1.52063621e-02 -3.56060127e-03 -2.07621465e-03\n",
            " -3.08467131e-02  8.40789173e-03 -3.42520489e-03 -4.41373419e-03\n",
            " -1.75706502e-02 -9.51878726e-03  1.85925011e-02  1.58083290e-02\n",
            " -7.55895907e-03  1.81293255e-03  3.74868908e-03  4.30223681e-02\n",
            "  2.30321009e-03  4.42690263e-03  2.51332633e-02 -8.34448449e-03\n",
            " -3.93623970e-02 -1.37580931e-02  2.47866940e-02 -1.27975950e-02\n",
            "  5.53391352e-02  9.72137507e-03  1.08196354e-02  8.18417780e-03\n",
            "  1.09719171e-03  1.80588271e-02 -2.07253490e-02  1.42386453e-02\n",
            " -1.44670820e-02  2.34773625e-02 -2.52478886e-02  9.55230743e-03\n",
            "  7.91965052e-03  4.32431176e-02 -7.92526826e-03 -1.41866237e-03\n",
            "  2.25365385e-02  2.35624518e-02  1.52215809e-02 -2.09177081e-02\n",
            "  2.41023558e-03  2.16699718e-03  9.18148551e-03  3.45124938e-02\n",
            " -5.00299502e-03  2.59707626e-02 -3.16629633e-02 -9.68965236e-03\n",
            "  2.82621086e-02 -7.01767998e-03 -6.42826920e-03  3.27341445e-02\n",
            " -3.00261248e-02  3.10026631e-02  2.17737593e-02 -4.45238175e-03\n",
            " -3.48049682e-03  3.90848564e-03  1.16089126e-02 -6.44627726e-03\n",
            "  1.32240308e-02 -1.71617270e-02 -2.50474177e-02  8.47920310e-03\n",
            " -3.74348310e-04 -5.01461420e-03  2.44841212e-03  2.01754291e-02\n",
            "  2.15685908e-02 -9.83417034e-03  5.57613501e-04  6.13760110e-03\n",
            "  2.21952274e-02 -3.38874990e-03  9.95581597e-03 -1.01415506e-02\n",
            " -2.20535733e-02  1.79164447e-02 -1.21627352e-03 -4.92023537e-03\n",
            "  2.90308930e-02 -1.25973551e-02 -7.48585491e-03 -1.38810603e-02\n",
            " -1.13281095e-02  4.33365908e-03  1.78470053e-02  7.25331996e-03\n",
            " -8.28479766e-04  1.00164199e-02 -4.71716002e-03  2.48931572e-02\n",
            " -9.11300909e-03  4.15252522e-02  8.45959969e-03 -1.78237818e-02\n",
            " -6.92672702e-03 -5.84550481e-03  5.39949834e-02 -1.30886054e-02\n",
            " -8.93638469e-03 -8.28683563e-03  3.34877404e-03 -3.14499550e-02\n",
            "  3.75294367e-05  1.76292192e-03 -1.43622821e-02  8.23084079e-03\n",
            "  6.20798673e-04  2.25537326e-02 -8.51881038e-03  2.53327726e-03\n",
            "  1.64336860e-02  5.25915716e-03 -1.45954257e-02 -6.69922680e-04\n",
            " -9.20912437e-03  6.51022838e-03  1.74055025e-02 -1.96320191e-02\n",
            " -1.74423140e-02 -9.47719999e-03  1.49455955e-02 -4.22815569e-02\n",
            "  5.77547261e-03  2.64754910e-02  8.20847403e-04 -4.27423185e-03\n",
            " -1.55367805e-02  4.90284711e-02  2.12316355e-03 -4.88852486e-02\n",
            " -3.57028730e-02 -5.47257103e-02 -4.67288494e-03  2.58281492e-02\n",
            "  2.73183379e-02  4.64363247e-02  1.93451233e-02  2.42472552e-02\n",
            " -3.58220958e-03  2.54272879e-03  4.52628918e-03 -3.18220146e-02\n",
            "  3.40422057e-03 -4.93214419e-03 -7.72615373e-02  3.05160582e-02\n",
            " -1.49656413e-02 -3.82566191e-02 -1.64791849e-02 -1.94579661e-02\n",
            " -3.89816873e-02 -1.64030045e-02 -2.61182506e-02  1.64156426e-02\n",
            "  2.37808768e-02 -1.02520818e-02  1.83882099e-02  1.66211594e-02\n",
            " -2.12884945e-04  2.60906722e-02 -1.91370994e-02 -2.78407503e-02\n",
            " -2.71353852e-02 -4.96457927e-02  3.00344881e-02  5.61104296e-03\n",
            "  2.15954916e-03 -2.48560924e-02 -2.98474599e-02  6.34411583e-03\n",
            " -4.67216782e-02  2.36506648e-02 -1.62277613e-02 -1.81270856e-02\n",
            " -1.04506640e-02 -2.33031455e-02 -3.08866787e-04  5.99559173e-02\n",
            "  2.01703850e-02 -1.51164662e-02  5.53962728e-03  2.76143942e-02\n",
            "  6.25726432e-02 -6.76585874e-03 -4.09634300e-02 -1.31774945e-02\n",
            " -1.41834542e-02  1.22211846e-02 -5.32163423e-04  3.39574530e-03\n",
            " -6.48331270e-03 -1.43461498e-02  5.13396375e-02 -9.10167303e-03\n",
            " -3.64961438e-02  2.87545528e-02  9.00627747e-02 -1.93069456e-03\n",
            " -9.72243212e-03  1.17007960e-02  1.41249420e-02  5.61353704e-03\n",
            "  1.61276094e-03 -3.54944766e-02  3.58351246e-02 -2.12521907e-02\n",
            " -2.10278984e-02  3.56461555e-02  1.33067574e-02 -7.77240098e-03\n",
            " -2.15700385e-03  1.36081614e-02  3.47491577e-02  3.13902758e-02\n",
            " -5.22723189e-03  1.58040226e-02  7.66452961e-03  2.52406057e-02\n",
            "  4.45458945e-03 -6.85431343e-03 -2.88639148e-03  1.81323010e-02\n",
            " -3.83579433e-02  1.67849865e-02 -2.20220629e-02 -7.45654805e-03\n",
            "  1.42738596e-02 -1.19977724e-02  7.09726941e-03  1.42772542e-02]\n"
          ],
          "name": "stdout"
        }
      ]
    },
    {
      "cell_type": "markdown",
      "metadata": {
        "id": "yOu4GvFvUU6z",
        "colab_type": "text"
      },
      "source": [
        "### Store the doc2vec vectors for training data"
      ]
    },
    {
      "cell_type": "code",
      "metadata": {
        "id": "NmJqw54P5S8n",
        "colab_type": "code",
        "outputId": "cc79fb29-9377-45a5-cca0-bf775d7ab042",
        "colab": {
          "base_uri": "https://localhost:8080/",
          "height": 51
        }
      },
      "source": [
        "# Printing the length of the vector ( should match the vector-size mentioned in params)\n",
        "print(len(vector))\n",
        "import time\n",
        "# Store the vectors for train data in \n",
        "doc2vec_filename = OUTPUT_FOLDER + 'trained_data/'+ 'train_review_doc2vec.csv'\n",
        "with open(doc2vec_filename, 'w+') as doc2vec_file:\n",
        "    for index, row in X_train.iterrows():\n",
        "        model_vector = doc2vec_model.infer_vector(row['stemmed_tokens'])\n",
        "        if index == 0:\n",
        "            header = \",\".join(str(ele) for ele in range(1000))\n",
        "            doc2vec_file.write(header)\n",
        "            doc2vec_file.write(\"\\n\")\n",
        "        line1 = \",\".join( [str(vector_element) for vector_element in model_vector] )\n",
        "        doc2vec_file.write(line1)\n",
        "        doc2vec_file.write('\\n')\n",
        "print(\"Time taken to create doc2vec vectors: \" + str(time.time() - start_time))"
      ],
      "execution_count": 0,
      "outputs": [
        {
          "output_type": "stream",
          "text": [
            "1000\n",
            "Time taken to create doc2vec vectors: 684.9730801582336\n"
          ],
          "name": "stdout"
        }
      ]
    },
    {
      "cell_type": "markdown",
      "metadata": {
        "id": "dhfeGszjydQP",
        "colab_type": "text"
      },
      "source": [
        "## Decision Classifier with Doc2Vec"
      ]
    },
    {
      "cell_type": "code",
      "metadata": {
        "id": "ffjZx0Kf5cZy",
        "colab_type": "code",
        "outputId": "09a50c20-6cb2-44bf-c649-bd262d2c0eef",
        "colab": {
          "base_uri": "https://localhost:8080/",
          "height": 119
        }
      },
      "source": [
        "# Load from the filename\n",
        "doc2vec_df = pd.read_csv(doc2vec_filename)\n",
        "from sklearn.tree import DecisionTreeClassifier\n",
        "clf_decision_doc2vec = DecisionTreeClassifier()\n",
        "# Fit the model\n",
        "clf_decision_doc2vec.fit(doc2vec_df, Y_train['sentiment'])"
      ],
      "execution_count": 0,
      "outputs": [
        {
          "output_type": "execute_result",
          "data": {
            "text/plain": [
              "DecisionTreeClassifier(ccp_alpha=0.0, class_weight=None, criterion='gini',\n",
              "                       max_depth=None, max_features=None, max_leaf_nodes=None,\n",
              "                       min_impurity_decrease=0.0, min_impurity_split=None,\n",
              "                       min_samples_leaf=1, min_samples_split=2,\n",
              "                       min_weight_fraction_leaf=0.0, presort='deprecated',\n",
              "                       random_state=None, splitter='best')"
            ]
          },
          "metadata": {
            "tags": []
          },
          "execution_count": 90
        }
      ]
    },
    {
      "cell_type": "markdown",
      "metadata": {
        "id": "_-HIAnxIU0EM",
        "colab_type": "text"
      },
      "source": [
        "### Prediction with Doc2Vec"
      ]
    },
    {
      "cell_type": "code",
      "metadata": {
        "id": "jmlM74fl7UpY",
        "colab_type": "code",
        "outputId": "d86f1368-0a7d-4eb2-c619-6ff3bd16e083",
        "colab": {
          "base_uri": "https://localhost:8080/",
          "height": 187
        }
      },
      "source": [
        "test_features_doc2vec = []\n",
        "for index, row in X_test.iterrows():\n",
        "    model_vector = doc2vec_model.infer_vector(row['stemmed_tokens'])\n",
        "    test_features_doc2vec.append(model_vector)\n",
        "test_predictions_doc2vec = clf_decision_doc2vec.predict(test_features_doc2vec)\n",
        "print(classification_report(Y_test['sentiment'],test_predictions_doc2vec))"
      ],
      "execution_count": 0,
      "outputs": [
        {
          "output_type": "stream",
          "text": [
            "              precision    recall  f1-score   support\n",
            "\n",
            "          -1       0.47      0.48      0.48      1474\n",
            "           0       0.42      0.42      0.42      1518\n",
            "           1       0.45      0.44      0.44      1508\n",
            "\n",
            "    accuracy                           0.44      4500\n",
            "   macro avg       0.44      0.44      0.44      4500\n",
            "weighted avg       0.44      0.44      0.44      4500\n",
            "\n"
          ],
          "name": "stdout"
        }
      ]
    },
    {
      "cell_type": "markdown",
      "metadata": {
        "id": "MJqd2zmdyicw",
        "colab_type": "text"
      },
      "source": [
        "# Task 7: Pytorch Basics ( 15 mins )\n",
        "## Getting started with Pytorch\n",
        "\n",
        "**[PyTorch](https://pytorch.org/get-started/locally/)** is an open source machine learning library used for Computer Visison and Natural Language Processing and is based on the **Torch** library. (Torch is a scientific computing framework, and a script language based on the Lua programming language. Torch provides a wide range of algorithms for deep learning.) Main features of PyTorch are the tensor computing with GPUs and Deep Neural networks. \n",
        "\n",
        "Tensors are defined as `torch.tensor` these are multidimensional arrays of numbers like Numpy arrays but have the capability to run on GPUs. Tutorial for tensors is [here](https://pytorch.org/tutorials/beginner/former_torchies/tensor_tutorial.html). Types of tensor value types is [here](https://pytorch.org/docs/stable/tensors.html#torch.Tensor). On which device the tensors will be computed can be decided with the help of `torch.device`. That's why storing this in a variable and using it in multiple other functions that will be used, it is easier to assign. Here, as the GPU is enabled, cuda will be used instead of cpu. This will be faster indeed which is one of the reasons why PyTorch is used. \n",
        "\n",
        "\n",
        "\n",
        "\n"
      ]
    },
    {
      "cell_type": "code",
      "metadata": {
        "id": "o153L_FgymRH",
        "colab_type": "code",
        "outputId": "cfc7a534-d516-4359-bae7-16778e1c0649",
        "colab": {
          "base_uri": "https://localhost:8080/",
          "height": 50
        }
      },
      "source": [
        "# Step 11\n",
        "import torch\n",
        "# Use cuda if present\n",
        "device = torch.device(\"cuda\" if torch.cuda.is_available() else \"cpu\")\n",
        "print(\"Device available for running: \")\n",
        "print(device)"
      ],
      "execution_count": 27,
      "outputs": [
        {
          "output_type": "stream",
          "text": [
            "Device available for running: \n",
            "cuda\n"
          ],
          "name": "stdout"
        }
      ]
    },
    {
      "cell_type": "markdown",
      "metadata": {
        "id": "aq02oDyBHg33",
        "colab_type": "text"
      },
      "source": [
        "# Building blocks of Deep learning in Pytorch\n",
        "\n",
        "1. **Autograd** \n",
        "PyTorch uses a method called automatic differentiation. In neural network, you need to calculate gradients and this saves number of operations as it records the operations done and it replays those to compute gradients. A recorder records what operations have performed, and then it replays it backward to compute the gradients. \n",
        "2. **Optim** \n",
        "To use `torch.optim` we have to use construct Optimizer object. This typically takes iterable containing the model parameters  which needs to be optimized and the optimization related parameters like learning rate, weight-decay, etc.\n",
        "3. **nn** Neural networks can be constructed using `torch.nn`. An `nn.Module` contains layers, and a method forward(input)that returns the output. \n",
        "\n",
        "A typical training procedure for a [neural network](https://pytorch.org/tutorials/beginner/blitz/neural_networks_tutorial.html) is as follows:\n",
        "\n",
        "- Define the neural network that has some learnable parameters (or weights)\n",
        "- Iterate over a dataset of inputs\n",
        "- Process input through the network\n",
        "- Compute the loss (how far is the output from being correct)\n",
        "- Propagate gradients back into the network’s parameters\n",
        "- Update the weights of the network, typically using a simple update rule: `weight = weight - learning_rate * gradient`\n",
        "\n",
        "It provides a convenient way of encapsulating parameters, with helpers for moving them to GPU, exporting, loading, etc. `nn`  provides the loss function as well. A loss function takes the (output, target) pair of inputs, and computes a value that estimates how far away the output is from the target.\n",
        "\n",
        "## Let's start with a simple example of linear function\n",
        "Linear applies a linear transformation to the incoming data - math:\n",
        "\n",
        "              `f(x) = Ax + b`\n",
        "The parameters to be learned are A (matrix) & b(vector). b is the bias term. PyTorch and most other deep learning frameworks do things a little differently than traditional linear algebra. It maps the rows of the input instead of the columns. That is, the i’th row of the output below is the mapping of the i’th row of the input under A, plus the bias term.  \n",
        "\n",
        "\n"
      ]
    },
    {
      "cell_type": "code",
      "metadata": {
        "id": "_-BRMqUhC_-2",
        "colab_type": "code",
        "outputId": "d89e0be2-c0b5-411a-bfc3-a34bb77088bd",
        "colab": {
          "base_uri": "https://localhost:8080/",
          "height": 50
        }
      },
      "source": [
        "# Step 12\n",
        "import torch.nn as nn\n",
        "import torch.nn.functional as F\n",
        "import torch.optim as optim\n",
        "\n",
        "torch.manual_seed(1)\n",
        "\n",
        "# Linear layer neural network with six inputs\n",
        "lin = nn.Linear(6, 3) # maps from R^6 to R^2, parameters A, b\n",
        "# data is 2x6.  A maps from 6 to 3... can we map \"data\" under A?\n",
        "data = torch.randn(2, 6)\n",
        "print(lin(data))  # yes"
      ],
      "execution_count": 28,
      "outputs": [
        {
          "output_type": "stream",
          "text": [
            "tensor([[ 1.1105, -0.1102, -0.3235],\n",
            "        [ 0.4800,  0.1633, -0.2515]], grad_fn=<AddmmBackward>)\n"
          ],
          "name": "stdout"
        }
      ]
    },
    {
      "cell_type": "markdown",
      "metadata": {
        "id": "E4-9GARqZoYg",
        "colab_type": "text"
      },
      "source": [
        "# Non linearity\n",
        "\n",
        "With non-learnities we can build much more powerful models. Complex models are built. These `tanh(x),σ(x),ReLU(x)` are the most common non-linear activation functions being used. The reason for this is that it is easy to compute gradients and that is the important part for learning. \n"
      ]
    },
    {
      "cell_type": "code",
      "metadata": {
        "id": "fw7svctDZsUL",
        "colab_type": "code",
        "outputId": "68a992a2-a316-46b6-d060-348f26c8173d",
        "colab": {
          "base_uri": "https://localhost:8080/",
          "height": 84
        }
      },
      "source": [
        "data = torch.randn(2, 2)\n",
        "print(data)\n",
        "print(F.relu(data))"
      ],
      "execution_count": 29,
      "outputs": [
        {
          "output_type": "stream",
          "text": [
            "tensor([[ 0.5848,  0.2149],\n",
            "        [-0.4090, -0.1663]])\n",
            "tensor([[0.5848, 0.2149],\n",
            "        [0.0000, 0.0000]])\n"
          ],
          "name": "stdout"
        }
      ]
    },
    {
      "cell_type": "markdown",
      "metadata": {
        "id": "v1lqxSzHaaug",
        "colab_type": "text"
      },
      "source": [
        "### Softmax Function\n",
        "\n",
        "This is also non-linear. But this is usually used in the last step to get the probabilities of each possible output. In the last layer, the probabilities of the outcomes would add up to 1. Example of this is given below:"
      ]
    },
    {
      "cell_type": "code",
      "metadata": {
        "id": "BpD1GKkZadKS",
        "colab_type": "code",
        "outputId": "b6ee325f-7740-4f78-d033-2d34d5e4b824",
        "colab": {
          "base_uri": "https://localhost:8080/",
          "height": 151
        }
      },
      "source": [
        "# Softmax is also in torch.nn.functional\n",
        "data = torch.randn(5)\n",
        "print(data)\n",
        "print(\"\\nProbabilities : \")\n",
        "print(F.softmax(data, dim=0))\n",
        "print(F.softmax(data, dim=0).sum())  # Sums to 1 because it is a distribution!\n",
        "print(\"\\nLog probabilities\")\n",
        "print(F.log_softmax(data, dim=0)) "
      ],
      "execution_count": 31,
      "outputs": [
        {
          "output_type": "stream",
          "text": [
            "tensor([-0.7286, -0.7209,  1.1115,  0.1889,  0.3040])\n",
            "\n",
            "Probabilities : \n",
            "tensor([0.0734, 0.0740, 0.4625, 0.1838, 0.2062])\n",
            "tensor(1.)\n",
            "\n",
            "Log probabilities\n",
            "tensor([-2.6113, -2.6036, -0.7711, -1.6938, -1.5787])\n"
          ],
          "name": "stdout"
        }
      ]
    },
    {
      "cell_type": "markdown",
      "metadata": {
        "id": "KhHAPC6PbCKW",
        "colab_type": "text"
      },
      "source": [
        "### Objective Function\n",
        "\n",
        "The objective function is the function that your network is being trained to minimize which is called a loss function or cost function in that case. Loss is computed at the end of each iteration of neural network pass with the training instance. The parameters of the model are then updated by taking the derivative of the loss function. The main goal is to generalize the model. So if the model is confident in the incorrect answer then the loss will be high but on the other hand if the it is confident and the answer is correct then the loss will be low.\n",
        "\n"
      ]
    },
    {
      "cell_type": "markdown",
      "metadata": {
        "id": "AijmEAWTbqPb",
        "colab_type": "text"
      },
      "source": [
        "# Optimization and Training\n",
        "Loss is also a Tensor, we can compute gradients with respect to all of the parameters used to compute it. Then the gradients are updated accordingly. \n",
        "\n",
        "`θ(t+1)=θ(t)−η∇θL(θ)`\n",
        "\n",
        "Tensors know how to compute gradients with respect to the things that were used to compute it.  Trying different update algorithms and different parameters for the update algorithms (like different initial learning rates) is important in optimizing your network’s performance. \n",
        "\n",
        "Different optimization functions to try out are SGD, Adam and RMSProp.\n",
        "\n",
        "# Logistric Regression using BOW\n",
        "\n",
        "Logistic regression is used to describe data and to explain the relationship between one dependent variable and one or more nominal, ordinal, interval or ratio-level independent variables. To do this, we pass instances through to get log probabilities, compute a loss function, compute the gradient of the loss function, and then update the parameters with a gradient step. \n",
        "\n",
        "In this, either Sigmoid function or Softmax function is used to get the probabilities of the classes. Softmax function is usually used in case of multi-label classification. Thus, we have used Softmax function here as we are doing mutli-label classification ([ref]()). Negative Log Likelihood loss function is used here. Usually Cross Entropy Loss function is used in which case, you don't need to calculate Log Softmax seperately. Here we used it seperately, so that you can get to know the components of each step and how to implement or change them in other cases like binary classification. \n",
        "\n",
        "Architecture of Logistic Regression:\n",
        "- Input would be same as the size of the vocab size of dictionary\n",
        "- Output size would be same as the number of labels\n",
        "- Forward function will run the linear layer first and then calculate the Log softmax of the values. \n",
        "- SGD Optimizer is used for Logistic Regression usually, so that is being used here as well with appropriate learning rate. \n",
        "\n"
      ]
    },
    {
      "cell_type": "code",
      "metadata": {
        "id": "qzRd3dW5bImy",
        "colab_type": "code",
        "outputId": "45214910-d912-44d7-e913-3b21ea73adf0",
        "colab": {
          "base_uri": "https://localhost:8080/",
          "height": 722
        }
      },
      "source": [
        "# Step 13\n",
        "# Get new dataframe with top 10,000 and follow the remaining steps\n",
        "\n",
        "top_data_df_small = get_top_data(top_n=10000)\n",
        "top_data_df_small = get_stemmed_tokens(top_data_df_small)\n",
        "X_train, X_test, Y_train, Y_test = split_train_test(top_data_df_small)\n",
        "mydict = make_dict(top_data_df_small, padding=False)\n",
        "VOCAB_SIZE = len(mydict)\n",
        "NUM_LABELS = 3\n",
        "\n",
        "print(VOCAB_SIZE)\n",
        "print(\"Number of labels :\" + str(NUM_LABELS))\n",
        "\n",
        "# Defining neural network structure\n",
        "class BoWClassifier(nn.Module):  # inheriting from nn.Module!\n",
        "\n",
        "    def __init__(self, num_labels, vocab_size):\n",
        "        # needs to be done everytime in the nn.module derived class\n",
        "        super(BoWClassifier, self).__init__()\n",
        "\n",
        "        # Define the parameters that are needed for linear model ( Ax + b)\n",
        "\n",
        "        self.linear = nn.Linear(vocab_size, num_labels)\n",
        "\n",
        "\n",
        "        # NOTE! The non-linearity log softmax does not have parameters! So we don't need\n",
        "        # to worry about that here\n",
        "\n",
        "    def forward(self, bow_vec): # Defines the computation performed at every call.\n",
        "        # Pass the input through the linear layer,\n",
        "        # then pass that through log_softmax.\n",
        "\n",
        "        return F.log_softmax(self.linear(bow_vec), dim=1)\n",
        "        \n",
        "# Function to make bow vector to be used as input to network\n",
        "def make_bow_vector(mydict, sentence):\n",
        "    vec = torch.zeros(VOCAB_SIZE, dtype=torch.float64, device=device)\n",
        "    for word in sentence:\n",
        "        vec[mydict.token2id[word]] += 1\n",
        "    return vec.view(1, -1).float()\n",
        "\n",
        "# Get the \n",
        "sample = []\n",
        "for index, row in X_train.iterrows():\n",
        "    vec = make_bow_vector(mydict, row['stemmed_tokens'])\n",
        "    sample.append(row['stemmed_tokens'])\n",
        "    print(vec)\n",
        "    print(vec.size())\n",
        "    break\n",
        "\n",
        "def make_target(label):\n",
        "    if label == -1:\n",
        "        return torch.tensor([0], dtype=torch.long, device=device)\n",
        "    elif label == 0:\n",
        "        return torch.tensor([1], dtype=torch.long, device=device)\n",
        "    else:\n",
        "        return torch.tensor([2], dtype=torch.long, device=device)\n",
        "\n",
        "#  Initialize the model\n",
        "bow_nn_model = BoWClassifier(NUM_LABELS, VOCAB_SIZE)\n",
        "bow_nn_model.to(device)\n",
        "\n",
        "for param in bow_nn_model.parameters():\n",
        "    print(param)\n",
        "\n",
        "# To run the model, pass in a BoW vector\n",
        "# Here we don't need to train, so the code is wrapped in torch.no_grad()\n",
        "# Example how the output is derived\n",
        "with torch.no_grad():\n",
        "    sample = sample[0]\n",
        "    bow_vector = make_bow_vector(mydict, sample)\n",
        "    log_probs = bow_nn_model(bow_vector)\n",
        "    print(\"Output probabilities\")\n",
        "    print(log_probs)\n",
        "print(log_probs.max())\n",
        "print(\"Model determined label\")\n",
        "print(torch.argmax(log_probs, dim=1))\n",
        "print(torch.argmax(log_probs, dim=1).cpu().numpy()[0])\n",
        "print(\"Actual label\")\n",
        "print(make_target(Y_train['sentiment'][0]))"
      ],
      "execution_count": 32,
      "outputs": [
        {
          "output_type": "stream",
          "text": [
            "Value counts for Train sentiments\n",
            " 1    7036\n",
            "-1    7008\n",
            " 0    6956\n",
            "Name: sentiment, dtype: int64\n",
            "Value counts for Test sentiments\n",
            " 0    3044\n",
            "-1    2992\n",
            " 1    2964\n",
            "Name: sentiment, dtype: int64\n",
            "<class 'pandas.core.frame.DataFrame'>\n",
            "<class 'pandas.core.series.Series'>\n",
            "   index  ...                                     stemmed_tokens\n",
            "0  34963  ...  [wait, minut, onli, to, get, to, front, of, th...\n",
            "1  21265  ...  [chicken, bacon, ranch, pizza, wa, pretti, bom...\n",
            "2  36472  ...  [as, sketchi, as, hell, thi, place, strike, me...\n",
            "3  36589  ...  [last, time, tri, bubbl, tea, and, it, wa, dis...\n",
            "4   3117  ...  [so, for, the, game, last, week, wa, visit, th...\n",
            "\n",
            "[5 rows x 11 columns]\n",
            "Dictionary without padding\n",
            "30056\n",
            "Number of labels :3\n",
            "tensor([[0., 0., 0.,  ..., 0., 0., 0.]], device='cuda:0')\n",
            "torch.Size([1, 30056])\n",
            "Parameter containing:\n",
            "tensor([[ 3.2884e-04,  1.8939e-03,  1.2683e-03,  ..., -4.7520e-03,\n",
            "         -1.4309e-03,  5.4784e-03],\n",
            "        [ 2.6289e-03, -2.5173e-03,  4.3186e-03,  ...,  5.5072e-03,\n",
            "          4.9691e-03, -4.3219e-03],\n",
            "        [ 4.5199e-03, -2.0413e-04, -4.6976e-04,  ...,  7.1729e-05,\n",
            "         -3.9998e-03,  1.3765e-03]], device='cuda:0', requires_grad=True)\n",
            "Parameter containing:\n",
            "tensor([-0.0012,  0.0022,  0.0039], device='cuda:0', requires_grad=True)\n",
            "Output probabilities\n",
            "tensor([[-1.0937, -1.1364, -1.0670]], device='cuda:0')\n",
            "tensor(-1.0670, device='cuda:0')\n",
            "Model determined label\n",
            "tensor([2], device='cuda:0')\n",
            "2\n",
            "Actual label\n",
            "tensor([0], device='cuda:0')\n"
          ],
          "name": "stdout"
        }
      ]
    },
    {
      "cell_type": "markdown",
      "metadata": {
        "id": "zab3bQZk0l1t",
        "colab_type": "text"
      },
      "source": [
        "# Let's train Logistic Regression"
      ]
    },
    {
      "cell_type": "code",
      "metadata": {
        "id": "YbWq2YsCtnUG",
        "colab_type": "code",
        "outputId": "9955a230-dd31-4a74-a77f-eb7bbf68fa1a",
        "colab": {
          "base_uri": "https://localhost:8080/",
          "height": 218
        }
      },
      "source": [
        "import time\n",
        "start_time = time.time()\n",
        "# Define the loss and optimization function ( Stochastic gradient Descent )\n",
        "# lr: Learning rate\n",
        "loss_function = nn.NLLLoss()\n",
        "optimizer = optim.SGD(bow_nn_model.parameters(), lr=0.1)\n",
        "\n",
        "# Usually you want to pass over the training data several times.\n",
        "# 10 is much bigger than on a real data set, but real datasets have more than\n",
        "# two instances.  Usually, somewhere between 5 and 30 epochs is reasonable.\n",
        "for epoch in range(2):\n",
        "    for index, row in X_train.iterrows():\n",
        "        # Step 1. Remember that PyTorch accumulates gradients.\n",
        "        # We need to clear them out before each instance\n",
        "        bow_nn_model.zero_grad()\n",
        "\n",
        "        # Step 2. Make our BOW vector \n",
        "        bow_vec = make_bow_vector(mydict, row['stemmed_tokens'])\n",
        "        target = make_target(Y_train['sentiment'][index])\n",
        "\n",
        "        # Step 3. Run our forward pass.\n",
        "        probs = bow_nn_model(bow_vec)\n",
        "\n",
        "        # Step 4. Compute the loss, gradients, and update the parameters by\n",
        "        # calling optimizer.step()\n",
        "        loss = loss_function(probs, target)\n",
        "        loss.backward()\n",
        "        optimizer.step()\n",
        "\n",
        "print(\"Time to train : \" + str(time.time() - start_time) )\n",
        "start_time = time.time()\n",
        "bow_nn_predictions = []\n",
        "original_lables = []\n",
        "with torch.no_grad():\n",
        "    for index, row in X_test.iterrows():\n",
        "        bow_vec = make_bow_vector(mydict, row['stemmed_tokens'])\n",
        "        log_probs = bow_nn_model(bow_vec)\n",
        "        bow_nn_predictions.append(torch.argmax(log_probs, dim=1).cpu().numpy()[0])\n",
        "        original_lables.append(make_target(Y_test['sentiment'][index]).cpu().numpy()[0])\n",
        "print(classification_report(original_lables,bow_nn_predictions))\n",
        "print(\"Time to predict: \" + str(time.time() - start_time))"
      ],
      "execution_count": 33,
      "outputs": [
        {
          "output_type": "stream",
          "text": [
            "Time to train : 367.4971590042114\n",
            "              precision    recall  f1-score   support\n",
            "\n",
            "           0       0.80      0.57      0.67      2992\n",
            "           1       0.61      0.24      0.35      3044\n",
            "           2       0.50      0.95      0.65      2964\n",
            "\n",
            "    accuracy                           0.59      9000\n",
            "   macro avg       0.64      0.59      0.56      9000\n",
            "weighted avg       0.64      0.59      0.55      9000\n",
            "\n",
            "Time to predict: 71.9358172416687\n"
          ],
          "name": "stdout"
        }
      ]
    },
    {
      "cell_type": "markdown",
      "metadata": {
        "id": "7r_5GDFb_8kF",
        "colab_type": "text"
      },
      "source": [
        "### For 100 epochs "
      ]
    },
    {
      "cell_type": "code",
      "metadata": {
        "id": "3_Zu7PVcrTY4",
        "colab_type": "code",
        "outputId": "cbef3b05-6e0b-4e2d-8c8c-2414ccad9815",
        "colab": {
          "base_uri": "https://localhost:8080/",
          "height": 34
        }
      },
      "source": [
        "################# DO NOT RUN ###################\n",
        "import time\n",
        "start_time = time.time()\n",
        "#  Initialize the model\n",
        "bow_nn_model_big = BoWClassifier(NUM_LABELS, VOCAB_SIZE)\n",
        "bow_nn_model_big.to(device)\n",
        "\n",
        "# Define the loss and optimization function ( Stochastic gradient Descent )\n",
        "# lr: Learning rate\n",
        "loss_function = nn.NLLLoss()\n",
        "optimizer = optim.SGD(bow_nn_model_big.parameters(), lr=0.01)\n",
        "\n",
        "# Usually you want to pass over the training data several times.\n",
        "# 10 is much bigger than on a real data set, but real datasets have more than\n",
        "# two instances.  Usually, somewhere between 5 and 30 epochs is reasonable.\n",
        "for epoch in range(100):\n",
        "    for index, row in X_train.iterrows():\n",
        "        # Step 1. Remember that PyTorch accumulates gradients.\n",
        "        # We need to clear them out before each instance\n",
        "        bow_nn_model_big.zero_grad()\n",
        "\n",
        "        # Step 2. Make our BOW vector and also we must wrap the target in a\n",
        "        # Tensor as an integer. For example, if the target is SPANISH, then\n",
        "        # we wrap the integer 0. The loss function then knows that the 0th\n",
        "        # element of the log probabilities is the log probability\n",
        "        # corresponding to SPANISH\n",
        "        bow_vec = make_bow_vector(mydict, row['stemmed_tokens'])\n",
        "        target = make_target(Y_train['sentiment'][index])\n",
        "\n",
        "        # Step 3. Run our forward pass.\n",
        "        probs = bow_nn_model_big(bow_vec)\n",
        "\n",
        "        # Step 4. Compute the loss, gradients, and update the parameters by\n",
        "        # calling optimizer.step()\n",
        "        loss = loss_function(probs, target)\n",
        "        loss.backward()\n",
        "        optimizer.step()\n",
        "print(\"Time taken to train the model: \" + str(time.time() - start_time))"
      ],
      "execution_count": 0,
      "outputs": [
        {
          "output_type": "stream",
          "text": [
            "Time taken to train the model: 15542.38938331604\n"
          ],
          "name": "stdout"
        }
      ]
    },
    {
      "cell_type": "code",
      "metadata": {
        "id": "eAm05fbR-JGE",
        "colab_type": "code",
        "outputId": "ca98a68b-aa14-470b-be5c-fa4befde3d4f",
        "colab": {
          "base_uri": "https://localhost:8080/",
          "height": 204
        }
      },
      "source": [
        "######################## DO NOT RUN ##############################\n",
        "bow_nn_predictions_big = []\n",
        "original_lables_big = []\n",
        "start_time = time.time()\n",
        "with torch.no_grad():\n",
        "    for index, row in X_test.iterrows():\n",
        "        bow_vec = make_bow_vector(mydict, row['stemmed_tokens'])\n",
        "        probs = bow_nn_model_big(bow_vec)\n",
        "        bow_nn_predictions_big.append(torch.argmax(probs, dim=1).cpu().numpy()[0])\n",
        "        original_lables_big.append(make_target(Y_test['sentiment'][index]).cpu().numpy()[0])\n",
        "print(classification_report(original_lables_big,bow_nn_predictions_big))\n",
        "print(\"Time taken to predict: \" + str(time.time() - start_time))"
      ],
      "execution_count": 0,
      "outputs": [
        {
          "output_type": "stream",
          "text": [
            "              precision    recall  f1-score   support\n",
            "\n",
            "           0       0.76      0.73      0.74      2992\n",
            "           1       0.63      0.55      0.58      3044\n",
            "           2       0.71      0.84      0.77      2964\n",
            "\n",
            "    accuracy                           0.70      9000\n",
            "   macro avg       0.70      0.70      0.70      9000\n",
            "weighted avg       0.70      0.70      0.70      9000\n",
            "\n",
            "Time taken to predict: 59.5226686000824\n"
          ],
          "name": "stdout"
        }
      ]
    },
    {
      "cell_type": "markdown",
      "metadata": {
        "id": "eyrHBmz2A0fH",
        "colab_type": "text"
      },
      "source": [
        "# Task 8: Classification with FFNN ( 10 mins )\n",
        "## Feed Forward Neural Network\n",
        "\n",
        "A feedforward network deﬁnes a mapping `y = f(x;θ)` and learns the value of the parameters θ that result in the best function approximation. The very reason it is called Feed Forward Neural Network is because the information is flowing from the input `x` through the intermediate layers ( hidden ) that defines the function `f` till the output layer where you get the output `y`. For example, in case of image classification problem, each layer is captures different features of images like color, edges etc. That is how it is able to build a complex function through these multiple layers. This is how the non-linearity is learned using neural network. \n",
        "\n",
        "The aim of the network is to learn the weights and biases such that the output class is classified correctly. While finding the learning to happen properly, when you change the weights (and/or biases) slightly then there should slight changes in the output and not drastic changes. This property is present in many of the activation functions like sigmoid, relu and tanh. Cost Function is another important part of this learning. When smooth cost function like the quadratic cost is used as a cost function, it turns out to be easy to figure out how to make small changes in the weights and biases so as to get an improvement in the cost. There are many [cost functions](https://pytorch.org/docs/stable/_modules/torch/nn/modules/loss.html) available in pytorch. Most commonly used are CrossEntropyLoss, NLLLoss, MSELoss etc. \n",
        "\n",
        "The goal will be to minimize the cost function and get to it's minimum possible value. Calculus will tell that in which direction with small change if moved it is goining in the direction of minimizing the cost. Gradient descent is one of the optimal strategies to reduce it to minimum. For large number of training samples, stochastic gradient descent(SGD) is used as it only takes randomly chosen mini-batch of enough size to represent the text and takes the decision.\n",
        "\n",
        "For the following layer:\n",
        "\n",
        "- Input layer is of size vocab_size fo dictionary.\n",
        "- Two hidden layer networks with 1000 dimension.\n",
        "- Output layer with size 3 and Softmax function is applied to get the probabilities. \n",
        "\n",
        "\n"
      ]
    },
    {
      "cell_type": "code",
      "metadata": {
        "id": "PcAhIwDktXXf",
        "colab_type": "code",
        "colab": {}
      },
      "source": [
        "################### DO NOT RUN ###################\n",
        "class FeedforwardNeuralNetModel(nn.Module):\n",
        "    def __init__(self, input_dim, hidden_dim, output_dim):\n",
        "        super(FeedforwardNeuralNetModel, self).__init__()\n",
        "        \n",
        "        self.fc1 = nn.Linear(input_dim, hidden_dim) \n",
        "        # Non-linearity 1\n",
        "        self.relu1 = nn.ReLU()\n",
        "\n",
        "        # Linear function 2: 100 --> 100\n",
        "        self.fc2 = nn.Linear(hidden_dim, hidden_dim)\n",
        "        # Non-linearity 2\n",
        "        self.relu2 = nn.ReLU()\n",
        "\n",
        "        # Linear function 3 (readout): 100 --> 10\n",
        "        self.fc3 = nn.Linear(hidden_dim, output_dim)  \n",
        "\n",
        "    def forward(self, x):\n",
        "        # Linear function 1\n",
        "        out = self.fc1(x)\n",
        "        # Non-linearity 1\n",
        "        out = self.relu1(out)\n",
        "\n",
        "        # Linear function 2\n",
        "        out = self.fc2(out)\n",
        "        # Non-linearity 2\n",
        "        out = self.relu2(out)\n",
        "\n",
        "        # Linear function 3 (readout)\n",
        "        out = self.fc3(out)\n",
        "\n",
        "        return F.softmax(out, dim=1)\n",
        "\n"
      ],
      "execution_count": 0,
      "outputs": []
    },
    {
      "cell_type": "markdown",
      "metadata": {
        "id": "o0jeS_OZXaQC",
        "colab_type": "text"
      },
      "source": [
        "## Let's train for small number of epochs to see what happens.\n",
        "\n",
        "[Blog](https://www.deborahmesquita.com/2017-11-05/how-pytorch-gives-the-big-picture-with-deep-learning) on Text classification with Feed Forward Neural Network. \n"
      ]
    },
    {
      "cell_type": "code",
      "metadata": {
        "id": "yhcaQw4J2bVR",
        "colab_type": "code",
        "outputId": "a9139b76-9746-4e01-d09b-2ae69b56357d",
        "colab": {
          "base_uri": "https://localhost:8080/",
          "height": 34
        }
      },
      "source": [
        "top_data_df_small = get_top_data(top_n=10000)\n",
        "top_data_df_small = get_stemmed_tokens(top_data_df_small)\n",
        "X_train, X_test, Y_train, Y_test = split_train_test(top_data_df_small)\n",
        "mydict = make_dict(top_data_df_small, padding=False)\n",
        "VOCAB_SIZE = len(mydict)\n",
        "\n",
        "input_dim = VOCAB_SIZE\n",
        "import time\n",
        "start_time = time.time()\n",
        "hidden_dim = 500\n",
        "## Group 1 Task: Uncomment below line and comment the first hidden_dim \n",
        "# hidden_dim = 1000\n",
        "## Group 2 Task: Uncomment below line and comment the first hidden_dim \n",
        "# hidden_dim = 800\n",
        "## Group 3 Task: Uncomment below line and comment the first hidden_dim \n",
        "# hidden_dim = 2000\n",
        "output_dim = 3\n",
        "num_epochs = 10\n",
        "\n",
        "\n",
        "\n",
        "ff_nn_bow_model = FeedforwardNeuralNetModel(input_dim, hidden_dim, output_dim)\n",
        "ff_nn_bow_model.to(device)\n",
        "\n",
        "loss_function = nn.CrossEntropyLoss()\n",
        "optimizer = optim.SGD(ff_nn_bow_model.parameters(), lr=0.01)\n",
        "\n",
        "iter = 0\n",
        "# ff_nn_bow_model.train()\n",
        "for epoch in range(num_epochs):\n",
        "    for index, row in X_train.iterrows():\n",
        "        # Clearing the accumulated gradients\n",
        "        optimizer.zero_grad()\n",
        "\n",
        "        # Make the bag of words vector for stemmed tokens \n",
        "        bow_vec = make_bow_vector(mydict, row['stemmed_tokens'])\n",
        "       \n",
        "        # Forward pass to get output\n",
        "        probs = ff_nn_bow_model(bow_vec)\n",
        "\n",
        "        # Get the target label\n",
        "        target = make_target(Y_train['sentiment'][index])\n",
        "\n",
        "        # Calculate Loss: softmax --> cross entropy loss\n",
        "        loss = loss_function(probs, target)\n",
        "\n",
        "        # Getting gradients w.r.t. parameters\n",
        "        loss.backward()\n",
        "\n",
        "        # Updating parameters\n",
        "        optimizer.step()\n",
        "print(\"Time taken to train the model: \" + str(time.time() - start_time))"
      ],
      "execution_count": 0,
      "outputs": [
        {
          "output_type": "stream",
          "text": [
            "Time taken to train the model: 932.593682050705\n"
          ],
          "name": "stdout"
        }
      ]
    },
    {
      "cell_type": "code",
      "metadata": {
        "id": "t3vIsbsr2di4",
        "colab_type": "code",
        "outputId": "003a5b75-63ce-4710-e895-c5b48566e776",
        "colab": {
          "base_uri": "https://localhost:8080/",
          "height": 187
        }
      },
      "source": [
        "################### DO NOT RUN ###################\n",
        "bow_ff_nn_predictions = []\n",
        "original_lables_ff_bow = []\n",
        "# ff_nn_bow_model.eval()\n",
        "with torch.no_grad():\n",
        "    for index, row in X_test.iterrows():\n",
        "        bow_vec = make_bow_vector(mydict, row['stemmed_tokens'])\n",
        "        probs = ff_nn_bow_model(bow_vec)\n",
        "        \n",
        "        bow_ff_nn_predictions.append(torch.argmax(probs, dim=1).cpu().numpy()[0])\n",
        "        original_lables_ff_bow.append(make_target(Y_test['sentiment'][index]).cpu().numpy()[0])\n",
        "print(classification_report(original_lables_ff_bow,bow_ff_nn_predictions))"
      ],
      "execution_count": 0,
      "outputs": [
        {
          "output_type": "stream",
          "text": [
            "              precision    recall  f1-score   support\n",
            "\n",
            "           0       0.87      0.55      0.67      2992\n",
            "           1       0.62      0.59      0.60      3044\n",
            "           2       0.64      0.91      0.75      2964\n",
            "\n",
            "    accuracy                           0.68      9000\n",
            "   macro avg       0.71      0.68      0.68      9000\n",
            "weighted avg       0.71      0.68      0.68      9000\n",
            "\n"
          ],
          "name": "stdout"
        }
      ]
    },
    {
      "cell_type": "markdown",
      "metadata": {
        "id": "m6K2cWVUofpY",
        "colab_type": "text"
      },
      "source": [
        "# Results of running after multiple epochs with lr=0.01"
      ]
    },
    {
      "cell_type": "code",
      "metadata": {
        "id": "0Syyr336BGfc",
        "colab_type": "code",
        "outputId": "9504782a-08dc-475d-e433-37265b9e8166",
        "colab": {
          "base_uri": "https://localhost:8080/",
          "height": 442
        }
      },
      "source": [
        "################### DO NOT RUN ###################\n",
        "top_data_df_small = get_top_data(top_n=10000)\n",
        "top_data_df_small = get_stemmed_tokens(top_data_df_small)\n",
        "X_train, X_test, Y_train, Y_test = split_train_test(top_data_df_small)\n",
        "mydict = make_dict(top_data_df_small, padding=False)\n",
        "VOCAB_SIZE = len(mydict)\n",
        "\n",
        "input_dim = VOCAB_SIZE\n",
        "hidden_dim = 500\n",
        "output_dim = 3\n",
        "num_epochs = 100\n",
        "\n",
        "ff_nn_bow_model_big = FeedforwardNeuralNetModel(input_dim, hidden_dim, output_dim)\n",
        "ff_nn_bow_model_big.to(device)\n",
        "\n",
        "loss_function = nn.CrossEntropyLoss()\n",
        "optimizer = optim.SGD(ff_nn_bow_model_big.parameters(), lr=0.01)\n",
        "\n",
        "# Open the file for writing loss\n",
        "ffnn_loss_file_name = OUTPUT_FOLDER + 'ffnn_bow_class_big_loss_500_epoch_100.csv'\n",
        "f = open(ffnn_loss_file_name,'w')\n",
        "f.write('iter, loss')\n",
        "f.write('\\n')\n",
        "losses = []\n",
        "iter = 0\n",
        "# ff_nn_bow_model.train()\n",
        "for epoch in range(num_epochs):\n",
        "    if (epoch+1) % 25 == 0:\n",
        "        print(\"Epoch completed: \" + str(epoch+1))\n",
        "    train_loss = 0\n",
        "    for index, row in X_train.iterrows():\n",
        "        # Clearing the accumulated gradients\n",
        "        optimizer.zero_grad()\n",
        "\n",
        "        # Make the bag of words vector for stemmed tokens \n",
        "        bow_vec = make_bow_vector(mydict, row['stemmed_tokens'])\n",
        "       \n",
        "        # Forward pass to get output\n",
        "        probs = ff_nn_bow_model_big(bow_vec)\n",
        "\n",
        "        # Get the target label\n",
        "        target = make_target(Y_train['sentiment'][index])\n",
        "\n",
        "        # Calculate Loss: softmax --> cross entropy loss\n",
        "        loss = loss_function(probs, target)\n",
        "        # Accumulating the loss over time\n",
        "        train_loss += loss.item()\n",
        "\n",
        "        # Getting gradients w.r.t. parameters\n",
        "        loss.backward()\n",
        "\n",
        "        # Updating parameters\n",
        "        optimizer.step()\n",
        "    f.write(str((epoch+1)) + \",\" + str(train_loss / len(X_train)))\n",
        "    f.write('\\n')\n",
        "    train_loss = 0\n",
        "\n",
        "f.close()\n",
        "    "
      ],
      "execution_count": 0,
      "outputs": [
        {
          "output_type": "stream",
          "text": [
            "Value counts for Train sentiments\n",
            " 1    7036\n",
            "-1    7008\n",
            " 0    6956\n",
            "Name: sentiment, dtype: int64\n",
            "Value counts for Test sentiments\n",
            " 0    3044\n",
            "-1    2992\n",
            " 1    2964\n",
            "Name: sentiment, dtype: int64\n",
            "<class 'pandas.core.frame.DataFrame'>\n",
            "<class 'pandas.core.series.Series'>\n",
            "   index  ...                                     stemmed_tokens\n",
            "0  34963  ...  [wait, minut, onli, to, get, to, front, of, th...\n",
            "1  21265  ...  [chicken, bacon, ranch, pizza, wa, pretti, bom...\n",
            "2  36472  ...  [as, sketchi, as, hell, thi, place, strike, me...\n",
            "3  36589  ...  [last, time, tri, bubbl, tea, and, it, wa, dis...\n",
            "4   3117  ...  [so, for, the, game, last, week, wa, visit, th...\n",
            "\n",
            "[5 rows x 11 columns]\n",
            "Dictionary without padding\n",
            "Epoch completed: 25\n",
            "Epoch completed: 50\n",
            "Epoch completed: 75\n",
            "Epoch completed: 100\n"
          ],
          "name": "stdout"
        }
      ]
    },
    {
      "cell_type": "code",
      "metadata": {
        "id": "viwnUcNUBH4_",
        "colab_type": "code",
        "outputId": "70eff284-e65a-416b-a283-a07920d0b15a",
        "colab": {
          "base_uri": "https://localhost:8080/",
          "height": 452
        }
      },
      "source": [
        "################### DO NOT RUN ###################\n",
        "bow_ff_nn_predictions_big = []\n",
        "original_lables_ff_bow_big = []\n",
        "# ff_nn_bow_model.eval()\n",
        "with torch.no_grad():\n",
        "    for index, row in X_test.iterrows():\n",
        "        bow_vec = make_bow_vector(mydict, row['stemmed_tokens'])\n",
        "        probs = ff_nn_bow_model_big(bow_vec)\n",
        "        \n",
        "        bow_ff_nn_predictions_big.append(torch.argmax(probs, dim=1).cpu().numpy()[0])\n",
        "        original_lables_ff_bow_big.append(make_target(Y_test['sentiment'][index]).cpu().numpy()[0])\n",
        "print(classification_report(original_lables_ff_bow_big,bow_ff_nn_predictions_big))\n",
        "\n",
        "ffnn_loss_df = pd.read_csv(ffnn_loss_file_name)\n",
        "print(ffnn_loss_df.columns)\n",
        "ffnn_plt_1000_padding_100_epochs = ffnn_loss_df[' loss'].plot()\n",
        "fig = ffnn_plt_1000_padding_100_epochs.get_figure()\n",
        "fig.savefig(OUTPUT_FOLDER + 'plots/' + \"ffnn_bow_loss_500_padding_100_epochs.pdf\")"
      ],
      "execution_count": 0,
      "outputs": [
        {
          "output_type": "stream",
          "text": [
            "              precision    recall  f1-score   support\n",
            "\n",
            "           0       0.87      0.05      0.10      2992\n",
            "           1       0.49      0.17      0.25      3044\n",
            "           2       0.38      0.98      0.54      2964\n",
            "\n",
            "    accuracy                           0.40      9000\n",
            "   macro avg       0.58      0.40      0.30      9000\n",
            "weighted avg       0.58      0.40      0.30      9000\n",
            "\n",
            "Index(['iter', ' loss'], dtype='object')\n"
          ],
          "name": "stdout"
        },
        {
          "output_type": "display_data",
          "data": {
            "image/png": "[encoded data removed]",
            "text/plain": [
              "<Figure size 432x288 with 1 Axes>"
            ]
          },
          "metadata": {
            "tags": []
          }
        }
      ]
    },
    {
      "cell_type": "markdown",
      "metadata": {
        "id": "kY7LkhxmRMyI",
        "colab_type": "text"
      },
      "source": [
        "### With less LR"
      ]
    },
    {
      "cell_type": "code",
      "metadata": {
        "id": "d0Xb0-gnM892",
        "colab_type": "code",
        "outputId": "88060e6c-8a4a-45aa-8850-fbe4b6bfc8f8",
        "colab": {
          "base_uri": "https://localhost:8080/",
          "height": 749
        }
      },
      "source": [
        "################### DO NOT RUN ###################\n",
        "top_data_df_small = get_top_data(top_n=10000)\n",
        "top_data_df_small = get_stemmed_tokens(top_data_df_small)\n",
        "X_train, X_test, Y_train, Y_test = split_train_test(top_data_df_small)\n",
        "mydict = make_dict(top_data_df_small, padding=False)\n",
        "VOCAB_SIZE = len(mydict)\n",
        "\n",
        "input_dim = VOCAB_SIZE\n",
        "hidden_dim = 500\n",
        "output_dim = 3\n",
        "num_epochs = 45\n",
        "\n",
        "ff_nn_bow_model_big = FeedforwardNeuralNetModel(input_dim, hidden_dim, output_dim)\n",
        "ff_nn_bow_model_big.to(device)\n",
        "\n",
        "loss_function = nn.CrossEntropyLoss()\n",
        "optimizer = optim.SGD(ff_nn_bow_model_big.parameters(), lr=0.001)\n",
        "\n",
        "# Open the file for writing loss\n",
        "ffnn_loss_file_name = OUTPUT_FOLDER + 'ffnn_bow_class_big_loss_500_epoch_45_less_lr.csv'\n",
        "f = open(ffnn_loss_file_name,'w')\n",
        "f.write('iter, loss')\n",
        "f.write('\\n')\n",
        "losses = []\n",
        "iter = 0\n",
        "# ff_nn_bow_model.train()\n",
        "for epoch in range(num_epochs):\n",
        "    if (epoch+1) % 25 == 0:\n",
        "        print(\"Epoch completed: \" + str(epoch+1))\n",
        "    train_loss = 0\n",
        "    for index, row in X_train.iterrows():\n",
        "        # Clearing the accumulated gradients\n",
        "        optimizer.zero_grad()\n",
        "\n",
        "        # Make the bag of words vector for stemmed tokens \n",
        "        bow_vec = make_bow_vector(mydict, row['stemmed_tokens'])\n",
        "       \n",
        "        # Forward pass to get output\n",
        "        probs = ff_nn_bow_model_big(bow_vec)\n",
        "\n",
        "        # Get the target label\n",
        "        target = make_target(Y_train['sentiment'][index])\n",
        "\n",
        "        # Calculate Loss: softmax --> cross entropy loss\n",
        "        loss = loss_function(probs, target)\n",
        "        # Accumulating the loss over time\n",
        "        train_loss += loss.item()\n",
        "\n",
        "        # Getting gradients w.r.t. parameters\n",
        "        loss.backward()\n",
        "\n",
        "        # Updating parameters\n",
        "        optimizer.step()\n",
        "    f.write(str((epoch+1)) + \",\" + str(train_loss / len(X_train)))\n",
        "    f.write('\\n')\n",
        "    train_loss = 0\n",
        "\n",
        "f.close()\n",
        "    "
      ],
      "execution_count": 0,
      "outputs": [
        {
          "output_type": "stream",
          "text": [
            "Value counts for Train sentiments\n",
            " 1    7036\n",
            "-1    7008\n",
            " 0    6956\n",
            "Name: sentiment, dtype: int64\n",
            "Value counts for Test sentiments\n",
            " 0    3044\n",
            "-1    2992\n",
            " 1    2964\n",
            "Name: sentiment, dtype: int64\n",
            "<class 'pandas.core.frame.DataFrame'>\n",
            "<class 'pandas.core.series.Series'>\n",
            "   index  ...                                     stemmed_tokens\n",
            "0  34963  ...  [wait, minut, onli, to, get, to, front, of, th...\n",
            "1  21265  ...  [chicken, bacon, ranch, pizza, wa, pretti, bom...\n",
            "2  36472  ...  [as, sketchi, as, hell, thi, place, strike, me...\n",
            "3  36589  ...  [last, time, tri, bubbl, tea, and, it, wa, dis...\n",
            "4   3117  ...  [so, for, the, game, last, week, wa, visit, th...\n",
            "\n",
            "[5 rows x 11 columns]\n",
            "Dictionary without padding\n",
            "Epoch completed: 25\n"
          ],
          "name": "stdout"
        },
        {
          "output_type": "error",
          "ename": "KeyboardInterrupt",
          "evalue": "ignored",
          "traceback": [
            "\u001b[0;31m---------------------------------------------------------------------------\u001b[0m",
            "\u001b[0;31mKeyboardInterrupt\u001b[0m                         Traceback (most recent call last)",
            "\u001b[0;32m<ipython-input-32-a64bdc17bb74>\u001b[0m in \u001b[0;36m<module>\u001b[0;34m()\u001b[0m\n\u001b[1;32m     36\u001b[0m \u001b[0;34m\u001b[0m\u001b[0m\n\u001b[1;32m     37\u001b[0m         \u001b[0;31m# Forward pass to get output\u001b[0m\u001b[0;34m\u001b[0m\u001b[0;34m\u001b[0m\u001b[0;34m\u001b[0m\u001b[0m\n\u001b[0;32m---> 38\u001b[0;31m         \u001b[0mprobs\u001b[0m \u001b[0;34m=\u001b[0m \u001b[0mff_nn_bow_model_big\u001b[0m\u001b[0;34m(\u001b[0m\u001b[0mbow_vec\u001b[0m\u001b[0;34m)\u001b[0m\u001b[0;34m\u001b[0m\u001b[0;34m\u001b[0m\u001b[0m\n\u001b[0m\u001b[1;32m     39\u001b[0m \u001b[0;34m\u001b[0m\u001b[0m\n\u001b[1;32m     40\u001b[0m         \u001b[0;31m# Get the target label\u001b[0m\u001b[0;34m\u001b[0m\u001b[0;34m\u001b[0m\u001b[0;34m\u001b[0m\u001b[0m\n",
            "\u001b[0;32m/usr/local/lib/python3.6/dist-packages/torch/nn/modules/module.py\u001b[0m in \u001b[0;36m__call__\u001b[0;34m(self, *input, **kwargs)\u001b[0m\n\u001b[1;32m    539\u001b[0m             \u001b[0mresult\u001b[0m \u001b[0;34m=\u001b[0m \u001b[0mself\u001b[0m\u001b[0;34m.\u001b[0m\u001b[0m_slow_forward\u001b[0m\u001b[0;34m(\u001b[0m\u001b[0;34m*\u001b[0m\u001b[0minput\u001b[0m\u001b[0;34m,\u001b[0m \u001b[0;34m**\u001b[0m\u001b[0mkwargs\u001b[0m\u001b[0;34m)\u001b[0m\u001b[0;34m\u001b[0m\u001b[0;34m\u001b[0m\u001b[0m\n\u001b[1;32m    540\u001b[0m         \u001b[0;32melse\u001b[0m\u001b[0;34m:\u001b[0m\u001b[0;34m\u001b[0m\u001b[0;34m\u001b[0m\u001b[0m\n\u001b[0;32m--> 541\u001b[0;31m             \u001b[0mresult\u001b[0m \u001b[0;34m=\u001b[0m \u001b[0mself\u001b[0m\u001b[0;34m.\u001b[0m\u001b[0mforward\u001b[0m\u001b[0;34m(\u001b[0m\u001b[0;34m*\u001b[0m\u001b[0minput\u001b[0m\u001b[0;34m,\u001b[0m \u001b[0;34m**\u001b[0m\u001b[0mkwargs\u001b[0m\u001b[0;34m)\u001b[0m\u001b[0;34m\u001b[0m\u001b[0;34m\u001b[0m\u001b[0m\n\u001b[0m\u001b[1;32m    542\u001b[0m         \u001b[0;32mfor\u001b[0m \u001b[0mhook\u001b[0m \u001b[0;32min\u001b[0m \u001b[0mself\u001b[0m\u001b[0;34m.\u001b[0m\u001b[0m_forward_hooks\u001b[0m\u001b[0;34m.\u001b[0m\u001b[0mvalues\u001b[0m\u001b[0;34m(\u001b[0m\u001b[0;34m)\u001b[0m\u001b[0;34m:\u001b[0m\u001b[0;34m\u001b[0m\u001b[0;34m\u001b[0m\u001b[0m\n\u001b[1;32m    543\u001b[0m             \u001b[0mhook_result\u001b[0m \u001b[0;34m=\u001b[0m \u001b[0mhook\u001b[0m\u001b[0;34m(\u001b[0m\u001b[0mself\u001b[0m\u001b[0;34m,\u001b[0m \u001b[0minput\u001b[0m\u001b[0;34m,\u001b[0m \u001b[0mresult\u001b[0m\u001b[0;34m)\u001b[0m\u001b[0;34m\u001b[0m\u001b[0;34m\u001b[0m\u001b[0m\n",
            "\u001b[0;32m<ipython-input-23-d7b951d298c3>\u001b[0m in \u001b[0;36mforward\u001b[0;34m(self, x)\u001b[0m\n\u001b[1;32m     22\u001b[0m \u001b[0;34m\u001b[0m\u001b[0m\n\u001b[1;32m     23\u001b[0m         \u001b[0;31m# Linear function 2\u001b[0m\u001b[0;34m\u001b[0m\u001b[0;34m\u001b[0m\u001b[0;34m\u001b[0m\u001b[0m\n\u001b[0;32m---> 24\u001b[0;31m         \u001b[0mout\u001b[0m \u001b[0;34m=\u001b[0m \u001b[0mself\u001b[0m\u001b[0;34m.\u001b[0m\u001b[0mfc2\u001b[0m\u001b[0;34m(\u001b[0m\u001b[0mout\u001b[0m\u001b[0;34m)\u001b[0m\u001b[0;34m\u001b[0m\u001b[0;34m\u001b[0m\u001b[0m\n\u001b[0m\u001b[1;32m     25\u001b[0m         \u001b[0;31m# Non-linearity 2\u001b[0m\u001b[0;34m\u001b[0m\u001b[0;34m\u001b[0m\u001b[0;34m\u001b[0m\u001b[0m\n\u001b[1;32m     26\u001b[0m         \u001b[0mout\u001b[0m \u001b[0;34m=\u001b[0m \u001b[0mself\u001b[0m\u001b[0;34m.\u001b[0m\u001b[0mrelu2\u001b[0m\u001b[0;34m(\u001b[0m\u001b[0mout\u001b[0m\u001b[0;34m)\u001b[0m\u001b[0;34m\u001b[0m\u001b[0;34m\u001b[0m\u001b[0m\n",
            "\u001b[0;32m/usr/local/lib/python3.6/dist-packages/torch/nn/modules/module.py\u001b[0m in \u001b[0;36m__call__\u001b[0;34m(self, *input, **kwargs)\u001b[0m\n\u001b[1;32m    539\u001b[0m             \u001b[0mresult\u001b[0m \u001b[0;34m=\u001b[0m \u001b[0mself\u001b[0m\u001b[0;34m.\u001b[0m\u001b[0m_slow_forward\u001b[0m\u001b[0;34m(\u001b[0m\u001b[0;34m*\u001b[0m\u001b[0minput\u001b[0m\u001b[0;34m,\u001b[0m \u001b[0;34m**\u001b[0m\u001b[0mkwargs\u001b[0m\u001b[0;34m)\u001b[0m\u001b[0;34m\u001b[0m\u001b[0;34m\u001b[0m\u001b[0m\n\u001b[1;32m    540\u001b[0m         \u001b[0;32melse\u001b[0m\u001b[0;34m:\u001b[0m\u001b[0;34m\u001b[0m\u001b[0;34m\u001b[0m\u001b[0m\n\u001b[0;32m--> 541\u001b[0;31m             \u001b[0mresult\u001b[0m \u001b[0;34m=\u001b[0m \u001b[0mself\u001b[0m\u001b[0;34m.\u001b[0m\u001b[0mforward\u001b[0m\u001b[0;34m(\u001b[0m\u001b[0;34m*\u001b[0m\u001b[0minput\u001b[0m\u001b[0;34m,\u001b[0m \u001b[0;34m**\u001b[0m\u001b[0mkwargs\u001b[0m\u001b[0;34m)\u001b[0m\u001b[0;34m\u001b[0m\u001b[0;34m\u001b[0m\u001b[0m\n\u001b[0m\u001b[1;32m    542\u001b[0m         \u001b[0;32mfor\u001b[0m \u001b[0mhook\u001b[0m \u001b[0;32min\u001b[0m \u001b[0mself\u001b[0m\u001b[0;34m.\u001b[0m\u001b[0m_forward_hooks\u001b[0m\u001b[0;34m.\u001b[0m\u001b[0mvalues\u001b[0m\u001b[0;34m(\u001b[0m\u001b[0;34m)\u001b[0m\u001b[0;34m:\u001b[0m\u001b[0;34m\u001b[0m\u001b[0;34m\u001b[0m\u001b[0m\n\u001b[1;32m    543\u001b[0m             \u001b[0mhook_result\u001b[0m \u001b[0;34m=\u001b[0m \u001b[0mhook\u001b[0m\u001b[0;34m(\u001b[0m\u001b[0mself\u001b[0m\u001b[0;34m,\u001b[0m \u001b[0minput\u001b[0m\u001b[0;34m,\u001b[0m \u001b[0mresult\u001b[0m\u001b[0;34m)\u001b[0m\u001b[0;34m\u001b[0m\u001b[0;34m\u001b[0m\u001b[0m\n",
            "\u001b[0;32m/usr/local/lib/python3.6/dist-packages/torch/nn/modules/linear.py\u001b[0m in \u001b[0;36mforward\u001b[0;34m(self, input)\u001b[0m\n\u001b[1;32m     85\u001b[0m \u001b[0;34m\u001b[0m\u001b[0m\n\u001b[1;32m     86\u001b[0m     \u001b[0;32mdef\u001b[0m \u001b[0mforward\u001b[0m\u001b[0;34m(\u001b[0m\u001b[0mself\u001b[0m\u001b[0;34m,\u001b[0m \u001b[0minput\u001b[0m\u001b[0;34m)\u001b[0m\u001b[0;34m:\u001b[0m\u001b[0;34m\u001b[0m\u001b[0;34m\u001b[0m\u001b[0m\n\u001b[0;32m---> 87\u001b[0;31m         \u001b[0;32mreturn\u001b[0m \u001b[0mF\u001b[0m\u001b[0;34m.\u001b[0m\u001b[0mlinear\u001b[0m\u001b[0;34m(\u001b[0m\u001b[0minput\u001b[0m\u001b[0;34m,\u001b[0m \u001b[0mself\u001b[0m\u001b[0;34m.\u001b[0m\u001b[0mweight\u001b[0m\u001b[0;34m,\u001b[0m \u001b[0mself\u001b[0m\u001b[0;34m.\u001b[0m\u001b[0mbias\u001b[0m\u001b[0;34m)\u001b[0m\u001b[0;34m\u001b[0m\u001b[0;34m\u001b[0m\u001b[0m\n\u001b[0m\u001b[1;32m     88\u001b[0m \u001b[0;34m\u001b[0m\u001b[0m\n\u001b[1;32m     89\u001b[0m     \u001b[0;32mdef\u001b[0m \u001b[0mextra_repr\u001b[0m\u001b[0;34m(\u001b[0m\u001b[0mself\u001b[0m\u001b[0;34m)\u001b[0m\u001b[0;34m:\u001b[0m\u001b[0;34m\u001b[0m\u001b[0;34m\u001b[0m\u001b[0m\n",
            "\u001b[0;32m/usr/local/lib/python3.6/dist-packages/torch/nn/functional.py\u001b[0m in \u001b[0;36mlinear\u001b[0;34m(input, weight, bias)\u001b[0m\n\u001b[1;32m   1368\u001b[0m     \u001b[0;32mif\u001b[0m \u001b[0minput\u001b[0m\u001b[0;34m.\u001b[0m\u001b[0mdim\u001b[0m\u001b[0;34m(\u001b[0m\u001b[0;34m)\u001b[0m \u001b[0;34m==\u001b[0m \u001b[0;36m2\u001b[0m \u001b[0;32mand\u001b[0m \u001b[0mbias\u001b[0m \u001b[0;32mis\u001b[0m \u001b[0;32mnot\u001b[0m \u001b[0;32mNone\u001b[0m\u001b[0;34m:\u001b[0m\u001b[0;34m\u001b[0m\u001b[0;34m\u001b[0m\u001b[0m\n\u001b[1;32m   1369\u001b[0m         \u001b[0;31m# fused op is marginally faster\u001b[0m\u001b[0;34m\u001b[0m\u001b[0;34m\u001b[0m\u001b[0;34m\u001b[0m\u001b[0m\n\u001b[0;32m-> 1370\u001b[0;31m         \u001b[0mret\u001b[0m \u001b[0;34m=\u001b[0m \u001b[0mtorch\u001b[0m\u001b[0;34m.\u001b[0m\u001b[0maddmm\u001b[0m\u001b[0;34m(\u001b[0m\u001b[0mbias\u001b[0m\u001b[0;34m,\u001b[0m \u001b[0minput\u001b[0m\u001b[0;34m,\u001b[0m \u001b[0mweight\u001b[0m\u001b[0;34m.\u001b[0m\u001b[0mt\u001b[0m\u001b[0;34m(\u001b[0m\u001b[0;34m)\u001b[0m\u001b[0;34m)\u001b[0m\u001b[0;34m\u001b[0m\u001b[0;34m\u001b[0m\u001b[0m\n\u001b[0m\u001b[1;32m   1371\u001b[0m     \u001b[0;32melse\u001b[0m\u001b[0;34m:\u001b[0m\u001b[0;34m\u001b[0m\u001b[0;34m\u001b[0m\u001b[0m\n\u001b[1;32m   1372\u001b[0m         \u001b[0moutput\u001b[0m \u001b[0;34m=\u001b[0m \u001b[0minput\u001b[0m\u001b[0;34m.\u001b[0m\u001b[0mmatmul\u001b[0m\u001b[0;34m(\u001b[0m\u001b[0mweight\u001b[0m\u001b[0;34m.\u001b[0m\u001b[0mt\u001b[0m\u001b[0;34m(\u001b[0m\u001b[0;34m)\u001b[0m\u001b[0;34m)\u001b[0m\u001b[0;34m\u001b[0m\u001b[0;34m\u001b[0m\u001b[0m\n",
            "\u001b[0;31mKeyboardInterrupt\u001b[0m: "
          ]
        }
      ]
    },
    {
      "cell_type": "code",
      "metadata": {
        "id": "aAAlqHE1NCje",
        "colab_type": "code",
        "outputId": "63adc9eb-cdca-47d5-8002-e2679d0b425d",
        "colab": {
          "base_uri": "https://localhost:8080/",
          "height": 187
        }
      },
      "source": [
        "################### DO NOT RUN ###################\n",
        "bow_ff_nn_predictions_big = []\n",
        "original_lables_ff_bow_big = []\n",
        "# ff_nn_bow_model.eval()\n",
        "with torch.no_grad():\n",
        "    for index, row in X_test.iterrows():\n",
        "        bow_vec = make_bow_vector(mydict, row['stemmed_tokens'])\n",
        "        probs = ff_nn_bow_model_big(bow_vec)\n",
        "        \n",
        "        bow_ff_nn_predictions_big.append(torch.argmax(probs, dim=1).cpu().numpy()[0])\n",
        "        original_lables_ff_bow_big.append(make_target(Y_test['sentiment'][index]).cpu().numpy()[0])\n",
        "print(classification_report(original_lables_ff_bow_big,bow_ff_nn_predictions_big))\n"
      ],
      "execution_count": 0,
      "outputs": [
        {
          "output_type": "stream",
          "text": [
            "              precision    recall  f1-score   support\n",
            "\n",
            "           0       0.78      0.76      0.77      2992\n",
            "           1       0.66      0.65      0.65      3044\n",
            "           2       0.79      0.82      0.80      2964\n",
            "\n",
            "    accuracy                           0.74      9000\n",
            "   macro avg       0.74      0.74      0.74      9000\n",
            "weighted avg       0.74      0.74      0.74      9000\n",
            "\n"
          ],
          "name": "stdout"
        }
      ]
    },
    {
      "cell_type": "code",
      "metadata": {
        "id": "el86HcAvdzkf",
        "colab_type": "code",
        "outputId": "78a5e40a-e340-4280-c6b9-305cc2a2f59f",
        "colab": {
          "base_uri": "https://localhost:8080/",
          "height": 299
        }
      },
      "source": [
        "f.close()\n",
        "ffnn_loss_df = pd.read_csv(ffnn_loss_file_name)\n",
        "print(len(ffnn_loss_df))\n",
        "print(ffnn_loss_df.columns)\n",
        "ffnn_plt_1000_padding_100_epochs = ffnn_loss_df[' loss'].plot()\n",
        "fig = ffnn_plt_1000_padding_100_epochs.get_figure()\n",
        "fig.savefig(OUTPUT_FOLDER + 'plots/' + \"ffnn_bow_loss_500_padding_45_epochs_less_lr.pdf\")"
      ],
      "execution_count": 0,
      "outputs": [
        {
          "output_type": "stream",
          "text": [
            "45\n",
            "Index(['iter', ' loss'], dtype='object')\n"
          ],
          "name": "stdout"
        },
        {
          "output_type": "display_data",
          "data": {
            "image/png": "[encoded data removed]",
            "text/plain": [
              "<Figure size 432x288 with 1 Axes>"
            ]
          },
          "metadata": {
            "tags": []
          }
        }
      ]
    },
    {
      "cell_type": "code",
      "metadata": {
        "id": "YO1VQKOZeuGg",
        "colab_type": "code",
        "outputId": "82a312d8-ed5a-49c6-fda5-1930d9f28318",
        "colab": {
          "base_uri": "https://localhost:8080/",
          "height": 442
        }
      },
      "source": [
        "################### DO NOT RUN ###################\n",
        "top_data_df_small = get_top_data(top_n=10000)\n",
        "top_data_df_small = get_stemmed_tokens(top_data_df_small)\n",
        "X_train, X_test, Y_train, Y_test = split_train_test(top_data_df_small)\n",
        "mydict = make_dict(top_data_df_small, padding=False)\n",
        "VOCAB_SIZE = len(mydict)\n",
        "\n",
        "input_dim = VOCAB_SIZE\n",
        "hidden_dim = 500\n",
        "output_dim = 3\n",
        "num_epochs = 100\n",
        "\n",
        "ff_nn_bow_model_big = FeedforwardNeuralNetModel(input_dim, hidden_dim, output_dim)\n",
        "ff_nn_bow_model_big.to(device)\n",
        "\n",
        "loss_function = nn.CrossEntropyLoss()\n",
        "optimizer = optim.SGD(ff_nn_bow_model_big.parameters(), lr=0.001)\n",
        "\n",
        "# Open the file for writing loss\n",
        "ffnn_loss_file_name = OUTPUT_FOLDER + 'ffnn_bow_class_big_loss_500_epoch_100_less_lr.csv'\n",
        "f = open(ffnn_loss_file_name,'w')\n",
        "f.write('iter, loss')\n",
        "f.write('\\n')\n",
        "losses = []\n",
        "iter = 0\n",
        "# ff_nn_bow_model.train()\n",
        "for epoch in range(num_epochs):\n",
        "    if (epoch+1) % 25 == 0:\n",
        "        print(\"Epoch completed: \" + str(epoch+1))\n",
        "    train_loss = 0\n",
        "    for index, row in X_train.iterrows():\n",
        "        # Clearing the accumulated gradients\n",
        "        optimizer.zero_grad()\n",
        "\n",
        "        # Make the bag of words vector for stemmed tokens \n",
        "        bow_vec = make_bow_vector(mydict, row['stemmed_tokens'])\n",
        "       \n",
        "        # Forward pass to get output\n",
        "        probs = ff_nn_bow_model_big(bow_vec)\n",
        "\n",
        "        # Get the target label\n",
        "        target = make_target(Y_train['sentiment'][index])\n",
        "\n",
        "        # Calculate Loss: softmax --> cross entropy loss\n",
        "        loss = loss_function(probs, target)\n",
        "        # Accumulating the loss over time\n",
        "        train_loss += loss.item()\n",
        "\n",
        "        # Getting gradients w.r.t. parameters\n",
        "        loss.backward()\n",
        "\n",
        "        # Updating parameters\n",
        "        optimizer.step()\n",
        "    f.write(str((epoch+1)) + \",\" + str(train_loss / len(X_train)))\n",
        "    f.write('\\n')\n",
        "    train_loss = 0\n",
        "\n",
        "f.close()\n",
        "    "
      ],
      "execution_count": 0,
      "outputs": [
        {
          "output_type": "stream",
          "text": [
            "Value counts for Train sentiments\n",
            " 1    7036\n",
            "-1    7008\n",
            " 0    6956\n",
            "Name: sentiment, dtype: int64\n",
            "Value counts for Test sentiments\n",
            " 0    3044\n",
            "-1    2992\n",
            " 1    2964\n",
            "Name: sentiment, dtype: int64\n",
            "<class 'pandas.core.frame.DataFrame'>\n",
            "<class 'pandas.core.series.Series'>\n",
            "   index  ...                                     stemmed_tokens\n",
            "0  34963  ...  [wait, minut, onli, to, get, to, front, of, th...\n",
            "1  21265  ...  [chicken, bacon, ranch, pizza, wa, pretti, bom...\n",
            "2  36472  ...  [as, sketchi, as, hell, thi, place, strike, me...\n",
            "3  36589  ...  [last, time, tri, bubbl, tea, and, it, wa, dis...\n",
            "4   3117  ...  [so, for, the, game, last, week, wa, visit, th...\n",
            "\n",
            "[5 rows x 11 columns]\n",
            "Dictionary without padding\n",
            "Epoch completed: 25\n",
            "Epoch completed: 50\n",
            "Epoch completed: 75\n",
            "Epoch completed: 100\n"
          ],
          "name": "stdout"
        }
      ]
    },
    {
      "cell_type": "code",
      "metadata": {
        "id": "OnUX4Bfse2im",
        "colab_type": "code",
        "outputId": "e0c26f81-8de7-4df4-e1ce-ae4a6be9b637",
        "colab": {
          "base_uri": "https://localhost:8080/",
          "height": 469
        }
      },
      "source": [
        "################### DO NOT RUN ###################\n",
        "bow_ff_nn_predictions_big = []\n",
        "original_lables_ff_bow_big = []\n",
        "# ff_nn_bow_model.eval()\n",
        "with torch.no_grad():\n",
        "    for index, row in X_test.iterrows():\n",
        "        bow_vec = make_bow_vector(mydict, row['stemmed_tokens'])\n",
        "        probs = ff_nn_bow_model_big(bow_vec)\n",
        "        \n",
        "        bow_ff_nn_predictions_big.append(torch.argmax(probs, dim=1).cpu().numpy()[0])\n",
        "        original_lables_ff_bow_big.append(make_target(Y_test['sentiment'][index]).cpu().numpy()[0])\n",
        "print(classification_report(original_lables_ff_bow_big,bow_ff_nn_predictions_big))\n",
        "ffnn_loss_df = pd.read_csv(ffnn_loss_file_name)\n",
        "print(len(ffnn_loss_df))\n",
        "print(ffnn_loss_df.columns)\n",
        "ffnn_plt_1000_padding_100_epochs = ffnn_loss_df[' loss'].plot()\n",
        "fig = ffnn_plt_1000_padding_100_epochs.get_figure()\n",
        "fig.savefig(OUTPUT_FOLDER + 'plots/' + \"ffnn_bow_loss_500_padding_100_epochs_less_lr.pdf\")"
      ],
      "execution_count": 0,
      "outputs": [
        {
          "output_type": "stream",
          "text": [
            "              precision    recall  f1-score   support\n",
            "\n",
            "           0       0.80      0.72      0.76      2992\n",
            "           1       0.64      0.69      0.66      3044\n",
            "           2       0.79      0.81      0.80      2964\n",
            "\n",
            "    accuracy                           0.74      9000\n",
            "   macro avg       0.75      0.74      0.74      9000\n",
            "weighted avg       0.74      0.74      0.74      9000\n",
            "\n",
            "100\n",
            "Index(['iter', ' loss'], dtype='object')\n"
          ],
          "name": "stdout"
        },
        {
          "output_type": "display_data",
          "data": {
            "image/png": "[encoded data removed]",
            "text/plain": [
              "<Figure size 432x288 with 1 Axes>"
            ]
          },
          "metadata": {
            "tags": []
          }
        }
      ]
    },
    {
      "cell_type": "markdown",
      "metadata": {
        "id": "LUItAP1oBY43",
        "colab_type": "text"
      },
      "source": [
        "# Task 9: Classification with CNN\n",
        "## CNN\n",
        "\n",
        "A Convolutional Neural Network (CNN) involves two operations, which can be thought of as feature extractors: convolution and pooling. Output of these operations is finally connected to the multi-layer perceptron to get the final output. \n",
        "\n",
        "In convolutional layer, instead of mulitplying the filters on the small regions of the images, it slides through embedding vectors of few words as mentioned by window size. For looking at sequences of word embeddings, the window has to look at multiple word embeddings in a sequence. They will be rectangular with size `window_size * embedding_size`. This is similar to n-grams where some length of words are taken together as features.  The kernel weights (filter) are multiplied to word embeddings in pairs and summed up to get output values. As the network is training these kernel weights are updated. Output value essentially tries to get a representative value for the phrase. The convolution filters tries to extract features like sentiment of the phrases, grammatical functions of the words, and so on. \n",
        "\n",
        "In case of images, the inputs for different pigment is given seperately in which case the number of input channels are 3 if RGB or 1 if it is a grey scale. In this case, we are feeding only one feature i.e. word embeddings so the first parameter for `conv2d` is `1` and output_channels is total number of features which will be `NUM_FILTERS`. Then the `kernel_size` is provided which is the `window_size * embedding_size`. Padding is given `window_size-1`. All these feature outputs are concatenated and passed through linear layer to get the probabilities of the classes. \n",
        "\n",
        "Embedding vectors from the word2vec model are fed to the network and padding_idx is also added where the length of the sentence is smaller than the longest sentence. This is because the input is the `longest_len_of_sentence * embedding_size`. This padding index can be mentioned in the `from_pretrained` function where it indicates that we are feeding already trained word2vec model vectors. \n",
        "\n",
        "Explanation: https://cezannec.github.io/CNN_Text_Classification/"
      ]
    },
    {
      "cell_type": "code",
      "metadata": {
        "id": "hIqVjjc7evcj",
        "colab_type": "code",
        "colab": {}
      },
      "source": [
        "################### DO NOT RUN ###################\n",
        "EMBEDDING_SIZE = 500\n",
        "NUM_FILTERS = 10\n",
        "PAD_TOKEN = '<PAD>'\n",
        "import gensim\n",
        "\n",
        "class CnnTextClassifier(nn.Module):\n",
        "    def __init__(self, vocab_size, num_classes, window_sizes=(1,2,3,5)):\n",
        "        super(CnnTextClassifier, self).__init__()\n",
        "        w2vmodel = gensim.models.KeyedVectors.load(INPUT_FOLDER + 'models/' + 'word2vec_500_PAD.model')\n",
        "        weights = w2vmodel.wv\n",
        "        # With pretrained embeddings\n",
        "        self.embedding = nn.Embedding.from_pretrained(torch.FloatTensor(weights.vectors), padding_idx=w2vmodel.wv.vocab['pad'].index)\n",
        "        # Without pretrained embeddings\n",
        "        # self.embedding = nn.Embedding(vocab_size, EMBEDDING_SIZE)\n",
        "\n",
        "        self.convs = nn.ModuleList([\n",
        "                                   nn.Conv2d(1, NUM_FILTERS, [window_size, EMBEDDING_SIZE], padding=(window_size - 1, 0))\n",
        "                                   for window_size in window_sizes\n",
        "        ])\n",
        "\n",
        "        self.fc = nn.Linear(NUM_FILTERS * len(window_sizes), num_classes)\n",
        "\n",
        "    def forward(self, x):\n",
        "        x = self.embedding(x) # [B, T, E]\n",
        "\n",
        "        # Apply a convolution + max_pool layer for each window size\n",
        "        x = torch.unsqueeze(x, 1)\n",
        "        xs = []\n",
        "        for conv in self.convs:\n",
        "            x2 = torch.tanh(conv(x))\n",
        "            x2 = torch.squeeze(x2, -1)\n",
        "            x2 = F.max_pool1d(x2, x2.size(2))\n",
        "            xs.append(x2)\n",
        "        x = torch.cat(xs, 2)\n",
        "\n",
        "        # FC\n",
        "        x = x.view(x.size(0), -1)\n",
        "        logits = self.fc(x)\n",
        "\n",
        "        probs = F.softmax(logits, dim = 1)\n",
        "\n",
        "        return probs"
      ],
      "execution_count": 0,
      "outputs": []
    },
    {
      "cell_type": "code",
      "metadata": {
        "id": "aHRREqnMVyL7",
        "colab_type": "code",
        "outputId": "a988dadc-75e2-4b0f-dd94-63225cd309c8",
        "colab": {
          "base_uri": "https://localhost:8080/",
          "height": 1000
        }
      },
      "source": [
        "################### DO NOT RUN ###################\n",
        "from torch import autograd\n",
        "\n",
        "import datetime\n",
        "\n",
        "\n",
        "top_data_df_small = get_top_data(top_n=10000)\n",
        "top_data_df_small = get_stemmed_tokens(top_data_df_small)\n",
        "X_train, X_test, Y_train, Y_test = split_train_test(top_data_df_small)\n",
        "mydict = make_dict(top_data_df_small, padding=True)\n",
        "\n",
        "w2vmodel = gensim.models.KeyedVectors.load(INPUT_FOLDER + 'models/' + 'word2vec_500_PAD.model')\n",
        "padding_idx = w2vmodel.wv.vocab['pad'].index\n",
        "\n",
        "NUM_CLASSES = 3\n",
        "VOCAB_SIZE = len(w2vmodel.wv.vocab)\n",
        "\n",
        "cnn_model = CnnTextClassifier(vocab_size=VOCAB_SIZE, num_classes=NUM_CLASSES)\n",
        "cnn_model.to(device)\n",
        "\n",
        "\n",
        "loss_function = nn.CrossEntropyLoss()\n",
        "optimizer = optim.Adam(cnn_model.parameters(), lr=0.001)\n",
        "num_epochs = 30\n",
        "\n",
        "now = datetime.datetime.now()\n",
        "max_sen_len = top_data_df_small.stemmed_tokens.map(len).max()\n",
        "print(\"Max Length of the sentences in the data is:\" + str(max_sen_len))\n",
        "\n",
        "def make_bow_vector_cnn(mydict, sentence):\n",
        "    vec = torch.zeros(VOCAB_SIZE, dtype=torch.long, device=device)\n",
        "    for word in sentence:\n",
        "        vec[mydict.token2id[word]] += 1\n",
        "    return vec.view(1, -1)\n",
        "\n",
        "\n",
        "def make_word2vec_vector_cnn(sentence):\n",
        "    padded_X = [padding_idx for i in range(max_sen_len)]\n",
        "    i = 0\n",
        "    for word in sentence:\n",
        "        if word not in w2vmodel.wv.vocab:\n",
        "            padded_X[i] = 0\n",
        "            print(word)\n",
        "        else:\n",
        "            padded_X[i] = w2vmodel.wv.vocab[word].index\n",
        "        i += 1\n",
        "    return torch.tensor(padded_X, dtype=torch.long, device=device).view(1, -1)\n",
        "\n",
        "def map_word_vocab(sentence):\n",
        "    idx = [cnn_dict.token2id[word] for word in sentence]\n",
        "    padded_X = [cnn_dict.token2id[PAD_TOKEN] for x in range(max_sen_len) ]\n",
        "\n",
        "    padded_X[0: len(sentence)] = idx[:len(idx)]\n",
        "\n",
        "    return torch.tensor(padded_X, dtype=torch.long, device=device).view(1, -1)\n",
        "\n",
        "\n",
        "# Open the file for writing loss\n",
        "loss_file_name = OUTPUT_FOLDER +  'plots/' + 'cnn_class_big_loss_with_padding.csv'\n",
        "f = open(loss_file_name,'w')\n",
        "f.write('iter, loss')\n",
        "f.write('\\n')\n",
        "losses = []\n",
        "cnn_model.train()\n",
        "for epoch in range(num_epochs):\n",
        "    print(\"Epoch\" + str(epoch + 1))\n",
        "    train_loss = 0\n",
        "    for index, row in X_train.iterrows():\n",
        "        # Clearing the accumulated gradients\n",
        "        cnn_model.zero_grad()\n",
        "\n",
        "        # Make the bag of words vector for stemmed tokens \n",
        "        bow_vec = make_word2vec_vector_cnn(row['stemmed_tokens'])\n",
        "       \n",
        "        # Forward pass to get output\n",
        "        probs = cnn_model(bow_vec)\n",
        "\n",
        "        # Get the target label\n",
        "        target = make_target(Y_train['sentiment'][index])\n",
        "\n",
        "        # Calculate Loss: softmax --> cross entropy loss\n",
        "        loss = loss_function(probs, target)\n",
        "        train_loss += loss.item()\n",
        "\n",
        "        # Getting gradients w.r.t. parameters\n",
        "        loss.backward()\n",
        "\n",
        "        # Updating parameters\n",
        "        optimizer.step()\n",
        "\n",
        "\n",
        "    # if index == 0:\n",
        "    #     continue\n",
        "    print(\"Epoch ran :\"+ str(epoch+1))\n",
        "    f.write(str((epoch+1)) + \",\" + str(train_loss / len(X_train)))\n",
        "    f.write('\\n')\n",
        "    train_loss = 0\n",
        "\n",
        "torch.save(cnn_model, OUTPUT_FOLDER + 'cnn_big_model_500_with_padding.pth')\n",
        "\n",
        "f.close()\n",
        "print(\"Input vector\")\n",
        "print(bow_vec.cpu().numpy())\n",
        "print(\"Probs\")\n",
        "print(probs)\n",
        "print(torch.argmax(probs, dim=1).cpu().numpy()[0])\n",
        "\n",
        "print(\"Time taken to finish training\")\n",
        "print(datetime.datetime.now() - now)\n",
        "print(datetime)"
      ],
      "execution_count": 0,
      "outputs": [
        {
          "output_type": "stream",
          "text": [
            "/usr/local/lib/python3.6/dist-packages/smart_open/smart_open_lib.py:402: UserWarning: This function is deprecated, use smart_open.open instead. See the migration notes for details: https://github.com/RaRe-Technologies/smart_open/blob/master/README.rst#migrating-to-the-new-open-function\n",
            "  'See the migration notes for details: %s' % _MIGRATION_NOTES_URL\n"
          ],
          "name": "stderr"
        },
        {
          "output_type": "stream",
          "text": [
            "Max Length of the sentences in the data is:927\n",
            "Epoch1\n",
            "EPoch RAN :0\n",
            "Epoch2\n",
            "EPoch RAN :1\n",
            "Epoch3\n",
            "EPoch RAN :2\n",
            "Epoch4\n",
            "EPoch RAN :3\n",
            "Epoch5\n",
            "EPoch RAN :4\n",
            "Epoch6\n",
            "EPoch RAN :5\n",
            "Epoch7\n",
            "EPoch RAN :6\n",
            "Epoch8\n",
            "EPoch RAN :7\n",
            "Epoch9\n",
            "EPoch RAN :8\n",
            "Epoch10\n",
            "EPoch RAN :9\n",
            "Epoch11\n",
            "EPoch RAN :10\n",
            "Epoch12\n",
            "EPoch RAN :11\n",
            "Epoch13\n",
            "EPoch RAN :12\n",
            "Epoch14\n",
            "EPoch RAN :13\n",
            "Epoch15\n",
            "EPoch RAN :14\n",
            "Epoch16\n",
            "EPoch RAN :15\n",
            "Epoch17\n",
            "EPoch RAN :16\n",
            "Epoch18\n",
            "EPoch RAN :17\n",
            "Epoch19\n",
            "EPoch RAN :18\n",
            "Epoch20\n",
            "EPoch RAN :19\n",
            "Epoch21\n",
            "EPoch RAN :20\n",
            "Epoch22\n",
            "EPoch RAN :21\n",
            "Epoch23\n",
            "EPoch RAN :22\n",
            "Epoch24\n",
            "EPoch RAN :23\n",
            "Epoch25\n",
            "EPoch RAN :24\n",
            "Epoch26\n",
            "EPoch RAN :25\n",
            "Epoch27\n",
            "EPoch RAN :26\n",
            "Epoch28\n",
            "EPoch RAN :27\n",
            "Epoch29\n",
            "EPoch RAN :28\n",
            "Epoch30\n",
            "EPoch RAN :29\n",
            "Input vector\n",
            "[[  393   507     1   323    16    18   107    32     2   716   210   396\n",
            "    152   110   324 15345 20660    53     0  1063    30     3    59     2\n",
            "    686     4    16  6547 12832 20661  7510   221     0   197   325   154\n",
            "      1 15346     8   603     2  1704   325   952   329     7   197   687\n",
            "     16   243   116   501   513    36     0   874  2148  4303    71   195\n",
            "      4    82    33  2153    12   441    11   181     2    11   116    37\n",
            "    323    28   482     5   866   194    16  1620   901  1865  6498     4\n",
            "     41   167  5724    15     9     6   391    14    28   181    47    17\n",
            "     27     8     0   189  1083  1083  1083  1083  1083  1083  1083  1083\n",
            "   1083  1083  1083  1083  1083  1083  1083  1083  1083  1083  1083  1083\n",
            "   1083  1083  1083  1083  1083  1083  1083  1083  1083  1083  1083  1083\n",
            "   1083  1083  1083  1083  1083  1083  1083  1083  1083  1083  1083  1083\n",
            "   1083  1083  1083  1083  1083  1083  1083  1083  1083  1083  1083  1083\n",
            "   1083  1083  1083  1083  1083  1083  1083  1083  1083  1083  1083  1083\n",
            "   1083  1083  1083  1083  1083  1083  1083  1083  1083  1083  1083  1083\n",
            "   1083  1083  1083  1083  1083  1083  1083  1083  1083  1083  1083  1083\n",
            "   1083  1083  1083  1083  1083  1083  1083  1083  1083  1083  1083  1083\n",
            "   1083  1083  1083  1083  1083  1083  1083  1083  1083  1083  1083  1083\n",
            "   1083  1083  1083  1083  1083  1083  1083  1083  1083  1083  1083  1083\n",
            "   1083  1083  1083  1083  1083  1083  1083  1083  1083  1083  1083  1083\n",
            "   1083  1083  1083  1083  1083  1083  1083  1083  1083  1083  1083  1083\n",
            "   1083  1083  1083  1083  1083  1083  1083  1083  1083  1083  1083  1083\n",
            "   1083  1083  1083  1083  1083  1083  1083  1083  1083  1083  1083  1083\n",
            "   1083  1083  1083  1083  1083  1083  1083  1083  1083  1083  1083  1083\n",
            "   1083  1083  1083  1083  1083  1083  1083  1083  1083  1083  1083  1083\n",
            "   1083  1083  1083  1083  1083  1083  1083  1083  1083  1083  1083  1083\n",
            "   1083  1083  1083  1083  1083  1083  1083  1083  1083  1083  1083  1083\n",
            "   1083  1083  1083  1083  1083  1083  1083  1083  1083  1083  1083  1083\n",
            "   1083  1083  1083  1083  1083  1083  1083  1083  1083  1083  1083  1083\n",
            "   1083  1083  1083  1083  1083  1083  1083  1083  1083  1083  1083  1083\n",
            "   1083  1083  1083  1083  1083  1083  1083  1083  1083  1083  1083  1083\n",
            "   1083  1083  1083  1083  1083  1083  1083  1083  1083  1083  1083  1083\n",
            "   1083  1083  1083  1083  1083  1083  1083  1083  1083  1083  1083  1083\n",
            "   1083  1083  1083  1083  1083  1083  1083  1083  1083  1083  1083  1083\n",
            "   1083  1083  1083  1083  1083  1083  1083  1083  1083  1083  1083  1083\n",
            "   1083  1083  1083  1083  1083  1083  1083  1083  1083  1083  1083  1083\n",
            "   1083  1083  1083  1083  1083  1083  1083  1083  1083  1083  1083  1083\n",
            "   1083  1083  1083  1083  1083  1083  1083  1083  1083  1083  1083  1083\n",
            "   1083  1083  1083  1083  1083  1083  1083  1083  1083  1083  1083  1083\n",
            "   1083  1083  1083  1083  1083  1083  1083  1083  1083  1083  1083  1083\n",
            "   1083  1083  1083  1083  1083  1083  1083  1083  1083  1083  1083  1083\n",
            "   1083  1083  1083  1083  1083  1083  1083  1083  1083  1083  1083  1083\n",
            "   1083  1083  1083  1083  1083  1083  1083  1083  1083  1083  1083  1083\n",
            "   1083  1083  1083  1083  1083  1083  1083  1083  1083  1083  1083  1083\n",
            "   1083  1083  1083  1083  1083  1083  1083  1083  1083  1083  1083  1083\n",
            "   1083  1083  1083  1083  1083  1083  1083  1083  1083  1083  1083  1083\n",
            "   1083  1083  1083  1083  1083  1083  1083  1083  1083  1083  1083  1083\n",
            "   1083  1083  1083  1083  1083  1083  1083  1083  1083  1083  1083  1083\n",
            "   1083  1083  1083  1083  1083  1083  1083  1083  1083  1083  1083  1083\n",
            "   1083  1083  1083  1083  1083  1083  1083  1083  1083  1083  1083  1083\n",
            "   1083  1083  1083  1083  1083  1083  1083  1083  1083  1083  1083  1083\n",
            "   1083  1083  1083  1083  1083  1083  1083  1083  1083  1083  1083  1083\n",
            "   1083  1083  1083  1083  1083  1083  1083  1083  1083  1083  1083  1083\n",
            "   1083  1083  1083  1083  1083  1083  1083  1083  1083  1083  1083  1083\n",
            "   1083  1083  1083  1083  1083  1083  1083  1083  1083  1083  1083  1083\n",
            "   1083  1083  1083  1083  1083  1083  1083  1083  1083  1083  1083  1083\n",
            "   1083  1083  1083  1083  1083  1083  1083  1083  1083  1083  1083  1083\n",
            "   1083  1083  1083  1083  1083  1083  1083  1083  1083  1083  1083  1083\n",
            "   1083  1083  1083  1083  1083  1083  1083  1083  1083  1083  1083  1083\n",
            "   1083  1083  1083  1083  1083  1083  1083  1083  1083  1083  1083  1083\n",
            "   1083  1083  1083  1083  1083  1083  1083  1083  1083  1083  1083  1083\n",
            "   1083  1083  1083  1083  1083  1083  1083  1083  1083  1083  1083  1083\n",
            "   1083  1083  1083  1083  1083  1083  1083  1083  1083  1083  1083  1083\n",
            "   1083  1083  1083  1083  1083  1083  1083  1083  1083  1083  1083  1083\n",
            "   1083  1083  1083  1083  1083  1083  1083  1083  1083  1083  1083  1083\n",
            "   1083  1083  1083  1083  1083  1083  1083  1083  1083  1083  1083  1083\n",
            "   1083  1083  1083  1083  1083  1083  1083  1083  1083  1083  1083  1083\n",
            "   1083  1083  1083  1083  1083  1083  1083  1083  1083  1083  1083  1083\n",
            "   1083  1083  1083  1083  1083  1083  1083  1083  1083  1083  1083  1083\n",
            "   1083  1083  1083  1083  1083  1083  1083  1083  1083  1083  1083  1083\n",
            "   1083  1083  1083  1083  1083  1083  1083  1083  1083  1083  1083  1083\n",
            "   1083  1083  1083  1083  1083  1083  1083  1083  1083  1083  1083  1083\n",
            "   1083  1083  1083  1083  1083  1083  1083  1083  1083  1083  1083  1083\n",
            "   1083  1083  1083  1083  1083  1083  1083  1083  1083  1083  1083  1083\n",
            "   1083  1083  1083  1083  1083  1083  1083  1083  1083  1083  1083  1083\n",
            "   1083  1083  1083  1083  1083  1083  1083  1083  1083  1083  1083  1083\n",
            "   1083  1083  1083  1083  1083  1083  1083  1083  1083  1083  1083  1083\n",
            "   1083  1083  1083]]\n",
            "Probs\n",
            "tensor([[1.0406e-11, 2.0854e-05, 9.9998e-01]], device='cuda:0',\n",
            "       grad_fn=<SoftmaxBackward>)\n",
            "2\n"
          ],
          "name": "stdout"
        },
        {
          "output_type": "stream",
          "text": [
            "/usr/local/lib/python3.6/dist-packages/torch/serialization.py:292: UserWarning: Couldn't retrieve source code for container of type CnnTextClassifier. It won't be checked for correctness upon loading.\n",
            "  \"type \" + obj.__name__ + \". It won't be checked \"\n",
            "/usr/local/lib/python3.6/dist-packages/torch/serialization.py:292: UserWarning: Couldn't retrieve source code for container of type Embedding. It won't be checked for correctness upon loading.\n",
            "  \"type \" + obj.__name__ + \". It won't be checked \"\n",
            "/usr/local/lib/python3.6/dist-packages/torch/serialization.py:292: UserWarning: Couldn't retrieve source code for container of type ModuleList. It won't be checked for correctness upon loading.\n",
            "  \"type \" + obj.__name__ + \". It won't be checked \"\n",
            "/usr/local/lib/python3.6/dist-packages/torch/serialization.py:292: UserWarning: Couldn't retrieve source code for container of type Conv2d. It won't be checked for correctness upon loading.\n",
            "  \"type \" + obj.__name__ + \". It won't be checked \"\n",
            "/usr/local/lib/python3.6/dist-packages/torch/serialization.py:292: UserWarning: Couldn't retrieve source code for container of type Linear. It won't be checked for correctness upon loading.\n",
            "  \"type \" + obj.__name__ + \". It won't be checked \"\n"
          ],
          "name": "stderr"
        },
        {
          "output_type": "error",
          "ename": "NameError",
          "evalue": "ignored",
          "traceback": [
            "\u001b[0;31m---------------------------------------------------------------------------\u001b[0m",
            "\u001b[0;31mNameError\u001b[0m                                 Traceback (most recent call last)",
            "\u001b[0;32m<ipython-input-21-6a863a091751>\u001b[0m in \u001b[0;36m<module>\u001b[0;34m()\u001b[0m\n\u001b[1;32m    104\u001b[0m \u001b[0mprint\u001b[0m\u001b[0;34m(\u001b[0m\u001b[0mtorch\u001b[0m\u001b[0;34m.\u001b[0m\u001b[0margmax\u001b[0m\u001b[0;34m(\u001b[0m\u001b[0mprobs\u001b[0m\u001b[0;34m,\u001b[0m \u001b[0mdim\u001b[0m\u001b[0;34m=\u001b[0m\u001b[0;36m1\u001b[0m\u001b[0;34m)\u001b[0m\u001b[0;34m.\u001b[0m\u001b[0mcpu\u001b[0m\u001b[0;34m(\u001b[0m\u001b[0;34m)\u001b[0m\u001b[0;34m.\u001b[0m\u001b[0mnumpy\u001b[0m\u001b[0;34m(\u001b[0m\u001b[0;34m)\u001b[0m\u001b[0;34m[\u001b[0m\u001b[0;36m0\u001b[0m\u001b[0;34m]\u001b[0m\u001b[0;34m)\u001b[0m\u001b[0;34m\u001b[0m\u001b[0;34m\u001b[0m\u001b[0m\n\u001b[1;32m    105\u001b[0m \u001b[0;34m\u001b[0m\u001b[0m\n\u001b[0;32m--> 106\u001b[0;31m \u001b[0mPrint\u001b[0m\u001b[0;34m(\u001b[0m\u001b[0;34m\"Time taken to finish training\"\u001b[0m\u001b[0;34m)\u001b[0m\u001b[0;34m\u001b[0m\u001b[0;34m\u001b[0m\u001b[0m\n\u001b[0m\u001b[1;32m    107\u001b[0m \u001b[0mprint\u001b[0m\u001b[0;34m(\u001b[0m\u001b[0mdatetime\u001b[0m\u001b[0;34m.\u001b[0m\u001b[0mdatetime\u001b[0m\u001b[0;34m.\u001b[0m\u001b[0mnow\u001b[0m\u001b[0;34m(\u001b[0m\u001b[0;34m)\u001b[0m \u001b[0;34m-\u001b[0m \u001b[0mnow\u001b[0m\u001b[0;34m)\u001b[0m\u001b[0;34m\u001b[0m\u001b[0;34m\u001b[0m\u001b[0m\n\u001b[1;32m    108\u001b[0m \u001b[0mprint\u001b[0m\u001b[0;34m(\u001b[0m\u001b[0mdatetime\u001b[0m\u001b[0;34m)\u001b[0m\u001b[0;34m\u001b[0m\u001b[0;34m\u001b[0m\u001b[0m\n",
            "\u001b[0;31mNameError\u001b[0m: name 'Print' is not defined"
          ]
        }
      ]
    },
    {
      "cell_type": "markdown",
      "metadata": {
        "id": "uy0SAZXipAd7",
        "colab_type": "text"
      },
      "source": [
        "# Evaluate CNN model"
      ]
    },
    {
      "cell_type": "code",
      "metadata": {
        "id": "B1JGepAdmohu",
        "colab_type": "code",
        "outputId": "5e25e209-345c-4e3d-96fc-f1f1d256b748",
        "colab": {
          "base_uri": "https://localhost:8080/",
          "height": 1000
        }
      },
      "source": [
        "################### DO NOT RUN ###################\n",
        "bow_cnn_predictions = []\n",
        "original_lables_cnn_bow = []\n",
        "# checkpoint = torch.load('/content/drive/My Drive/CodePub/cnn_big_model.pth')\n",
        "# cnn_model_loaded = CnnTextClassifier(VOCAB_SIZE, NUM_CLASSES)\n",
        "# torch.save(cnn_model, '/content/drive/My Drive/CodePub/cnn_big_model.pth')\n",
        "# cnn_model_loaded = torch.load('/content/drive/My Drive/CodePub/cnn_big_model.pth')\n",
        "\n",
        "cnn_model.eval()\n",
        "f.close()\n",
        "loss_df = pd.read_csv(INPUT_FOLDER + 'cnn_class_big_loss_with_padding.csv')\n",
        "print(loss_df.columns)\n",
        "# loss_df.plot('loss')\n",
        "with torch.no_grad():\n",
        "    for index, row in X_test.iterrows():\n",
        "        bow_vec = make_word2vec_vector_cnn(row['stemmed_tokens'])\n",
        "        probs = cnn_model(bow_vec)\n",
        "        _, predicted = torch.max(probs.data, 1)\n",
        "        bow_cnn_predictions.append(predicted.cpu().numpy()[0])\n",
        "        # bow_cnn_predictions.append(torch.argmax(probs, dim=1).cpu().numpy()[0])\n",
        "        original_lables_cnn_bow.append(make_target(Y_test['sentiment'][index]).cpu().numpy()[0])\n",
        "print(bow_vec.cpu().numpy())\n",
        "print(probs)\n",
        "print(classification_report(original_lables_cnn_bow,bow_cnn_predictions))"
      ],
      "execution_count": 0,
      "outputs": [
        {
          "output_type": "stream",
          "text": [
            "Index(['iter', ' loss'], dtype='object')\n",
            "[[  19   18   65    2  719 7390    6  172  694   60  316   90    0  335\n",
            "  1021    0  477    5  126  128    4    3   37  580   13 1036  119   13\n",
            "    27  273   18  106   38   13  377    2   39  638   55 4680  168   63\n",
            "     7  942    6  313  283 1231  695    3   50   14  199   26  194   10\n",
            "  3495  719 7390   88  199   69   26   10   27 1049    1  126 2683 1083\n",
            "  1083 1083 1083 1083 1083 1083 1083 1083 1083 1083 1083 1083 1083 1083\n",
            "  1083 1083 1083 1083 1083 1083 1083 1083 1083 1083 1083 1083 1083 1083\n",
            "  1083 1083 1083 1083 1083 1083 1083 1083 1083 1083 1083 1083 1083 1083\n",
            "  1083 1083 1083 1083 1083 1083 1083 1083 1083 1083 1083 1083 1083 1083\n",
            "  1083 1083 1083 1083 1083 1083 1083 1083 1083 1083 1083 1083 1083 1083\n",
            "  1083 1083 1083 1083 1083 1083 1083 1083 1083 1083 1083 1083 1083 1083\n",
            "  1083 1083 1083 1083 1083 1083 1083 1083 1083 1083 1083 1083 1083 1083\n",
            "  1083 1083 1083 1083 1083 1083 1083 1083 1083 1083 1083 1083 1083 1083\n",
            "  1083 1083 1083 1083 1083 1083 1083 1083 1083 1083 1083 1083 1083 1083\n",
            "  1083 1083 1083 1083 1083 1083 1083 1083 1083 1083 1083 1083 1083 1083\n",
            "  1083 1083 1083 1083 1083 1083 1083 1083 1083 1083 1083 1083 1083 1083\n",
            "  1083 1083 1083 1083 1083 1083 1083 1083 1083 1083 1083 1083 1083 1083\n",
            "  1083 1083 1083 1083 1083 1083 1083 1083 1083 1083 1083 1083 1083 1083\n",
            "  1083 1083 1083 1083 1083 1083 1083 1083 1083 1083 1083 1083 1083 1083\n",
            "  1083 1083 1083 1083 1083 1083 1083 1083 1083 1083 1083 1083 1083 1083\n",
            "  1083 1083 1083 1083 1083 1083 1083 1083 1083 1083 1083 1083 1083 1083\n",
            "  1083 1083 1083 1083 1083 1083 1083 1083 1083 1083 1083 1083 1083 1083\n",
            "  1083 1083 1083 1083 1083 1083 1083 1083 1083 1083 1083 1083 1083 1083\n",
            "  1083 1083 1083 1083 1083 1083 1083 1083 1083 1083 1083 1083 1083 1083\n",
            "  1083 1083 1083 1083 1083 1083 1083 1083 1083 1083 1083 1083 1083 1083\n",
            "  1083 1083 1083 1083 1083 1083 1083 1083 1083 1083 1083 1083 1083 1083\n",
            "  1083 1083 1083 1083 1083 1083 1083 1083 1083 1083 1083 1083 1083 1083\n",
            "  1083 1083 1083 1083 1083 1083 1083 1083 1083 1083 1083 1083 1083 1083\n",
            "  1083 1083 1083 1083 1083 1083 1083 1083 1083 1083 1083 1083 1083 1083\n",
            "  1083 1083 1083 1083 1083 1083 1083 1083 1083 1083 1083 1083 1083 1083\n",
            "  1083 1083 1083 1083 1083 1083 1083 1083 1083 1083 1083 1083 1083 1083\n",
            "  1083 1083 1083 1083 1083 1083 1083 1083 1083 1083 1083 1083 1083 1083\n",
            "  1083 1083 1083 1083 1083 1083 1083 1083 1083 1083 1083 1083 1083 1083\n",
            "  1083 1083 1083 1083 1083 1083 1083 1083 1083 1083 1083 1083 1083 1083\n",
            "  1083 1083 1083 1083 1083 1083 1083 1083 1083 1083 1083 1083 1083 1083\n",
            "  1083 1083 1083 1083 1083 1083 1083 1083 1083 1083 1083 1083 1083 1083\n",
            "  1083 1083 1083 1083 1083 1083 1083 1083 1083 1083 1083 1083 1083 1083\n",
            "  1083 1083 1083 1083 1083 1083 1083 1083 1083 1083 1083 1083 1083 1083\n",
            "  1083 1083 1083 1083 1083 1083 1083 1083 1083 1083 1083 1083 1083 1083\n",
            "  1083 1083 1083 1083 1083 1083 1083 1083 1083 1083 1083 1083 1083 1083\n",
            "  1083 1083 1083 1083 1083 1083 1083 1083 1083 1083 1083 1083 1083 1083\n",
            "  1083 1083 1083 1083 1083 1083 1083 1083 1083 1083 1083 1083 1083 1083\n",
            "  1083 1083 1083 1083 1083 1083 1083 1083 1083 1083 1083 1083 1083 1083\n",
            "  1083 1083 1083 1083 1083 1083 1083 1083 1083 1083 1083 1083 1083 1083\n",
            "  1083 1083 1083 1083 1083 1083 1083 1083 1083 1083 1083 1083 1083 1083\n",
            "  1083 1083 1083 1083 1083 1083 1083 1083 1083 1083 1083 1083 1083 1083\n",
            "  1083 1083 1083 1083 1083 1083 1083 1083 1083 1083 1083 1083 1083 1083\n",
            "  1083 1083 1083 1083 1083 1083 1083 1083 1083 1083 1083 1083 1083 1083\n",
            "  1083 1083 1083 1083 1083 1083 1083 1083 1083 1083 1083 1083 1083 1083\n",
            "  1083 1083 1083 1083 1083 1083 1083 1083 1083 1083 1083 1083 1083 1083\n",
            "  1083 1083 1083 1083 1083 1083 1083 1083 1083 1083 1083 1083 1083 1083\n",
            "  1083 1083 1083 1083 1083 1083 1083 1083 1083 1083 1083 1083 1083 1083\n",
            "  1083 1083 1083 1083 1083 1083 1083 1083 1083 1083 1083 1083 1083 1083\n",
            "  1083 1083 1083 1083 1083 1083 1083 1083 1083 1083 1083 1083 1083 1083\n",
            "  1083 1083 1083 1083 1083 1083 1083 1083 1083 1083 1083 1083 1083 1083\n",
            "  1083 1083 1083 1083 1083 1083 1083 1083 1083 1083 1083 1083 1083 1083\n",
            "  1083 1083 1083 1083 1083 1083 1083 1083 1083 1083 1083 1083 1083 1083\n",
            "  1083 1083 1083 1083 1083 1083 1083 1083 1083 1083 1083 1083 1083 1083\n",
            "  1083 1083 1083 1083 1083 1083 1083 1083 1083 1083 1083 1083 1083 1083\n",
            "  1083 1083 1083 1083 1083 1083 1083 1083 1083 1083 1083 1083 1083 1083\n",
            "  1083 1083 1083 1083 1083 1083 1083 1083 1083 1083 1083 1083 1083 1083\n",
            "  1083 1083 1083 1083 1083 1083 1083 1083 1083 1083 1083 1083 1083 1083\n",
            "  1083 1083 1083 1083 1083 1083 1083 1083 1083 1083 1083 1083 1083 1083\n",
            "  1083 1083 1083 1083 1083 1083 1083 1083 1083 1083 1083 1083 1083 1083\n",
            "  1083 1083 1083 1083 1083 1083 1083 1083 1083 1083 1083 1083 1083 1083\n",
            "  1083 1083 1083 1083 1083 1083 1083 1083 1083 1083 1083 1083 1083 1083\n",
            "  1083 1083 1083]]\n",
            "tensor([[1.0000e+00, 4.6327e-09, 7.3411e-17]], device='cuda:0')\n",
            "              precision    recall  f1-score   support\n",
            "\n",
            "           0       0.77      0.77      0.77      2992\n",
            "           1       0.67      0.55      0.61      3044\n",
            "           2       0.72      0.84      0.78      2964\n",
            "\n",
            "    accuracy                           0.72      9000\n",
            "   macro avg       0.72      0.72      0.72      9000\n",
            "weighted avg       0.72      0.72      0.72      9000\n",
            "\n"
          ],
          "name": "stdout"
        }
      ]
    },
    {
      "cell_type": "markdown",
      "metadata": {
        "id": "KWi6Up_ppGHp",
        "colab_type": "text"
      },
      "source": [
        "# Plotting the loss"
      ]
    },
    {
      "cell_type": "code",
      "metadata": {
        "id": "4WENQeG6C1hC",
        "colab_type": "code",
        "outputId": "7679527e-164d-4690-b4f8-e405e4101212",
        "colab": {
          "base_uri": "https://localhost:8080/",
          "height": 282
        }
      },
      "source": [
        "################### DO NOT RUN ###################\n",
        "# print(predicted.cpu().numpy()[0])\n",
        "# print(original_lables_cnn_bow)\n",
        "# print(probs)\n",
        "import pandas as pd\n",
        "loss_file_name = INPUT_FOLDER +  'plots/' + 'cnn_class_big_loss_with_padding.csv'\n",
        "loss_df = pd.read_csv(loss_file_name)\n",
        "print(loss_df.columns)\n",
        "plt_500_padding_30_epochs = loss_df[' loss'].plot()\n",
        "# print(target)\n",
        "# w2vmodel = gensim.models.KeyedVectors.load('/content/drive/My Drive/CodePub/word2vec_500.model')\n",
        "# w2vmodel.wv.vectors\n"
      ],
      "execution_count": 0,
      "outputs": [
        {
          "output_type": "stream",
          "text": [
            "Index(['iter', ' loss'], dtype='object')\n"
          ],
          "name": "stdout"
        },
        {
          "output_type": "display_data",
          "data": {
            "image/png": "[encoded data removed]",
            "text/plain": [
              "<Figure size 432x288 with 1 Axes>"
            ]
          },
          "metadata": {
            "tags": []
          }
        }
      ]
    },
    {
      "cell_type": "code",
      "metadata": {
        "id": "XBlxKO1m4DOM",
        "colab_type": "code",
        "colab": {}
      },
      "source": [
        "################### DO NOT RUN ###################\n",
        "fig = plt_500_padding_30_epochs.get_figure()\n",
        "fig.savefig(OUTPUT_FOLDER +'plots/' + 'loss_plt_500_padding_30_epochs.pdf\")"
      ],
      "execution_count": 0,
      "outputs": []
    },
    {
      "cell_type": "markdown",
      "metadata": {
        "id": "qyM3L71-aArc",
        "colab_type": "text"
      },
      "source": [
        "# Task 10: Visualizing Word embeddings \n",
        "## Visualize the embeddings\n",
        "\n"
      ]
    },
    {
      "cell_type": "code",
      "metadata": {
        "id": "w5829yD9Z-e_",
        "colab_type": "code",
        "outputId": "eb9f0a69-dce0-4cf0-a16a-9fc23dc5df8f",
        "colab": {
          "base_uri": "https://localhost:8080/",
          "height": 156
        }
      },
      "source": [
        "import numpy as np\n",
        "import gensim\n",
        "#Important Parameters\n",
        "w2vmodel = gensim.models.KeyedVectors.load(INPUT_FODLER + 'models/' + 'word2vec_500_PAD.model')\n",
        "\n",
        "NUM_CLASSES = 3\n",
        "VOCAB_SIZE = len(w2vmodel.wv.vocab)\n",
        "print(VOCAB_SIZE)\n",
        "EMBEDDING_DIM = w2vmodel[\"is\"].shape[0]\n",
        "print(EMBEDDING_DIM)\n",
        "# w2v = np.zeros((VOCAB_SIZE, EMBEDDING_DIM))\n",
        "\n",
        "\n",
        "tsv_file_path = INPUT_FOLDER + \"tensorboard/\" + \"metadata1.tsv\"\n",
        "tsv_file_vectors_path = INPUT_FOLDER + \"tensorboard/\" +\"vects1.tsv\"\n",
        "file_metadata = open(tsv_file_path,'w+', encoding='utf-8')\n",
        "file_vectors = open(tsv_file_vectors_path, 'w+', encoding='utf-8')\n",
        "for i,word in enumerate(w2vmodel.wv.index2word[:VOCAB_SIZE]):\n",
        "    # w2v[i] = w2vmodel[word]\n",
        "    file_metadata.write(word+'\\n')\n",
        "    file_vectors.write('\\t'.join([str(x) for x in w2vmodel[word]]) + \"\\n\")\n",
        "file_metadata.close()\n",
        "file_vectors.close()"
      ],
      "execution_count": 0,
      "outputs": [
        {
          "output_type": "stream",
          "text": [
            "/usr/local/lib/python3.6/dist-packages/smart_open/smart_open_lib.py:402: UserWarning: This function is deprecated, use smart_open.open instead. See the migration notes for details: https://github.com/RaRe-Technologies/smart_open/blob/master/README.rst#migrating-to-the-new-open-function\n",
            "  'See the migration notes for details: %s' % _MIGRATION_NOTES_URL\n"
          ],
          "name": "stderr"
        },
        {
          "output_type": "stream",
          "text": [
            "30056\n",
            "500\n"
          ],
          "name": "stdout"
        },
        {
          "output_type": "stream",
          "text": [
            "/usr/local/lib/python3.6/dist-packages/ipykernel_launcher.py:9: DeprecationWarning: Call to deprecated `__getitem__` (Method will be removed in 4.0.0, use self.wv.__getitem__() instead).\n",
            "  if __name__ == '__main__':\n",
            "/usr/local/lib/python3.6/dist-packages/ipykernel_launcher.py:21: DeprecationWarning: Call to deprecated `__getitem__` (Method will be removed in 4.0.0, use self.wv.__getitem__() instead).\n"
          ],
          "name": "stderr"
        }
      ]
    },
    {
      "cell_type": "markdown",
      "metadata": {
        "id": "2cmRNyWWktRp",
        "colab_type": "text"
      },
      "source": [
        "\n",
        "## That's all for this workshop! Keep Experimenting :) "
      ]
    }
  ]
}